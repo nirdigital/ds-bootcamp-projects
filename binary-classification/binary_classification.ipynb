{
  "cells": [
    {
      "cell_type": "markdown",
      "metadata": {
        "id": "BKqvgklD_ysy"
      },
      "source": [
        "## 4. Classification Project: Catch the Extrovert!  ##"
      ],
      "id": "BKqvgklD_ysy"
    },
    {
      "cell_type": "markdown",
      "metadata": {
        "id": "3ifVrj4l_ysz"
      },
      "source": [
        "### 4.1 The Business Problem ###\n",
        "**Problem statement:** for the **Community Manager** role, **Mindspace** would like to hire a person with the following characteristics:\n",
        "\n",
        "**About the role:** https://www.mindspace.me/careers/co/tel-aviv/45.422/community-manager/all\n",
        "> **Who is the Community Manager?**\n",
        "You will be responsible for building and maintaining our strong and unique community, you will basically be the heart and soul of our diverse community - *caring, attuned to people’s needs and exceedingly proactive*.\n",
        "\n",
        "> **Critical competencies for success:**\n",
        "> * It’s all about the people! Working as a Community Manager means *always being attuned to people’s needs and being customer-centric*.\n",
        "> * You must be an efficient communicator *who is fearless when it comes to speaking up and making your voice heard* – even in front of those who are superior to you.\n",
        "\n",
        "**Who is an Extrovert?** https://www.indeed.com/career-advice/career-development/extrovert-traits-career-paths\n",
        "> An extrovert is someone who thrives in social situations. More than just being outgoing, extroversion means that you gain energy from being around others and find that it lessens when you're alone.\n",
        "\n",
        "**Proposed solution:** \n",
        "* We believe that an Extrovert would be the best fit for the role.\n",
        "* We will develope a model – based on the MIES online personality test – to ensure **Mindspace** hires only Extroverts for the role, that is, we will trade off Recall for Precision.\n",
        "\n",
        "**Method:** \n",
        "\n",
        "We will optimize the model for a Precision score of more than 0.90 and a Recall score of not less than 0.75 by using the F0.5 score for model evaluation"
      ],
      "id": "3ifVrj4l_ysz"
    },
    {
      "cell_type": "markdown",
      "metadata": {
        "id": "U2SDCoW4_ys2"
      },
      "source": [
        "\n",
        "### 4.2 The Data: Multidimensional Introversion-Extraversion Scales (MIES) ###\n",
        "**Raw data from online personality tests:** https://openpsychometrics.org/_rawdata\n",
        "\n",
        "> For general public edification the data collected through the personality tests on this website is dumped here. All data is anonymous. Users were informed at the beginning of the test that their answers would be used for research and were asked to confirm that their answers were accurate and suitable for research upon completion (those that did not have been removed from these datasets). \n",
        "\n",
        "**MIES test:** https://openpsychometrics.org/tests/MIES\n",
        "> This is an interactive personality test measuring traits that differ between introverts and extraverts.\n",
        "The test has 91 statements of opinion that you must rate on a five point scale of how much you agree with each. It should take most people 10-15 minutes to complete.\n",
        "\n",
        "\n",
        "**Dataset:** https://openpsychometrics.org/_rawdata/MIES_Dev_Data.zip\n",
        "> The downloadables are .zip files each containing a .csv file with the data and a .txt codebook.\n",
        "\n",
        "**Description:** \n",
        "> Answers to 91 personality items, gender, age, native language, **self reported** introvert-extrovert identity"
      ],
      "id": "U2SDCoW4_ys2"
    },
    {
      "cell_type": "code",
      "execution_count": 1,
      "metadata": {
        "id": "fYavy2RJ_ys5"
      },
      "outputs": [],
      "source": [
        "import numpy as np\n",
        "import pandas as pd\n",
        "import matplotlib.pyplot as plt\n",
        "import seaborn as sns\n",
        "%matplotlib inline"
      ],
      "id": "fYavy2RJ_ys5"
    },
    {
      "cell_type": "code",
      "execution_count": 2,
      "metadata": {
        "id": "zy_FiKxP_ys7"
      },
      "outputs": [],
      "source": [
        "df = pd.read_csv('data.csv', sep='\\t')"
      ],
      "id": "zy_FiKxP_ys7"
    },
    {
      "cell_type": "code",
      "execution_count": 3,
      "metadata": {
        "id": "KNx2wahc_ys8",
        "outputId": "2c99106b-f7e3-4593-bf69-5313a9d3dc41",
        "colab": {
          "base_uri": "https://localhost:8080/"
        }
      },
      "outputs": [
        {
          "output_type": "stream",
          "name": "stdout",
          "text": [
            "<class 'pandas.core.frame.DataFrame'>\n",
            "RangeIndex: 7188 entries, 0 to 7187\n",
            "Columns: 282 entries, Q1A to IE\n",
            "dtypes: int64(280), object(2)\n",
            "memory usage: 15.5+ MB\n"
          ]
        }
      ],
      "source": [
        "df.info()"
      ],
      "id": "KNx2wahc_ys8"
    },
    {
      "cell_type": "code",
      "execution_count": 4,
      "metadata": {
        "id": "CLdBvhJQ_ys9",
        "outputId": "0cd536c0-3eaa-4118-9775-8e13b5a01c3c",
        "colab": {
          "base_uri": "https://localhost:8080/",
          "height": 191
        }
      },
      "outputs": [
        {
          "output_type": "execute_result",
          "data": {
            "text/plain": [
              "   Q1A  Q1I   Q1E  Q2A  Q2I   Q2E  Q3A  Q3I   Q3E  Q4A  ...  Q91E  country  \\\n",
              "0    5   51  7107    3   91  2522    1   56  6180    2  ...  4609       US   \n",
              "\n",
              "              dateload  introelapse  testelapse  surveyelapse  gender  engnat  \\\n",
              "0  2019-02-20 17:35:52            1         461            16       2       1   \n",
              "\n",
              "   age  IE  \n",
              "0   23   3  \n",
              "\n",
              "[1 rows x 282 columns]"
            ],
            "text/html": [
              "\n",
              "  <div id=\"df-80f5ab6e-ce03-4cdd-8464-f6c48506268c\">\n",
              "    <div class=\"colab-df-container\">\n",
              "      <div>\n",
              "<style scoped>\n",
              "    .dataframe tbody tr th:only-of-type {\n",
              "        vertical-align: middle;\n",
              "    }\n",
              "\n",
              "    .dataframe tbody tr th {\n",
              "        vertical-align: top;\n",
              "    }\n",
              "\n",
              "    .dataframe thead th {\n",
              "        text-align: right;\n",
              "    }\n",
              "</style>\n",
              "<table border=\"1\" class=\"dataframe\">\n",
              "  <thead>\n",
              "    <tr style=\"text-align: right;\">\n",
              "      <th></th>\n",
              "      <th>Q1A</th>\n",
              "      <th>Q1I</th>\n",
              "      <th>Q1E</th>\n",
              "      <th>Q2A</th>\n",
              "      <th>Q2I</th>\n",
              "      <th>Q2E</th>\n",
              "      <th>Q3A</th>\n",
              "      <th>Q3I</th>\n",
              "      <th>Q3E</th>\n",
              "      <th>Q4A</th>\n",
              "      <th>...</th>\n",
              "      <th>Q91E</th>\n",
              "      <th>country</th>\n",
              "      <th>dateload</th>\n",
              "      <th>introelapse</th>\n",
              "      <th>testelapse</th>\n",
              "      <th>surveyelapse</th>\n",
              "      <th>gender</th>\n",
              "      <th>engnat</th>\n",
              "      <th>age</th>\n",
              "      <th>IE</th>\n",
              "    </tr>\n",
              "  </thead>\n",
              "  <tbody>\n",
              "    <tr>\n",
              "      <th>0</th>\n",
              "      <td>5</td>\n",
              "      <td>51</td>\n",
              "      <td>7107</td>\n",
              "      <td>3</td>\n",
              "      <td>91</td>\n",
              "      <td>2522</td>\n",
              "      <td>1</td>\n",
              "      <td>56</td>\n",
              "      <td>6180</td>\n",
              "      <td>2</td>\n",
              "      <td>...</td>\n",
              "      <td>4609</td>\n",
              "      <td>US</td>\n",
              "      <td>2019-02-20 17:35:52</td>\n",
              "      <td>1</td>\n",
              "      <td>461</td>\n",
              "      <td>16</td>\n",
              "      <td>2</td>\n",
              "      <td>1</td>\n",
              "      <td>23</td>\n",
              "      <td>3</td>\n",
              "    </tr>\n",
              "  </tbody>\n",
              "</table>\n",
              "<p>1 rows × 282 columns</p>\n",
              "</div>\n",
              "      <button class=\"colab-df-convert\" onclick=\"convertToInteractive('df-80f5ab6e-ce03-4cdd-8464-f6c48506268c')\"\n",
              "              title=\"Convert this dataframe to an interactive table.\"\n",
              "              style=\"display:none;\">\n",
              "        \n",
              "  <svg xmlns=\"http://www.w3.org/2000/svg\" height=\"24px\"viewBox=\"0 0 24 24\"\n",
              "       width=\"24px\">\n",
              "    <path d=\"M0 0h24v24H0V0z\" fill=\"none\"/>\n",
              "    <path d=\"M18.56 5.44l.94 2.06.94-2.06 2.06-.94-2.06-.94-.94-2.06-.94 2.06-2.06.94zm-11 1L8.5 8.5l.94-2.06 2.06-.94-2.06-.94L8.5 2.5l-.94 2.06-2.06.94zm10 10l.94 2.06.94-2.06 2.06-.94-2.06-.94-.94-2.06-.94 2.06-2.06.94z\"/><path d=\"M17.41 7.96l-1.37-1.37c-.4-.4-.92-.59-1.43-.59-.52 0-1.04.2-1.43.59L10.3 9.45l-7.72 7.72c-.78.78-.78 2.05 0 2.83L4 21.41c.39.39.9.59 1.41.59.51 0 1.02-.2 1.41-.59l7.78-7.78 2.81-2.81c.8-.78.8-2.07 0-2.86zM5.41 20L4 18.59l7.72-7.72 1.47 1.35L5.41 20z\"/>\n",
              "  </svg>\n",
              "      </button>\n",
              "      \n",
              "  <style>\n",
              "    .colab-df-container {\n",
              "      display:flex;\n",
              "      flex-wrap:wrap;\n",
              "      gap: 12px;\n",
              "    }\n",
              "\n",
              "    .colab-df-convert {\n",
              "      background-color: #E8F0FE;\n",
              "      border: none;\n",
              "      border-radius: 50%;\n",
              "      cursor: pointer;\n",
              "      display: none;\n",
              "      fill: #1967D2;\n",
              "      height: 32px;\n",
              "      padding: 0 0 0 0;\n",
              "      width: 32px;\n",
              "    }\n",
              "\n",
              "    .colab-df-convert:hover {\n",
              "      background-color: #E2EBFA;\n",
              "      box-shadow: 0px 1px 2px rgba(60, 64, 67, 0.3), 0px 1px 3px 1px rgba(60, 64, 67, 0.15);\n",
              "      fill: #174EA6;\n",
              "    }\n",
              "\n",
              "    [theme=dark] .colab-df-convert {\n",
              "      background-color: #3B4455;\n",
              "      fill: #D2E3FC;\n",
              "    }\n",
              "\n",
              "    [theme=dark] .colab-df-convert:hover {\n",
              "      background-color: #434B5C;\n",
              "      box-shadow: 0px 1px 3px 1px rgba(0, 0, 0, 0.15);\n",
              "      filter: drop-shadow(0px 1px 2px rgba(0, 0, 0, 0.3));\n",
              "      fill: #FFFFFF;\n",
              "    }\n",
              "  </style>\n",
              "\n",
              "      <script>\n",
              "        const buttonEl =\n",
              "          document.querySelector('#df-80f5ab6e-ce03-4cdd-8464-f6c48506268c button.colab-df-convert');\n",
              "        buttonEl.style.display =\n",
              "          google.colab.kernel.accessAllowed ? 'block' : 'none';\n",
              "\n",
              "        async function convertToInteractive(key) {\n",
              "          const element = document.querySelector('#df-80f5ab6e-ce03-4cdd-8464-f6c48506268c');\n",
              "          const dataTable =\n",
              "            await google.colab.kernel.invokeFunction('convertToInteractive',\n",
              "                                                     [key], {});\n",
              "          if (!dataTable) return;\n",
              "\n",
              "          const docLinkHtml = 'Like what you see? Visit the ' +\n",
              "            '<a target=\"_blank\" href=https://colab.research.google.com/notebooks/data_table.ipynb>data table notebook</a>'\n",
              "            + ' to learn more about interactive tables.';\n",
              "          element.innerHTML = '';\n",
              "          dataTable['output_type'] = 'display_data';\n",
              "          await google.colab.output.renderOutput(dataTable, element);\n",
              "          const docLink = document.createElement('div');\n",
              "          docLink.innerHTML = docLinkHtml;\n",
              "          element.appendChild(docLink);\n",
              "        }\n",
              "      </script>\n",
              "    </div>\n",
              "  </div>\n",
              "  "
            ]
          },
          "metadata": {},
          "execution_count": 4
        }
      ],
      "source": [
        "df.head(1)"
      ],
      "id": "CLdBvhJQ_ys9"
    },
    {
      "cell_type": "code",
      "execution_count": 5,
      "metadata": {
        "id": "-0zr0_Zj_ys9",
        "outputId": "54af1ecc-2bea-4fbf-dfa7-b67932f5e0e0",
        "colab": {
          "base_uri": "https://localhost:8080/"
        }
      },
      "outputs": [
        {
          "output_type": "execute_result",
          "data": {
            "text/plain": [
              "Index(['q1a', 'q1i', 'q1e', 'q2a', 'q2i', 'q2e', 'q3a', 'q3i', 'q3e', 'q4a',\n",
              "       ...\n",
              "       'q91e', 'country', 'dateload', 'introelapse', 'testelapse',\n",
              "       'surveyelapse', 'gender', 'engnat', 'age', 'ie'],\n",
              "      dtype='object', length=282)"
            ]
          },
          "metadata": {},
          "execution_count": 5
        }
      ],
      "source": [
        "# Convert all column names to lowercase\n",
        "df.columns = df.columns.str.lower()\n",
        "df.columns"
      ],
      "id": "-0zr0_Zj_ys9"
    },
    {
      "cell_type": "markdown",
      "metadata": {
        "id": "QE6_XvdN_ys-"
      },
      "source": [
        "### 4.3 Target variable distribution ###\n",
        "**IE variable (raw feature)**\n",
        "\n",
        "After the main question sequence, the following questions were asked on one final page:\n",
        "\n",
        "**\"Do you identify as either an introvert or extravert?\"**\n",
        "\n",
        "0=No response\n",
        "\n",
        "1=Introvert \n",
        "\n",
        "2=Extravert \n",
        "\n",
        "3=No"
      ],
      "id": "QE6_XvdN_ys-"
    },
    {
      "cell_type": "code",
      "execution_count": 6,
      "metadata": {
        "id": "MJdnfpEz_ys_",
        "outputId": "807dace2-54f6-490e-fddc-cba2c323e14d",
        "colab": {
          "base_uri": "https://localhost:8080/"
        }
      },
      "outputs": [
        {
          "output_type": "execute_result",
          "data": {
            "text/plain": [
              "1    4404\n",
              "3    1769\n",
              "2     990\n",
              "0      25\n",
              "Name: ie, dtype: int64"
            ]
          },
          "metadata": {},
          "execution_count": 6
        }
      ],
      "source": [
        "df.ie.value_counts()"
      ],
      "id": "MJdnfpEz_ys_"
    },
    {
      "cell_type": "code",
      "execution_count": 7,
      "metadata": {
        "id": "GGc1AzUB_ytA"
      },
      "outputs": [],
      "source": [
        "# Keep records where the target variable value is either 1=Introvert or 2=Extrovert\n",
        "df = df[(df.ie==1) | (df.ie==2)]"
      ],
      "id": "GGc1AzUB_ytA"
    },
    {
      "cell_type": "code",
      "execution_count": 8,
      "metadata": {
        "id": "oRZoCkjl_ytB",
        "colab": {
          "base_uri": "https://localhost:8080/"
        },
        "outputId": "303c1d1c-53f8-46d4-e51d-dee27a1c5ea0"
      },
      "outputs": [
        {
          "output_type": "stream",
          "name": "stderr",
          "text": [
            "/usr/local/lib/python3.7/dist-packages/pandas/core/generic.py:5516: SettingWithCopyWarning: \n",
            "A value is trying to be set on a copy of a slice from a DataFrame.\n",
            "Try using .loc[row_indexer,col_indexer] = value instead\n",
            "\n",
            "See the caveats in the documentation: https://pandas.pydata.org/pandas-docs/stable/user_guide/indexing.html#returning-a-view-versus-a-copy\n",
            "  self[name] = value\n"
          ]
        }
      ],
      "source": [
        "# Replace 1=Introvert values with 0=Introvert\n",
        "df.ie = df.ie.replace(1, 0)"
      ],
      "id": "oRZoCkjl_ytB"
    },
    {
      "cell_type": "code",
      "execution_count": 9,
      "metadata": {
        "id": "-oqP1N5Z_ytB",
        "colab": {
          "base_uri": "https://localhost:8080/"
        },
        "outputId": "634af24a-bcfb-41a8-fc0c-4e33d75e3634"
      },
      "outputs": [
        {
          "output_type": "stream",
          "name": "stderr",
          "text": [
            "/usr/local/lib/python3.7/dist-packages/pandas/core/generic.py:5516: SettingWithCopyWarning: \n",
            "A value is trying to be set on a copy of a slice from a DataFrame.\n",
            "Try using .loc[row_indexer,col_indexer] = value instead\n",
            "\n",
            "See the caveats in the documentation: https://pandas.pydata.org/pandas-docs/stable/user_guide/indexing.html#returning-a-view-versus-a-copy\n",
            "  self[name] = value\n"
          ]
        }
      ],
      "source": [
        "# Replace 2=Extrovert values with 1=Extrovert\n",
        "df.ie = df.ie.replace(2, 1)"
      ],
      "id": "-oqP1N5Z_ytB"
    },
    {
      "cell_type": "markdown",
      "metadata": {
        "id": "wf3rOcqF_ytC"
      },
      "source": [
        "### IE variable (engineered feature) ###\n",
        "* **Negative label = 0 = Introvert**\n",
        "* **Positive label = 1 = Extrovert**\n",
        "\n",
        "**Note:** the positive label is under-represented in the dataset – about **1:4.5** parts of the negative label"
      ],
      "id": "wf3rOcqF_ytC"
    },
    {
      "cell_type": "code",
      "execution_count": 10,
      "metadata": {
        "id": "_ovM-lPT_ytD",
        "outputId": "851e9d28-0517-4100-9e3f-623809409a80",
        "colab": {
          "base_uri": "https://localhost:8080/"
        }
      },
      "outputs": [
        {
          "output_type": "execute_result",
          "data": {
            "text/plain": [
              "0    4404\n",
              "1     990\n",
              "Name: ie, dtype: int64"
            ]
          },
          "metadata": {},
          "execution_count": 10
        }
      ],
      "source": [
        "df.ie.value_counts()"
      ],
      "id": "_ovM-lPT_ytD"
    },
    {
      "cell_type": "code",
      "execution_count": 11,
      "metadata": {
        "id": "fE2KEzOo_ytD",
        "outputId": "17fdc358-cbc3-4745-ad32-d39cc9beda35",
        "colab": {
          "base_uri": "https://localhost:8080/",
          "height": 293
        }
      },
      "outputs": [
        {
          "output_type": "display_data",
          "data": {
            "text/plain": [
              "<Figure size 432x288 with 1 Axes>"
            ],
            "image/png": "[encoded data removed]"
          },
          "metadata": {}
        }
      ],
      "source": [
        "inex = pd.DataFrame(data=df.ie.value_counts(), index={0: 'Introvert', 1: 'Extrovert'})\n",
        "inex.rename(index={0: 'Introvert', 1: 'Extrovert'}, columns={'ie': 'Counts'}, inplace=True)\n",
        "sns.set_theme(style='whitegrid', rc={'axes.titlesize': 'large'})\n",
        "fig, ax = plt.subplots()\n",
        "ax = sns.barplot(x=inex.index, y=inex.Counts)\n",
        "ax.set_title('Target Variable Distribution')\n",
        "fig.tight_layout()"
      ],
      "id": "fE2KEzOo_ytD"
    },
    {
      "cell_type": "markdown",
      "metadata": {
        "id": "ZxO8sOW2_ytE"
      },
      "source": [
        "### 4.4 Final page variables ###\n",
        "After the main question sequence, the following questions were asked on one final page:\n",
        "\n",
        "**Gender variable**\n",
        "\n",
        "\"What is your gender?\"\n",
        "\n",
        "0=No response\n",
        "\n",
        "1=Male \n",
        "\n",
        "2=Female\n",
        "\n",
        "3=Other"
      ],
      "id": "ZxO8sOW2_ytE"
    },
    {
      "cell_type": "code",
      "execution_count": 12,
      "metadata": {
        "id": "SWS2AfkW_ytF",
        "outputId": "5ff41a6d-caf0-4beb-b96a-a57b69639610",
        "colab": {
          "base_uri": "https://localhost:8080/"
        }
      },
      "outputs": [
        {
          "output_type": "execute_result",
          "data": {
            "text/plain": [
              "2    3102\n",
              "1    2078\n",
              "3     143\n",
              "0      71\n",
              "Name: gender, dtype: int64"
            ]
          },
          "metadata": {},
          "execution_count": 12
        }
      ],
      "source": [
        "df.gender.value_counts()"
      ],
      "id": "SWS2AfkW_ytF"
    },
    {
      "cell_type": "markdown",
      "metadata": {
        "id": "o42V4_18_ytG"
      },
      "source": [
        "* We have decided to remove gender categories without a lot of records\n",
        "* We would like to focus on the Male/Female binary variable and see if it could help us predict the target variable"
      ],
      "id": "o42V4_18_ytG"
    },
    {
      "cell_type": "code",
      "execution_count": 13,
      "metadata": {
        "id": "N_XWmuJq_ytG"
      },
      "outputs": [],
      "source": [
        "# Keep records where the gender variable value is either 1 (male) or 2 (female)\n",
        "df = df[(df.gender==1) | (df.gender==2)]"
      ],
      "id": "N_XWmuJq_ytG"
    },
    {
      "cell_type": "code",
      "execution_count": 14,
      "metadata": {
        "scrolled": true,
        "id": "f1aFaiVQ_ytG",
        "outputId": "306118e3-809c-4948-e094-12b54483ce22",
        "colab": {
          "base_uri": "https://localhost:8080/"
        }
      },
      "outputs": [
        {
          "output_type": "execute_result",
          "data": {
            "text/plain": [
              "2    3102\n",
              "1    2078\n",
              "Name: gender, dtype: int64"
            ]
          },
          "metadata": {},
          "execution_count": 14
        }
      ],
      "source": [
        "df.gender.value_counts()"
      ],
      "id": "f1aFaiVQ_ytG"
    },
    {
      "cell_type": "code",
      "execution_count": 15,
      "metadata": {
        "id": "AF5cJISm_ytH",
        "outputId": "9c861126-82fb-4c6d-fd95-396e8876e3e8",
        "colab": {
          "base_uri": "https://localhost:8080/"
        }
      },
      "outputs": [
        {
          "output_type": "execute_result",
          "data": {
            "text/plain": [
              "0.1693936477382098"
            ]
          },
          "metadata": {},
          "execution_count": 15
        }
      ],
      "source": [
        "# Target variable mean for Males\n",
        "df[df.gender==1].ie.mean()"
      ],
      "id": "AF5cJISm_ytH"
    },
    {
      "cell_type": "code",
      "execution_count": 16,
      "metadata": {
        "id": "7-bCZHLs_ytH",
        "outputId": "ff5c3904-b05f-4ce4-c008-f2ecccb59472",
        "colab": {
          "base_uri": "https://localhost:8080/"
        }
      },
      "outputs": [
        {
          "output_type": "execute_result",
          "data": {
            "text/plain": [
              "0.19310122501611862"
            ]
          },
          "metadata": {},
          "execution_count": 16
        }
      ],
      "source": [
        "# Target variable mean for Females\n",
        "df[df.gender==2].ie.mean()"
      ],
      "id": "7-bCZHLs_ytH"
    },
    {
      "cell_type": "markdown",
      "metadata": {
        "id": "fXgmPVxz_ytI"
      },
      "source": [
        "* We see that the mean IE value for men is quite similar to that of women, and therefore we conclude that we can exclude the gender feature from our model"
      ],
      "id": "fXgmPVxz_ytI"
    },
    {
      "cell_type": "markdown",
      "metadata": {
        "id": "mDQHhNfq_ytI"
      },
      "source": [
        "**Engnat variable**\n",
        "\n",
        "\"Is English your native language?\"\n",
        "\n",
        "0=No response\n",
        "\n",
        "1=Yes\n",
        "\n",
        "2=No"
      ],
      "id": "mDQHhNfq_ytI"
    },
    {
      "cell_type": "code",
      "execution_count": 17,
      "metadata": {
        "id": "3On8JQo2_ytI",
        "outputId": "5a8154b4-e8e8-4f34-bb8d-8a6cb90d575b",
        "colab": {
          "base_uri": "https://localhost:8080/"
        }
      },
      "outputs": [
        {
          "output_type": "execute_result",
          "data": {
            "text/plain": [
              "1    3519\n",
              "2    1649\n",
              "0      12\n",
              "Name: engnat, dtype: int64"
            ]
          },
          "metadata": {},
          "execution_count": 17
        }
      ],
      "source": [
        "df.engnat.value_counts()"
      ],
      "id": "3On8JQo2_ytI"
    },
    {
      "cell_type": "code",
      "execution_count": 18,
      "metadata": {
        "id": "ctd98nbc_ytJ",
        "outputId": "53362774-5914-4067-b9a8-feb2bcee67eb",
        "colab": {
          "base_uri": "https://localhost:8080/"
        }
      },
      "outputs": [
        {
          "output_type": "execute_result",
          "data": {
            "text/plain": [
              "0.16666666666666666"
            ]
          },
          "metadata": {},
          "execution_count": 18
        }
      ],
      "source": [
        "df[df.engnat==0].ie.mean()"
      ],
      "id": "ctd98nbc_ytJ"
    },
    {
      "cell_type": "code",
      "execution_count": 19,
      "metadata": {
        "id": "qRXrmsHH_ytJ",
        "outputId": "7de60635-a92c-4241-b0be-cc06dfb417ad",
        "colab": {
          "base_uri": "https://localhost:8080/"
        }
      },
      "outputs": [
        {
          "output_type": "execute_result",
          "data": {
            "text/plain": [
              "0.19721511793123048"
            ]
          },
          "metadata": {},
          "execution_count": 19
        }
      ],
      "source": [
        "df[df.engnat==1].ie.mean()"
      ],
      "id": "qRXrmsHH_ytJ"
    },
    {
      "cell_type": "code",
      "execution_count": 20,
      "metadata": {
        "id": "6JvUsj5I_ytJ",
        "outputId": "8943dcfd-a07f-4e85-d03c-3863b54cae4b",
        "colab": {
          "base_uri": "https://localhost:8080/"
        }
      },
      "outputs": [
        {
          "output_type": "execute_result",
          "data": {
            "text/plain": [
              "0.15463917525773196"
            ]
          },
          "metadata": {},
          "execution_count": 20
        }
      ],
      "source": [
        "df[df.engnat==2].ie.mean()"
      ],
      "id": "6JvUsj5I_ytJ"
    },
    {
      "cell_type": "markdown",
      "metadata": {
        "id": "Q4OsuBYT_ytK"
      },
      "source": [
        "* We see a similar mean IE value for all 'engnat' categories, \n",
        "and therefore we conclude that the 'engnat' variable is insiginifacnt for our model"
      ],
      "id": "Q4OsuBYT_ytK"
    },
    {
      "cell_type": "markdown",
      "metadata": {
        "id": "iXOkb0YN_ytK"
      },
      "source": [
        "**Age variable**\n",
        "\n",
        "\"What is your age in years?\""
      ],
      "id": "iXOkb0YN_ytK"
    },
    {
      "cell_type": "code",
      "execution_count": 21,
      "metadata": {
        "id": "D55xsPiR_ytK",
        "outputId": "987cc66e-4656-4eee-ca7d-686fc78bcf85",
        "colab": {
          "base_uri": "https://localhost:8080/"
        }
      },
      "outputs": [
        {
          "output_type": "execute_result",
          "data": {
            "text/plain": [
              "count    5180.0\n",
              "mean       28.0\n",
              "std        62.0\n",
              "min        14.0\n",
              "25%        18.0\n",
              "50%        22.0\n",
              "75%        30.0\n",
              "max      2003.0\n",
              "Name: age, dtype: float64"
            ]
          },
          "metadata": {},
          "execution_count": 21
        }
      ],
      "source": [
        "df.age.describe().round()"
      ],
      "id": "D55xsPiR_ytK"
    },
    {
      "cell_type": "code",
      "execution_count": 22,
      "metadata": {
        "scrolled": true,
        "id": "V_5pKx40_ytL",
        "outputId": "e3fba201-6a49-400a-fafe-9d42215d0f3c",
        "colab": {
          "base_uri": "https://localhost:8080/"
        }
      },
      "outputs": [
        {
          "output_type": "execute_result",
          "data": {
            "text/plain": [
              "6662      14\n",
              "192       14\n",
              "3209      14\n",
              "5358      14\n",
              "178       14\n",
              "        ... \n",
              "5470    1979\n",
              "4179    1983\n",
              "1302    1990\n",
              "6856    1999\n",
              "4043    2003\n",
              "Name: age, Length: 5180, dtype: int64"
            ]
          },
          "metadata": {},
          "execution_count": 22
        }
      ],
      "source": [
        "df.age.sort_values()"
      ],
      "id": "V_5pKx40_ytL"
    },
    {
      "cell_type": "code",
      "execution_count": 23,
      "metadata": {
        "id": "UD1IyrDz_ytL"
      },
      "outputs": [],
      "source": [
        "# Remove 5 records where users misentered their age\n",
        "df = df[df.age<1000]"
      ],
      "id": "UD1IyrDz_ytL"
    },
    {
      "cell_type": "code",
      "execution_count": 24,
      "metadata": {
        "id": "jRHhrU5b_ytM",
        "outputId": "a4158ac3-8c76-4104-bc21-592a9db517b3",
        "colab": {
          "base_uri": "https://localhost:8080/"
        }
      },
      "outputs": [
        {
          "output_type": "execute_result",
          "data": {
            "text/plain": [
              "count    5175.0\n",
              "mean       26.0\n",
              "std        12.0\n",
              "min        14.0\n",
              "25%        18.0\n",
              "50%        22.0\n",
              "75%        30.0\n",
              "max        81.0\n",
              "Name: age, dtype: float64"
            ]
          },
          "metadata": {},
          "execution_count": 24
        }
      ],
      "source": [
        "df.age.describe().round()"
      ],
      "id": "jRHhrU5b_ytM"
    },
    {
      "cell_type": "code",
      "execution_count": 25,
      "metadata": {
        "scrolled": true,
        "id": "9nZbJ7Ij_ytM",
        "outputId": "b43cf74f-a52a-4c71-c3a4-9458710e40fd",
        "colab": {
          "base_uri": "https://localhost:8080/",
          "height": 293
        }
      },
      "outputs": [
        {
          "output_type": "display_data",
          "data": {
            "text/plain": [
              "<Figure size 432x288 with 1 Axes>"
            ],
            "image/png": "[encoded data removed]"
          },
          "metadata": {}
        }
      ],
      "source": [
        "sns.set_theme(style='whitegrid', rc={'axes.titlesize': 'large'})\n",
        "fig, ax = plt.subplots()\n",
        "ax = sns.histplot(df.age, bins=81)\n",
        "ax.set_title('Age Distribution')\n",
        "fig.tight_layout()"
      ],
      "id": "9nZbJ7Ij_ytM"
    },
    {
      "cell_type": "markdown",
      "metadata": {
        "id": "Dlaa1wfA_ytM"
      },
      "source": [
        "* We assume that age cannot predict In/Extroversion, and will ignore the age variable in our model"
      ],
      "id": "Dlaa1wfA_ytM"
    },
    {
      "cell_type": "markdown",
      "metadata": {
        "id": "Tteu4SMD_ytN"
      },
      "source": [
        "The following variables were determined from techincal information:\n",
        "\n",
        "**country:** user's network location\n",
        "\n",
        "**dateload:** the time the user loaded the introduction page\n",
        "\n",
        "**introelapse:** the time spent in seconds on the introduction page\n",
        "\n",
        "**testelapse:** the time spent in seconds on the test questions\n",
        "\n",
        "**surveyelapse:** the time spent in seconds on the final page\n"
      ],
      "id": "Tteu4SMD_ytN"
    },
    {
      "cell_type": "code",
      "execution_count": 26,
      "metadata": {
        "scrolled": true,
        "id": "uvkMKl5__ytN",
        "outputId": "7185550b-8765-4d30-e82b-3b13b4f962f0",
        "colab": {
          "base_uri": "https://localhost:8080/",
          "height": 1000
        }
      },
      "outputs": [
        {
          "output_type": "display_data",
          "data": {
            "text/plain": [
              "<Figure size 360x1080 with 1 Axes>"
            ],
            "image/png": "[encoded data removed]"
          },
          "metadata": {}
        }
      ],
      "source": [
        "country = df.country.value_counts()\n",
        "sns.set_theme(style='whitegrid', rc={'axes.titlesize': 'large'})\n",
        "fig, ax = plt.subplots(figsize=(5, 15))\n",
        "ax = sns.barplot(x=country.values, y=country.index)\n",
        "ax.set_title('Country Distribution')\n",
        "fig.tight_layout()"
      ],
      "id": "uvkMKl5__ytN"
    },
    {
      "cell_type": "markdown",
      "metadata": {
        "id": "KyssAKds_ytN"
      },
      "source": [
        "* We assume that the 5 'technical' variables will not assist us in predicting the IE variable\n",
        "* However, we will use the 'testelapse' and 'surveyelapse' variables to qualify the dataset"
      ],
      "id": "KyssAKds_ytN"
    },
    {
      "cell_type": "code",
      "execution_count": 27,
      "metadata": {
        "id": "fxaDphMB_ytO",
        "outputId": "214e70e0-06e7-4f6d-e628-8c29c9faa4b8",
        "colab": {
          "base_uri": "https://localhost:8080/"
        }
      },
      "outputs": [
        {
          "output_type": "execute_result",
          "data": {
            "text/plain": [
              "count       5175.000\n",
              "mean        1242.441\n",
              "std        19274.442\n",
              "min          148.000\n",
              "25%          303.000\n",
              "50%          379.000\n",
              "75%          501.000\n",
              "max      1170335.000\n",
              "Name: testelapse, dtype: float64"
            ]
          },
          "metadata": {},
          "execution_count": 27
        }
      ],
      "source": [
        "df.testelapse.describe().round(3)"
      ],
      "id": "fxaDphMB_ytO"
    },
    {
      "cell_type": "markdown",
      "metadata": {
        "id": "Sr588Z_l_ytO"
      },
      "source": [
        "**Testelapse variable:** the time spent in seconds on the test questions\n",
        "> It should take most people 10-15 minutes to complete.\n",
        "* Since we would like to exclude persones who lingered over the questions; \n",
        "* We are going to remove records where the 'testelapse' value is greater than 15 min (900 sec)"
      ],
      "id": "Sr588Z_l_ytO"
    },
    {
      "cell_type": "code",
      "execution_count": 28,
      "metadata": {
        "id": "Xaspz3eE_ytO"
      },
      "outputs": [],
      "source": [
        "# Keep records where the testelapse value is not greater than 900 sec\n",
        "df = df[df.testelapse<=900]"
      ],
      "id": "Xaspz3eE_ytO"
    },
    {
      "cell_type": "code",
      "execution_count": 29,
      "metadata": {
        "scrolled": true,
        "id": "RrSaJP3a_ytO",
        "outputId": "376e86cf-f3d1-469c-d4ef-ee78835a5586",
        "colab": {
          "base_uri": "https://localhost:8080/"
        }
      },
      "outputs": [
        {
          "output_type": "execute_result",
          "data": {
            "text/plain": [
              "(4813, 282)"
            ]
          },
          "metadata": {},
          "execution_count": 29
        }
      ],
      "source": [
        "df.shape"
      ],
      "id": "RrSaJP3a_ytO"
    },
    {
      "cell_type": "markdown",
      "metadata": {
        "id": "B7fz47PZ_ytP"
      },
      "source": [
        "**Surveyelapse variable:** the time spent in seconds on the final page (5 questions in total): gender, age, engnat, IE, and also:\n",
        "> On the final page, the users were also asked \"Do you give accurate answers and can we store and use your data for research?\". Only those who answered yes were recorded.\n",
        "\n",
        "**IE question=self reported introvert-extrovert identity:**\n",
        "\n",
        "* Since we would like to exclude persones who lingered over the IE question: \"Do you identify as either an introvert or extravert?\"\t\n",
        "* And knowing that the mean time spent on each question shouldn't take more than ~10 sec (900 sec divided by 91 questions);\n",
        "* We are going to remove records where the 'testelapse' value is greater than 50 sec"
      ],
      "id": "B7fz47PZ_ytP"
    },
    {
      "cell_type": "code",
      "execution_count": 30,
      "metadata": {
        "id": "zgA10ap6_ytP"
      },
      "outputs": [],
      "source": [
        "# Keep records where the surveyelapse value is not greater than 50 sec\n",
        "df = df[df.surveyelapse<=50]"
      ],
      "id": "zgA10ap6_ytP"
    },
    {
      "cell_type": "code",
      "execution_count": 31,
      "metadata": {
        "id": "T15eocUE_ytP",
        "outputId": "2f8382fe-2a6e-475d-b408-6772a544f1ee",
        "colab": {
          "base_uri": "https://localhost:8080/"
        }
      },
      "outputs": [
        {
          "output_type": "execute_result",
          "data": {
            "text/plain": [
              "(4526, 282)"
            ]
          },
          "metadata": {},
          "execution_count": 31
        }
      ],
      "source": [
        "df.shape"
      ],
      "id": "T15eocUE_ytP"
    },
    {
      "cell_type": "code",
      "execution_count": 32,
      "metadata": {
        "id": "DZrLITTg_ytQ",
        "outputId": "dc5aace6-1ae7-4ce2-bec3-f0239ce3a440",
        "colab": {
          "base_uri": "https://localhost:8080/"
        }
      },
      "outputs": [
        {
          "output_type": "execute_result",
          "data": {
            "text/plain": [
              "Index(['q1a', 'q1i', 'q1e', 'q2a', 'q2i', 'q2e', 'q3a', 'q3i', 'q3e', 'q4a',\n",
              "       ...\n",
              "       'q91e', 'country', 'dateload', 'introelapse', 'testelapse',\n",
              "       'surveyelapse', 'gender', 'engnat', 'age', 'ie'],\n",
              "      dtype='object', length=282)"
            ]
          },
          "metadata": {},
          "execution_count": 32
        }
      ],
      "source": [
        "df.columns"
      ],
      "id": "DZrLITTg_ytQ"
    },
    {
      "cell_type": "markdown",
      "metadata": {
        "id": "9MAolgrD_ytQ"
      },
      "source": [
        "### 4.5 Data subset ###\n",
        "\n",
        "**Test questions** (the text of the questions is avialable in the codebook file):\n",
        "\n",
        "The test contained 91 questions. The questions were presented one at a time in a random order. \n",
        "For each questions 3 values were recorded:\n",
        "\n",
        "> Q1-91**A**: The user's selected response: 1=Disagree, 2=Slightly disagree, 3=Neutral, 4=Slightly agree, 5=Agree\n",
        "\n",
        "> Q1-91**I**: The position of the question in the survey\n",
        "\n",
        "> Q1-91**E**: The time elapsed on that question in milliseconds\n",
        "\n",
        "\n",
        "\n",
        "\n",
        "* We have decided to focus on the user's selected response\n",
        "* From now on, our data subset will include only 91 features: Q1-91**A**\n"
      ],
      "id": "9MAolgrD_ytQ"
    },
    {
      "cell_type": "markdown",
      "metadata": {
        "id": "Jr-UFC8f_ytR"
      },
      "source": [
        "### Feature matrix:  Q1-91A columns ###"
      ],
      "id": "Jr-UFC8f_ytR"
    },
    {
      "cell_type": "code",
      "execution_count": 33,
      "metadata": {
        "id": "dZ6R7DPT_ytS"
      },
      "outputs": [],
      "source": [
        "# Select the q1-91a columns\n",
        "X = df.filter(regex='a$', axis='columns')"
      ],
      "id": "dZ6R7DPT_ytS"
    },
    {
      "cell_type": "code",
      "execution_count": 34,
      "metadata": {
        "id": "dwsrgyCq_yta",
        "outputId": "c229cf56-57ff-42cc-ba8a-f26a2d5b684a",
        "colab": {
          "base_uri": "https://localhost:8080/"
        }
      },
      "outputs": [
        {
          "output_type": "execute_result",
          "data": {
            "text/plain": [
              "(4526, 91)"
            ]
          },
          "metadata": {},
          "execution_count": 34
        }
      ],
      "source": [
        "X.shape"
      ],
      "id": "dwsrgyCq_yta"
    },
    {
      "cell_type": "markdown",
      "metadata": {
        "id": "snyeUrQ1_ytb"
      },
      "source": [
        "### Target vector:  IE column ###\n",
        "* **Negative label = 0 = Introvert**\n",
        "* **Positive label = 1 = Extrovert**"
      ],
      "id": "snyeUrQ1_ytb"
    },
    {
      "cell_type": "code",
      "execution_count": 35,
      "metadata": {
        "id": "bKww6n-T_ytc"
      },
      "outputs": [],
      "source": [
        "# Select the ie column\n",
        "y = df.ie"
      ],
      "id": "bKww6n-T_ytc"
    },
    {
      "cell_type": "code",
      "execution_count": 36,
      "metadata": {
        "id": "U4iZ6szz_ytc",
        "outputId": "f82b759f-8bb3-44fd-e828-ead1955f2cd3",
        "colab": {
          "base_uri": "https://localhost:8080/"
        }
      },
      "outputs": [
        {
          "output_type": "execute_result",
          "data": {
            "text/plain": [
              "(4526,)"
            ]
          },
          "metadata": {},
          "execution_count": 36
        }
      ],
      "source": [
        "y.shape"
      ],
      "id": "U4iZ6szz_ytc"
    },
    {
      "cell_type": "code",
      "execution_count": 37,
      "metadata": {
        "id": "-zZz9i3u_ytd",
        "outputId": "65dc7a55-5f87-490d-dc8f-a778b464c5e0",
        "colab": {
          "base_uri": "https://localhost:8080/"
        }
      },
      "outputs": [
        {
          "output_type": "execute_result",
          "data": {
            "text/plain": [
              "0    3713\n",
              "1     813\n",
              "Name: ie, dtype: int64"
            ]
          },
          "metadata": {},
          "execution_count": 37
        }
      ],
      "source": [
        "y.value_counts()"
      ],
      "id": "-zZz9i3u_ytd"
    },
    {
      "cell_type": "markdown",
      "metadata": {
        "id": "lKC8unBT_ytd"
      },
      "source": [
        "**Reminder:** The positive label is under-represented in the dataset – about **1:4.6** parts of the negative label"
      ],
      "id": "lKC8unBT_ytd"
    },
    {
      "cell_type": "markdown",
      "metadata": {
        "id": "Dv-U8zgd_ytd"
      },
      "source": [
        "### Mutual information ###"
      ],
      "id": "Dv-U8zgd_ytd"
    },
    {
      "cell_type": "code",
      "execution_count": 38,
      "metadata": {
        "id": "ZB3I44RL_ytd"
      },
      "outputs": [],
      "source": [
        "from sklearn.feature_selection import mutual_info_classif"
      ],
      "id": "ZB3I44RL_ytd"
    },
    {
      "cell_type": "code",
      "execution_count": 39,
      "metadata": {
        "scrolled": true,
        "id": "xyldbnOI_yte",
        "outputId": "67702481-6225-4477-bbd1-4a14e9b2d017",
        "colab": {
          "base_uri": "https://localhost:8080/",
          "height": 394
        }
      },
      "outputs": [
        {
          "output_type": "execute_result",
          "data": {
            "text/plain": [
              "          MI\n",
              "Q           \n",
              "q83a  0.1999\n",
              "q91a  0.1734\n",
              "q82a  0.1725\n",
              "q90a  0.1677\n",
              "q81a  0.1595\n",
              "q80a  0.1510\n",
              "q84a  0.1221\n",
              "q89a  0.1219\n",
              "q20a  0.1013\n",
              "q14a  0.1011"
            ],
            "text/html": [
              "\n",
              "  <div id=\"df-d86beab5-8545-44f8-9a53-1d6f5db93f8e\">\n",
              "    <div class=\"colab-df-container\">\n",
              "      <div>\n",
              "<style scoped>\n",
              "    .dataframe tbody tr th:only-of-type {\n",
              "        vertical-align: middle;\n",
              "    }\n",
              "\n",
              "    .dataframe tbody tr th {\n",
              "        vertical-align: top;\n",
              "    }\n",
              "\n",
              "    .dataframe thead th {\n",
              "        text-align: right;\n",
              "    }\n",
              "</style>\n",
              "<table border=\"1\" class=\"dataframe\">\n",
              "  <thead>\n",
              "    <tr style=\"text-align: right;\">\n",
              "      <th></th>\n",
              "      <th>MI</th>\n",
              "    </tr>\n",
              "    <tr>\n",
              "      <th>Q</th>\n",
              "      <th></th>\n",
              "    </tr>\n",
              "  </thead>\n",
              "  <tbody>\n",
              "    <tr>\n",
              "      <th>q83a</th>\n",
              "      <td>0.1999</td>\n",
              "    </tr>\n",
              "    <tr>\n",
              "      <th>q91a</th>\n",
              "      <td>0.1734</td>\n",
              "    </tr>\n",
              "    <tr>\n",
              "      <th>q82a</th>\n",
              "      <td>0.1725</td>\n",
              "    </tr>\n",
              "    <tr>\n",
              "      <th>q90a</th>\n",
              "      <td>0.1677</td>\n",
              "    </tr>\n",
              "    <tr>\n",
              "      <th>q81a</th>\n",
              "      <td>0.1595</td>\n",
              "    </tr>\n",
              "    <tr>\n",
              "      <th>q80a</th>\n",
              "      <td>0.1510</td>\n",
              "    </tr>\n",
              "    <tr>\n",
              "      <th>q84a</th>\n",
              "      <td>0.1221</td>\n",
              "    </tr>\n",
              "    <tr>\n",
              "      <th>q89a</th>\n",
              "      <td>0.1219</td>\n",
              "    </tr>\n",
              "    <tr>\n",
              "      <th>q20a</th>\n",
              "      <td>0.1013</td>\n",
              "    </tr>\n",
              "    <tr>\n",
              "      <th>q14a</th>\n",
              "      <td>0.1011</td>\n",
              "    </tr>\n",
              "  </tbody>\n",
              "</table>\n",
              "</div>\n",
              "      <button class=\"colab-df-convert\" onclick=\"convertToInteractive('df-d86beab5-8545-44f8-9a53-1d6f5db93f8e')\"\n",
              "              title=\"Convert this dataframe to an interactive table.\"\n",
              "              style=\"display:none;\">\n",
              "        \n",
              "  <svg xmlns=\"http://www.w3.org/2000/svg\" height=\"24px\"viewBox=\"0 0 24 24\"\n",
              "       width=\"24px\">\n",
              "    <path d=\"M0 0h24v24H0V0z\" fill=\"none\"/>\n",
              "    <path d=\"M18.56 5.44l.94 2.06.94-2.06 2.06-.94-2.06-.94-.94-2.06-.94 2.06-2.06.94zm-11 1L8.5 8.5l.94-2.06 2.06-.94-2.06-.94L8.5 2.5l-.94 2.06-2.06.94zm10 10l.94 2.06.94-2.06 2.06-.94-2.06-.94-.94-2.06-.94 2.06-2.06.94z\"/><path d=\"M17.41 7.96l-1.37-1.37c-.4-.4-.92-.59-1.43-.59-.52 0-1.04.2-1.43.59L10.3 9.45l-7.72 7.72c-.78.78-.78 2.05 0 2.83L4 21.41c.39.39.9.59 1.41.59.51 0 1.02-.2 1.41-.59l7.78-7.78 2.81-2.81c.8-.78.8-2.07 0-2.86zM5.41 20L4 18.59l7.72-7.72 1.47 1.35L5.41 20z\"/>\n",
              "  </svg>\n",
              "      </button>\n",
              "      \n",
              "  <style>\n",
              "    .colab-df-container {\n",
              "      display:flex;\n",
              "      flex-wrap:wrap;\n",
              "      gap: 12px;\n",
              "    }\n",
              "\n",
              "    .colab-df-convert {\n",
              "      background-color: #E8F0FE;\n",
              "      border: none;\n",
              "      border-radius: 50%;\n",
              "      cursor: pointer;\n",
              "      display: none;\n",
              "      fill: #1967D2;\n",
              "      height: 32px;\n",
              "      padding: 0 0 0 0;\n",
              "      width: 32px;\n",
              "    }\n",
              "\n",
              "    .colab-df-convert:hover {\n",
              "      background-color: #E2EBFA;\n",
              "      box-shadow: 0px 1px 2px rgba(60, 64, 67, 0.3), 0px 1px 3px 1px rgba(60, 64, 67, 0.15);\n",
              "      fill: #174EA6;\n",
              "    }\n",
              "\n",
              "    [theme=dark] .colab-df-convert {\n",
              "      background-color: #3B4455;\n",
              "      fill: #D2E3FC;\n",
              "    }\n",
              "\n",
              "    [theme=dark] .colab-df-convert:hover {\n",
              "      background-color: #434B5C;\n",
              "      box-shadow: 0px 1px 3px 1px rgba(0, 0, 0, 0.15);\n",
              "      filter: drop-shadow(0px 1px 2px rgba(0, 0, 0, 0.3));\n",
              "      fill: #FFFFFF;\n",
              "    }\n",
              "  </style>\n",
              "\n",
              "      <script>\n",
              "        const buttonEl =\n",
              "          document.querySelector('#df-d86beab5-8545-44f8-9a53-1d6f5db93f8e button.colab-df-convert');\n",
              "        buttonEl.style.display =\n",
              "          google.colab.kernel.accessAllowed ? 'block' : 'none';\n",
              "\n",
              "        async function convertToInteractive(key) {\n",
              "          const element = document.querySelector('#df-d86beab5-8545-44f8-9a53-1d6f5db93f8e');\n",
              "          const dataTable =\n",
              "            await google.colab.kernel.invokeFunction('convertToInteractive',\n",
              "                                                     [key], {});\n",
              "          if (!dataTable) return;\n",
              "\n",
              "          const docLinkHtml = 'Like what you see? Visit the ' +\n",
              "            '<a target=\"_blank\" href=https://colab.research.google.com/notebooks/data_table.ipynb>data table notebook</a>'\n",
              "            + ' to learn more about interactive tables.';\n",
              "          element.innerHTML = '';\n",
              "          dataTable['output_type'] = 'display_data';\n",
              "          await google.colab.output.renderOutput(dataTable, element);\n",
              "          const docLink = document.createElement('div');\n",
              "          docLink.innerHTML = docLinkHtml;\n",
              "          element.appendChild(docLink);\n",
              "        }\n",
              "      </script>\n",
              "    </div>\n",
              "  </div>\n",
              "  "
            ]
          },
          "metadata": {},
          "execution_count": 39
        }
      ],
      "source": [
        "q = X.columns\n",
        "mi = mutual_info_classif(X, y).round(4)\n",
        "mi_data = list(zip(q, mi))\n",
        "mi_df = pd.DataFrame.from_records(mi_data, columns=['Q', 'MI'])\n",
        "mi_sorted= mi_df.sort_values(by='MI', ascending=False).set_index('Q')\n",
        "mi_sorted[:10]"
      ],
      "id": "xyldbnOI_yte"
    },
    {
      "cell_type": "markdown",
      "metadata": {
        "id": "2P1D_2l4_yte"
      },
      "source": [
        "### 4.6 Data split  ###"
      ],
      "id": "2P1D_2l4_yte"
    },
    {
      "cell_type": "code",
      "execution_count": 40,
      "metadata": {
        "id": "tGWJ69L2_yte"
      },
      "outputs": [],
      "source": [
        "from sklearn.model_selection import train_test_split"
      ],
      "id": "tGWJ69L2_yte"
    },
    {
      "cell_type": "code",
      "execution_count": 41,
      "metadata": {
        "id": "VyERAbPF_yte"
      },
      "outputs": [],
      "source": [
        "X_train, X_test, y_train, y_test = train_test_split(X, y, test_size=0.2, random_state=42)"
      ],
      "id": "VyERAbPF_yte"
    },
    {
      "cell_type": "code",
      "execution_count": 42,
      "metadata": {
        "id": "LVfGm4qX_ytf",
        "outputId": "8eb3f9b6-f700-4586-dcb5-6030294de147",
        "colab": {
          "base_uri": "https://localhost:8080/"
        }
      },
      "outputs": [
        {
          "output_type": "execute_result",
          "data": {
            "text/plain": [
              "((3620, 91), (906, 91))"
            ]
          },
          "metadata": {},
          "execution_count": 42
        }
      ],
      "source": [
        "# Check size of dataframes\n",
        "X_train.shape, X_test.shape"
      ],
      "id": "LVfGm4qX_ytf"
    },
    {
      "cell_type": "code",
      "execution_count": 43,
      "metadata": {
        "id": "YAlGWNb7_ytf",
        "outputId": "3ff2fd2a-66ef-43d1-c50d-3d43ca1755ee",
        "colab": {
          "base_uri": "https://localhost:8080/"
        }
      },
      "outputs": [
        {
          "output_type": "execute_result",
          "data": {
            "text/plain": [
              "((3620,), (906,))"
            ]
          },
          "metadata": {},
          "execution_count": 43
        }
      ],
      "source": [
        "# Check size of arrays\n",
        "y_train.shape, y_test.shape"
      ],
      "id": "YAlGWNb7_ytf"
    },
    {
      "cell_type": "markdown",
      "metadata": {
        "id": "ZwwyPQ7x_ytg"
      },
      "source": [
        "### 4.7 Logistic regression: 'lg' model"
      ],
      "id": "ZwwyPQ7x_ytg"
    },
    {
      "cell_type": "code",
      "execution_count": 44,
      "metadata": {
        "id": "Hri1_eXs_ytg"
      },
      "outputs": [],
      "source": [
        "from sklearn.linear_model import LogisticRegression"
      ],
      "id": "Hri1_eXs_ytg"
    },
    {
      "cell_type": "markdown",
      "metadata": {
        "id": "I1GZPOk3_ytg"
      },
      "source": [
        "Fit the model:"
      ],
      "id": "I1GZPOk3_ytg"
    },
    {
      "cell_type": "code",
      "execution_count": 45,
      "metadata": {
        "id": "g-ONRn4z_ytg",
        "outputId": "c73d572a-41ed-46b1-900a-fddb4a5700ca",
        "colab": {
          "base_uri": "https://localhost:8080/"
        }
      },
      "outputs": [
        {
          "output_type": "execute_result",
          "data": {
            "text/plain": [
              "LogisticRegression(random_state=42, solver='liblinear')"
            ]
          },
          "metadata": {},
          "execution_count": 45
        }
      ],
      "source": [
        "lg = LogisticRegression(solver='liblinear', random_state=42)\n",
        "lg.fit(X_train, y_train)"
      ],
      "id": "g-ONRn4z_ytg"
    },
    {
      "cell_type": "markdown",
      "metadata": {
        "id": "puOFzycA_yth"
      },
      "source": [
        "Train data predictions"
      ],
      "id": "puOFzycA_yth"
    },
    {
      "cell_type": "code",
      "execution_count": 46,
      "metadata": {
        "id": "NWgX8Qnd_yth"
      },
      "outputs": [],
      "source": [
        "y_train_predict_lg = lg.predict(X_train)"
      ],
      "id": "NWgX8Qnd_yth"
    },
    {
      "cell_type": "markdown",
      "metadata": {
        "id": "DmEwhZ4K_yth"
      },
      "source": [
        "#### Classification metrics ####"
      ],
      "id": "DmEwhZ4K_yth"
    },
    {
      "cell_type": "markdown",
      "metadata": {
        "id": "8hZlgnoD_yth"
      },
      "source": [
        "**Confusion matrix:** "
      ],
      "id": "8hZlgnoD_yth"
    },
    {
      "cell_type": "code",
      "execution_count": 47,
      "metadata": {
        "id": "WCjA5Iuy_yti"
      },
      "outputs": [],
      "source": [
        "from sklearn.metrics import confusion_matrix, ConfusionMatrixDisplay"
      ],
      "id": "WCjA5Iuy_yti"
    },
    {
      "cell_type": "code",
      "execution_count": 48,
      "metadata": {
        "id": "17GajW_E_yti",
        "outputId": "c57b4459-cdd4-4b69-998c-a670d2651238",
        "colab": {
          "base_uri": "https://localhost:8080/",
          "height": 303
        }
      },
      "outputs": [
        {
          "output_type": "execute_result",
          "data": {
            "text/plain": [
              "<sklearn.metrics._plot.confusion_matrix.ConfusionMatrixDisplay at 0x7f83c473cb10>"
            ]
          },
          "metadata": {},
          "execution_count": 48
        },
        {
          "output_type": "display_data",
          "data": {
            "text/plain": [
              "<Figure size 432x288 with 2 Axes>"
            ],
            "image/png": "[encoded data removed]"
          },
          "metadata": {}
        }
      ],
      "source": [
        "# Display the confusion_matrix\n",
        "cm = confusion_matrix(y_train, y_train_predict_lg)\n",
        "cmd = ConfusionMatrixDisplay(confusion_matrix=cm, display_labels=lg.classes_)\n",
        "cmd.plot()"
      ],
      "id": "17GajW_E_yti"
    },
    {
      "cell_type": "code",
      "execution_count": 49,
      "metadata": {
        "id": "m9MUVhih_ytj",
        "outputId": "c18c130b-ec1a-41aa-abe9-7881e32df046",
        "colab": {
          "base_uri": "https://localhost:8080/"
        }
      },
      "outputs": [
        {
          "output_type": "execute_result",
          "data": {
            "text/plain": [
              "(2914, 70, 111, 525)"
            ]
          },
          "metadata": {},
          "execution_count": 49
        }
      ],
      "source": [
        "# Unravel the confusion_matrix\n",
        "tn, fp, fn, tp = cm.ravel()\n",
        "tn, fp, fn, tp "
      ],
      "id": "m9MUVhih_ytj"
    },
    {
      "cell_type": "markdown",
      "metadata": {
        "id": "Nz22O_Im_ytj"
      },
      "source": [
        "**Precision:**"
      ],
      "id": "Nz22O_Im_ytj"
    },
    {
      "cell_type": "code",
      "execution_count": 50,
      "metadata": {
        "id": "wSgZcJaj_ytj",
        "outputId": "76807a85-72dd-4e4a-b02d-cff17b87a4d6",
        "colab": {
          "base_uri": "https://localhost:8080/"
        }
      },
      "outputs": [
        {
          "output_type": "execute_result",
          "data": {
            "text/plain": [
              "0.88"
            ]
          },
          "metadata": {},
          "execution_count": 50
        }
      ],
      "source": [
        "# The precision is the ratio tp / (tp + fp) \n",
        "precision = tp / (tp + fp)\n",
        "precision.round(2)"
      ],
      "id": "wSgZcJaj_ytj"
    },
    {
      "cell_type": "markdown",
      "metadata": {
        "id": "htsVH_0n_ytk"
      },
      "source": [
        "**Recall:**"
      ],
      "id": "htsVH_0n_ytk"
    },
    {
      "cell_type": "code",
      "execution_count": 51,
      "metadata": {
        "id": "nKUskctR_ytk",
        "outputId": "af48c734-6f5d-4993-8441-2ba030654ff6",
        "colab": {
          "base_uri": "https://localhost:8080/"
        }
      },
      "outputs": [
        {
          "output_type": "execute_result",
          "data": {
            "text/plain": [
              "0.83"
            ]
          },
          "metadata": {},
          "execution_count": 51
        }
      ],
      "source": [
        "# The recall is the ratio tp / (tp + fn) \n",
        "recall = tp / (tp + fn)\n",
        "recall.round(2)"
      ],
      "id": "nKUskctR_ytk"
    },
    {
      "cell_type": "markdown",
      "metadata": {
        "id": "-VgZrULS_ytk"
      },
      "source": [
        "**F1 score:** https://en.wikipedia.org/wiki/F-score\n",
        "> The traditional F-measure or balanced F-score (F1 score) is the harmonic mean of precision and recall: "
      ],
      "id": "-VgZrULS_ytk"
    },
    {
      "cell_type": "code",
      "execution_count": 52,
      "metadata": {
        "id": "MfImxHu__ytl",
        "outputId": "f67a24f1-4e23-4823-9fbb-a8bd331a8352",
        "colab": {
          "base_uri": "https://localhost:8080/"
        }
      },
      "outputs": [
        {
          "output_type": "execute_result",
          "data": {
            "text/plain": [
              "0.85"
            ]
          },
          "metadata": {},
          "execution_count": 52
        }
      ],
      "source": [
        "f1 = 2 * (precision * recall) / (precision + recall) # pos_label=1\n",
        "f1.round(2)"
      ],
      "id": "MfImxHu__ytl"
    },
    {
      "cell_type": "markdown",
      "metadata": {
        "id": "o9L8VCpD_ytl"
      },
      "source": [
        "**Classification report:** "
      ],
      "id": "o9L8VCpD_ytl"
    },
    {
      "cell_type": "code",
      "execution_count": 53,
      "metadata": {
        "id": "qmy3U5C4_ytm",
        "outputId": "847c3cc1-f29a-4133-a174-a80aa15dedb4",
        "colab": {
          "base_uri": "https://localhost:8080/"
        }
      },
      "outputs": [
        {
          "output_type": "stream",
          "name": "stdout",
          "text": [
            "              precision    recall  f1-score   support\n",
            "\n",
            "           0       0.96      0.98      0.97      2984\n",
            "           1       0.88      0.83      0.85       636\n",
            "\n",
            "    accuracy                           0.95      3620\n",
            "   macro avg       0.92      0.90      0.91      3620\n",
            "weighted avg       0.95      0.95      0.95      3620\n",
            "\n"
          ]
        }
      ],
      "source": [
        "from sklearn.metrics import classification_report\n",
        "print(classification_report(y_train, y_train_predict_lg))"
      ],
      "id": "qmy3U5C4_ytm"
    },
    {
      "cell_type": "markdown",
      "metadata": {
        "id": "9sEQhTJv_ytm"
      },
      "source": [
        "**Fβ score:** \n",
        "> A more general F score, Fβ, that uses a positive real factor β, where β is chosen such that recall is considered β times as important as precision: "
      ],
      "id": "9sEQhTJv_ytm"
    },
    {
      "cell_type": "code",
      "execution_count": 54,
      "metadata": {
        "id": "b7ldbcBN_ytm",
        "outputId": "4b1d2990-36cf-4d72-bf6a-347dc5f989bf",
        "colab": {
          "base_uri": "https://localhost:8080/"
        }
      },
      "outputs": [
        {
          "output_type": "execute_result",
          "data": {
            "text/plain": [
              "0.85"
            ]
          },
          "metadata": {},
          "execution_count": 54
        }
      ],
      "source": [
        "beta = 1\n",
        "fbeta = (1 + beta**beta) * (precision * recall) / ((beta**beta * precision) + recall) # pos_label=1\n",
        "fbeta.round(2)"
      ],
      "id": "b7ldbcBN_ytm"
    },
    {
      "cell_type": "code",
      "execution_count": 55,
      "metadata": {
        "id": "AOUSx3lM_ytn",
        "outputId": "36c9df32-fba4-4b36-8b22-c7fe63be8799",
        "colab": {
          "base_uri": "https://localhost:8080/"
        }
      },
      "outputs": [
        {
          "output_type": "execute_result",
          "data": {
            "text/plain": [
              "0.85"
            ]
          },
          "metadata": {},
          "execution_count": 55
        }
      ],
      "source": [
        "from sklearn.metrics import fbeta_score\n",
        "fbeta = fbeta_score(y_train, y_train_predict_lg, beta=1, average='binary')  # pos_label=1\n",
        "fbeta.round(2)"
      ],
      "id": "AOUSx3lM_ytn"
    },
    {
      "cell_type": "markdown",
      "metadata": {
        "id": "OTOjIR5Y_ytn"
      },
      "source": [
        "**F2 score:** \n",
        "> Two commonly used values for β are 2, which weighs recall higher than precision..."
      ],
      "id": "OTOjIR5Y_ytn"
    },
    {
      "cell_type": "code",
      "execution_count": 56,
      "metadata": {
        "id": "nOWIFG4J_ytn",
        "outputId": "6f6c25c4-5773-4ef4-93dd-328743e8825c",
        "colab": {
          "base_uri": "https://localhost:8080/"
        }
      },
      "outputs": [
        {
          "output_type": "execute_result",
          "data": {
            "text/plain": [
              "0.84"
            ]
          },
          "metadata": {},
          "execution_count": 56
        }
      ],
      "source": [
        "f2 = fbeta_score(y_train, y_train_predict_lg, beta=2, average='binary')  # pos_label=1\n",
        "f2.round(2)"
      ],
      "id": "nOWIFG4J_ytn"
    },
    {
      "cell_type": "markdown",
      "metadata": {
        "id": "e2ZcpPKb_yto"
      },
      "source": [
        "**F0.5 score:** \n",
        "> ...and 0.5, which weighs recall lower than precision. "
      ],
      "id": "e2ZcpPKb_yto"
    },
    {
      "cell_type": "code",
      "execution_count": 57,
      "metadata": {
        "id": "GmNZqeLR_yto",
        "outputId": "4debae9a-a22b-4457-8341-fd6653565d06",
        "colab": {
          "base_uri": "https://localhost:8080/"
        }
      },
      "outputs": [
        {
          "output_type": "execute_result",
          "data": {
            "text/plain": [
              "0.87"
            ]
          },
          "metadata": {},
          "execution_count": 57
        }
      ],
      "source": [
        "f_half = fbeta_score(y_train, y_train_predict_lg, beta=0.5, average='binary')  # pos_label=1\n",
        "f_half.round(2)"
      ],
      "id": "GmNZqeLR_yto"
    },
    {
      "cell_type": "markdown",
      "metadata": {
        "id": "7vYP2HhQ_ytp"
      },
      "source": [
        "**Note:** we will use **F0.5 score** as the evalutaion metric for the models"
      ],
      "id": "7vYP2HhQ_ytp"
    },
    {
      "cell_type": "markdown",
      "metadata": {
        "id": "hAeQMyWy_ytp"
      },
      "source": [
        "#### K-fold cross validation ####"
      ],
      "id": "hAeQMyWy_ytp"
    },
    {
      "cell_type": "markdown",
      "metadata": {
        "id": "hlIqV7ZQ_ytp"
      },
      "source": [
        "**F0.5 scorer:** make a scorer from the **F0.5 score** metric:"
      ],
      "id": "hlIqV7ZQ_ytp"
    },
    {
      "cell_type": "code",
      "execution_count": 58,
      "metadata": {
        "id": "wSqAyOUA_ytp",
        "outputId": "c3afe0ad-5683-4576-fcca-e69da924a45f",
        "colab": {
          "base_uri": "https://localhost:8080/"
        }
      },
      "outputs": [
        {
          "output_type": "execute_result",
          "data": {
            "text/plain": [
              "make_scorer(fbeta_score, beta=0.5)"
            ]
          },
          "metadata": {},
          "execution_count": 58
        }
      ],
      "source": [
        "from sklearn.metrics import make_scorer\n",
        "f_half_scorer = make_scorer(fbeta_score, beta=0.5)\n",
        "f_half_scorer"
      ],
      "id": "wSqAyOUA_ytp"
    },
    {
      "cell_type": "markdown",
      "metadata": {
        "id": "wBkU5O7c_ytp"
      },
      "source": [
        "* **5-fold** cross validation: evaluate model performance using the  **F0.5 score** metric:"
      ],
      "id": "wBkU5O7c_ytp"
    },
    {
      "cell_type": "code",
      "execution_count": 59,
      "metadata": {
        "id": "YShwdT8W_ytq",
        "outputId": "6bbfa925-d5cd-4bb6-c706-70477392243b",
        "colab": {
          "base_uri": "https://localhost:8080/"
        }
      },
      "outputs": [
        {
          "output_type": "execute_result",
          "data": {
            "text/plain": [
              "array([0.87114338, 0.7918552 , 0.83190395, 0.81183612, 0.87248322])"
            ]
          },
          "metadata": {},
          "execution_count": 59
        }
      ],
      "source": [
        "from sklearn.model_selection import cross_val_score\n",
        "scores = cross_val_score(lg, X_train, y_train, cv=5, scoring=f_half_scorer)\n",
        "scores"
      ],
      "id": "YShwdT8W_ytq"
    },
    {
      "cell_type": "code",
      "execution_count": 60,
      "metadata": {
        "id": "3Og1dLBI_ytr",
        "outputId": "f7b7e3c6-2072-4820-e1cc-a9458f66779f",
        "colab": {
          "base_uri": "https://localhost:8080/"
        }
      },
      "outputs": [
        {
          "output_type": "stream",
          "name": "stdout",
          "text": [
            "F0.5 score of 0.84 with a standard deviation of 0.03\n"
          ]
        }
      ],
      "source": [
        "print(\"F0.5 score of %0.2f with a standard deviation of %0.2f\" % (scores.mean(), scores.std()))"
      ],
      "id": "3Og1dLBI_ytr"
    },
    {
      "cell_type": "markdown",
      "metadata": {
        "id": "V1v1jQN5_yts"
      },
      "source": [
        "* **5-fold** cross validation: evaluate model performance using the following metrics:\n",
        "\n",
        "    * **Precision**\n",
        "\n",
        "    * **Recall**\n",
        "\n",
        "    * **F0.5 score**"
      ],
      "id": "V1v1jQN5_yts"
    },
    {
      "cell_type": "markdown",
      "metadata": {
        "id": "1cYz9Dmn_ytt"
      },
      "source": [
        "**Precision scorer:** make a scorer from the **precision_score** metric:"
      ],
      "id": "1cYz9Dmn_ytt"
    },
    {
      "cell_type": "code",
      "execution_count": 61,
      "metadata": {
        "id": "wkp2SjcZ_ytu",
        "outputId": "9dd32e61-24ea-485e-eaea-441704dea210",
        "colab": {
          "base_uri": "https://localhost:8080/"
        }
      },
      "outputs": [
        {
          "output_type": "execute_result",
          "data": {
            "text/plain": [
              "make_scorer(precision_score)"
            ]
          },
          "metadata": {},
          "execution_count": 61
        }
      ],
      "source": [
        "from sklearn.metrics import precision_score\n",
        "precision_scorer = make_scorer(precision_score)\n",
        "precision_scorer"
      ],
      "id": "wkp2SjcZ_ytu"
    },
    {
      "cell_type": "markdown",
      "metadata": {
        "id": "XI6Zss6I_ytu"
      },
      "source": [
        "**Recall scorer:** make a scorer from the **recall_score** metric:"
      ],
      "id": "XI6Zss6I_ytu"
    },
    {
      "cell_type": "code",
      "execution_count": 62,
      "metadata": {
        "id": "cz97Po91_ytu",
        "outputId": "bb060e8a-8a95-4531-a806-fe02c03ae0a8",
        "colab": {
          "base_uri": "https://localhost:8080/"
        }
      },
      "outputs": [
        {
          "output_type": "execute_result",
          "data": {
            "text/plain": [
              "make_scorer(recall_score)"
            ]
          },
          "metadata": {},
          "execution_count": 62
        }
      ],
      "source": [
        "from sklearn.metrics import recall_score\n",
        "recall_scorer = make_scorer(recall_score)\n",
        "recall_scorer"
      ],
      "id": "cz97Po91_ytu"
    },
    {
      "cell_type": "code",
      "execution_count": 63,
      "metadata": {
        "id": "KYrWCYr__ytv"
      },
      "outputs": [],
      "source": [
        "# Use a dictionary with metric names as keys and callables as values\n",
        "triple_scoring = {'precision': precision_scorer, 'recall': recall_scorer, 'f_half': f_half_scorer}"
      ],
      "id": "KYrWCYr__ytv"
    },
    {
      "cell_type": "code",
      "execution_count": 64,
      "metadata": {
        "scrolled": true,
        "id": "Y6lLWWf2_ytv",
        "outputId": "7968af6e-46b6-44d1-d172-6dc322f19096",
        "colab": {
          "base_uri": "https://localhost:8080/"
        }
      },
      "outputs": [
        {
          "output_type": "execute_result",
          "data": {
            "text/plain": [
              "{'fit_time': array([0.14040136, 0.10562158, 0.16351581, 0.12024403, 0.12457228]),\n",
              " 'score_time': array([0.0312326 , 0.0092721 , 0.03577495, 0.01750159, 0.01108623]),\n",
              " 'test_f_half': array([0.87114338, 0.7918552 , 0.83190395, 0.81183612, 0.87248322]),\n",
              " 'test_precision': array([0.90566038, 0.78358209, 0.85087719, 0.80451128, 0.88888889]),\n",
              " 'test_recall': array([0.75590551, 0.82677165, 0.76377953, 0.84251969, 0.8125    ])}"
            ]
          },
          "metadata": {},
          "execution_count": 64
        }
      ],
      "source": [
        "from sklearn.model_selection import cross_validate\n",
        "triple_scores = cross_validate(lg, X_train, y_train, cv=5, scoring=triple_scoring)\n",
        "triple_scores"
      ],
      "id": "Y6lLWWf2_ytv"
    },
    {
      "cell_type": "code",
      "execution_count": 65,
      "metadata": {
        "scrolled": true,
        "id": "1W1ajW4P_ytv",
        "outputId": "a3345a3b-bce4-4363-b15e-4d997696f4cb",
        "colab": {
          "base_uri": "https://localhost:8080/"
        }
      },
      "outputs": [
        {
          "output_type": "stream",
          "name": "stdout",
          "text": [
            "0.85 Precision score with a standard deviation of 0.05\n",
            "0.80 Recall score with a standard deviation of 0.03\n",
            "0.84 F0.5 score with a standard deviation of 0.03\n"
          ]
        }
      ],
      "source": [
        "precision = triple_scores['test_precision']\n",
        "recall = triple_scores['test_recall']\n",
        "f_half = triple_scores['test_f_half']\n",
        "print(\"%0.2f Precision score with a standard deviation of %0.2f\" % (precision.mean(), precision.std()))\n",
        "print(\"%0.2f Recall score with a standard deviation of %0.2f\" % (recall.mean(), recall.std()))\n",
        "print(\"%0.2f F0.5 score with a standard deviation of %0.2f\" % (f_half.mean(), f_half.std()))"
      ],
      "id": "1W1ajW4P_ytv"
    },
    {
      "cell_type": "markdown",
      "metadata": {
        "id": "xF97fzqH_ytw"
      },
      "source": [
        "### 4.8 Logistic regression – regularization: 'lgr' model ###"
      ],
      "id": "xF97fzqH_ytw"
    },
    {
      "cell_type": "markdown",
      "metadata": {
        "id": "eKY58N1u_ytw"
      },
      "source": [
        "Finding the best C parameter:"
      ],
      "id": "eKY58N1u_ytw"
    },
    {
      "cell_type": "code",
      "execution_count": 66,
      "metadata": {
        "scrolled": true,
        "id": "dNtrAsn5_ytw",
        "outputId": "a1c08375-32e0-4f14-e06f-3947301aa403",
        "colab": {
          "base_uri": "https://localhost:8080/"
        }
      },
      "outputs": [
        {
          "output_type": "stream",
          "name": "stdout",
          "text": [
            "C=0.001 -> F0.5=0.84±0.01\n",
            "C=0.01 -> F0.5=0.85±0.02\n",
            "C=0.1 -> F0.5=0.84±0.03\n",
            "C=1 -> F0.5=0.84±0.03\n",
            "C=10 -> F0.5=0.83±0.03\n"
          ]
        }
      ],
      "source": [
        "for C in [0.001, 0.01, 0.1, 1, 10]:\n",
        "    lgr = LogisticRegression(solver='liblinear', random_state=42, C=C)\n",
        "    f_half_scores = cross_val_score(lgr, X_train, y_train, cv=5, scoring=f_half_scorer)\n",
        "    print('C=%s -> F0.5=%0.2f±%0.2f' % (C, f_half_scores.mean(), f_half_scores.std()))"
      ],
      "id": "dNtrAsn5_ytw"
    },
    {
      "cell_type": "markdown",
      "metadata": {
        "id": "rSP3eoSi_ytw"
      },
      "source": [
        "**C=0.01:** we select the C paramter with the best **F0.5 score**"
      ],
      "id": "rSP3eoSi_ytw"
    },
    {
      "cell_type": "markdown",
      "metadata": {
        "id": "yGdcPDhx_ytx"
      },
      "source": [
        "Fit the model:"
      ],
      "id": "yGdcPDhx_ytx"
    },
    {
      "cell_type": "code",
      "execution_count": 67,
      "metadata": {
        "id": "ECtqGPIM_ytx",
        "outputId": "5740fa3a-abe8-4428-c28a-0ba33fdf0419",
        "colab": {
          "base_uri": "https://localhost:8080/"
        }
      },
      "outputs": [
        {
          "output_type": "execute_result",
          "data": {
            "text/plain": [
              "LogisticRegression(C=0.01, random_state=42, solver='liblinear')"
            ]
          },
          "metadata": {},
          "execution_count": 67
        }
      ],
      "source": [
        "# Fit the lgr model with C=0.01\n",
        "lgr = LogisticRegression(solver='liblinear', random_state=42, C=0.01)\n",
        "lgr.fit(X_train, y_train)"
      ],
      "id": "ECtqGPIM_ytx"
    },
    {
      "cell_type": "markdown",
      "metadata": {
        "id": "87uUfgMW_ytx"
      },
      "source": [
        "Train data probability predictions:"
      ],
      "id": "87uUfgMW_ytx"
    },
    {
      "cell_type": "code",
      "execution_count": 68,
      "metadata": {
        "id": "554cPg5e_ytx"
      },
      "outputs": [],
      "source": [
        "y_train_predict_proba_lgr = lgr.predict_proba(X_train)[:, -1]"
      ],
      "id": "554cPg5e_ytx"
    },
    {
      "cell_type": "markdown",
      "metadata": {
        "id": "YIJtOUW7_yty"
      },
      "source": [
        "Finding the best threshold:\n"
      ],
      "id": "YIJtOUW7_yty"
    },
    {
      "cell_type": "code",
      "execution_count": 69,
      "metadata": {
        "id": "CE1H4HHr_yty",
        "outputId": "b45589e1-5881-4601-ce44-30a7fdde4e78",
        "colab": {
          "base_uri": "https://localhost:8080/"
        }
      },
      "outputs": [
        {
          "output_type": "stream",
          "name": "stdout",
          "text": [
            "0.00 -> 0.18 | 1.00 | 0.21\n",
            "0.01 -> 0.34 | 1.00 | 0.39\n",
            "0.02 -> 0.41 | 0.99 | 0.46\n",
            "0.03 -> 0.45 | 0.99 | 0.51\n",
            "0.04 -> 0.49 | 0.98 | 0.55\n",
            "0.05 -> 0.53 | 0.98 | 0.58\n",
            "0.06 -> 0.55 | 0.98 | 0.61\n",
            "0.07 -> 0.57 | 0.97 | 0.62\n",
            "0.08 -> 0.60 | 0.97 | 0.65\n",
            "0.09 -> 0.61 | 0.97 | 0.66\n",
            "0.10 -> 0.63 | 0.97 | 0.68\n",
            "0.11 -> 0.64 | 0.96 | 0.69\n",
            "0.12 -> 0.66 | 0.96 | 0.70\n",
            "0.13 -> 0.67 | 0.96 | 0.71\n",
            "0.14 -> 0.68 | 0.96 | 0.72\n",
            "0.15 -> 0.69 | 0.95 | 0.73\n",
            "0.16 -> 0.70 | 0.94 | 0.74\n",
            "0.17 -> 0.71 | 0.94 | 0.75\n",
            "0.18 -> 0.72 | 0.94 | 0.75\n",
            "0.19 -> 0.73 | 0.94 | 0.76\n",
            "0.20 -> 0.74 | 0.93 | 0.77\n",
            "0.21 -> 0.75 | 0.93 | 0.78\n",
            "0.22 -> 0.75 | 0.93 | 0.78\n",
            "0.23 -> 0.76 | 0.93 | 0.79\n",
            "0.24 -> 0.76 | 0.93 | 0.79\n",
            "0.25 -> 0.77 | 0.93 | 0.80\n",
            "0.26 -> 0.78 | 0.92 | 0.81\n",
            "0.27 -> 0.78 | 0.92 | 0.80\n",
            "0.28 -> 0.78 | 0.92 | 0.81\n",
            "0.29 -> 0.79 | 0.91 | 0.81\n",
            "0.30 -> 0.79 | 0.91 | 0.81\n",
            "0.31 -> 0.80 | 0.90 | 0.82\n",
            "0.32 -> 0.80 | 0.89 | 0.82\n",
            "0.33 -> 0.81 | 0.89 | 0.83\n",
            "0.34 -> 0.81 | 0.89 | 0.83\n",
            "0.35 -> 0.82 | 0.89 | 0.83\n",
            "0.36 -> 0.83 | 0.88 | 0.84\n",
            "0.37 -> 0.84 | 0.88 | 0.84\n",
            "0.38 -> 0.84 | 0.88 | 0.85\n",
            "0.39 -> 0.85 | 0.88 | 0.85\n",
            "0.40 -> 0.85 | 0.87 | 0.86\n",
            "0.41 -> 0.86 | 0.87 | 0.86\n",
            "0.42 -> 0.86 | 0.86 | 0.86\n",
            "0.43 -> 0.86 | 0.85 | 0.86\n",
            "0.44 -> 0.87 | 0.85 | 0.86\n",
            "0.45 -> 0.87 | 0.84 | 0.87\n",
            "0.46 -> 0.87 | 0.84 | 0.86\n",
            "0.47 -> 0.87 | 0.83 | 0.86\n",
            "0.48 -> 0.87 | 0.82 | 0.86\n",
            "0.49 -> 0.87 | 0.82 | 0.86\n",
            "0.50 -> 0.88 | 0.81 | 0.86\n",
            "0.51 -> 0.88 | 0.81 | 0.87\n",
            "0.52 -> 0.88 | 0.80 | 0.86\n",
            "0.53 -> 0.89 | 0.80 | 0.87\n",
            "0.54 -> 0.89 | 0.79 | 0.87\n",
            "0.55 -> 0.89 | 0.78 | 0.87\n",
            "0.56 -> 0.89 | 0.78 | 0.87\n",
            "0.57 -> 0.90 | 0.78 | 0.87\n",
            "0.58 -> 0.91 | 0.77 | 0.88\n",
            "0.59 -> 0.91 | 0.77 | 0.88\n",
            "0.60 -> 0.91 | 0.76 | 0.87\n",
            "0.61 -> 0.91 | 0.75 | 0.88\n",
            "0.62 -> 0.91 | 0.75 | 0.87\n",
            "0.63 -> 0.92 | 0.74 | 0.88\n",
            "0.64 -> 0.92 | 0.74 | 0.88\n",
            "0.65 -> 0.92 | 0.74 | 0.88\n",
            "0.66 -> 0.92 | 0.73 | 0.87\n",
            "0.67 -> 0.92 | 0.72 | 0.87\n",
            "0.68 -> 0.93 | 0.72 | 0.88\n",
            "0.69 -> 0.94 | 0.71 | 0.88\n",
            "0.70 -> 0.94 | 0.71 | 0.88\n",
            "0.71 -> 0.94 | 0.70 | 0.88\n",
            "0.72 -> 0.94 | 0.68 | 0.88\n",
            "0.73 -> 0.95 | 0.68 | 0.88\n",
            "0.74 -> 0.95 | 0.67 | 0.88\n",
            "0.75 -> 0.95 | 0.67 | 0.87\n",
            "0.76 -> 0.95 | 0.66 | 0.87\n",
            "0.77 -> 0.95 | 0.64 | 0.87\n",
            "0.78 -> 0.96 | 0.64 | 0.87\n",
            "0.79 -> 0.96 | 0.63 | 0.87\n",
            "0.80 -> 0.96 | 0.62 | 0.86\n",
            "0.81 -> 0.96 | 0.61 | 0.86\n",
            "0.82 -> 0.97 | 0.59 | 0.86\n",
            "0.83 -> 0.97 | 0.58 | 0.86\n",
            "0.84 -> 0.97 | 0.57 | 0.85\n",
            "0.85 -> 0.97 | 0.55 | 0.84\n",
            "0.86 -> 0.97 | 0.54 | 0.83\n",
            "0.87 -> 0.97 | 0.53 | 0.83\n",
            "0.88 -> 0.97 | 0.51 | 0.82\n",
            "0.89 -> 0.97 | 0.49 | 0.81\n",
            "0.90 -> 0.97 | 0.46 | 0.79\n",
            "0.91 -> 0.97 | 0.44 | 0.78\n",
            "0.92 -> 0.97 | 0.42 | 0.77\n",
            "0.93 -> 0.98 | 0.39 | 0.75\n",
            "0.94 -> 0.98 | 0.37 | 0.73\n",
            "0.95 -> 0.98 | 0.34 | 0.71\n",
            "0.96 -> 0.98 | 0.31 | 0.68\n",
            "0.97 -> 0.98 | 0.27 | 0.64\n",
            "0.98 -> 0.98 | 0.21 | 0.56\n",
            "0.99 -> 0.97 | 0.12 | 0.39\n",
            "1.00 -> 0.00 | 0.00 | 0.00\n"
          ]
        },
        {
          "output_type": "stream",
          "name": "stderr",
          "text": [
            "/usr/local/lib/python3.7/dist-packages/sklearn/metrics/_classification.py:1318: UndefinedMetricWarning: Precision is ill-defined and being set to 0.0 due to no predicted samples. Use `zero_division` parameter to control this behavior.\n",
            "  _warn_prf(average, modifier, msg_start, len(result))\n"
          ]
        }
      ],
      "source": [
        "from sklearn.metrics import precision_score, recall_score, fbeta_score\n",
        "\n",
        "thresholds = np.linspace(0, 1, 101)\n",
        "\n",
        "for t in thresholds:\n",
        "    extrovert_predict = (y_train_predict_proba_lgr >= t)\n",
        "    \n",
        "    prec = precision_score(y_train, extrovert_predict)\n",
        "    recall = recall_score(y_train, extrovert_predict)\n",
        "    f_half = fbeta_score(y_train, extrovert_predict, beta=0.5)\n",
        "    \n",
        "    print(\"%0.2f -> %0.2f | %0.2f | %0.2f\" % (t, prec, recall, f_half))"
      ],
      "id": "CE1H4HHr_yty"
    },
    {
      "cell_type": "markdown",
      "metadata": {
        "id": "S_-yzEEt_yty"
      },
      "source": [
        "**Threshold=0.59:** we select the threshold with the best **Precision score (=0.91)** for a **Recall score (=0.77)** not lesser than 0.75"
      ],
      "id": "S_-yzEEt_yty"
    },
    {
      "cell_type": "markdown",
      "metadata": {
        "id": "cMJcKCOG_yty"
      },
      "source": [
        "Train data predictions:"
      ],
      "id": "cMJcKCOG_yty"
    },
    {
      "cell_type": "code",
      "execution_count": 70,
      "metadata": {
        "id": "_2aj4PyL_ytz"
      },
      "outputs": [],
      "source": [
        "y_train_predict_lgr = (y_train_predict_proba_lgr >= 0.59)"
      ],
      "id": "_2aj4PyL_ytz"
    },
    {
      "cell_type": "markdown",
      "metadata": {
        "id": "evtpjAaM_yt0"
      },
      "source": [
        "**Confusion matrix:** "
      ],
      "id": "evtpjAaM_yt0"
    },
    {
      "cell_type": "code",
      "execution_count": 71,
      "metadata": {
        "id": "CTtzvaSq_yt0",
        "outputId": "c1e5fecb-d6d4-43d4-e25d-8b1b31367d70",
        "colab": {
          "base_uri": "https://localhost:8080/",
          "height": 303
        }
      },
      "outputs": [
        {
          "output_type": "execute_result",
          "data": {
            "text/plain": [
              "<sklearn.metrics._plot.confusion_matrix.ConfusionMatrixDisplay at 0x7f83c4c5d750>"
            ]
          },
          "metadata": {},
          "execution_count": 71
        },
        {
          "output_type": "display_data",
          "data": {
            "text/plain": [
              "<Figure size 432x288 with 2 Axes>"
            ],
            "image/png": "[encoded data removed]"
          },
          "metadata": {}
        }
      ],
      "source": [
        "# Display the confusion_matrix\n",
        "cm = confusion_matrix(y_train, y_train_predict_lgr)\n",
        "cmd = ConfusionMatrixDisplay(confusion_matrix=cm, display_labels=lgr.classes_)\n",
        "cmd.plot()"
      ],
      "id": "CTtzvaSq_yt0"
    },
    {
      "cell_type": "markdown",
      "metadata": {
        "id": "LeQH2mxr_yt0"
      },
      "source": [
        "**Classification report:** "
      ],
      "id": "LeQH2mxr_yt0"
    },
    {
      "cell_type": "code",
      "execution_count": 72,
      "metadata": {
        "id": "KUUFDFjJ_yt1",
        "outputId": "ea60b654-c121-40f0-b8de-ce606e7d2fa1",
        "colab": {
          "base_uri": "https://localhost:8080/"
        }
      },
      "outputs": [
        {
          "output_type": "stream",
          "name": "stdout",
          "text": [
            "              precision    recall  f1-score   support\n",
            "\n",
            "           0       0.95      0.98      0.97      2984\n",
            "           1       0.91      0.77      0.83       636\n",
            "\n",
            "    accuracy                           0.95      3620\n",
            "   macro avg       0.93      0.88      0.90      3620\n",
            "weighted avg       0.94      0.95      0.94      3620\n",
            "\n"
          ]
        }
      ],
      "source": [
        "print(classification_report(y_train, y_train_predict_lgr))"
      ],
      "id": "KUUFDFjJ_yt1"
    },
    {
      "cell_type": "markdown",
      "metadata": {
        "id": "0DqYaIxC_yt2"
      },
      "source": [
        "**F0.5 score** for **lgr** model:"
      ],
      "id": "0DqYaIxC_yt2"
    },
    {
      "cell_type": "code",
      "execution_count": 73,
      "metadata": {
        "id": "o3zZY7Xs_yt2",
        "outputId": "f1c15137-62e0-436a-8f3e-26e410cb37b2",
        "colab": {
          "base_uri": "https://localhost:8080/"
        }
      },
      "outputs": [
        {
          "output_type": "execute_result",
          "data": {
            "text/plain": [
              "0.88"
            ]
          },
          "metadata": {},
          "execution_count": 73
        }
      ],
      "source": [
        "f_half_lgr = fbeta_score(y_train, y_train_predict_lgr, beta=0.5, average='binary')  # pos_label=1\n",
        "f_half_lgr.round(2)"
      ],
      "id": "o3zZY7Xs_yt2"
    },
    {
      "cell_type": "markdown",
      "metadata": {
        "id": "R7THONwX_yt2"
      },
      "source": [
        "Test data probability predictions:"
      ],
      "id": "R7THONwX_yt2"
    },
    {
      "cell_type": "code",
      "execution_count": 74,
      "metadata": {
        "id": "wUUbJ0sH_yt2"
      },
      "outputs": [],
      "source": [
        "y_test_predict_proba_lgr = lgr.predict_proba(X_test)[:, -1]"
      ],
      "id": "wUUbJ0sH_yt2"
    },
    {
      "cell_type": "markdown",
      "metadata": {
        "id": "hcrkrSsV_yt3"
      },
      "source": [
        "Test data predictions:"
      ],
      "id": "hcrkrSsV_yt3"
    },
    {
      "cell_type": "code",
      "execution_count": 75,
      "metadata": {
        "id": "sOJLvac8_yt3"
      },
      "outputs": [],
      "source": [
        "y_test_predict_lgr = (y_test_predict_proba_lgr >= 0.59)"
      ],
      "id": "sOJLvac8_yt3"
    },
    {
      "cell_type": "markdown",
      "metadata": {
        "id": "rSKa4Ufx_yt3"
      },
      "source": [
        "**Confusion matrix: test data predictions** "
      ],
      "id": "rSKa4Ufx_yt3"
    },
    {
      "cell_type": "code",
      "execution_count": 76,
      "metadata": {
        "scrolled": true,
        "id": "ddEiUcEv_yt4",
        "outputId": "34d3fb35-a50a-45fe-9267-1af44691c31d",
        "colab": {
          "base_uri": "https://localhost:8080/",
          "height": 303
        }
      },
      "outputs": [
        {
          "output_type": "execute_result",
          "data": {
            "text/plain": [
              "<sklearn.metrics._plot.confusion_matrix.ConfusionMatrixDisplay at 0x7f83c3823310>"
            ]
          },
          "metadata": {},
          "execution_count": 76
        },
        {
          "output_type": "display_data",
          "data": {
            "text/plain": [
              "<Figure size 432x288 with 2 Axes>"
            ],
            "image/png": "[encoded data removed]"
          },
          "metadata": {}
        }
      ],
      "source": [
        "# Display the confusion_matrix\n",
        "cm = confusion_matrix(y_test, y_test_predict_lgr)\n",
        "cmd = ConfusionMatrixDisplay(confusion_matrix=cm, display_labels=lgr.classes_)\n",
        "cmd.plot()"
      ],
      "id": "ddEiUcEv_yt4"
    },
    {
      "cell_type": "markdown",
      "metadata": {
        "id": "QC95v6R4_yt4"
      },
      "source": [
        "**Classification report: test data predictions** "
      ],
      "id": "QC95v6R4_yt4"
    },
    {
      "cell_type": "code",
      "execution_count": 77,
      "metadata": {
        "id": "JzjcIKUc_yt5",
        "outputId": "cce90f9d-21e8-4a14-b115-5156df1377fc",
        "colab": {
          "base_uri": "https://localhost:8080/"
        }
      },
      "outputs": [
        {
          "output_type": "stream",
          "name": "stdout",
          "text": [
            "              precision    recall  f1-score   support\n",
            "\n",
            "           0       0.94      0.98      0.96       729\n",
            "           1       0.90      0.75      0.81       177\n",
            "\n",
            "    accuracy                           0.93       906\n",
            "   macro avg       0.92      0.86      0.89       906\n",
            "weighted avg       0.93      0.93      0.93       906\n",
            "\n"
          ]
        }
      ],
      "source": [
        "print(classification_report(y_test, y_test_predict_lgr))"
      ],
      "id": "JzjcIKUc_yt5"
    },
    {
      "cell_type": "markdown",
      "metadata": {
        "id": "baH-kfei_yt6"
      },
      "source": [
        "**F0.5 score: test data predictions** "
      ],
      "id": "baH-kfei_yt6"
    },
    {
      "cell_type": "code",
      "execution_count": 78,
      "metadata": {
        "id": "f9WUCjVf_yt6",
        "outputId": "9bf0fb72-ca81-414e-c7df-75c941be83ce",
        "colab": {
          "base_uri": "https://localhost:8080/"
        }
      },
      "outputs": [
        {
          "output_type": "execute_result",
          "data": {
            "text/plain": [
              "0.86"
            ]
          },
          "metadata": {},
          "execution_count": 78
        }
      ],
      "source": [
        "f_half_lgr_test = fbeta_score(y_test, y_test_predict_lgr, beta=0.5, average='binary')  # pos_label=1\n",
        "f_half_lgr_test.round(2)"
      ],
      "id": "f9WUCjVf_yt6"
    },
    {
      "cell_type": "markdown",
      "metadata": {
        "id": "utAdwxmB_yt7"
      },
      "source": [
        "### Model selection ###\n",
        "we see that the 'lgr' model (C=0.01, Treshold=0.59) yielded a precision score of 0.90 and a recall score of 0.75 when applied on the test data. Hence we select this model to solve the business problem."
      ],
      "id": "utAdwxmB_yt7"
    }
  ],
  "metadata": {
    "kernelspec": {
      "display_name": "Python 3",
      "language": "python",
      "name": "python3"
    },
    "language_info": {
      "codemirror_mode": {
        "name": "ipython",
        "version": 3
      },
      "file_extension": ".py",
      "mimetype": "text/x-python",
      "name": "python",
      "nbconvert_exporter": "python",
      "pygments_lexer": "ipython3",
      "version": "3.8.5"
    },
    "colab": {
      "name": "binary-classification.ipynb",
      "provenance": [],
      "collapsed_sections": [
        "eKY58N1u_ytw"
      ],
      "toc_visible": true
    }
  },
  "nbformat": 4,
  "nbformat_minor": 5
}