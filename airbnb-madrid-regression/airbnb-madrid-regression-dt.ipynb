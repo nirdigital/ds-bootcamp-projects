{
  "cells": [
    {
      "cell_type": "markdown",
      "id": "f3161950",
      "metadata": {
        "pycharm": {
          "name": "#%% md\n"
        },
        "id": "f3161950"
      },
      "source": [
        "## 2. Regression Project: Decision Tree ##\n",
        "\n"
      ]
    },
    {
      "cell_type": "markdown",
      "id": "23810c06",
      "metadata": {
        "pycharm": {
          "name": "#%% md\n"
        },
        "id": "23810c06"
      },
      "source": [
        "### 2.1 Airbnb listings in Madrid  ###\n",
        "* **Dataset:** http://data.insideairbnb.com/spain/comunidad-de-madrid/madrid/2021-09-10/data/listings.csv.gz\n",
        "* **Description:** detailed data for Airbnb listings in Madrid, compiled on *10.09.2021* by **Inside Airbnb**"
      ]
    },
    {
      "cell_type": "code",
      "execution_count": null,
      "id": "e0ca488f",
      "metadata": {
        "pycharm": {
          "name": "#%%\n"
        },
        "id": "e0ca488f"
      },
      "outputs": [],
      "source": [
        "import numpy as np\n",
        "import pandas as pd\n",
        "import seaborn as sns\n",
        "from matplotlib import pyplot as plt\n",
        "%matplotlib inline"
      ]
    },
    {
      "cell_type": "code",
      "execution_count": null,
      "id": "817382c1",
      "metadata": {
        "pycharm": {
          "name": "#%%\n"
        },
        "colab": {
          "base_uri": "https://localhost:8080/"
        },
        "id": "817382c1",
        "outputId": "45704d4d-eeca-4fa7-a156-a1346f5a01ab"
      },
      "outputs": [
        {
          "output_type": "stream",
          "name": "stdout",
          "text": [
            "<class 'pandas.core.frame.DataFrame'>\n",
            "RangeIndex: 18909 entries, 0 to 18908\n",
            "Data columns (total 74 columns):\n",
            " #   Column                                        Non-Null Count  Dtype  \n",
            "---  ------                                        --------------  -----  \n",
            " 0   id                                            18909 non-null  int64  \n",
            " 1   listing_url                                   18909 non-null  object \n",
            " 2   scrape_id                                     18909 non-null  int64  \n",
            " 3   last_scraped                                  18909 non-null  object \n",
            " 4   name                                          18906 non-null  object \n",
            " 5   description                                   17854 non-null  object \n",
            " 6   neighborhood_overview                         10997 non-null  object \n",
            " 7   picture_url                                   18908 non-null  object \n",
            " 8   host_id                                       18909 non-null  int64  \n",
            " 9   host_url                                      18909 non-null  object \n",
            " 10  host_name                                     18883 non-null  object \n",
            " 11  host_since                                    18883 non-null  object \n",
            " 12  host_location                                 18841 non-null  object \n",
            " 13  host_about                                    9427 non-null   object \n",
            " 14  host_response_time                            11972 non-null  object \n",
            " 15  host_response_rate                            11972 non-null  object \n",
            " 16  host_acceptance_rate                          11531 non-null  object \n",
            " 17  host_is_superhost                             18883 non-null  object \n",
            " 18  host_thumbnail_url                            18883 non-null  object \n",
            " 19  host_picture_url                              18883 non-null  object \n",
            " 20  host_neighbourhood                            12034 non-null  object \n",
            " 21  host_listings_count                           18883 non-null  float64\n",
            " 22  host_total_listings_count                     18883 non-null  float64\n",
            " 23  host_verifications                            18909 non-null  object \n",
            " 24  host_has_profile_pic                          18883 non-null  object \n",
            " 25  host_identity_verified                        18883 non-null  object \n",
            " 26  neighbourhood                                 10997 non-null  object \n",
            " 27  neighbourhood_cleansed                        18909 non-null  object \n",
            " 28  neighbourhood_group_cleansed                  18909 non-null  object \n",
            " 29  latitude                                      18909 non-null  float64\n",
            " 30  longitude                                     18909 non-null  float64\n",
            " 31  property_type                                 18909 non-null  object \n",
            " 32  room_type                                     18909 non-null  object \n",
            " 33  accommodates                                  18909 non-null  int64  \n",
            " 34  bathrooms                                     0 non-null      float64\n",
            " 35  bathrooms_text                                18884 non-null  object \n",
            " 36  bedrooms                                      17475 non-null  float64\n",
            " 37  beds                                          18568 non-null  float64\n",
            " 38  amenities                                     18909 non-null  object \n",
            " 39  price                                         18909 non-null  object \n",
            " 40  minimum_nights                                18909 non-null  int64  \n",
            " 41  maximum_nights                                18909 non-null  int64  \n",
            " 42  minimum_minimum_nights                        18908 non-null  float64\n",
            " 43  maximum_minimum_nights                        18908 non-null  float64\n",
            " 44  minimum_maximum_nights                        18908 non-null  float64\n",
            " 45  maximum_maximum_nights                        18908 non-null  float64\n",
            " 46  minimum_nights_avg_ntm                        18908 non-null  float64\n",
            " 47  maximum_nights_avg_ntm                        18908 non-null  float64\n",
            " 48  calendar_updated                              0 non-null      float64\n",
            " 49  has_availability                              18909 non-null  object \n",
            " 50  availability_30                               18909 non-null  int64  \n",
            " 51  availability_60                               18909 non-null  int64  \n",
            " 52  availability_90                               18909 non-null  int64  \n",
            " 53  availability_365                              18909 non-null  int64  \n",
            " 54  calendar_last_scraped                         18909 non-null  object \n",
            " 55  number_of_reviews                             18909 non-null  int64  \n",
            " 56  number_of_reviews_ltm                         18909 non-null  int64  \n",
            " 57  number_of_reviews_l30d                        18909 non-null  int64  \n",
            " 58  first_review                                  13877 non-null  object \n",
            " 59  last_review                                   13877 non-null  object \n",
            " 60  review_scores_rating                          13877 non-null  float64\n",
            " 61  review_scores_accuracy                        13638 non-null  float64\n",
            " 62  review_scores_cleanliness                     13640 non-null  float64\n",
            " 63  review_scores_checkin                         13640 non-null  float64\n",
            " 64  review_scores_communication                   13640 non-null  float64\n",
            " 65  review_scores_location                        13637 non-null  float64\n",
            " 66  review_scores_value                           13636 non-null  float64\n",
            " 67  license                                       2828 non-null   object \n",
            " 68  instant_bookable                              18909 non-null  object \n",
            " 69  calculated_host_listings_count                18909 non-null  int64  \n",
            " 70  calculated_host_listings_count_entire_homes   18909 non-null  int64  \n",
            " 71  calculated_host_listings_count_private_rooms  18909 non-null  int64  \n",
            " 72  calculated_host_listings_count_shared_rooms   18909 non-null  int64  \n",
            " 73  reviews_per_month                             13877 non-null  float64\n",
            "dtypes: float64(22), int64(17), object(35)\n",
            "memory usage: 10.7+ MB\n"
          ]
        }
      ],
      "source": [
        "# Look at the dataset: 18,909 listings with 74 features\n",
        "listings = pd.read_csv('listings.csv')\n",
        "listings.info()"
      ]
    },
    {
      "cell_type": "markdown",
      "id": "324e15eb",
      "metadata": {
        "pycharm": {
          "name": "#%% md\n"
        },
        "id": "324e15eb"
      },
      "source": [
        "### 2.2 Data subset ###\n",
        "* Get rid of listings without a verified host:"
      ]
    },
    {
      "cell_type": "code",
      "execution_count": null,
      "id": "34093a78",
      "metadata": {
        "scrolled": true,
        "pycharm": {
          "name": "#%%\n"
        },
        "colab": {
          "base_uri": "https://localhost:8080/"
        },
        "id": "34093a78",
        "outputId": "d47dcb6d-223a-4149-9ed4-7cb3234965ae"
      },
      "outputs": [
        {
          "output_type": "execute_result",
          "data": {
            "text/plain": [
              "t    13818\n",
              "Name: host_identity_verified, dtype: int64"
            ]
          },
          "metadata": {},
          "execution_count": 3
        }
      ],
      "source": [
        "# Keep listings with verified host identity (13,818 out of 18,883)\n",
        "listings_ver = listings.copy()[listings.host_identity_verified=='t']\n",
        "listings_ver.host_identity_verified.value_counts()"
      ]
    },
    {
      "cell_type": "markdown",
      "id": "b260328b",
      "metadata": {
        "pycharm": {
          "name": "#%% md\n"
        },
        "id": "b260328b"
      },
      "source": [
        "* Continue with the following columns:"
      ]
    },
    {
      "cell_type": "code",
      "execution_count": null,
      "id": "e9fb5fbb",
      "metadata": {
        "pycharm": {
          "name": "#%%\n"
        },
        "id": "e9fb5fbb"
      },
      "outputs": [],
      "source": [
        "columns = [\n",
        "           'accommodates', \n",
        "           'calculated_host_listings_count', \n",
        "           'neighbourhood_group_cleansed',\n",
        "           'room_type', \n",
        "           'price'\n",
        "          ]"
      ]
    },
    {
      "cell_type": "code",
      "execution_count": null,
      "id": "9ebd8744",
      "metadata": {
        "pycharm": {
          "name": "#%%\n"
        },
        "id": "9ebd8744"
      },
      "outputs": [],
      "source": [
        "df = listings_ver.copy()[columns]"
      ]
    },
    {
      "cell_type": "markdown",
      "id": "59d8b708",
      "metadata": {
        "scrolled": true,
        "pycharm": {
          "name": "#%% md\n"
        },
        "id": "59d8b708"
      },
      "source": [
        "#### Features ####\n",
        "* **'accommodates':** the maximum capacity of the listing.\n",
        "* **'calculated_host_listings_count':** the total count of host's listings (all four types of places).\n",
        "* **'neighbourhood_group_cleansed':** compiled by comparing the listing's geographic coordinates ('latitude' & 'longitude') with a city's definition of neighbourhoods. \n",
        "* **'room_type':** hosts offer four types of places: 'Entire home/apt', 'Private room', 'Shared room', and Hotel room."
      ]
    },
    {
      "cell_type": "markdown",
      "id": "b22c9b91",
      "metadata": {
        "pycharm": {
          "name": "#%% md\n"
        },
        "id": "b22c9b91"
      },
      "source": [
        "### 2.3 Variable data types ###"
      ]
    },
    {
      "cell_type": "code",
      "execution_count": null,
      "id": "f790d1a5",
      "metadata": {
        "scrolled": true,
        "pycharm": {
          "name": "#%%\n"
        },
        "colab": {
          "base_uri": "https://localhost:8080/"
        },
        "id": "f790d1a5",
        "outputId": "ccda8c81-69de-4e88-cf2b-b72c0dc5744b"
      },
      "outputs": [
        {
          "output_type": "execute_result",
          "data": {
            "text/plain": [
              "accommodates                       int64\n",
              "calculated_host_listings_count     int64\n",
              "neighbourhood_group_cleansed      object\n",
              "room_type                         object\n",
              "price                             object\n",
              "dtype: object"
            ]
          },
          "metadata": {},
          "execution_count": 6
        }
      ],
      "source": [
        "df.dtypes"
      ]
    },
    {
      "cell_type": "markdown",
      "id": "36370b85",
      "metadata": {
        "pycharm": {
          "name": "#%% md\n"
        },
        "id": "36370b85"
      },
      "source": [
        "### 2.3.1 Numerical variables ###\n",
        "**'price':** \n",
        "* Note: although price values appear with a dollar sign, they reflect the price in local currency (EUR)"
      ]
    },
    {
      "cell_type": "markdown",
      "id": "676eed1a",
      "metadata": {
        "pycharm": {
          "name": "#%% md\n"
        },
        "id": "676eed1a"
      },
      "source": [
        "* Remove listings without a price (only six listings):"
      ]
    },
    {
      "cell_type": "code",
      "execution_count": null,
      "id": "bb1f8a7f",
      "metadata": {
        "pycharm": {
          "name": "#%%\n"
        },
        "id": "bb1f8a7f"
      },
      "outputs": [],
      "source": [
        "df = df[df.price!='$0.00']"
      ]
    },
    {
      "cell_type": "markdown",
      "id": "6834d0b1",
      "metadata": {
        "pycharm": {
          "name": "#%% md\n"
        },
        "id": "6834d0b1"
      },
      "source": [
        "* Change Dtype to integer:"
      ]
    },
    {
      "cell_type": "code",
      "execution_count": null,
      "id": "68965731",
      "metadata": {
        "pycharm": {
          "name": "#%%\n"
        },
        "id": "68965731"
      },
      "outputs": [],
      "source": [
        "df['price'] = df['price'].str.lstrip('$').str.replace(',', '').str.rstrip('.00')\n",
        "df['price'] = df['price'].astype('int64')"
      ]
    },
    {
      "cell_type": "markdown",
      "id": "7b82cef1",
      "metadata": {
        "pycharm": {
          "name": "#%% md\n"
        },
        "id": "7b82cef1"
      },
      "source": [
        "* Keep listings with prices between 10 and 400:"
      ]
    },
    {
      "cell_type": "code",
      "execution_count": null,
      "id": "7e866ce8",
      "metadata": {
        "pycharm": {
          "name": "#%%\n"
        },
        "id": "7e866ce8"
      },
      "outputs": [],
      "source": [
        "df = df[(df.price>=10) & (df.price<=400)]"
      ]
    },
    {
      "cell_type": "markdown",
      "id": "1e3ae220",
      "metadata": {
        "pycharm": {
          "name": "#%% md\n"
        },
        "id": "1e3ae220"
      },
      "source": [
        "* Log transform prices:"
      ]
    },
    {
      "cell_type": "code",
      "execution_count": null,
      "id": "e413c8c7",
      "metadata": {
        "pycharm": {
          "name": "#%%\n"
        },
        "id": "e413c8c7"
      },
      "outputs": [],
      "source": [
        "df['price'] = np.log1p(df['price'])"
      ]
    },
    {
      "cell_type": "markdown",
      "id": "3c16477f",
      "metadata": {
        "pycharm": {
          "name": "#%% md\n"
        },
        "id": "3c16477f"
      },
      "source": [
        "### 2.4 Split the dataset into train and test subsets   ###"
      ]
    },
    {
      "cell_type": "code",
      "execution_count": null,
      "id": "81dad0b7",
      "metadata": {
        "pycharm": {
          "name": "#%%\n"
        },
        "colab": {
          "base_uri": "https://localhost:8080/"
        },
        "id": "81dad0b7",
        "outputId": "31e8508a-57fe-4e89-e9bf-6db8c6a22f4a"
      },
      "outputs": [
        {
          "output_type": "execute_result",
          "data": {
            "text/plain": [
              "(11051, 5)"
            ]
          },
          "metadata": {},
          "execution_count": 13
        }
      ],
      "source": [
        "df.shape"
      ]
    },
    {
      "cell_type": "code",
      "execution_count": null,
      "id": "d587030b",
      "metadata": {
        "pycharm": {
          "name": "#%%\n"
        },
        "id": "d587030b"
      },
      "outputs": [],
      "source": [
        "from sklearn.model_selection import train_test_split"
      ]
    },
    {
      "cell_type": "code",
      "execution_count": null,
      "id": "553f30d6",
      "metadata": {
        "pycharm": {
          "name": "#%%\n"
        },
        "id": "553f30d6"
      },
      "outputs": [],
      "source": [
        "df_train, df_test = train_test_split(df, test_size=0.2, random_state=42)"
      ]
    },
    {
      "cell_type": "code",
      "execution_count": null,
      "id": "8d1bb17b",
      "metadata": {
        "pycharm": {
          "name": "#%%\n"
        },
        "colab": {
          "base_uri": "https://localhost:8080/"
        },
        "id": "8d1bb17b",
        "outputId": "fdddaefe-ae01-43d2-8bb2-a0e67d5a6c5c"
      },
      "outputs": [
        {
          "output_type": "execute_result",
          "data": {
            "text/plain": [
              "((8840, 5), (2211, 5))"
            ]
          },
          "metadata": {},
          "execution_count": 16
        }
      ],
      "source": [
        "# Check size of dataframes\n",
        "df_train.shape, df_test.shape"
      ]
    },
    {
      "cell_type": "code",
      "execution_count": null,
      "id": "feff9c29",
      "metadata": {
        "pycharm": {
          "name": "#%%\n"
        },
        "id": "feff9c29"
      },
      "outputs": [],
      "source": [
        "# Assign 'price' as the target variable\n",
        "y_train = df_train.price.values\n",
        "y_test = df_test.price.values"
      ]
    },
    {
      "cell_type": "code",
      "execution_count": null,
      "id": "92c39fde",
      "metadata": {
        "pycharm": {
          "name": "#%%\n"
        },
        "colab": {
          "base_uri": "https://localhost:8080/"
        },
        "id": "92c39fde",
        "outputId": "6bef4da3-490a-46c2-e838-00c29a367993"
      },
      "outputs": [
        {
          "output_type": "execute_result",
          "data": {
            "text/plain": [
              "((8840,), (2211,))"
            ]
          },
          "metadata": {},
          "execution_count": 18
        }
      ],
      "source": [
        "# Check size of arrays\n",
        "y_train.shape, y_test.shape"
      ]
    },
    {
      "cell_type": "code",
      "execution_count": null,
      "id": "d50b53b3",
      "metadata": {
        "pycharm": {
          "name": "#%%\n"
        },
        "id": "d50b53b3"
      },
      "outputs": [],
      "source": [
        "# Remove 'price' column from dataframes\n",
        "del df_train['price']\n",
        "del df_test['price']"
      ]
    },
    {
      "cell_type": "code",
      "execution_count": null,
      "id": "5f27ab52",
      "metadata": {
        "pycharm": {
          "name": "#%%\n"
        },
        "colab": {
          "base_uri": "https://localhost:8080/"
        },
        "id": "5f27ab52",
        "outputId": "ae7c6017-ea4d-4e65-b918-38f33747f96f"
      },
      "outputs": [
        {
          "output_type": "execute_result",
          "data": {
            "text/plain": [
              "((8840, 4), (2211, 4))"
            ]
          },
          "metadata": {},
          "execution_count": 20
        }
      ],
      "source": [
        "# Check size of dataframes\n",
        "df_train.shape, df_test.shape"
      ]
    },
    {
      "cell_type": "markdown",
      "id": "ea0bd074",
      "metadata": {
        "pycharm": {
          "name": "#%% md\n"
        },
        "id": "ea0bd074"
      },
      "source": [
        "### 2.5 One-hot encoding of categorical variables  ###\n",
        "* **'neighbourhood_group_cleansed'** "
      ]
    },
    {
      "cell_type": "code",
      "execution_count": null,
      "id": "e375fced",
      "metadata": {
        "pycharm": {
          "name": "#%%\n"
        },
        "colab": {
          "base_uri": "https://localhost:8080/"
        },
        "id": "e375fced",
        "outputId": "95a70697-0657-4260-c988-0342ff131c53"
      },
      "outputs": [
        {
          "output_type": "execute_result",
          "data": {
            "text/plain": [
              "21"
            ]
          },
          "metadata": {},
          "execution_count": 21
        }
      ],
      "source": [
        "# All 21 groups are represented in the 'train' dataset\n",
        "df_train.neighbourhood_group_cleansed.nunique()"
      ]
    },
    {
      "cell_type": "markdown",
      "id": "e5968b8b",
      "metadata": {
        "pycharm": {
          "name": "#%% md\n"
        },
        "id": "e5968b8b"
      },
      "source": [
        "* **'room_type':** "
      ]
    },
    {
      "cell_type": "code",
      "execution_count": null,
      "id": "73f09ffc",
      "metadata": {
        "pycharm": {
          "name": "#%%\n"
        },
        "colab": {
          "base_uri": "https://localhost:8080/"
        },
        "id": "73f09ffc",
        "outputId": "a5e062af-35d3-44dd-eb33-d8431f013c31"
      },
      "outputs": [
        {
          "output_type": "execute_result",
          "data": {
            "text/plain": [
              "4"
            ]
          },
          "metadata": {},
          "execution_count": 22
        }
      ],
      "source": [
        "# All four types are represented in the 'train' dataset\n",
        "df_train.room_type.nunique()"
      ]
    },
    {
      "cell_type": "markdown",
      "id": "0b62693e",
      "metadata": {
        "pycharm": {
          "name": "#%% md\n"
        },
        "id": "0b62693e"
      },
      "source": [
        "* **Use *DictVectorizer* to generate the feature matrix:**"
      ]
    },
    {
      "cell_type": "code",
      "execution_count": null,
      "id": "42ef46c2",
      "metadata": {
        "pycharm": {
          "name": "#%%\n"
        },
        "id": "42ef46c2"
      },
      "outputs": [],
      "source": [
        "from sklearn.feature_extraction import DictVectorizer"
      ]
    },
    {
      "cell_type": "code",
      "execution_count": null,
      "id": "3edbcfa9",
      "metadata": {
        "pycharm": {
          "name": "#%%\n"
        },
        "id": "3edbcfa9"
      },
      "outputs": [],
      "source": [
        "# Convert dataframes into lists of dictionaries\n",
        "train_dict = df_train.to_dict(orient='records')\n",
        "test_dict = df_test.to_dict(orient='records')"
      ]
    },
    {
      "cell_type": "code",
      "execution_count": null,
      "id": "96ea8b7f",
      "metadata": {
        "pycharm": {
          "name": "#%%\n"
        },
        "id": "96ea8b7f"
      },
      "outputs": [],
      "source": [
        "dv = DictVectorizer(sparse=False)"
      ]
    },
    {
      "cell_type": "code",
      "execution_count": null,
      "id": "d05a51e0",
      "metadata": {
        "pycharm": {
          "name": "#%%\n"
        },
        "id": "d05a51e0"
      },
      "outputs": [],
      "source": [
        "X_train = dv.fit_transform(train_dict)\n",
        "X_test = dv.transform(test_dict)"
      ]
    },
    {
      "cell_type": "code",
      "execution_count": null,
      "id": "50c39aff",
      "metadata": {
        "scrolled": true,
        "pycharm": {
          "name": "#%%\n"
        },
        "colab": {
          "base_uri": "https://localhost:8080/"
        },
        "id": "50c39aff",
        "outputId": "8cb1db3d-6b4f-4449-99be-1685c72e2f32"
      },
      "outputs": [
        {
          "output_type": "stream",
          "name": "stderr",
          "text": [
            "/usr/local/lib/python3.7/dist-packages/sklearn/utils/deprecation.py:87: FutureWarning: Function get_feature_names is deprecated; get_feature_names is deprecated in 1.0 and will be removed in 1.2. Please use get_feature_names_out instead.\n",
            "  warnings.warn(msg, category=FutureWarning)\n"
          ]
        },
        {
          "output_type": "execute_result",
          "data": {
            "text/plain": [
              "['accommodates',\n",
              " 'calculated_host_listings_count',\n",
              " 'neighbourhood_group_cleansed=Arganzuela',\n",
              " 'neighbourhood_group_cleansed=Barajas',\n",
              " 'neighbourhood_group_cleansed=Carabanchel',\n",
              " 'neighbourhood_group_cleansed=Centro',\n",
              " 'neighbourhood_group_cleansed=Chamartín',\n",
              " 'neighbourhood_group_cleansed=Chamberí',\n",
              " 'neighbourhood_group_cleansed=Ciudad Lineal',\n",
              " 'neighbourhood_group_cleansed=Fuencarral - El Pardo',\n",
              " 'neighbourhood_group_cleansed=Hortaleza',\n",
              " 'neighbourhood_group_cleansed=Latina',\n",
              " 'neighbourhood_group_cleansed=Moncloa - Aravaca',\n",
              " 'neighbourhood_group_cleansed=Moratalaz',\n",
              " 'neighbourhood_group_cleansed=Puente de Vallecas',\n",
              " 'neighbourhood_group_cleansed=Retiro',\n",
              " 'neighbourhood_group_cleansed=Salamanca',\n",
              " 'neighbourhood_group_cleansed=San Blas - Canillejas',\n",
              " 'neighbourhood_group_cleansed=Tetuán',\n",
              " 'neighbourhood_group_cleansed=Usera',\n",
              " 'neighbourhood_group_cleansed=Vicálvaro',\n",
              " 'neighbourhood_group_cleansed=Villa de Vallecas',\n",
              " 'neighbourhood_group_cleansed=Villaverde',\n",
              " 'room_type=Entire home/apt',\n",
              " 'room_type=Hotel room',\n",
              " 'room_type=Private room',\n",
              " 'room_type=Shared room']"
            ]
          },
          "metadata": {},
          "execution_count": 27
        }
      ],
      "source": [
        "# We now have 27 features:\n",
        "dv.get_feature_names()"
      ]
    },
    {
      "cell_type": "markdown",
      "id": "51f53bd6",
      "metadata": {
        "pycharm": {
          "name": "#%% md\n"
        },
        "id": "51f53bd6"
      },
      "source": [
        "### 2.6 Train a Decision Tree regression model ###"
      ]
    },
    {
      "cell_type": "code",
      "execution_count": null,
      "id": "5cb8a70e",
      "metadata": {
        "pycharm": {
          "name": "#%%\n"
        },
        "id": "5cb8a70e"
      },
      "outputs": [],
      "source": [
        "from sklearn.tree import DecisionTreeRegressor"
      ]
    },
    {
      "cell_type": "code",
      "execution_count": null,
      "id": "dc550bc6",
      "metadata": {
        "pycharm": {
          "name": "#%%\n"
        },
        "id": "dc550bc6"
      },
      "outputs": [],
      "source": [
        "dtr = DecisionTreeRegressor(max_depth=5)"
      ]
    },
    {
      "cell_type": "code",
      "execution_count": null,
      "id": "c25a3b97",
      "metadata": {
        "pycharm": {
          "name": "#%%\n"
        },
        "colab": {
          "base_uri": "https://localhost:8080/"
        },
        "id": "c25a3b97",
        "outputId": "62f6984c-8c8f-4620-d9de-9730fe603665"
      },
      "outputs": [
        {
          "output_type": "execute_result",
          "data": {
            "text/plain": [
              "{'ccp_alpha': 0.0,\n",
              " 'criterion': 'squared_error',\n",
              " 'max_depth': 5,\n",
              " 'max_features': None,\n",
              " 'max_leaf_nodes': None,\n",
              " 'min_impurity_decrease': 0.0,\n",
              " 'min_samples_leaf': 1,\n",
              " 'min_samples_split': 2,\n",
              " 'min_weight_fraction_leaf': 0.0,\n",
              " 'random_state': None,\n",
              " 'splitter': 'best'}"
            ]
          },
          "metadata": {},
          "execution_count": 30
        }
      ],
      "source": [
        "dtr.get_params()"
      ]
    },
    {
      "cell_type": "code",
      "execution_count": null,
      "id": "797e91fc",
      "metadata": {
        "pycharm": {
          "name": "#%%\n"
        },
        "colab": {
          "base_uri": "https://localhost:8080/"
        },
        "id": "797e91fc",
        "outputId": "3e80951b-d504-4d9b-8645-c471b6d5bd46"
      },
      "outputs": [
        {
          "output_type": "execute_result",
          "data": {
            "text/plain": [
              "DecisionTreeRegressor(max_depth=5)"
            ]
          },
          "metadata": {},
          "execution_count": 31
        }
      ],
      "source": [
        "dtr.fit(X_train, y_train)"
      ]
    },
    {
      "cell_type": "markdown",
      "id": "051cd1d2",
      "metadata": {
        "pycharm": {
          "name": "#%% md\n"
        },
        "id": "051cd1d2"
      },
      "source": [
        "### 2.7 Use the model ###"
      ]
    },
    {
      "cell_type": "code",
      "execution_count": null,
      "id": "e4ae24ca",
      "metadata": {
        "pycharm": {
          "name": "#%%\n"
        },
        "id": "e4ae24ca"
      },
      "outputs": [],
      "source": [
        "from sklearn.metrics import mean_squared_error as mse"
      ]
    },
    {
      "cell_type": "code",
      "execution_count": null,
      "id": "94124cc0",
      "metadata": {
        "pycharm": {
          "name": "#%%\n"
        },
        "id": "94124cc0"
      },
      "outputs": [],
      "source": [
        "y_test_pred = dtr.predict(X_test)"
      ]
    },
    {
      "cell_type": "code",
      "execution_count": null,
      "id": "5a919154",
      "metadata": {
        "pycharm": {
          "name": "#%%\n"
        },
        "colab": {
          "base_uri": "https://localhost:8080/"
        },
        "id": "5a919154",
        "outputId": "ddadf774-1f7c-4e76-bf61-ba8d46d0920a"
      },
      "outputs": [
        {
          "output_type": "execute_result",
          "data": {
            "text/plain": [
              "0.582"
            ]
          },
          "metadata": {},
          "execution_count": 34
        }
      ],
      "source": [
        "test_mse = mse(y_test, y_test_pred)\n",
        "test_rmse = np.sqrt(test_mse)\n",
        "test_rmse.round(3)"
      ]
    },
    {
      "cell_type": "code",
      "execution_count": null,
      "id": "e67c0fb7",
      "metadata": {
        "pycharm": {
          "name": "#%%\n"
        },
        "colab": {
          "base_uri": "https://localhost:8080/",
          "height": 265
        },
        "id": "e67c0fb7",
        "outputId": "eeed076c-83dc-4ba9-e710-551179f6e28e"
      },
      "outputs": [
        {
          "output_type": "display_data",
          "data": {
            "text/plain": [
              "<Figure size 432x288 with 1 Axes>"
            ],
            "image/png": "[encoded data removed]"
          },
          "metadata": {
            "needs_background": "light"
          }
        }
      ],
      "source": [
        "sns.histplot(y_test_pred, label='prediction', color='red')\n",
        "sns.histplot(y_test, label='target', color='gray')\n",
        "plt.legend();"
      ]
    },
    {
      "cell_type": "markdown",
      "id": "e3223a74",
      "metadata": {
        "pycharm": {
          "name": "#%% md\n"
        },
        "id": "e3223a74"
      },
      "source": [
        "### 2.7 Tune the model ###\n",
        "Find the best values for the following parameters:\n",
        "* **Maximum depth of the tree**\n",
        "* **Minimum number of samples required to be at a leaf node**"
      ]
    },
    {
      "cell_type": "code",
      "execution_count": null,
      "id": "bb994bf3",
      "metadata": {
        "pycharm": {
          "name": "#%%\n"
        },
        "colab": {
          "base_uri": "https://localhost:8080/"
        },
        "id": "bb994bf3",
        "outputId": "0efdad98-015e-4319-b2c2-d12acdc19178"
      },
      "outputs": [
        {
          "output_type": "stream",
          "name": "stdout",
          "text": [
            "max_depth=1\n",
            "***************\n",
            "min_samples_leaf=1\n",
            "train_rmse 0.620\n",
            "test_rmse 0.620\n",
            "min_samples_leaf=5\n",
            "train_rmse 0.620\n",
            "test_rmse 0.620\n",
            "min_samples_leaf=10\n",
            "train_rmse 0.620\n",
            "test_rmse 0.620\n",
            "min_samples_leaf=15\n",
            "train_rmse 0.620\n",
            "test_rmse 0.620\n",
            "min_samples_leaf=20\n",
            "train_rmse 0.620\n",
            "test_rmse 0.620\n",
            "min_samples_leaf=25\n",
            "train_rmse 0.620\n",
            "test_rmse 0.620\n",
            "min_samples_leaf=50\n",
            "train_rmse 0.620\n",
            "test_rmse 0.620\n",
            "min_samples_leaf=75\n",
            "train_rmse 0.620\n",
            "test_rmse 0.620\n",
            "min_samples_leaf=100\n",
            "train_rmse 0.620\n",
            "test_rmse 0.620\n",
            "min_samples_leaf=200\n",
            "train_rmse 0.620\n",
            "test_rmse 0.620\n",
            "min_samples_leaf=300\n",
            "train_rmse 0.620\n",
            "test_rmse 0.620\n",
            "min_samples_leaf=400\n",
            "train_rmse 0.620\n",
            "test_rmse 0.620\n",
            "min_samples_leaf=500\n",
            "train_rmse 0.620\n",
            "test_rmse 0.620\n",
            "--------------------\n",
            "max_depth=2\n",
            "***************\n",
            "min_samples_leaf=1\n",
            "train_rmse 0.599\n",
            "test_rmse 0.602\n",
            "min_samples_leaf=5\n",
            "train_rmse 0.599\n",
            "test_rmse 0.602\n",
            "min_samples_leaf=10\n",
            "train_rmse 0.599\n",
            "test_rmse 0.602\n",
            "min_samples_leaf=15\n",
            "train_rmse 0.599\n",
            "test_rmse 0.602\n",
            "min_samples_leaf=20\n",
            "train_rmse 0.599\n",
            "test_rmse 0.602\n",
            "min_samples_leaf=25\n",
            "train_rmse 0.599\n",
            "test_rmse 0.602\n",
            "min_samples_leaf=50\n",
            "train_rmse 0.599\n",
            "test_rmse 0.602\n",
            "min_samples_leaf=75\n",
            "train_rmse 0.599\n",
            "test_rmse 0.602\n",
            "min_samples_leaf=100\n",
            "train_rmse 0.599\n",
            "test_rmse 0.602\n",
            "min_samples_leaf=200\n",
            "train_rmse 0.599\n",
            "test_rmse 0.602\n",
            "min_samples_leaf=300\n",
            "train_rmse 0.599\n",
            "test_rmse 0.602\n",
            "min_samples_leaf=400\n",
            "train_rmse 0.599\n",
            "test_rmse 0.602\n",
            "min_samples_leaf=500\n",
            "train_rmse 0.599\n",
            "test_rmse 0.602\n",
            "--------------------\n",
            "max_depth=3\n",
            "***************\n",
            "min_samples_leaf=1\n",
            "train_rmse 0.589\n",
            "test_rmse 0.593\n",
            "min_samples_leaf=5\n",
            "train_rmse 0.589\n",
            "test_rmse 0.593\n",
            "min_samples_leaf=10\n",
            "train_rmse 0.589\n",
            "test_rmse 0.593\n",
            "min_samples_leaf=15\n",
            "train_rmse 0.589\n",
            "test_rmse 0.593\n",
            "min_samples_leaf=20\n",
            "train_rmse 0.589\n",
            "test_rmse 0.593\n",
            "min_samples_leaf=25\n",
            "train_rmse 0.589\n",
            "test_rmse 0.593\n",
            "min_samples_leaf=50\n",
            "train_rmse 0.589\n",
            "test_rmse 0.593\n",
            "min_samples_leaf=75\n",
            "train_rmse 0.591\n",
            "test_rmse 0.597\n",
            "min_samples_leaf=100\n",
            "train_rmse 0.591\n",
            "test_rmse 0.597\n",
            "min_samples_leaf=200\n",
            "train_rmse 0.591\n",
            "test_rmse 0.594\n",
            "min_samples_leaf=300\n",
            "train_rmse 0.591\n",
            "test_rmse 0.594\n",
            "min_samples_leaf=400\n",
            "train_rmse 0.592\n",
            "test_rmse 0.595\n",
            "min_samples_leaf=500\n",
            "train_rmse 0.592\n",
            "test_rmse 0.594\n",
            "--------------------\n",
            "max_depth=4\n",
            "***************\n",
            "min_samples_leaf=1\n",
            "train_rmse 0.581\n",
            "test_rmse 0.590\n",
            "min_samples_leaf=5\n",
            "train_rmse 0.582\n",
            "test_rmse 0.589\n",
            "min_samples_leaf=10\n",
            "train_rmse 0.582\n",
            "test_rmse 0.589\n",
            "min_samples_leaf=15\n",
            "train_rmse 0.582\n",
            "test_rmse 0.589\n",
            "min_samples_leaf=20\n",
            "train_rmse 0.582\n",
            "test_rmse 0.589\n",
            "min_samples_leaf=25\n",
            "train_rmse 0.583\n",
            "test_rmse 0.589\n",
            "min_samples_leaf=50\n",
            "train_rmse 0.583\n",
            "test_rmse 0.587\n",
            "min_samples_leaf=75\n",
            "train_rmse 0.585\n",
            "test_rmse 0.592\n",
            "min_samples_leaf=100\n",
            "train_rmse 0.585\n",
            "test_rmse 0.592\n",
            "min_samples_leaf=200\n",
            "train_rmse 0.586\n",
            "test_rmse 0.590\n",
            "min_samples_leaf=300\n",
            "train_rmse 0.587\n",
            "test_rmse 0.589\n",
            "min_samples_leaf=400\n",
            "train_rmse 0.589\n",
            "test_rmse 0.590\n",
            "min_samples_leaf=500\n",
            "train_rmse 0.589\n",
            "test_rmse 0.590\n",
            "--------------------\n",
            "max_depth=5\n",
            "***************\n",
            "min_samples_leaf=1\n",
            "train_rmse 0.575\n",
            "test_rmse 0.582\n",
            "min_samples_leaf=5\n",
            "train_rmse 0.575\n",
            "test_rmse 0.582\n",
            "min_samples_leaf=10\n",
            "train_rmse 0.576\n",
            "test_rmse 0.582\n",
            "min_samples_leaf=15\n",
            "train_rmse 0.576\n",
            "test_rmse 0.580\n",
            "min_samples_leaf=20\n",
            "train_rmse 0.576\n",
            "test_rmse 0.581\n",
            "min_samples_leaf=25\n",
            "train_rmse 0.577\n",
            "test_rmse 0.582\n",
            "min_samples_leaf=50\n",
            "train_rmse 0.578\n",
            "test_rmse 0.582\n",
            "min_samples_leaf=75\n",
            "train_rmse 0.576\n",
            "test_rmse 0.583\n",
            "min_samples_leaf=100\n",
            "train_rmse 0.577\n",
            "test_rmse 0.584\n",
            "min_samples_leaf=200\n",
            "train_rmse 0.584\n",
            "test_rmse 0.587\n",
            "min_samples_leaf=300\n",
            "train_rmse 0.584\n",
            "test_rmse 0.587\n",
            "min_samples_leaf=400\n",
            "train_rmse 0.587\n",
            "test_rmse 0.588\n",
            "min_samples_leaf=500\n",
            "train_rmse 0.587\n",
            "test_rmse 0.587\n",
            "--------------------\n",
            "max_depth=6\n",
            "***************\n",
            "min_samples_leaf=1\n",
            "train_rmse 0.568\n",
            "test_rmse 0.578\n",
            "min_samples_leaf=5\n",
            "train_rmse 0.569\n",
            "test_rmse 0.578\n",
            "min_samples_leaf=10\n",
            "train_rmse 0.570\n",
            "test_rmse 0.577\n",
            "min_samples_leaf=15\n",
            "train_rmse 0.569\n",
            "test_rmse 0.577\n",
            "min_samples_leaf=20\n",
            "train_rmse 0.570\n",
            "test_rmse 0.577\n",
            "min_samples_leaf=25\n",
            "train_rmse 0.572\n",
            "test_rmse 0.578\n",
            "min_samples_leaf=50\n",
            "train_rmse 0.572\n",
            "test_rmse 0.576\n",
            "min_samples_leaf=75\n",
            "train_rmse 0.574\n",
            "test_rmse 0.580\n",
            "min_samples_leaf=100\n",
            "train_rmse 0.575\n",
            "test_rmse 0.581\n",
            "min_samples_leaf=200\n",
            "train_rmse 0.583\n",
            "test_rmse 0.586\n",
            "min_samples_leaf=300\n",
            "train_rmse 0.584\n",
            "test_rmse 0.587\n",
            "min_samples_leaf=400\n",
            "train_rmse 0.587\n",
            "test_rmse 0.588\n",
            "min_samples_leaf=500\n",
            "train_rmse 0.587\n",
            "test_rmse 0.587\n",
            "--------------------\n",
            "max_depth=7\n",
            "***************\n",
            "min_samples_leaf=1\n",
            "train_rmse 0.560\n",
            "test_rmse 0.580\n",
            "min_samples_leaf=5\n",
            "train_rmse 0.562\n",
            "test_rmse 0.577\n",
            "min_samples_leaf=10\n",
            "train_rmse 0.564\n",
            "test_rmse 0.578\n",
            "min_samples_leaf=15\n",
            "train_rmse 0.565\n",
            "test_rmse 0.576\n",
            "min_samples_leaf=20\n",
            "train_rmse 0.566\n",
            "test_rmse 0.577\n",
            "min_samples_leaf=25\n",
            "train_rmse 0.568\n",
            "test_rmse 0.577\n",
            "min_samples_leaf=50\n",
            "train_rmse 0.571\n",
            "test_rmse 0.577\n",
            "min_samples_leaf=75\n",
            "train_rmse 0.573\n",
            "test_rmse 0.580\n",
            "min_samples_leaf=100\n",
            "train_rmse 0.574\n",
            "test_rmse 0.581\n",
            "min_samples_leaf=200\n",
            "train_rmse 0.583\n",
            "test_rmse 0.586\n",
            "min_samples_leaf=300\n",
            "train_rmse 0.584\n",
            "test_rmse 0.587\n",
            "min_samples_leaf=400\n",
            "train_rmse 0.587\n",
            "test_rmse 0.588\n",
            "min_samples_leaf=500\n",
            "train_rmse 0.587\n",
            "test_rmse 0.587\n",
            "--------------------\n",
            "max_depth=8\n",
            "***************\n",
            "min_samples_leaf=1\n",
            "train_rmse 0.549\n",
            "test_rmse 0.579\n",
            "min_samples_leaf=5\n",
            "train_rmse 0.553\n",
            "test_rmse 0.571\n",
            "min_samples_leaf=10\n",
            "train_rmse 0.558\n",
            "test_rmse 0.575\n",
            "min_samples_leaf=15\n",
            "train_rmse 0.559\n",
            "test_rmse 0.575\n",
            "min_samples_leaf=20\n",
            "train_rmse 0.561\n",
            "test_rmse 0.575\n",
            "min_samples_leaf=25\n",
            "train_rmse 0.563\n",
            "test_rmse 0.575\n",
            "min_samples_leaf=50\n",
            "train_rmse 0.569\n",
            "test_rmse 0.577\n",
            "min_samples_leaf=75\n",
            "train_rmse 0.572\n",
            "test_rmse 0.581\n",
            "min_samples_leaf=100\n",
            "train_rmse 0.573\n",
            "test_rmse 0.581\n",
            "min_samples_leaf=200\n",
            "train_rmse 0.583\n",
            "test_rmse 0.586\n",
            "min_samples_leaf=300\n",
            "train_rmse 0.584\n",
            "test_rmse 0.587\n",
            "min_samples_leaf=400\n",
            "train_rmse 0.587\n",
            "test_rmse 0.588\n",
            "min_samples_leaf=500\n",
            "train_rmse 0.587\n",
            "test_rmse 0.587\n",
            "--------------------\n",
            "max_depth=9\n",
            "***************\n",
            "min_samples_leaf=1\n",
            "train_rmse 0.542\n",
            "test_rmse 0.577\n",
            "min_samples_leaf=5\n",
            "train_rmse 0.548\n",
            "test_rmse 0.572\n",
            "min_samples_leaf=10\n",
            "train_rmse 0.554\n",
            "test_rmse 0.575\n",
            "min_samples_leaf=15\n",
            "train_rmse 0.556\n",
            "test_rmse 0.574\n",
            "min_samples_leaf=20\n",
            "train_rmse 0.558\n",
            "test_rmse 0.574\n",
            "min_samples_leaf=25\n",
            "train_rmse 0.561\n",
            "test_rmse 0.571\n",
            "min_samples_leaf=50\n",
            "train_rmse 0.568\n",
            "test_rmse 0.576\n",
            "min_samples_leaf=75\n",
            "train_rmse 0.571\n",
            "test_rmse 0.580\n",
            "min_samples_leaf=100\n",
            "train_rmse 0.573\n",
            "test_rmse 0.581\n",
            "min_samples_leaf=200\n",
            "train_rmse 0.583\n",
            "test_rmse 0.586\n",
            "min_samples_leaf=300\n",
            "train_rmse 0.584\n",
            "test_rmse 0.587\n",
            "min_samples_leaf=400\n",
            "train_rmse 0.587\n",
            "test_rmse 0.588\n",
            "min_samples_leaf=500\n",
            "train_rmse 0.587\n",
            "test_rmse 0.587\n",
            "--------------------\n",
            "max_depth=10\n",
            "***************\n",
            "min_samples_leaf=1\n",
            "train_rmse 0.535\n",
            "test_rmse 0.581\n",
            "min_samples_leaf=5\n",
            "train_rmse 0.542\n",
            "test_rmse 0.570\n",
            "min_samples_leaf=10\n",
            "train_rmse 0.551\n",
            "test_rmse 0.575\n",
            "min_samples_leaf=15\n",
            "train_rmse 0.554\n",
            "test_rmse 0.574\n",
            "min_samples_leaf=20\n",
            "train_rmse 0.556\n",
            "test_rmse 0.576\n",
            "min_samples_leaf=25\n",
            "train_rmse 0.559\n",
            "test_rmse 0.574\n",
            "min_samples_leaf=50\n",
            "train_rmse 0.568\n",
            "test_rmse 0.576\n",
            "min_samples_leaf=75\n",
            "train_rmse 0.571\n",
            "test_rmse 0.580\n",
            "min_samples_leaf=100\n",
            "train_rmse 0.573\n",
            "test_rmse 0.581\n",
            "min_samples_leaf=200\n",
            "train_rmse 0.583\n",
            "test_rmse 0.586\n",
            "min_samples_leaf=300\n",
            "train_rmse 0.584\n",
            "test_rmse 0.587\n",
            "min_samples_leaf=400\n",
            "train_rmse 0.587\n",
            "test_rmse 0.588\n",
            "min_samples_leaf=500\n",
            "train_rmse 0.587\n",
            "test_rmse 0.587\n",
            "--------------------\n",
            "max_depth=15\n",
            "***************\n",
            "min_samples_leaf=1\n",
            "train_rmse 0.506\n",
            "test_rmse 0.584\n",
            "min_samples_leaf=5\n",
            "train_rmse 0.529\n",
            "test_rmse 0.570\n",
            "min_samples_leaf=10\n",
            "train_rmse 0.543\n",
            "test_rmse 0.577\n",
            "min_samples_leaf=15\n",
            "train_rmse 0.550\n",
            "test_rmse 0.574\n",
            "min_samples_leaf=20\n",
            "train_rmse 0.553\n",
            "test_rmse 0.574\n",
            "min_samples_leaf=25\n",
            "train_rmse 0.557\n",
            "test_rmse 0.573\n",
            "min_samples_leaf=50\n",
            "train_rmse 0.568\n",
            "test_rmse 0.576\n",
            "min_samples_leaf=75\n",
            "train_rmse 0.571\n",
            "test_rmse 0.580\n",
            "min_samples_leaf=100\n",
            "train_rmse 0.573\n",
            "test_rmse 0.581\n",
            "min_samples_leaf=200\n",
            "train_rmse 0.583\n",
            "test_rmse 0.586\n",
            "min_samples_leaf=300\n",
            "train_rmse 0.584\n",
            "test_rmse 0.587\n",
            "min_samples_leaf=400\n",
            "train_rmse 0.587\n",
            "test_rmse 0.588\n",
            "min_samples_leaf=500\n",
            "train_rmse 0.587\n",
            "test_rmse 0.587\n",
            "--------------------\n",
            "max_depth=20\n",
            "***************\n",
            "min_samples_leaf=1\n",
            "train_rmse 0.490\n",
            "test_rmse 0.598\n",
            "min_samples_leaf=5\n",
            "train_rmse 0.523\n",
            "test_rmse 0.574\n",
            "min_samples_leaf=10\n",
            "train_rmse 0.541\n",
            "test_rmse 0.577\n",
            "min_samples_leaf=15\n",
            "train_rmse 0.549\n",
            "test_rmse 0.575\n",
            "min_samples_leaf=20\n",
            "train_rmse 0.552\n",
            "test_rmse 0.574\n",
            "min_samples_leaf=25\n",
            "train_rmse 0.557\n",
            "test_rmse 0.573\n",
            "min_samples_leaf=50\n",
            "train_rmse 0.568\n",
            "test_rmse 0.576\n",
            "min_samples_leaf=75\n",
            "train_rmse 0.571\n",
            "test_rmse 0.580\n",
            "min_samples_leaf=100\n",
            "train_rmse 0.573\n",
            "test_rmse 0.581\n",
            "min_samples_leaf=200\n",
            "train_rmse 0.583\n",
            "test_rmse 0.586\n",
            "min_samples_leaf=300\n",
            "train_rmse 0.584\n",
            "test_rmse 0.587\n",
            "min_samples_leaf=400\n",
            "train_rmse 0.587\n",
            "test_rmse 0.588\n",
            "min_samples_leaf=500\n",
            "train_rmse 0.587\n",
            "test_rmse 0.587\n",
            "--------------------\n",
            "max_depth=None\n",
            "***************\n",
            "min_samples_leaf=1\n",
            "train_rmse 0.483\n",
            "test_rmse 0.600\n",
            "min_samples_leaf=5\n",
            "train_rmse 0.521\n",
            "test_rmse 0.576\n",
            "min_samples_leaf=10\n",
            "train_rmse 0.541\n",
            "test_rmse 0.577\n",
            "min_samples_leaf=15\n",
            "train_rmse 0.549\n",
            "test_rmse 0.576\n",
            "min_samples_leaf=20\n",
            "train_rmse 0.552\n",
            "test_rmse 0.575\n",
            "min_samples_leaf=25\n",
            "train_rmse 0.557\n",
            "test_rmse 0.573\n",
            "min_samples_leaf=50\n",
            "train_rmse 0.568\n",
            "test_rmse 0.576\n",
            "min_samples_leaf=75\n",
            "train_rmse 0.571\n",
            "test_rmse 0.580\n",
            "min_samples_leaf=100\n",
            "train_rmse 0.573\n",
            "test_rmse 0.581\n",
            "min_samples_leaf=200\n",
            "train_rmse 0.583\n",
            "test_rmse 0.586\n",
            "min_samples_leaf=300\n",
            "train_rmse 0.584\n",
            "test_rmse 0.587\n",
            "min_samples_leaf=400\n",
            "train_rmse 0.587\n",
            "test_rmse 0.588\n",
            "min_samples_leaf=500\n",
            "train_rmse 0.587\n",
            "test_rmse 0.587\n",
            "--------------------\n"
          ]
        }
      ],
      "source": [
        "for d in [1, 2, 3, 4, 5, 6, 7, 8, 9, 10, 15, 20, None]:\n",
        "    print('max_depth=%s' % d)\n",
        "    print('*'*15)\n",
        "    \n",
        "    for s in [1, 5, 10, 15, 20, 25, 50, 75, 100, 200, 300, 400, 500]:\n",
        "        print('min_samples_leaf=%s' % s)\n",
        "    \n",
        "        dtr = DecisionTreeRegressor(max_depth=d, min_samples_leaf=s)\n",
        "        dtr.fit(X_train, y_train)   \n",
        "\n",
        "        y_train_pred = dtr.predict(X_train)\n",
        "        train_mse = mse(y_train, y_train_pred)\n",
        "        train_rmse = np.sqrt(train_mse)\n",
        "        print('train_rmse', '%.3f' % train_rmse)\n",
        "\n",
        "        y_test_pred = dtr.predict(X_test)\n",
        "        test_mse = mse(y_test, y_test_pred)\n",
        "        test_rmse = np.sqrt(test_mse)\n",
        "        print('test_rmse', '%.3f' % test_rmse)\n",
        "\n",
        "    print('-'*20)"
      ]
    },
    {
      "cell_type": "markdown",
      "id": "2186f443",
      "metadata": {
        "pycharm": {
          "name": "#%% md\n"
        },
        "id": "2186f443"
      },
      "source": [
        "### 2.8 Best parameters for the model ###\n",
        "\n",
        "* **Maximum depth of the tree: 10**\n",
        "* **Minimum number of samples required to be at a leaf node: 5**"
      ]
    },
    {
      "cell_type": "code",
      "execution_count": null,
      "id": "80f2224d",
      "metadata": {
        "pycharm": {
          "name": "#%%\n"
        },
        "colab": {
          "base_uri": "https://localhost:8080/"
        },
        "id": "80f2224d",
        "outputId": "db0bb92f-8da0-4aa1-e281-691c4bb27770"
      },
      "outputs": [
        {
          "output_type": "execute_result",
          "data": {
            "text/plain": [
              "DecisionTreeRegressor(max_depth=10, min_samples_leaf=5)"
            ]
          },
          "metadata": {},
          "execution_count": 38
        }
      ],
      "source": [
        "# Train the model\n",
        "dtr = DecisionTreeRegressor(max_depth=10, min_samples_leaf=5)\n",
        "dtr.fit(X_train, y_train)"
      ]
    },
    {
      "cell_type": "code",
      "execution_count": null,
      "id": "3ff620d0",
      "metadata": {
        "scrolled": true,
        "pycharm": {
          "name": "#%%\n"
        },
        "id": "3ff620d0"
      },
      "outputs": [],
      "source": [
        "# Use the model\n",
        "y_test_pred = dtr.predict(X_test)"
      ]
    },
    {
      "cell_type": "code",
      "execution_count": null,
      "id": "f7331d92",
      "metadata": {
        "pycharm": {
          "name": "#%%\n"
        },
        "colab": {
          "base_uri": "https://localhost:8080/"
        },
        "id": "f7331d92",
        "outputId": "ca698f9e-0d40-478d-85b0-a32c29096213"
      },
      "outputs": [
        {
          "output_type": "execute_result",
          "data": {
            "text/plain": [
              "0.57"
            ]
          },
          "metadata": {},
          "execution_count": 40
        }
      ],
      "source": [
        "# Evaluate the model\n",
        "test_mse = mse(y_test, y_test_pred)\n",
        "test_rmse = np.sqrt(test_mse)\n",
        "test_rmse.round(3)"
      ]
    },
    {
      "cell_type": "code",
      "execution_count": null,
      "id": "a5be84d8",
      "metadata": {
        "pycharm": {
          "name": "#%%\n"
        },
        "colab": {
          "base_uri": "https://localhost:8080/",
          "height": 265
        },
        "id": "a5be84d8",
        "outputId": "f76bb0d4-8d21-4fff-abab-ac78f1eb4019"
      },
      "outputs": [
        {
          "output_type": "display_data",
          "data": {
            "text/plain": [
              "<Figure size 432x288 with 1 Axes>"
            ],
            "image/png": "[encoded data removed]"
          },
          "metadata": {
            "needs_background": "light"
          }
        }
      ],
      "source": [
        "sns.histplot(y_test_pred, label='prediction', color='red')\n",
        "sns.histplot(y_test, label='target', color='gray')\n",
        "plt.legend();"
      ]
    }
  ],
  "metadata": {
    "kernelspec": {
      "display_name": "Python 3 (ipykernel)",
      "language": "python",
      "name": "python3"
    },
    "language_info": {
      "codemirror_mode": {
        "name": "ipython",
        "version": 3
      },
      "file_extension": ".py",
      "mimetype": "text/x-python",
      "name": "python",
      "nbconvert_exporter": "python",
      "pygments_lexer": "ipython3",
      "version": "3.8.11"
    },
    "colab": {
      "name": "airbnb-madrid-regression-dt.ipynb",
      "provenance": [],
      "collapsed_sections": [
        "3c16477f",
        "ea0bd074",
        "51f53bd6",
        "051cd1d2",
        "e3223a74",
        "2186f443"
      ]
    }
  },
  "nbformat": 4,
  "nbformat_minor": 5
}