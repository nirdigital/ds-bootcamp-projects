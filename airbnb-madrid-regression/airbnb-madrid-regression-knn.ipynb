{
  "cells": [
    {
      "cell_type": "markdown",
      "id": "f3161950",
      "metadata": {
        "id": "f3161950"
      },
      "source": [
        "## 2. Regression Project: K-Nearest Neighbors ##\n",
        "\n"
      ]
    },
    {
      "cell_type": "markdown",
      "id": "23810c06",
      "metadata": {
        "id": "23810c06"
      },
      "source": [
        "### 2.1 Airbnb listings in Madrid  ###\n",
        "* **Dataset:** http://data.insideairbnb.com/spain/comunidad-de-madrid/madrid/2021-09-10/data/listings.csv.gz\n",
        "* **Description:** detailed data for Airbnb listings in Madrid, compiled on *10.09.2021* by **Inside Airbnb**"
      ]
    },
    {
      "cell_type": "code",
      "execution_count": null,
      "id": "e0ca488f",
      "metadata": {
        "id": "e0ca488f"
      },
      "outputs": [],
      "source": [
        "import numpy as np\n",
        "import pandas as pd\n",
        "import seaborn as sns\n",
        "from matplotlib import pyplot as plt\n",
        "%matplotlib inline"
      ]
    },
    {
      "cell_type": "code",
      "execution_count": null,
      "id": "817382c1",
      "metadata": {
        "colab": {
          "base_uri": "https://localhost:8080/"
        },
        "id": "817382c1",
        "outputId": "f21274d1-5ec7-4291-e439-d8cdcaa081de"
      },
      "outputs": [
        {
          "output_type": "stream",
          "name": "stdout",
          "text": [
            "<class 'pandas.core.frame.DataFrame'>\n",
            "RangeIndex: 18909 entries, 0 to 18908\n",
            "Data columns (total 74 columns):\n",
            " #   Column                                        Non-Null Count  Dtype  \n",
            "---  ------                                        --------------  -----  \n",
            " 0   id                                            18909 non-null  int64  \n",
            " 1   listing_url                                   18909 non-null  object \n",
            " 2   scrape_id                                     18909 non-null  int64  \n",
            " 3   last_scraped                                  18909 non-null  object \n",
            " 4   name                                          18906 non-null  object \n",
            " 5   description                                   17854 non-null  object \n",
            " 6   neighborhood_overview                         10997 non-null  object \n",
            " 7   picture_url                                   18908 non-null  object \n",
            " 8   host_id                                       18909 non-null  int64  \n",
            " 9   host_url                                      18909 non-null  object \n",
            " 10  host_name                                     18883 non-null  object \n",
            " 11  host_since                                    18883 non-null  object \n",
            " 12  host_location                                 18841 non-null  object \n",
            " 13  host_about                                    9427 non-null   object \n",
            " 14  host_response_time                            11972 non-null  object \n",
            " 15  host_response_rate                            11972 non-null  object \n",
            " 16  host_acceptance_rate                          11531 non-null  object \n",
            " 17  host_is_superhost                             18883 non-null  object \n",
            " 18  host_thumbnail_url                            18883 non-null  object \n",
            " 19  host_picture_url                              18883 non-null  object \n",
            " 20  host_neighbourhood                            12034 non-null  object \n",
            " 21  host_listings_count                           18883 non-null  float64\n",
            " 22  host_total_listings_count                     18883 non-null  float64\n",
            " 23  host_verifications                            18909 non-null  object \n",
            " 24  host_has_profile_pic                          18883 non-null  object \n",
            " 25  host_identity_verified                        18883 non-null  object \n",
            " 26  neighbourhood                                 10997 non-null  object \n",
            " 27  neighbourhood_cleansed                        18909 non-null  object \n",
            " 28  neighbourhood_group_cleansed                  18909 non-null  object \n",
            " 29  latitude                                      18909 non-null  float64\n",
            " 30  longitude                                     18909 non-null  float64\n",
            " 31  property_type                                 18909 non-null  object \n",
            " 32  room_type                                     18909 non-null  object \n",
            " 33  accommodates                                  18909 non-null  int64  \n",
            " 34  bathrooms                                     0 non-null      float64\n",
            " 35  bathrooms_text                                18884 non-null  object \n",
            " 36  bedrooms                                      17475 non-null  float64\n",
            " 37  beds                                          18568 non-null  float64\n",
            " 38  amenities                                     18909 non-null  object \n",
            " 39  price                                         18909 non-null  object \n",
            " 40  minimum_nights                                18909 non-null  int64  \n",
            " 41  maximum_nights                                18909 non-null  int64  \n",
            " 42  minimum_minimum_nights                        18908 non-null  float64\n",
            " 43  maximum_minimum_nights                        18908 non-null  float64\n",
            " 44  minimum_maximum_nights                        18908 non-null  float64\n",
            " 45  maximum_maximum_nights                        18908 non-null  float64\n",
            " 46  minimum_nights_avg_ntm                        18908 non-null  float64\n",
            " 47  maximum_nights_avg_ntm                        18908 non-null  float64\n",
            " 48  calendar_updated                              0 non-null      float64\n",
            " 49  has_availability                              18909 non-null  object \n",
            " 50  availability_30                               18909 non-null  int64  \n",
            " 51  availability_60                               18909 non-null  int64  \n",
            " 52  availability_90                               18909 non-null  int64  \n",
            " 53  availability_365                              18909 non-null  int64  \n",
            " 54  calendar_last_scraped                         18909 non-null  object \n",
            " 55  number_of_reviews                             18909 non-null  int64  \n",
            " 56  number_of_reviews_ltm                         18909 non-null  int64  \n",
            " 57  number_of_reviews_l30d                        18909 non-null  int64  \n",
            " 58  first_review                                  13877 non-null  object \n",
            " 59  last_review                                   13877 non-null  object \n",
            " 60  review_scores_rating                          13877 non-null  float64\n",
            " 61  review_scores_accuracy                        13638 non-null  float64\n",
            " 62  review_scores_cleanliness                     13640 non-null  float64\n",
            " 63  review_scores_checkin                         13640 non-null  float64\n",
            " 64  review_scores_communication                   13640 non-null  float64\n",
            " 65  review_scores_location                        13637 non-null  float64\n",
            " 66  review_scores_value                           13636 non-null  float64\n",
            " 67  license                                       2828 non-null   object \n",
            " 68  instant_bookable                              18909 non-null  object \n",
            " 69  calculated_host_listings_count                18909 non-null  int64  \n",
            " 70  calculated_host_listings_count_entire_homes   18909 non-null  int64  \n",
            " 71  calculated_host_listings_count_private_rooms  18909 non-null  int64  \n",
            " 72  calculated_host_listings_count_shared_rooms   18909 non-null  int64  \n",
            " 73  reviews_per_month                             13877 non-null  float64\n",
            "dtypes: float64(22), int64(17), object(35)\n",
            "memory usage: 10.7+ MB\n"
          ]
        }
      ],
      "source": [
        "# Look at the dataset: 18,909 listings with 74 features\n",
        "listings = pd.read_csv('listings.csv')\n",
        "listings.info()"
      ]
    },
    {
      "cell_type": "markdown",
      "id": "324e15eb",
      "metadata": {
        "id": "324e15eb"
      },
      "source": [
        "### 2.2 Data subset ###\n",
        "* Get rid of listings without a verified host:"
      ]
    },
    {
      "cell_type": "code",
      "execution_count": null,
      "id": "34093a78",
      "metadata": {
        "scrolled": true,
        "colab": {
          "base_uri": "https://localhost:8080/"
        },
        "id": "34093a78",
        "outputId": "b7cd0e34-c40a-4203-a2f6-aff571b526a6"
      },
      "outputs": [
        {
          "output_type": "execute_result",
          "data": {
            "text/plain": [
              "t    13818\n",
              "Name: host_identity_verified, dtype: int64"
            ]
          },
          "metadata": {},
          "execution_count": 3
        }
      ],
      "source": [
        "# Keep listings with verified host identity (13,818 out of 18,883)\n",
        "listings_ver = listings.copy()[listings.host_identity_verified=='t']\n",
        "listings_ver.host_identity_verified.value_counts()"
      ]
    },
    {
      "cell_type": "markdown",
      "id": "b260328b",
      "metadata": {
        "id": "b260328b"
      },
      "source": [
        "* Continue with the following columns:"
      ]
    },
    {
      "cell_type": "code",
      "execution_count": null,
      "id": "e9fb5fbb",
      "metadata": {
        "id": "e9fb5fbb"
      },
      "outputs": [],
      "source": [
        "columns = [\n",
        "           'accommodates', \n",
        "           'calculated_host_listings_count', \n",
        "           'neighbourhood_group_cleansed',\n",
        "           'room_type', \n",
        "           'price'\n",
        "          ]"
      ]
    },
    {
      "cell_type": "code",
      "execution_count": null,
      "id": "9ebd8744",
      "metadata": {
        "id": "9ebd8744"
      },
      "outputs": [],
      "source": [
        "df = listings_ver.copy()[columns]"
      ]
    },
    {
      "cell_type": "markdown",
      "id": "59d8b708",
      "metadata": {
        "scrolled": true,
        "id": "59d8b708"
      },
      "source": [
        "#### Features ####\n",
        "* **'accommodates':** the maximum capacity of the listing.\n",
        "* **'calculated_host_listings_count':** the total count of host's listings (all four types of places).\n",
        "* **'neighbourhood_group_cleansed':** compiled by comparing the listing's geographic coordinates ('latitude' & 'longitude') with a city's definition of neighbourhoods. \n",
        "* **'room_type':** hosts offer four types of places: 'Entire home/apt', 'Private room', 'Shared room', and Hotel room."
      ]
    },
    {
      "cell_type": "markdown",
      "id": "b22c9b91",
      "metadata": {
        "id": "b22c9b91"
      },
      "source": [
        "### 2.3 Variable data types ###"
      ]
    },
    {
      "cell_type": "code",
      "execution_count": null,
      "id": "f790d1a5",
      "metadata": {
        "scrolled": true,
        "colab": {
          "base_uri": "https://localhost:8080/"
        },
        "id": "f790d1a5",
        "outputId": "9c829d1b-5064-4105-e9a6-29b3cbe356fc"
      },
      "outputs": [
        {
          "output_type": "execute_result",
          "data": {
            "text/plain": [
              "accommodates                       int64\n",
              "calculated_host_listings_count     int64\n",
              "neighbourhood_group_cleansed      object\n",
              "room_type                         object\n",
              "price                             object\n",
              "dtype: object"
            ]
          },
          "metadata": {},
          "execution_count": 6
        }
      ],
      "source": [
        "df.dtypes"
      ]
    },
    {
      "cell_type": "markdown",
      "id": "36370b85",
      "metadata": {
        "id": "36370b85"
      },
      "source": [
        "### 2.3.1 Numerical variables ###\n",
        "**'price':** \n",
        "* Note: although price values appear with a dollar sign, they reflect the price in local currency (EUR)"
      ]
    },
    {
      "cell_type": "markdown",
      "id": "676eed1a",
      "metadata": {
        "id": "676eed1a"
      },
      "source": [
        "* Remove listings without a price (only six listings):"
      ]
    },
    {
      "cell_type": "code",
      "execution_count": null,
      "id": "bb1f8a7f",
      "metadata": {
        "id": "bb1f8a7f"
      },
      "outputs": [],
      "source": [
        "df = df[df.price!='$0.00']"
      ]
    },
    {
      "cell_type": "markdown",
      "id": "6834d0b1",
      "metadata": {
        "id": "6834d0b1"
      },
      "source": [
        "* Change dtype to integer:"
      ]
    },
    {
      "cell_type": "code",
      "execution_count": null,
      "id": "68965731",
      "metadata": {
        "colab": {
          "base_uri": "https://localhost:8080/"
        },
        "id": "68965731",
        "outputId": "0394500e-6afe-41b6-ef9b-11f593eb81eb"
      },
      "outputs": [
        {
          "output_type": "stream",
          "name": "stderr",
          "text": [
            "/usr/local/lib/python3.7/dist-packages/ipykernel_launcher.py:1: SettingWithCopyWarning: \n",
            "A value is trying to be set on a copy of a slice from a DataFrame.\n",
            "Try using .loc[row_indexer,col_indexer] = value instead\n",
            "\n",
            "See the caveats in the documentation: https://pandas.pydata.org/pandas-docs/stable/user_guide/indexing.html#returning-a-view-versus-a-copy\n",
            "  \"\"\"Entry point for launching an IPython kernel.\n",
            "/usr/local/lib/python3.7/dist-packages/ipykernel_launcher.py:2: SettingWithCopyWarning: \n",
            "A value is trying to be set on a copy of a slice from a DataFrame.\n",
            "Try using .loc[row_indexer,col_indexer] = value instead\n",
            "\n",
            "See the caveats in the documentation: https://pandas.pydata.org/pandas-docs/stable/user_guide/indexing.html#returning-a-view-versus-a-copy\n",
            "  \n"
          ]
        }
      ],
      "source": [
        "df['price'] = df['price'].str.lstrip('$').str.replace(',', '').str.rstrip('.00')\n",
        "df['price'] = df['price'].astype('int64')"
      ]
    },
    {
      "cell_type": "markdown",
      "id": "7b82cef1",
      "metadata": {
        "id": "7b82cef1"
      },
      "source": [
        "* Keep listings with prices between 10 and 400:"
      ]
    },
    {
      "cell_type": "code",
      "execution_count": null,
      "id": "7e866ce8",
      "metadata": {
        "id": "7e866ce8"
      },
      "outputs": [],
      "source": [
        "df = df[(df.price>=10) & (df.price<=400)]"
      ]
    },
    {
      "cell_type": "markdown",
      "id": "1e3ae220",
      "metadata": {
        "id": "1e3ae220"
      },
      "source": [
        "* Log transform prices:"
      ]
    },
    {
      "cell_type": "code",
      "execution_count": null,
      "id": "e413c8c7",
      "metadata": {
        "id": "e413c8c7"
      },
      "outputs": [],
      "source": [
        "df['price'] = np.log1p(df['price'])"
      ]
    },
    {
      "cell_type": "markdown",
      "id": "3c16477f",
      "metadata": {
        "id": "3c16477f"
      },
      "source": [
        "### 2.4 Split the dataset into train and test subsets   ###"
      ]
    },
    {
      "cell_type": "code",
      "execution_count": null,
      "id": "81dad0b7",
      "metadata": {
        "colab": {
          "base_uri": "https://localhost:8080/"
        },
        "id": "81dad0b7",
        "outputId": "b0ed2319-e1c0-4526-e07c-0230167aabd4"
      },
      "outputs": [
        {
          "output_type": "execute_result",
          "data": {
            "text/plain": [
              "(11051, 5)"
            ]
          },
          "metadata": {},
          "execution_count": 11
        }
      ],
      "source": [
        "df.shape"
      ]
    },
    {
      "cell_type": "code",
      "execution_count": null,
      "id": "d587030b",
      "metadata": {
        "id": "d587030b"
      },
      "outputs": [],
      "source": [
        "from sklearn.model_selection import train_test_split"
      ]
    },
    {
      "cell_type": "code",
      "execution_count": null,
      "id": "553f30d6",
      "metadata": {
        "id": "553f30d6"
      },
      "outputs": [],
      "source": [
        "df_train, df_test = train_test_split(df, test_size=0.2, random_state=42)"
      ]
    },
    {
      "cell_type": "code",
      "execution_count": null,
      "id": "8d1bb17b",
      "metadata": {
        "colab": {
          "base_uri": "https://localhost:8080/"
        },
        "id": "8d1bb17b",
        "outputId": "fc087790-6714-4f8f-92a2-cec206a7a1af"
      },
      "outputs": [
        {
          "output_type": "execute_result",
          "data": {
            "text/plain": [
              "((8840, 5), (2211, 5))"
            ]
          },
          "metadata": {},
          "execution_count": 14
        }
      ],
      "source": [
        "# Check size of dataframes\n",
        "df_train.shape, df_test.shape"
      ]
    },
    {
      "cell_type": "code",
      "execution_count": null,
      "id": "feff9c29",
      "metadata": {
        "id": "feff9c29"
      },
      "outputs": [],
      "source": [
        "# Assign 'price' as the target variable\n",
        "y_train = df_train.price.values\n",
        "y_test = df_test.price.values"
      ]
    },
    {
      "cell_type": "code",
      "execution_count": null,
      "id": "92c39fde",
      "metadata": {
        "colab": {
          "base_uri": "https://localhost:8080/"
        },
        "id": "92c39fde",
        "outputId": "0e93c047-d06e-4aa6-aa4d-1d6ddf8e98cf"
      },
      "outputs": [
        {
          "output_type": "execute_result",
          "data": {
            "text/plain": [
              "((8840,), (2211,))"
            ]
          },
          "metadata": {},
          "execution_count": 16
        }
      ],
      "source": [
        "# Check size of arrays\n",
        "y_train.shape, y_test.shape"
      ]
    },
    {
      "cell_type": "code",
      "execution_count": null,
      "id": "d50b53b3",
      "metadata": {
        "id": "d50b53b3"
      },
      "outputs": [],
      "source": [
        "# Remove 'price' column from dataframes\n",
        "del df_train['price']\n",
        "del df_test['price']"
      ]
    },
    {
      "cell_type": "code",
      "execution_count": null,
      "id": "5f27ab52",
      "metadata": {
        "colab": {
          "base_uri": "https://localhost:8080/"
        },
        "id": "5f27ab52",
        "outputId": "00540e08-c791-4c43-9e60-066755900530"
      },
      "outputs": [
        {
          "output_type": "execute_result",
          "data": {
            "text/plain": [
              "((8840, 4), (2211, 4))"
            ]
          },
          "metadata": {},
          "execution_count": 18
        }
      ],
      "source": [
        "# Check size of dataframes\n",
        "df_train.shape, df_test.shape"
      ]
    },
    {
      "cell_type": "markdown",
      "id": "ea0bd074",
      "metadata": {
        "id": "ea0bd074"
      },
      "source": [
        "### 2.5 One-hot encoding of categorical variables  ###\n",
        "* **'neighbourhood_group_cleansed'** "
      ]
    },
    {
      "cell_type": "code",
      "execution_count": null,
      "id": "e375fced",
      "metadata": {
        "colab": {
          "base_uri": "https://localhost:8080/"
        },
        "id": "e375fced",
        "outputId": "62403cc2-508e-448a-9434-238e448bdcbb"
      },
      "outputs": [
        {
          "output_type": "execute_result",
          "data": {
            "text/plain": [
              "21"
            ]
          },
          "metadata": {},
          "execution_count": 19
        }
      ],
      "source": [
        "# All 21 groups are represented in the 'train' dataset\n",
        "df_train.neighbourhood_group_cleansed.nunique()"
      ]
    },
    {
      "cell_type": "markdown",
      "id": "e5968b8b",
      "metadata": {
        "id": "e5968b8b"
      },
      "source": [
        "* **'room_type':** "
      ]
    },
    {
      "cell_type": "code",
      "execution_count": null,
      "id": "73f09ffc",
      "metadata": {
        "colab": {
          "base_uri": "https://localhost:8080/"
        },
        "id": "73f09ffc",
        "outputId": "b74eba9d-b8b8-4372-faf5-fd8078387614"
      },
      "outputs": [
        {
          "output_type": "execute_result",
          "data": {
            "text/plain": [
              "4"
            ]
          },
          "metadata": {},
          "execution_count": 20
        }
      ],
      "source": [
        "# All four types are represented in the 'train' dataset\n",
        "df_train.room_type.nunique()"
      ]
    },
    {
      "cell_type": "markdown",
      "id": "0b62693e",
      "metadata": {
        "id": "0b62693e"
      },
      "source": [
        "* **Use *DictVectorizer* to generate the feature matrix:**"
      ]
    },
    {
      "cell_type": "code",
      "execution_count": null,
      "id": "42ef46c2",
      "metadata": {
        "id": "42ef46c2"
      },
      "outputs": [],
      "source": [
        "from sklearn.feature_extraction import DictVectorizer"
      ]
    },
    {
      "cell_type": "code",
      "execution_count": null,
      "id": "3edbcfa9",
      "metadata": {
        "id": "3edbcfa9"
      },
      "outputs": [],
      "source": [
        "# Convert dataframes into lists of dictionaries\n",
        "train_dict = df_train.to_dict(orient='records')\n",
        "test_dict = df_test.to_dict(orient='records')"
      ]
    },
    {
      "cell_type": "code",
      "execution_count": null,
      "id": "96ea8b7f",
      "metadata": {
        "id": "96ea8b7f"
      },
      "outputs": [],
      "source": [
        "dv = DictVectorizer(sparse=False)"
      ]
    },
    {
      "cell_type": "code",
      "execution_count": null,
      "id": "d05a51e0",
      "metadata": {
        "id": "d05a51e0"
      },
      "outputs": [],
      "source": [
        "X_train = dv.fit_transform(train_dict)\n",
        "X_test = dv.transform(test_dict)"
      ]
    },
    {
      "cell_type": "code",
      "execution_count": null,
      "id": "50c39aff",
      "metadata": {
        "scrolled": true,
        "colab": {
          "base_uri": "https://localhost:8080/"
        },
        "id": "50c39aff",
        "outputId": "7d948fee-3b31-4467-9716-61fb46274a1b"
      },
      "outputs": [
        {
          "output_type": "stream",
          "name": "stderr",
          "text": [
            "/usr/local/lib/python3.7/dist-packages/sklearn/utils/deprecation.py:87: FutureWarning: Function get_feature_names is deprecated; get_feature_names is deprecated in 1.0 and will be removed in 1.2. Please use get_feature_names_out instead.\n",
            "  warnings.warn(msg, category=FutureWarning)\n"
          ]
        },
        {
          "output_type": "execute_result",
          "data": {
            "text/plain": [
              "['accommodates',\n",
              " 'calculated_host_listings_count',\n",
              " 'neighbourhood_group_cleansed=Arganzuela',\n",
              " 'neighbourhood_group_cleansed=Barajas',\n",
              " 'neighbourhood_group_cleansed=Carabanchel',\n",
              " 'neighbourhood_group_cleansed=Centro',\n",
              " 'neighbourhood_group_cleansed=Chamartín',\n",
              " 'neighbourhood_group_cleansed=Chamberí',\n",
              " 'neighbourhood_group_cleansed=Ciudad Lineal',\n",
              " 'neighbourhood_group_cleansed=Fuencarral - El Pardo',\n",
              " 'neighbourhood_group_cleansed=Hortaleza',\n",
              " 'neighbourhood_group_cleansed=Latina',\n",
              " 'neighbourhood_group_cleansed=Moncloa - Aravaca',\n",
              " 'neighbourhood_group_cleansed=Moratalaz',\n",
              " 'neighbourhood_group_cleansed=Puente de Vallecas',\n",
              " 'neighbourhood_group_cleansed=Retiro',\n",
              " 'neighbourhood_group_cleansed=Salamanca',\n",
              " 'neighbourhood_group_cleansed=San Blas - Canillejas',\n",
              " 'neighbourhood_group_cleansed=Tetuán',\n",
              " 'neighbourhood_group_cleansed=Usera',\n",
              " 'neighbourhood_group_cleansed=Vicálvaro',\n",
              " 'neighbourhood_group_cleansed=Villa de Vallecas',\n",
              " 'neighbourhood_group_cleansed=Villaverde',\n",
              " 'room_type=Entire home/apt',\n",
              " 'room_type=Hotel room',\n",
              " 'room_type=Private room',\n",
              " 'room_type=Shared room']"
            ]
          },
          "metadata": {},
          "execution_count": 25
        }
      ],
      "source": [
        "# We now have 27 features:\n",
        "dv.get_feature_names()"
      ]
    },
    {
      "cell_type": "markdown",
      "id": "51f53bd6",
      "metadata": {
        "id": "51f53bd6"
      },
      "source": [
        "### 2.6 Train a KNN regression model ###"
      ]
    },
    {
      "cell_type": "code",
      "execution_count": null,
      "id": "5cb8a70e",
      "metadata": {
        "id": "5cb8a70e"
      },
      "outputs": [],
      "source": [
        "from sklearn.neighbors import KNeighborsRegressor"
      ]
    },
    {
      "cell_type": "code",
      "execution_count": null,
      "id": "dc550bc6",
      "metadata": {
        "id": "dc550bc6"
      },
      "outputs": [],
      "source": [
        "knn = KNeighborsRegressor()"
      ]
    },
    {
      "cell_type": "code",
      "execution_count": null,
      "id": "ff052a16",
      "metadata": {
        "colab": {
          "base_uri": "https://localhost:8080/"
        },
        "id": "ff052a16",
        "outputId": "61d1e3c9-40f4-4cbd-a203-5a526bd74934"
      },
      "outputs": [
        {
          "output_type": "execute_result",
          "data": {
            "text/plain": [
              "{'algorithm': 'auto',\n",
              " 'leaf_size': 30,\n",
              " 'metric': 'minkowski',\n",
              " 'metric_params': None,\n",
              " 'n_jobs': None,\n",
              " 'n_neighbors': 5,\n",
              " 'p': 2,\n",
              " 'weights': 'uniform'}"
            ]
          },
          "metadata": {},
          "execution_count": 28
        }
      ],
      "source": [
        "knn.get_params()"
      ]
    },
    {
      "cell_type": "code",
      "execution_count": null,
      "id": "797e91fc",
      "metadata": {
        "colab": {
          "base_uri": "https://localhost:8080/"
        },
        "id": "797e91fc",
        "outputId": "cf4a293a-cc5e-4c53-cf34-04b1f8508104"
      },
      "outputs": [
        {
          "output_type": "execute_result",
          "data": {
            "text/plain": [
              "KNeighborsRegressor()"
            ]
          },
          "metadata": {},
          "execution_count": 29
        }
      ],
      "source": [
        "knn.fit(X_train, y_train)"
      ]
    },
    {
      "cell_type": "markdown",
      "id": "051cd1d2",
      "metadata": {
        "id": "051cd1d2"
      },
      "source": [
        "### 2.7 Use the model ###"
      ]
    },
    {
      "cell_type": "code",
      "execution_count": null,
      "id": "e4ae24ca",
      "metadata": {
        "id": "e4ae24ca"
      },
      "outputs": [],
      "source": [
        "from sklearn.metrics import mean_squared_error as mse"
      ]
    },
    {
      "cell_type": "code",
      "execution_count": null,
      "id": "94124cc0",
      "metadata": {
        "id": "94124cc0"
      },
      "outputs": [],
      "source": [
        "y_test_pred = knn.predict(X_test)"
      ]
    },
    {
      "cell_type": "code",
      "execution_count": null,
      "id": "5a919154",
      "metadata": {
        "colab": {
          "base_uri": "https://localhost:8080/"
        },
        "id": "5a919154",
        "outputId": "5a2ccede-b4be-4212-dd2a-2a9c75d404de"
      },
      "outputs": [
        {
          "output_type": "execute_result",
          "data": {
            "text/plain": [
              "0.599"
            ]
          },
          "metadata": {},
          "execution_count": 32
        }
      ],
      "source": [
        "test_mse = mse(y_test, y_test_pred)\n",
        "test_rmse = np.sqrt(test_mse)\n",
        "test_rmse.round(3)"
      ]
    },
    {
      "cell_type": "code",
      "execution_count": null,
      "id": "e67c0fb7",
      "metadata": {
        "colab": {
          "base_uri": "https://localhost:8080/",
          "height": 265
        },
        "id": "e67c0fb7",
        "outputId": "457b66ea-f654-4873-f147-efa29dbd4a5d"
      },
      "outputs": [
        {
          "output_type": "display_data",
          "data": {
            "text/plain": [
              "<Figure size 432x288 with 1 Axes>"
            ],
            "image/png": "[encoded data removed]"
          },
          "metadata": {
            "needs_background": "light"
          }
        }
      ],
      "source": [
        "sns.histplot(y_test_pred, label='prediction', color='red')\n",
        "sns.histplot(y_test, label='target', color='gray')\n",
        "plt.legend();"
      ]
    },
    {
      "cell_type": "markdown",
      "id": "d43d0fd2",
      "metadata": {
        "id": "d43d0fd2"
      },
      "source": [
        "### 2.7 Tune the model ###\n",
        "Find the best values for the following parameters:\n",
        "* **Number of neighbors**\n",
        "* **Power parameter for the Minkowski metric**"
      ]
    },
    {
      "cell_type": "code",
      "execution_count": null,
      "id": "51220fa5",
      "metadata": {
        "colab": {
          "base_uri": "https://localhost:8080/"
        },
        "id": "51220fa5",
        "outputId": "d289f7a8-3f92-403d-ca0c-31fc2125ac61"
      },
      "outputs": [
        {
          "output_type": "stream",
          "name": "stdout",
          "text": [
            "n_neighbors=1\n",
            "***************\n",
            "p=1\n",
            "train_rmse 0.637\n",
            "test_rmse 0.709\n",
            "--------------------\n",
            "p=2\n",
            "train_rmse 0.637\n",
            "test_rmse 0.709\n",
            "--------------------\n",
            "n_neighbors=2\n",
            "***************\n",
            "p=1\n",
            "train_rmse 0.582\n",
            "test_rmse 0.638\n",
            "--------------------\n",
            "p=2\n",
            "train_rmse 0.582\n",
            "test_rmse 0.639\n",
            "--------------------\n",
            "n_neighbors=3\n",
            "***************\n",
            "p=1\n",
            "train_rmse 0.560\n",
            "test_rmse 0.620\n",
            "--------------------\n",
            "p=2\n",
            "train_rmse 0.560\n",
            "test_rmse 0.621\n",
            "--------------------\n",
            "n_neighbors=4\n",
            "***************\n",
            "p=1\n",
            "train_rmse 0.563\n",
            "test_rmse 0.615\n",
            "--------------------\n",
            "p=2\n",
            "train_rmse 0.557\n",
            "test_rmse 0.608\n",
            "--------------------\n",
            "n_neighbors=5\n",
            "***************\n",
            "p=1\n",
            "train_rmse 0.554\n",
            "test_rmse 0.609\n",
            "--------------------\n",
            "p=2\n",
            "train_rmse 0.552\n",
            "test_rmse 0.599\n",
            "--------------------\n",
            "n_neighbors=6\n",
            "***************\n",
            "p=1\n",
            "train_rmse 0.551\n",
            "test_rmse 0.598\n",
            "--------------------\n",
            "p=2\n",
            "train_rmse 0.550\n",
            "test_rmse 0.592\n",
            "--------------------\n",
            "n_neighbors=7\n",
            "***************\n",
            "p=1\n",
            "train_rmse 0.550\n",
            "test_rmse 0.592\n",
            "--------------------\n",
            "p=2\n",
            "train_rmse 0.548\n",
            "test_rmse 0.585\n",
            "--------------------\n",
            "n_neighbors=8\n",
            "***************\n",
            "p=1\n",
            "train_rmse 0.550\n",
            "test_rmse 0.586\n",
            "--------------------\n",
            "p=2\n",
            "train_rmse 0.546\n",
            "test_rmse 0.578\n",
            "--------------------\n",
            "n_neighbors=9\n",
            "***************\n",
            "p=1\n",
            "train_rmse 0.551\n",
            "test_rmse 0.583\n",
            "--------------------\n",
            "p=2\n",
            "train_rmse 0.549\n",
            "test_rmse 0.577\n",
            "--------------------\n",
            "n_neighbors=10\n",
            "***************\n",
            "p=1\n",
            "train_rmse 0.552\n",
            "test_rmse 0.580\n",
            "--------------------\n",
            "p=2\n",
            "train_rmse 0.552\n",
            "test_rmse 0.578\n",
            "--------------------\n",
            "n_neighbors=11\n",
            "***************\n",
            "p=1\n",
            "train_rmse 0.551\n",
            "test_rmse 0.578\n",
            "--------------------\n",
            "p=2\n",
            "train_rmse 0.553\n",
            "test_rmse 0.577\n",
            "--------------------\n",
            "n_neighbors=12\n",
            "***************\n",
            "p=1\n",
            "train_rmse 0.550\n",
            "test_rmse 0.574\n",
            "--------------------\n",
            "p=2\n",
            "train_rmse 0.555\n",
            "test_rmse 0.577\n",
            "--------------------\n",
            "n_neighbors=13\n",
            "***************\n",
            "p=1\n",
            "train_rmse 0.550\n",
            "test_rmse 0.573\n",
            "--------------------\n",
            "p=2\n",
            "train_rmse 0.554\n",
            "test_rmse 0.577\n",
            "--------------------\n",
            "n_neighbors=14\n",
            "***************\n",
            "p=1\n",
            "train_rmse 0.551\n",
            "test_rmse 0.575\n",
            "--------------------\n",
            "p=2\n",
            "train_rmse 0.555\n",
            "test_rmse 0.579\n",
            "--------------------\n",
            "n_neighbors=15\n",
            "***************\n",
            "p=1\n",
            "train_rmse 0.552\n",
            "test_rmse 0.574\n",
            "--------------------\n",
            "p=2\n",
            "train_rmse 0.555\n",
            "test_rmse 0.578\n",
            "--------------------\n",
            "n_neighbors=16\n",
            "***************\n",
            "p=1\n",
            "train_rmse 0.552\n",
            "test_rmse 0.574\n",
            "--------------------\n",
            "p=2\n",
            "train_rmse 0.556\n",
            "test_rmse 0.576\n",
            "--------------------\n",
            "n_neighbors=17\n",
            "***************\n",
            "p=1\n",
            "train_rmse 0.553\n",
            "test_rmse 0.574\n",
            "--------------------\n",
            "p=2\n",
            "train_rmse 0.557\n",
            "test_rmse 0.578\n",
            "--------------------\n",
            "n_neighbors=18\n",
            "***************\n",
            "p=1\n",
            "train_rmse 0.553\n",
            "test_rmse 0.574\n",
            "--------------------\n",
            "p=2\n",
            "train_rmse 0.558\n",
            "test_rmse 0.578\n",
            "--------------------\n",
            "n_neighbors=19\n",
            "***************\n",
            "p=1\n",
            "train_rmse 0.553\n",
            "test_rmse 0.572\n",
            "--------------------\n",
            "p=2\n",
            "train_rmse 0.559\n",
            "test_rmse 0.578\n",
            "--------------------\n",
            "n_neighbors=20\n",
            "***************\n",
            "p=1\n",
            "train_rmse 0.554\n",
            "test_rmse 0.572\n",
            "--------------------\n",
            "p=2\n",
            "train_rmse 0.560\n",
            "test_rmse 0.577\n",
            "--------------------\n"
          ]
        }
      ],
      "source": [
        "for k in range(20):\n",
        "    k = k + 1\n",
        "    print('n_neighbors=%s' % k)\n",
        "    print('*'*15)\n",
        "    \n",
        "    for p in [1, 2]:\n",
        "        print('p=%s' % p) \n",
        "\n",
        "        knn = KNeighborsRegressor(n_neighbors=k, p=p)\n",
        "        knn.fit(X_train, y_train)\n",
        "\n",
        "        y_train_pred = knn.predict(X_train)\n",
        "        train_mse = mse(y_train, y_train_pred)\n",
        "        train_rmse = np.sqrt(train_mse)\n",
        "        print('train_rmse', '%.3f' % train_rmse)\n",
        "\n",
        "        y_test_pred = knn.predict(X_test)\n",
        "        test_mse = mse(y_test, y_test_pred)\n",
        "        test_rmse = np.sqrt(test_mse)\n",
        "        print('test_rmse', '%.3f' % test_rmse)\n",
        "        \n",
        "        print('-'*20)"
      ]
    },
    {
      "cell_type": "markdown",
      "id": "2186f443",
      "metadata": {
        "id": "2186f443"
      },
      "source": [
        "### 2.8 Best parameters for the model ###\n",
        "\n",
        "* **Number of neighbors: 19**\n",
        "* **Power parameter for the Minkowski metric: 1**"
      ]
    },
    {
      "cell_type": "code",
      "execution_count": null,
      "id": "80f2224d",
      "metadata": {
        "colab": {
          "base_uri": "https://localhost:8080/"
        },
        "id": "80f2224d",
        "outputId": "b9a55508-a6af-44d6-bdad-d98ef1227dee"
      },
      "outputs": [
        {
          "output_type": "execute_result",
          "data": {
            "text/plain": [
              "KNeighborsRegressor(n_neighbors=19, p=1)"
            ]
          },
          "metadata": {},
          "execution_count": 35
        }
      ],
      "source": [
        "# Train the model\n",
        "knn = KNeighborsRegressor(n_neighbors=19, p=1)\n",
        "knn.fit(X_train, y_train)"
      ]
    },
    {
      "cell_type": "code",
      "execution_count": null,
      "id": "3ff620d0",
      "metadata": {
        "scrolled": true,
        "id": "3ff620d0"
      },
      "outputs": [],
      "source": [
        "# Use the model\n",
        "y_test_pred = knn.predict(X_test)"
      ]
    },
    {
      "cell_type": "code",
      "execution_count": null,
      "id": "f7331d92",
      "metadata": {
        "colab": {
          "base_uri": "https://localhost:8080/"
        },
        "id": "f7331d92",
        "outputId": "690bd0ea-9890-44aa-af93-333dc5009b52"
      },
      "outputs": [
        {
          "output_type": "execute_result",
          "data": {
            "text/plain": [
              "0.572"
            ]
          },
          "metadata": {},
          "execution_count": 37
        }
      ],
      "source": [
        "# Evaluate the model\n",
        "test_mse = mse(y_test, y_test_pred)\n",
        "test_rmse = np.sqrt(test_mse)\n",
        "test_rmse.round(3)"
      ]
    },
    {
      "cell_type": "code",
      "execution_count": null,
      "id": "a5be84d8",
      "metadata": {
        "colab": {
          "base_uri": "https://localhost:8080/",
          "height": 265
        },
        "id": "a5be84d8",
        "outputId": "45f33ec2-40cb-4d3e-b6eb-561f7b71a030"
      },
      "outputs": [
        {
          "output_type": "display_data",
          "data": {
            "text/plain": [
              "<Figure size 432x288 with 1 Axes>"
            ],
            "image/png": "[encoded data removed]"
          },
          "metadata": {
            "needs_background": "light"
          }
        }
      ],
      "source": [
        "sns.histplot(y_test_pred, label='prediction', color='red')\n",
        "sns.histplot(y_test, label='target', color='gray')\n",
        "plt.legend();"
      ]
    }
  ],
  "metadata": {
    "kernelspec": {
      "display_name": "Python 3 (ipykernel)",
      "language": "python",
      "name": "python3"
    },
    "language_info": {
      "codemirror_mode": {
        "name": "ipython",
        "version": 3
      },
      "file_extension": ".py",
      "mimetype": "text/x-python",
      "name": "python",
      "nbconvert_exporter": "python",
      "pygments_lexer": "ipython3",
      "version": "3.8.11"
    },
    "colab": {
      "name": "airbnb-madrid-regression-knn.ipynb",
      "provenance": [],
      "collapsed_sections": [
        "3c16477f",
        "ea0bd074",
        "51f53bd6",
        "051cd1d2",
        "d43d0fd2",
        "2186f443"
      ]
    }
  },
  "nbformat": 4,
  "nbformat_minor": 5
}