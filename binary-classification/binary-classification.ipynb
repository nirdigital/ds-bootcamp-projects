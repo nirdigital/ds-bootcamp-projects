{
  "cells": [
    {
      "cell_type": "markdown",
      "metadata": {
        "id": "BKqvgklD_ysy"
      },
      "source": [
        "## 4. Classification Project: Catch the Extrovert!  ##"
      ],
      "id": "BKqvgklD_ysy"
    },
    {
      "cell_type": "markdown",
      "metadata": {
        "id": "3ifVrj4l_ysz"
      },
      "source": [
        "### 4.1 The Business Problem ###\n",
        "**Problem statement:** for the **Community Manager** role, **Mindspace** would like to hire a person with the following characteristics:\n",
        "\n",
        "**About the role:** https://www.mindspace.me/careers/co/tel-aviv/45.422/community-manager/all\n",
        "> **Who is the Community Manager?**\n",
        "You will be responsible for building and maintaining our strong and unique community, you will basically be the heart and soul of our diverse community - *caring, attuned to people’s needs and exceedingly proactive*.\n",
        "\n",
        "> **Critical competencies for success:**\n",
        "> * It’s all about the people! Working as a Community Manager means *always being attuned to people’s needs and being customer-centric*.\n",
        "> * You must be an efficient communicator *who is fearless when it comes to speaking up and making your voice heard* – even in front of those who are superior to you.\n",
        "\n",
        "**Who is an Extrovert?** https://www.indeed.com/career-advice/career-development/extrovert-traits-career-paths\n",
        "> An extrovert is someone who thrives in social situations. More than just being outgoing, extroversion means that you gain energy from being around others and find that it lessens when you're alone.\n",
        "\n",
        "**Proposed solution:** \n",
        "* We believe that an Extrovert would be the best fit for the role.\n",
        "* We will develope a model – based on the MIES online personality test – to ensure **Mindspace** hires only Extroverts for the role, that is, we will trade off Recall for Precision.\n",
        "\n",
        "**Method:** \n",
        "\n",
        "We will optimize the model for a Precision score of more than 0.90 and a Recall score of not less than 0.75 by using the F0.5 score for model evaluation"
      ],
      "id": "3ifVrj4l_ysz"
    },
    {
      "cell_type": "markdown",
      "metadata": {
        "id": "U2SDCoW4_ys2"
      },
      "source": [
        "\n",
        "### 4.2 The Data: Multidimensional Introversion-Extraversion Scales (MIES) ###\n",
        "**Raw data from online personality tests:** https://openpsychometrics.org/_rawdata\n",
        "\n",
        "> For general public edification the data collected through the personality tests on this website is dumped here. All data is anonymous. Users were informed at the beginning of the test that their answers would be used for research and were asked to confirm that their answers were accurate and suitable for research upon completion (those that did not have been removed from these datasets). \n",
        "\n",
        "**MIES test:** https://openpsychometrics.org/tests/MIES\n",
        "> This is an interactive personality test measuring traits that differ between introverts and extraverts.\n",
        "The test has 91 statements of opinion that you must rate on a five point scale of how much you agree with each. It should take most people 10-15 minutes to complete.\n",
        "\n",
        "\n",
        "**Dataset:** https://openpsychometrics.org/_rawdata/MIES_Dev_Data.zip\n",
        "> The downloadables are .zip files each containing a .csv file with the data and a .txt codebook.\n",
        "\n",
        "**Description:** \n",
        "> Answers to 91 personality items, gender, age, native language, **self reported** introvert-extrovert identity"
      ],
      "id": "U2SDCoW4_ys2"
    },
    {
      "cell_type": "code",
      "execution_count": null,
      "metadata": {
        "id": "fYavy2RJ_ys5"
      },
      "outputs": [],
      "source": [
        "import numpy as np\n",
        "import pandas as pd\n",
        "import matplotlib.pyplot as plt\n",
        "import seaborn as sns\n",
        "%matplotlib inline"
      ],
      "id": "fYavy2RJ_ys5"
    },
    {
      "cell_type": "code",
      "execution_count": null,
      "metadata": {
        "id": "zy_FiKxP_ys7"
      },
      "outputs": [],
      "source": [
        "df = pd.read_csv('data.csv', sep='\\t')"
      ],
      "id": "zy_FiKxP_ys7"
    },
    {
      "cell_type": "code",
      "execution_count": null,
      "metadata": {
        "id": "KNx2wahc_ys8",
        "outputId": "02f3949e-c3a0-468e-a3e6-4bd4cdda762a"
      },
      "outputs": [
        {
          "name": "stdout",
          "output_type": "stream",
          "text": [
            "<class 'pandas.core.frame.DataFrame'>\n",
            "RangeIndex: 7188 entries, 0 to 7187\n",
            "Columns: 282 entries, Q1A to IE\n",
            "dtypes: int64(280), object(2)\n",
            "memory usage: 15.5+ MB\n"
          ]
        }
      ],
      "source": [
        "df.info()"
      ],
      "id": "KNx2wahc_ys8"
    },
    {
      "cell_type": "code",
      "execution_count": null,
      "metadata": {
        "id": "CLdBvhJQ_ys9",
        "outputId": "b0cffc86-463a-4937-e5c5-ab8504230739"
      },
      "outputs": [
        {
          "data": {
            "text/html": [
              "<div>\n",
              "<style scoped>\n",
              "    .dataframe tbody tr th:only-of-type {\n",
              "        vertical-align: middle;\n",
              "    }\n",
              "\n",
              "    .dataframe tbody tr th {\n",
              "        vertical-align: top;\n",
              "    }\n",
              "\n",
              "    .dataframe thead th {\n",
              "        text-align: right;\n",
              "    }\n",
              "</style>\n",
              "<table border=\"1\" class=\"dataframe\">\n",
              "  <thead>\n",
              "    <tr style=\"text-align: right;\">\n",
              "      <th></th>\n",
              "      <th>Q1A</th>\n",
              "      <th>Q1I</th>\n",
              "      <th>Q1E</th>\n",
              "      <th>Q2A</th>\n",
              "      <th>Q2I</th>\n",
              "      <th>Q2E</th>\n",
              "      <th>Q3A</th>\n",
              "      <th>Q3I</th>\n",
              "      <th>Q3E</th>\n",
              "      <th>Q4A</th>\n",
              "      <th>...</th>\n",
              "      <th>Q91E</th>\n",
              "      <th>country</th>\n",
              "      <th>dateload</th>\n",
              "      <th>introelapse</th>\n",
              "      <th>testelapse</th>\n",
              "      <th>surveyelapse</th>\n",
              "      <th>gender</th>\n",
              "      <th>engnat</th>\n",
              "      <th>age</th>\n",
              "      <th>IE</th>\n",
              "    </tr>\n",
              "  </thead>\n",
              "  <tbody>\n",
              "    <tr>\n",
              "      <th>0</th>\n",
              "      <td>5</td>\n",
              "      <td>51</td>\n",
              "      <td>7107</td>\n",
              "      <td>3</td>\n",
              "      <td>91</td>\n",
              "      <td>2522</td>\n",
              "      <td>1</td>\n",
              "      <td>56</td>\n",
              "      <td>6180</td>\n",
              "      <td>2</td>\n",
              "      <td>...</td>\n",
              "      <td>4609</td>\n",
              "      <td>US</td>\n",
              "      <td>2019-02-20 17:35:52</td>\n",
              "      <td>1</td>\n",
              "      <td>461</td>\n",
              "      <td>16</td>\n",
              "      <td>2</td>\n",
              "      <td>1</td>\n",
              "      <td>23</td>\n",
              "      <td>3</td>\n",
              "    </tr>\n",
              "  </tbody>\n",
              "</table>\n",
              "<p>1 rows × 282 columns</p>\n",
              "</div>"
            ],
            "text/plain": [
              "   Q1A  Q1I   Q1E  Q2A  Q2I   Q2E  Q3A  Q3I   Q3E  Q4A  ...  Q91E  country  \\\n",
              "0    5   51  7107    3   91  2522    1   56  6180    2  ...  4609       US   \n",
              "\n",
              "              dateload  introelapse  testelapse  surveyelapse  gender  engnat  \\\n",
              "0  2019-02-20 17:35:52            1         461            16       2       1   \n",
              "\n",
              "   age  IE  \n",
              "0   23   3  \n",
              "\n",
              "[1 rows x 282 columns]"
            ]
          },
          "execution_count": 4,
          "metadata": {},
          "output_type": "execute_result"
        }
      ],
      "source": [
        "df.head(1)"
      ],
      "id": "CLdBvhJQ_ys9"
    },
    {
      "cell_type": "code",
      "execution_count": null,
      "metadata": {
        "id": "-0zr0_Zj_ys9",
        "outputId": "34f65570-0248-47f2-dd5b-fb7e9c757e51"
      },
      "outputs": [
        {
          "data": {
            "text/plain": [
              "Index(['q1a', 'q1i', 'q1e', 'q2a', 'q2i', 'q2e', 'q3a', 'q3i', 'q3e', 'q4a',\n",
              "       ...\n",
              "       'q91e', 'country', 'dateload', 'introelapse', 'testelapse',\n",
              "       'surveyelapse', 'gender', 'engnat', 'age', 'ie'],\n",
              "      dtype='object', length=282)"
            ]
          },
          "execution_count": 5,
          "metadata": {},
          "output_type": "execute_result"
        }
      ],
      "source": [
        "# Convert all column names to lowercase\n",
        "df.columns = df.columns.str.lower()\n",
        "df.columns"
      ],
      "id": "-0zr0_Zj_ys9"
    },
    {
      "cell_type": "markdown",
      "metadata": {
        "id": "QE6_XvdN_ys-"
      },
      "source": [
        "### 4.3 Target variable distribution ###\n",
        "**IE variable (raw feature)**\n",
        "\n",
        "After the main question sequence, the following questions were asked on one final page:\n",
        "\n",
        "**\"Do you identify as either an introvert or extravert?\"**\n",
        "\n",
        "0=No response\n",
        "\n",
        "1=Introvert \n",
        "\n",
        "2=Extravert \n",
        "\n",
        "3=No"
      ],
      "id": "QE6_XvdN_ys-"
    },
    {
      "cell_type": "code",
      "execution_count": null,
      "metadata": {
        "id": "MJdnfpEz_ys_",
        "outputId": "abb1d9a1-203b-41fd-8abe-a1748db32e34"
      },
      "outputs": [
        {
          "data": {
            "text/plain": [
              "1    4404\n",
              "3    1769\n",
              "2     990\n",
              "0      25\n",
              "Name: ie, dtype: int64"
            ]
          },
          "execution_count": 6,
          "metadata": {},
          "output_type": "execute_result"
        }
      ],
      "source": [
        "df.ie.value_counts()"
      ],
      "id": "MJdnfpEz_ys_"
    },
    {
      "cell_type": "code",
      "execution_count": null,
      "metadata": {
        "id": "GGc1AzUB_ytA"
      },
      "outputs": [],
      "source": [
        "# Keep records where the target variable value is either 1=Introvert or 2=Extrovert\n",
        "df = df[(df.ie==1) | (df.ie==2)]"
      ],
      "id": "GGc1AzUB_ytA"
    },
    {
      "cell_type": "code",
      "execution_count": null,
      "metadata": {
        "id": "oRZoCkjl_ytB"
      },
      "outputs": [],
      "source": [
        "# Replace 1=Introvert values with 0=Introvert\n",
        "df.ie = df.ie.replace(1, 0)"
      ],
      "id": "oRZoCkjl_ytB"
    },
    {
      "cell_type": "code",
      "execution_count": null,
      "metadata": {
        "id": "-oqP1N5Z_ytB"
      },
      "outputs": [],
      "source": [
        "# Replace 2=Extrovert values with 1=Extrovert\n",
        "df.ie = df.ie.replace(2, 1)"
      ],
      "id": "-oqP1N5Z_ytB"
    },
    {
      "cell_type": "markdown",
      "metadata": {
        "id": "wf3rOcqF_ytC"
      },
      "source": [
        "### IE variable (engineered feature) ###\n",
        "* **Negative label = 0 = Introvert**\n",
        "* **Positive label = 1 = Extrovert**\n",
        "\n",
        "**Note:** the positive label is under-represented in the dataset – about **1:4.5** parts of the negative label"
      ],
      "id": "wf3rOcqF_ytC"
    },
    {
      "cell_type": "code",
      "execution_count": null,
      "metadata": {
        "id": "_ovM-lPT_ytD",
        "outputId": "865bd083-2597-457e-da8b-1bfd2f5b251e"
      },
      "outputs": [
        {
          "data": {
            "text/plain": [
              "0    4404\n",
              "1     990\n",
              "Name: ie, dtype: int64"
            ]
          },
          "execution_count": 10,
          "metadata": {},
          "output_type": "execute_result"
        }
      ],
      "source": [
        "df.ie.value_counts()"
      ],
      "id": "_ovM-lPT_ytD"
    },
    {
      "cell_type": "code",
      "execution_count": null,
      "metadata": {
        "id": "fE2KEzOo_ytD",
        "outputId": "a71e16a4-336f-4c22-f50d-5193455d5156"
      },
      "outputs": [
        {
          "data": {
            "image/png": "[encoded data removed]",
            "text/plain": [
              "<Figure size 432x288 with 1 Axes>"
            ]
          },
          "metadata": {},
          "output_type": "display_data"
        }
      ],
      "source": [
        "inex = pd.DataFrame(data=df.ie.value_counts(), index={0: 'Introvert', 1: 'Extrovert'})\n",
        "inex.rename(index={0: 'Introvert', 1: 'Extrovert'}, columns={'ie': 'Counts'}, inplace=True)\n",
        "sns.set_theme(style='whitegrid', rc={'axes.titlesize': 'large'})\n",
        "fig, ax = plt.subplots()\n",
        "ax = sns.barplot(x=inex.index, y=inex.Counts)\n",
        "ax.set_title('Target Variable Distribution')\n",
        "fig.tight_layout()"
      ],
      "id": "fE2KEzOo_ytD"
    },
    {
      "cell_type": "markdown",
      "metadata": {
        "id": "ZxO8sOW2_ytE"
      },
      "source": [
        "### 4.4 Final page variables ###\n",
        "After the main question sequence, the following questions were asked on one final page:\n",
        "\n",
        "**Gender variable**\n",
        "\n",
        "\"What is your gender?\"\n",
        "\n",
        "0=No response\n",
        "\n",
        "1=Male \n",
        "\n",
        "2=Female\n",
        "\n",
        "3=Other"
      ],
      "id": "ZxO8sOW2_ytE"
    },
    {
      "cell_type": "code",
      "execution_count": null,
      "metadata": {
        "id": "SWS2AfkW_ytF",
        "outputId": "60fb59a5-a3f2-4883-8563-b5a72fc3a8d2"
      },
      "outputs": [
        {
          "data": {
            "text/plain": [
              "2    3102\n",
              "1    2078\n",
              "3     143\n",
              "0      71\n",
              "Name: gender, dtype: int64"
            ]
          },
          "execution_count": 12,
          "metadata": {},
          "output_type": "execute_result"
        }
      ],
      "source": [
        "df.gender.value_counts()"
      ],
      "id": "SWS2AfkW_ytF"
    },
    {
      "cell_type": "markdown",
      "metadata": {
        "id": "o42V4_18_ytG"
      },
      "source": [
        "* We have decided to remove gender categories without a lot of records\n",
        "* We would like to focus on the Male/Female binary variable and see if it could help us predict the target variable"
      ],
      "id": "o42V4_18_ytG"
    },
    {
      "cell_type": "code",
      "execution_count": null,
      "metadata": {
        "id": "N_XWmuJq_ytG"
      },
      "outputs": [],
      "source": [
        "# Keep records where the gender variable value is either 1 (male) or 2 (female)\n",
        "df = df[(df.gender==1) | (df.gender==2)]"
      ],
      "id": "N_XWmuJq_ytG"
    },
    {
      "cell_type": "code",
      "execution_count": null,
      "metadata": {
        "scrolled": true,
        "id": "f1aFaiVQ_ytG",
        "outputId": "d4be8c8b-d185-465a-c3a2-c4a8c587bd4e"
      },
      "outputs": [
        {
          "data": {
            "text/plain": [
              "2    3102\n",
              "1    2078\n",
              "Name: gender, dtype: int64"
            ]
          },
          "execution_count": 14,
          "metadata": {},
          "output_type": "execute_result"
        }
      ],
      "source": [
        "df.gender.value_counts()"
      ],
      "id": "f1aFaiVQ_ytG"
    },
    {
      "cell_type": "code",
      "execution_count": null,
      "metadata": {
        "id": "AF5cJISm_ytH",
        "outputId": "7e2e68bf-7ca1-4fa2-dcf0-de53da4b2cd2"
      },
      "outputs": [
        {
          "data": {
            "text/plain": [
              "0.1693936477382098"
            ]
          },
          "execution_count": 15,
          "metadata": {},
          "output_type": "execute_result"
        }
      ],
      "source": [
        "# Target variable mean for Males\n",
        "df[df.gender==1].ie.mean()"
      ],
      "id": "AF5cJISm_ytH"
    },
    {
      "cell_type": "code",
      "execution_count": null,
      "metadata": {
        "id": "7-bCZHLs_ytH",
        "outputId": "562583af-d18a-4757-8f22-50f4d263cf1e"
      },
      "outputs": [
        {
          "data": {
            "text/plain": [
              "0.19310122501611862"
            ]
          },
          "execution_count": 16,
          "metadata": {},
          "output_type": "execute_result"
        }
      ],
      "source": [
        "# Target variable mean for Females\n",
        "df[df.gender==2].ie.mean()"
      ],
      "id": "7-bCZHLs_ytH"
    },
    {
      "cell_type": "markdown",
      "metadata": {
        "id": "fXgmPVxz_ytI"
      },
      "source": [
        "* We see that the mean IE value for men is quite similar to that of women, and therefore we conclude that we can exclude the gender feature from our model"
      ],
      "id": "fXgmPVxz_ytI"
    },
    {
      "cell_type": "markdown",
      "metadata": {
        "id": "mDQHhNfq_ytI"
      },
      "source": [
        "**Engnat variable**\n",
        "\n",
        "\"Is English your native language?\"\n",
        "\n",
        "0=No response\n",
        "\n",
        "1=Yes\n",
        "\n",
        "2=No"
      ],
      "id": "mDQHhNfq_ytI"
    },
    {
      "cell_type": "code",
      "execution_count": null,
      "metadata": {
        "id": "3On8JQo2_ytI",
        "outputId": "797e232a-16ca-451f-a283-6d2e2e54eee0"
      },
      "outputs": [
        {
          "data": {
            "text/plain": [
              "1    3519\n",
              "2    1649\n",
              "0      12\n",
              "Name: engnat, dtype: int64"
            ]
          },
          "execution_count": 17,
          "metadata": {},
          "output_type": "execute_result"
        }
      ],
      "source": [
        "df.engnat.value_counts()"
      ],
      "id": "3On8JQo2_ytI"
    },
    {
      "cell_type": "code",
      "execution_count": null,
      "metadata": {
        "id": "ctd98nbc_ytJ",
        "outputId": "3fc2f616-6030-42ab-cee2-56218f088eff"
      },
      "outputs": [
        {
          "data": {
            "text/plain": [
              "0.16666666666666666"
            ]
          },
          "execution_count": 18,
          "metadata": {},
          "output_type": "execute_result"
        }
      ],
      "source": [
        "df[df.engnat==0].ie.mean()"
      ],
      "id": "ctd98nbc_ytJ"
    },
    {
      "cell_type": "code",
      "execution_count": null,
      "metadata": {
        "id": "qRXrmsHH_ytJ",
        "outputId": "ed1e34c0-1b2c-4b96-a8fb-2d46bd20e846"
      },
      "outputs": [
        {
          "data": {
            "text/plain": [
              "0.19721511793123048"
            ]
          },
          "execution_count": 19,
          "metadata": {},
          "output_type": "execute_result"
        }
      ],
      "source": [
        "df[df.engnat==1].ie.mean()"
      ],
      "id": "qRXrmsHH_ytJ"
    },
    {
      "cell_type": "code",
      "execution_count": null,
      "metadata": {
        "id": "6JvUsj5I_ytJ",
        "outputId": "774c7d69-112c-4526-c3fb-f57f0dcc6882"
      },
      "outputs": [
        {
          "data": {
            "text/plain": [
              "0.15463917525773196"
            ]
          },
          "execution_count": 20,
          "metadata": {},
          "output_type": "execute_result"
        }
      ],
      "source": [
        "df[df.engnat==2].ie.mean()"
      ],
      "id": "6JvUsj5I_ytJ"
    },
    {
      "cell_type": "markdown",
      "metadata": {
        "id": "Q4OsuBYT_ytK"
      },
      "source": [
        "* We see a similar mean IE value for all 'engnat' categories, \n",
        "and therefore we conclude that the 'engnat' variable is insiginifacnt for our model"
      ],
      "id": "Q4OsuBYT_ytK"
    },
    {
      "cell_type": "markdown",
      "metadata": {
        "id": "iXOkb0YN_ytK"
      },
      "source": [
        "**Age variable**\n",
        "\n",
        "\"What is your age in years?\""
      ],
      "id": "iXOkb0YN_ytK"
    },
    {
      "cell_type": "code",
      "execution_count": null,
      "metadata": {
        "id": "D55xsPiR_ytK",
        "outputId": "caa7a23b-b4cd-4937-8344-a88052986c78"
      },
      "outputs": [
        {
          "data": {
            "text/plain": [
              "count    5180.0\n",
              "mean       28.0\n",
              "std        62.0\n",
              "min        14.0\n",
              "25%        18.0\n",
              "50%        22.0\n",
              "75%        30.0\n",
              "max      2003.0\n",
              "Name: age, dtype: float64"
            ]
          },
          "execution_count": 21,
          "metadata": {},
          "output_type": "execute_result"
        }
      ],
      "source": [
        "df.age.describe().round()"
      ],
      "id": "D55xsPiR_ytK"
    },
    {
      "cell_type": "code",
      "execution_count": null,
      "metadata": {
        "scrolled": true,
        "id": "V_5pKx40_ytL",
        "outputId": "e14f4e29-18f7-4d2c-a4ef-01b37634fb58"
      },
      "outputs": [
        {
          "data": {
            "text/plain": [
              "6662      14\n",
              "192       14\n",
              "3209      14\n",
              "5358      14\n",
              "178       14\n",
              "        ... \n",
              "5470    1979\n",
              "4179    1983\n",
              "1302    1990\n",
              "6856    1999\n",
              "4043    2003\n",
              "Name: age, Length: 5180, dtype: int64"
            ]
          },
          "execution_count": 22,
          "metadata": {},
          "output_type": "execute_result"
        }
      ],
      "source": [
        "df.age.sort_values()"
      ],
      "id": "V_5pKx40_ytL"
    },
    {
      "cell_type": "code",
      "execution_count": null,
      "metadata": {
        "id": "UD1IyrDz_ytL"
      },
      "outputs": [],
      "source": [
        "# Remove 5 records where users misentered their age\n",
        "df = df[df.age<1000]"
      ],
      "id": "UD1IyrDz_ytL"
    },
    {
      "cell_type": "code",
      "execution_count": null,
      "metadata": {
        "id": "jRHhrU5b_ytM",
        "outputId": "fd096ca1-a26a-43f7-bc38-072b15465d2e"
      },
      "outputs": [
        {
          "data": {
            "text/plain": [
              "count    5175.0\n",
              "mean       26.0\n",
              "std        12.0\n",
              "min        14.0\n",
              "25%        18.0\n",
              "50%        22.0\n",
              "75%        30.0\n",
              "max        81.0\n",
              "Name: age, dtype: float64"
            ]
          },
          "execution_count": 24,
          "metadata": {},
          "output_type": "execute_result"
        }
      ],
      "source": [
        "df.age.describe().round()"
      ],
      "id": "jRHhrU5b_ytM"
    },
    {
      "cell_type": "code",
      "execution_count": null,
      "metadata": {
        "scrolled": true,
        "id": "9nZbJ7Ij_ytM",
        "outputId": "557189a0-f9b1-4cfd-c67c-28953839f996"
      },
      "outputs": [
        {
          "data": {
            "image/png": "[encoded data removed]",
            "text/plain": [
              "<Figure size 432x288 with 1 Axes>"
            ]
          },
          "metadata": {},
          "output_type": "display_data"
        }
      ],
      "source": [
        "sns.set_theme(style='whitegrid', rc={'axes.titlesize': 'large'})\n",
        "fig, ax = plt.subplots()\n",
        "ax = sns.histplot(df.age, bins=81)\n",
        "ax.set_title('Age Distribution')\n",
        "fig.tight_layout()"
      ],
      "id": "9nZbJ7Ij_ytM"
    },
    {
      "cell_type": "markdown",
      "metadata": {
        "id": "Dlaa1wfA_ytM"
      },
      "source": [
        "* We assume that age cannot predict In/Extroversion, and will ignore the age variable in our model"
      ],
      "id": "Dlaa1wfA_ytM"
    },
    {
      "cell_type": "markdown",
      "metadata": {
        "id": "Tteu4SMD_ytN"
      },
      "source": [
        "The following variables were determined from techincal information:\n",
        "\n",
        "**country:** user's network location\n",
        "\n",
        "**dateload:** the time the user loaded the introduction page\n",
        "\n",
        "**introelapse:** the time spent in seconds on the introduction page\n",
        "\n",
        "**testelapse:** the time spent in seconds on the test questions\n",
        "\n",
        "**surveyelapse:** the time spent in seconds on the final page\n"
      ],
      "id": "Tteu4SMD_ytN"
    },
    {
      "cell_type": "code",
      "execution_count": null,
      "metadata": {
        "scrolled": true,
        "id": "uvkMKl5__ytN",
        "outputId": "c5733d6b-acac-4499-faa3-5c3320ba5b00"
      },
      "outputs": [
        {
          "data": {
            "image/png": "[encoded data removed]",
            "text/plain": [
              "<Figure size 360x1080 with 1 Axes>"
            ]
          },
          "metadata": {},
          "output_type": "display_data"
        }
      ],
      "source": [
        "country = df.country.value_counts()\n",
        "sns.set_theme(style='whitegrid', rc={'axes.titlesize': 'large'})\n",
        "fig, ax = plt.subplots(figsize=(5, 15))\n",
        "ax = sns.barplot(x=country.values, y=country.index)\n",
        "ax.set_title('Country Distribution')\n",
        "fig.tight_layout()"
      ],
      "id": "uvkMKl5__ytN"
    },
    {
      "cell_type": "markdown",
      "metadata": {
        "id": "KyssAKds_ytN"
      },
      "source": [
        "* We assume that the 5 'technical' variables will not assist us in predicting the IE variable\n",
        "* However, we will use the 'testelapse' and 'surveyelapse' variables to qualify the dataset"
      ],
      "id": "KyssAKds_ytN"
    },
    {
      "cell_type": "code",
      "execution_count": null,
      "metadata": {
        "id": "fxaDphMB_ytO",
        "outputId": "f4af4f65-2f99-44ea-cac3-4ee876361fd0"
      },
      "outputs": [
        {
          "data": {
            "text/plain": [
              "count       5175.000\n",
              "mean        1242.441\n",
              "std        19274.442\n",
              "min          148.000\n",
              "25%          303.000\n",
              "50%          379.000\n",
              "75%          501.000\n",
              "max      1170335.000\n",
              "Name: testelapse, dtype: float64"
            ]
          },
          "execution_count": 27,
          "metadata": {},
          "output_type": "execute_result"
        }
      ],
      "source": [
        "df.testelapse.describe().round(3)"
      ],
      "id": "fxaDphMB_ytO"
    },
    {
      "cell_type": "markdown",
      "metadata": {
        "id": "Sr588Z_l_ytO"
      },
      "source": [
        "**Testelapse variable:** the time spent in seconds on the test questions\n",
        "> It should take most people 10-15 minutes to complete.\n",
        "* Since we would like to exclude persones who lingered over the questions; \n",
        "* We are going to remove records where the 'testelapse' value is greater than 15 min (900 sec)"
      ],
      "id": "Sr588Z_l_ytO"
    },
    {
      "cell_type": "code",
      "execution_count": null,
      "metadata": {
        "id": "Xaspz3eE_ytO"
      },
      "outputs": [],
      "source": [
        "# Keep records where the testelapse value is not greater than 900 sec\n",
        "df = df[df.testelapse<=900]"
      ],
      "id": "Xaspz3eE_ytO"
    },
    {
      "cell_type": "code",
      "execution_count": null,
      "metadata": {
        "scrolled": true,
        "id": "RrSaJP3a_ytO",
        "outputId": "6988b0f9-c401-4b4e-fd3a-f118bc32cfe7"
      },
      "outputs": [
        {
          "data": {
            "text/plain": [
              "(4813, 282)"
            ]
          },
          "execution_count": 29,
          "metadata": {},
          "output_type": "execute_result"
        }
      ],
      "source": [
        "df.shape"
      ],
      "id": "RrSaJP3a_ytO"
    },
    {
      "cell_type": "markdown",
      "metadata": {
        "id": "B7fz47PZ_ytP"
      },
      "source": [
        "**Surveyelapse variable:** the time spent in seconds on the final page (5 questions in total): gender, age, engnat, IE, and also:\n",
        "> On the final page, the users were also asked \"Do you give accurate answers and can we store and use your data for research?\". Only those who answered yes were recorded.\n",
        "\n",
        "**IE question=self reported introvert-extrovert identity:**\n",
        "\n",
        "* Since we would like to exclude persones who lingered over the IE question: \"Do you identify as either an introvert or extravert?\"\t\n",
        "* And knowing that the mean time spent on each question shouldn't take more than ~10 sec (900 sec divided by 91 questions);\n",
        "* We are going to remove records where the 'testelapse' value is greater than 50 sec"
      ],
      "id": "B7fz47PZ_ytP"
    },
    {
      "cell_type": "code",
      "execution_count": null,
      "metadata": {
        "id": "zgA10ap6_ytP"
      },
      "outputs": [],
      "source": [
        "# Keep records where the surveyelapse value is not greater than 50 sec\n",
        "df = df[df.surveyelapse<=50]"
      ],
      "id": "zgA10ap6_ytP"
    },
    {
      "cell_type": "code",
      "execution_count": null,
      "metadata": {
        "id": "T15eocUE_ytP",
        "outputId": "09f6ea91-203e-4eaf-b335-b874befead68"
      },
      "outputs": [
        {
          "data": {
            "text/plain": [
              "(4526, 282)"
            ]
          },
          "execution_count": 31,
          "metadata": {},
          "output_type": "execute_result"
        }
      ],
      "source": [
        "df.shape"
      ],
      "id": "T15eocUE_ytP"
    },
    {
      "cell_type": "code",
      "execution_count": null,
      "metadata": {
        "id": "DZrLITTg_ytQ",
        "outputId": "d0d653ae-db7a-4687-f1df-838f9109c155"
      },
      "outputs": [
        {
          "data": {
            "text/plain": [
              "Index(['q1a', 'q1i', 'q1e', 'q2a', 'q2i', 'q2e', 'q3a', 'q3i', 'q3e', 'q4a',\n",
              "       ...\n",
              "       'q91e', 'country', 'dateload', 'introelapse', 'testelapse',\n",
              "       'surveyelapse', 'gender', 'engnat', 'age', 'ie'],\n",
              "      dtype='object', length=282)"
            ]
          },
          "execution_count": 32,
          "metadata": {},
          "output_type": "execute_result"
        }
      ],
      "source": [
        "df.columns"
      ],
      "id": "DZrLITTg_ytQ"
    },
    {
      "cell_type": "markdown",
      "metadata": {
        "id": "9MAolgrD_ytQ"
      },
      "source": [
        "### 4.5 Data subset ###\n",
        "\n",
        "**Test questions** (the text of the questions is avialable in the codebook file):\n",
        "\n",
        "The test contained 91 questions. The questions were presented one at a time in a random order. \n",
        "For each questions 3 values were recorded:\n",
        "\n",
        "> Q1-91**A**: The user's selected response: 1=Disagree, 2=Slightly disagree, 3=Neutral, 4=Slightly agree, 5=Agree\n",
        "\n",
        "> Q1-91**I**: The position of the question in the survey\n",
        "\n",
        "> Q1-91**E**: The time elapsed on that question in milliseconds\n",
        "\n",
        "\n",
        "\n",
        "\n",
        "* We have decided to focus on the user's selected response\n",
        "* From now on, our data subset will include only 91 features: Q1-91**A**\n"
      ],
      "id": "9MAolgrD_ytQ"
    },
    {
      "cell_type": "markdown",
      "metadata": {
        "id": "Jr-UFC8f_ytR"
      },
      "source": [
        "### Feature matrix:  Q1-91A columns ###"
      ],
      "id": "Jr-UFC8f_ytR"
    },
    {
      "cell_type": "code",
      "execution_count": null,
      "metadata": {
        "id": "dZ6R7DPT_ytS"
      },
      "outputs": [],
      "source": [
        "# Select the q1-91a columns\n",
        "X = df.filter(regex='a$', axis='columns')"
      ],
      "id": "dZ6R7DPT_ytS"
    },
    {
      "cell_type": "code",
      "execution_count": null,
      "metadata": {
        "id": "dwsrgyCq_yta",
        "outputId": "2a9fa797-a909-47bb-bdcc-e7e1a034426c"
      },
      "outputs": [
        {
          "data": {
            "text/plain": [
              "(4526, 91)"
            ]
          },
          "execution_count": 34,
          "metadata": {},
          "output_type": "execute_result"
        }
      ],
      "source": [
        "X.shape"
      ],
      "id": "dwsrgyCq_yta"
    },
    {
      "cell_type": "markdown",
      "metadata": {
        "id": "snyeUrQ1_ytb"
      },
      "source": [
        "### Target vector:  IE column ###\n",
        "* **Negative label = 0 = Introvert**\n",
        "* **Positive label = 1 = Extrovert**"
      ],
      "id": "snyeUrQ1_ytb"
    },
    {
      "cell_type": "code",
      "execution_count": null,
      "metadata": {
        "id": "bKww6n-T_ytc"
      },
      "outputs": [],
      "source": [
        "# Select the ie column\n",
        "y = df.ie"
      ],
      "id": "bKww6n-T_ytc"
    },
    {
      "cell_type": "code",
      "execution_count": null,
      "metadata": {
        "id": "U4iZ6szz_ytc",
        "outputId": "951b194a-762c-4ba9-9044-cc2606630f81"
      },
      "outputs": [
        {
          "data": {
            "text/plain": [
              "(4526,)"
            ]
          },
          "execution_count": 36,
          "metadata": {},
          "output_type": "execute_result"
        }
      ],
      "source": [
        "y.shape"
      ],
      "id": "U4iZ6szz_ytc"
    },
    {
      "cell_type": "code",
      "execution_count": null,
      "metadata": {
        "id": "-zZz9i3u_ytd",
        "outputId": "a7b370e8-92b0-4930-d1be-1e7dd94bfa28"
      },
      "outputs": [
        {
          "data": {
            "text/plain": [
              "0    3713\n",
              "1     813\n",
              "Name: ie, dtype: int64"
            ]
          },
          "execution_count": 37,
          "metadata": {},
          "output_type": "execute_result"
        }
      ],
      "source": [
        "y.value_counts()"
      ],
      "id": "-zZz9i3u_ytd"
    },
    {
      "cell_type": "markdown",
      "metadata": {
        "id": "lKC8unBT_ytd"
      },
      "source": [
        "**Reminder:** The positive label is under-represented in the dataset – about **1:4.6** parts of the negative label"
      ],
      "id": "lKC8unBT_ytd"
    },
    {
      "cell_type": "markdown",
      "metadata": {
        "id": "Dv-U8zgd_ytd"
      },
      "source": [
        "### Mutual information ###"
      ],
      "id": "Dv-U8zgd_ytd"
    },
    {
      "cell_type": "code",
      "execution_count": null,
      "metadata": {
        "id": "ZB3I44RL_ytd"
      },
      "outputs": [],
      "source": [
        "from sklearn.feature_selection import mutual_info_classif"
      ],
      "id": "ZB3I44RL_ytd"
    },
    {
      "cell_type": "code",
      "execution_count": null,
      "metadata": {
        "scrolled": true,
        "id": "xyldbnOI_yte",
        "outputId": "e67918d2-f96c-47ca-e01c-0128cdd5d11b"
      },
      "outputs": [
        {
          "data": {
            "text/html": [
              "<div>\n",
              "<style scoped>\n",
              "    .dataframe tbody tr th:only-of-type {\n",
              "        vertical-align: middle;\n",
              "    }\n",
              "\n",
              "    .dataframe tbody tr th {\n",
              "        vertical-align: top;\n",
              "    }\n",
              "\n",
              "    .dataframe thead th {\n",
              "        text-align: right;\n",
              "    }\n",
              "</style>\n",
              "<table border=\"1\" class=\"dataframe\">\n",
              "  <thead>\n",
              "    <tr style=\"text-align: right;\">\n",
              "      <th></th>\n",
              "      <th>MI</th>\n",
              "    </tr>\n",
              "    <tr>\n",
              "      <th>Q</th>\n",
              "      <th></th>\n",
              "    </tr>\n",
              "  </thead>\n",
              "  <tbody>\n",
              "    <tr>\n",
              "      <th>q83a</th>\n",
              "      <td>0.1932</td>\n",
              "    </tr>\n",
              "    <tr>\n",
              "      <th>q91a</th>\n",
              "      <td>0.1823</td>\n",
              "    </tr>\n",
              "    <tr>\n",
              "      <th>q82a</th>\n",
              "      <td>0.1750</td>\n",
              "    </tr>\n",
              "    <tr>\n",
              "      <th>q90a</th>\n",
              "      <td>0.1664</td>\n",
              "    </tr>\n",
              "    <tr>\n",
              "      <th>q81a</th>\n",
              "      <td>0.1570</td>\n",
              "    </tr>\n",
              "    <tr>\n",
              "      <th>q80a</th>\n",
              "      <td>0.1514</td>\n",
              "    </tr>\n",
              "    <tr>\n",
              "      <th>q84a</th>\n",
              "      <td>0.1282</td>\n",
              "    </tr>\n",
              "    <tr>\n",
              "      <th>q89a</th>\n",
              "      <td>0.1249</td>\n",
              "    </tr>\n",
              "    <tr>\n",
              "      <th>q13a</th>\n",
              "      <td>0.1104</td>\n",
              "    </tr>\n",
              "    <tr>\n",
              "      <th>q14a</th>\n",
              "      <td>0.1030</td>\n",
              "    </tr>\n",
              "  </tbody>\n",
              "</table>\n",
              "</div>"
            ],
            "text/plain": [
              "          MI\n",
              "Q           \n",
              "q83a  0.1932\n",
              "q91a  0.1823\n",
              "q82a  0.1750\n",
              "q90a  0.1664\n",
              "q81a  0.1570\n",
              "q80a  0.1514\n",
              "q84a  0.1282\n",
              "q89a  0.1249\n",
              "q13a  0.1104\n",
              "q14a  0.1030"
            ]
          },
          "execution_count": 39,
          "metadata": {},
          "output_type": "execute_result"
        }
      ],
      "source": [
        "q = X.columns\n",
        "mi = mutual_info_classif(X, y).round(4)\n",
        "mi_data = list(zip(q, mi))\n",
        "mi_df = pd.DataFrame.from_records(mi_data, columns=['Q', 'MI'])\n",
        "mi_sorted= mi_df.sort_values(by='MI', ascending=False).set_index('Q')\n",
        "mi_sorted[:10]"
      ],
      "id": "xyldbnOI_yte"
    },
    {
      "cell_type": "markdown",
      "metadata": {
        "id": "2P1D_2l4_yte"
      },
      "source": [
        "### 4.6 Data split  ###"
      ],
      "id": "2P1D_2l4_yte"
    },
    {
      "cell_type": "code",
      "execution_count": null,
      "metadata": {
        "id": "tGWJ69L2_yte"
      },
      "outputs": [],
      "source": [
        "from sklearn.model_selection import train_test_split"
      ],
      "id": "tGWJ69L2_yte"
    },
    {
      "cell_type": "code",
      "execution_count": null,
      "metadata": {
        "id": "VyERAbPF_yte"
      },
      "outputs": [],
      "source": [
        "X_train, X_test, y_train, y_test = train_test_split(X, y, test_size=0.2, random_state=42)"
      ],
      "id": "VyERAbPF_yte"
    },
    {
      "cell_type": "code",
      "execution_count": null,
      "metadata": {
        "id": "LVfGm4qX_ytf",
        "outputId": "2723717e-f614-413c-f9de-1b72ba1dfc76"
      },
      "outputs": [
        {
          "data": {
            "text/plain": [
              "((3620, 91), (906, 91))"
            ]
          },
          "execution_count": 42,
          "metadata": {},
          "output_type": "execute_result"
        }
      ],
      "source": [
        "# Check size of dataframes\n",
        "X_train.shape, X_test.shape"
      ],
      "id": "LVfGm4qX_ytf"
    },
    {
      "cell_type": "code",
      "execution_count": null,
      "metadata": {
        "id": "YAlGWNb7_ytf",
        "outputId": "27d61b4f-9fd5-4bcc-f526-52842aa2567b"
      },
      "outputs": [
        {
          "data": {
            "text/plain": [
              "((3620,), (906,))"
            ]
          },
          "execution_count": 43,
          "metadata": {},
          "output_type": "execute_result"
        }
      ],
      "source": [
        "# Check size of arrays\n",
        "y_train.shape, y_test.shape"
      ],
      "id": "YAlGWNb7_ytf"
    },
    {
      "cell_type": "markdown",
      "metadata": {
        "id": "ZwwyPQ7x_ytg"
      },
      "source": [
        "### 4.7 Logistic regression: 'lg' model"
      ],
      "id": "ZwwyPQ7x_ytg"
    },
    {
      "cell_type": "code",
      "execution_count": null,
      "metadata": {
        "id": "Hri1_eXs_ytg"
      },
      "outputs": [],
      "source": [
        "from sklearn.linear_model import LogisticRegression"
      ],
      "id": "Hri1_eXs_ytg"
    },
    {
      "cell_type": "markdown",
      "metadata": {
        "id": "I1GZPOk3_ytg"
      },
      "source": [
        "* ### Fit the model ###"
      ],
      "id": "I1GZPOk3_ytg"
    },
    {
      "cell_type": "code",
      "execution_count": null,
      "metadata": {
        "id": "g-ONRn4z_ytg",
        "outputId": "109ec0ff-0cbd-48b5-f5ac-1acf43534393"
      },
      "outputs": [
        {
          "data": {
            "text/plain": [
              "LogisticRegression(random_state=42, solver='liblinear')"
            ]
          },
          "execution_count": 45,
          "metadata": {},
          "output_type": "execute_result"
        }
      ],
      "source": [
        "lg = LogisticRegression(solver='liblinear', random_state=42)\n",
        "lg.fit(X_train, y_train)"
      ],
      "id": "g-ONRn4z_ytg"
    },
    {
      "cell_type": "markdown",
      "metadata": {
        "id": "puOFzycA_yth"
      },
      "source": [
        "* ### Train data predictions ###"
      ],
      "id": "puOFzycA_yth"
    },
    {
      "cell_type": "code",
      "execution_count": null,
      "metadata": {
        "id": "NWgX8Qnd_yth"
      },
      "outputs": [],
      "source": [
        "y_train_predict_lg = lg.predict(X_train)"
      ],
      "id": "NWgX8Qnd_yth"
    },
    {
      "cell_type": "markdown",
      "metadata": {
        "id": "DmEwhZ4K_yth"
      },
      "source": [
        "* ### Classification metrics ###"
      ],
      "id": "DmEwhZ4K_yth"
    },
    {
      "cell_type": "markdown",
      "metadata": {
        "id": "8hZlgnoD_yth"
      },
      "source": [
        "**Confusion matrix:** "
      ],
      "id": "8hZlgnoD_yth"
    },
    {
      "cell_type": "code",
      "execution_count": null,
      "metadata": {
        "id": "WCjA5Iuy_yti"
      },
      "outputs": [],
      "source": [
        "from sklearn.metrics import confusion_matrix, ConfusionMatrixDisplay"
      ],
      "id": "WCjA5Iuy_yti"
    },
    {
      "cell_type": "code",
      "execution_count": null,
      "metadata": {
        "id": "17GajW_E_yti",
        "outputId": "f4f9cb57-e724-46d8-d274-71d226fd4c1e"
      },
      "outputs": [
        {
          "data": {
            "text/plain": [
              "<sklearn.metrics._plot.confusion_matrix.ConfusionMatrixDisplay at 0x238f2fc0b50>"
            ]
          },
          "execution_count": 48,
          "metadata": {},
          "output_type": "execute_result"
        },
        {
          "data": {
            "image/png": "[encoded data removed]",
            "text/plain": [
              "<Figure size 432x288 with 2 Axes>"
            ]
          },
          "metadata": {},
          "output_type": "display_data"
        }
      ],
      "source": [
        "# Display the confusion_matrix\n",
        "cm = confusion_matrix(y_train, y_train_predict_lg)\n",
        "cmd = ConfusionMatrixDisplay(confusion_matrix=cm, display_labels=lg.classes_)\n",
        "cmd.plot()"
      ],
      "id": "17GajW_E_yti"
    },
    {
      "cell_type": "code",
      "execution_count": null,
      "metadata": {
        "id": "m9MUVhih_ytj",
        "outputId": "22a37475-b937-46d9-ccbf-6323e42b17cf"
      },
      "outputs": [
        {
          "data": {
            "text/plain": [
              "(2914, 70, 111, 525)"
            ]
          },
          "execution_count": 49,
          "metadata": {},
          "output_type": "execute_result"
        }
      ],
      "source": [
        "# Unravel the confusion_matrix\n",
        "tn, fp, fn, tp = cm.ravel()\n",
        "tn, fp, fn, tp "
      ],
      "id": "m9MUVhih_ytj"
    },
    {
      "cell_type": "markdown",
      "metadata": {
        "id": "Nz22O_Im_ytj"
      },
      "source": [
        "**Precision:**"
      ],
      "id": "Nz22O_Im_ytj"
    },
    {
      "cell_type": "code",
      "execution_count": null,
      "metadata": {
        "id": "wSgZcJaj_ytj",
        "outputId": "7eaa7fde-216e-4372-af5b-9f20e98135a2"
      },
      "outputs": [
        {
          "data": {
            "text/plain": [
              "0.88"
            ]
          },
          "execution_count": 50,
          "metadata": {},
          "output_type": "execute_result"
        }
      ],
      "source": [
        "# The precision is the ratio tp / (tp + fp) \n",
        "precision = tp / (tp + fp)\n",
        "precision.round(2)"
      ],
      "id": "wSgZcJaj_ytj"
    },
    {
      "cell_type": "markdown",
      "metadata": {
        "id": "htsVH_0n_ytk"
      },
      "source": [
        "**Recall:**"
      ],
      "id": "htsVH_0n_ytk"
    },
    {
      "cell_type": "code",
      "execution_count": null,
      "metadata": {
        "id": "nKUskctR_ytk",
        "outputId": "203f8169-050a-403d-ec86-8d5d654aefd6"
      },
      "outputs": [
        {
          "data": {
            "text/plain": [
              "0.83"
            ]
          },
          "execution_count": 51,
          "metadata": {},
          "output_type": "execute_result"
        }
      ],
      "source": [
        "# The recall is the ratio tp / (tp + fn) \n",
        "recall = tp / (tp + fn)\n",
        "recall.round(2)"
      ],
      "id": "nKUskctR_ytk"
    },
    {
      "cell_type": "markdown",
      "metadata": {
        "id": "-VgZrULS_ytk"
      },
      "source": [
        "**F1 score:** https://en.wikipedia.org/wiki/F-score\n",
        "> The traditional F-measure or balanced F-score (F1 score) is the harmonic mean of precision and recall: "
      ],
      "id": "-VgZrULS_ytk"
    },
    {
      "cell_type": "code",
      "execution_count": null,
      "metadata": {
        "id": "MfImxHu__ytl",
        "outputId": "74661671-b93d-4ced-c5ad-b3b2affcb495"
      },
      "outputs": [
        {
          "data": {
            "text/plain": [
              "0.85"
            ]
          },
          "execution_count": 52,
          "metadata": {},
          "output_type": "execute_result"
        }
      ],
      "source": [
        "f1 = 2 * (precision * recall) / (precision + recall) # pos_label=1\n",
        "f1.round(2)"
      ],
      "id": "MfImxHu__ytl"
    },
    {
      "cell_type": "markdown",
      "metadata": {
        "id": "o9L8VCpD_ytl"
      },
      "source": [
        "**Classification report:** "
      ],
      "id": "o9L8VCpD_ytl"
    },
    {
      "cell_type": "code",
      "execution_count": null,
      "metadata": {
        "id": "qmy3U5C4_ytm",
        "outputId": "3f079b3d-9c58-4da5-96fd-ae5eb96f5542"
      },
      "outputs": [
        {
          "name": "stdout",
          "output_type": "stream",
          "text": [
            "              precision    recall  f1-score   support\n",
            "\n",
            "           0       0.96      0.98      0.97      2984\n",
            "           1       0.88      0.83      0.85       636\n",
            "\n",
            "    accuracy                           0.95      3620\n",
            "   macro avg       0.92      0.90      0.91      3620\n",
            "weighted avg       0.95      0.95      0.95      3620\n",
            "\n"
          ]
        }
      ],
      "source": [
        "from sklearn.metrics import classification_report\n",
        "print(classification_report(y_train, y_train_predict_lg))"
      ],
      "id": "qmy3U5C4_ytm"
    },
    {
      "cell_type": "markdown",
      "metadata": {
        "id": "9sEQhTJv_ytm"
      },
      "source": [
        "**Fβ score:** \n",
        "> A more general F score, Fβ, that uses a positive real factor β, where β is chosen such that recall is considered β times as important as precision: "
      ],
      "id": "9sEQhTJv_ytm"
    },
    {
      "cell_type": "code",
      "execution_count": null,
      "metadata": {
        "id": "b7ldbcBN_ytm",
        "outputId": "2538dfd0-4a02-4623-a549-2a73709fdb34"
      },
      "outputs": [
        {
          "data": {
            "text/plain": [
              "0.85"
            ]
          },
          "execution_count": 54,
          "metadata": {},
          "output_type": "execute_result"
        }
      ],
      "source": [
        "beta = 1\n",
        "fbeta = (1 + beta**beta) * (precision * recall) / ((beta**beta * precision) + recall) # pos_label=1\n",
        "fbeta.round(2)"
      ],
      "id": "b7ldbcBN_ytm"
    },
    {
      "cell_type": "code",
      "execution_count": null,
      "metadata": {
        "id": "AOUSx3lM_ytn",
        "outputId": "d66e989e-9948-4a44-e55e-20bb2f7c5ff7"
      },
      "outputs": [
        {
          "data": {
            "text/plain": [
              "0.85"
            ]
          },
          "execution_count": 55,
          "metadata": {},
          "output_type": "execute_result"
        }
      ],
      "source": [
        "from sklearn.metrics import fbeta_score\n",
        "fbeta = fbeta_score(y_train, y_train_predict_lg, beta=1, average='binary')  # pos_label=1\n",
        "fbeta.round(2)"
      ],
      "id": "AOUSx3lM_ytn"
    },
    {
      "cell_type": "markdown",
      "metadata": {
        "id": "OTOjIR5Y_ytn"
      },
      "source": [
        "**F2 score:** \n",
        "> Two commonly used values for β are 2, which weighs recall higher than precision..."
      ],
      "id": "OTOjIR5Y_ytn"
    },
    {
      "cell_type": "code",
      "execution_count": null,
      "metadata": {
        "id": "nOWIFG4J_ytn",
        "outputId": "21f99a69-e3d5-4790-cbb7-b6829324c527"
      },
      "outputs": [
        {
          "data": {
            "text/plain": [
              "0.84"
            ]
          },
          "execution_count": 56,
          "metadata": {},
          "output_type": "execute_result"
        }
      ],
      "source": [
        "f2 = fbeta_score(y_train, y_train_predict_lg, beta=2, average='binary')  # pos_label=1\n",
        "f2.round(2)"
      ],
      "id": "nOWIFG4J_ytn"
    },
    {
      "cell_type": "markdown",
      "metadata": {
        "id": "e2ZcpPKb_yto"
      },
      "source": [
        "**F0.5 score:** \n",
        "> ...and 0.5, which weighs recall lower than precision. "
      ],
      "id": "e2ZcpPKb_yto"
    },
    {
      "cell_type": "code",
      "execution_count": null,
      "metadata": {
        "id": "GmNZqeLR_yto",
        "outputId": "9e9ba157-e25a-497c-d268-89efe3a13a76"
      },
      "outputs": [
        {
          "data": {
            "text/plain": [
              "0.87"
            ]
          },
          "execution_count": 57,
          "metadata": {},
          "output_type": "execute_result"
        }
      ],
      "source": [
        "f_half = fbeta_score(y_train, y_train_predict_lg, beta=0.5, average='binary')  # pos_label=1\n",
        "f_half.round(2)"
      ],
      "id": "GmNZqeLR_yto"
    },
    {
      "cell_type": "markdown",
      "metadata": {
        "id": "7vYP2HhQ_ytp"
      },
      "source": [
        "**Note:** we will use **F0.5 score** as the evalutaion metric for the models"
      ],
      "id": "7vYP2HhQ_ytp"
    },
    {
      "cell_type": "markdown",
      "metadata": {
        "id": "hAeQMyWy_ytp"
      },
      "source": [
        "* ### K-fold cross validation ###"
      ],
      "id": "hAeQMyWy_ytp"
    },
    {
      "cell_type": "markdown",
      "metadata": {
        "id": "hlIqV7ZQ_ytp"
      },
      "source": [
        "**F0.5 scorer:** make a scorer from the **F0.5 score** metric:"
      ],
      "id": "hlIqV7ZQ_ytp"
    },
    {
      "cell_type": "code",
      "execution_count": null,
      "metadata": {
        "id": "wSqAyOUA_ytp",
        "outputId": "5369a91b-9043-4e40-ca17-09c38b764dba"
      },
      "outputs": [
        {
          "data": {
            "text/plain": [
              "make_scorer(fbeta_score, beta=0.5)"
            ]
          },
          "execution_count": 58,
          "metadata": {},
          "output_type": "execute_result"
        }
      ],
      "source": [
        "from sklearn.metrics import make_scorer\n",
        "f_half_scorer = make_scorer(fbeta_score, beta=0.5)\n",
        "f_half_scorer"
      ],
      "id": "wSqAyOUA_ytp"
    },
    {
      "cell_type": "markdown",
      "metadata": {
        "id": "wBkU5O7c_ytp"
      },
      "source": [
        "* **5-fold** cross validation: evaluate model performance using the  **F0.5 score** metric:"
      ],
      "id": "wBkU5O7c_ytp"
    },
    {
      "cell_type": "code",
      "execution_count": null,
      "metadata": {
        "id": "YShwdT8W_ytq",
        "outputId": "f1e77e80-c64c-4929-d219-2604c5361f6c"
      },
      "outputs": [
        {
          "data": {
            "text/plain": [
              "array([0.87114338, 0.7918552 , 0.83190395, 0.81183612, 0.87248322])"
            ]
          },
          "execution_count": 59,
          "metadata": {},
          "output_type": "execute_result"
        }
      ],
      "source": [
        "from sklearn.model_selection import cross_val_score\n",
        "scores = cross_val_score(lg, X_train, y_train, cv=5, scoring=f_half_scorer)\n",
        "scores"
      ],
      "id": "YShwdT8W_ytq"
    },
    {
      "cell_type": "code",
      "execution_count": null,
      "metadata": {
        "id": "3Og1dLBI_ytr",
        "outputId": "f72d04ca-963b-45f1-f74a-9607765344b8"
      },
      "outputs": [
        {
          "name": "stdout",
          "output_type": "stream",
          "text": [
            "F0.5 score of 0.84 with a standard deviation of 0.03\n"
          ]
        }
      ],
      "source": [
        "print(\"F0.5 score of %0.2f with a standard deviation of %0.2f\" % (scores.mean(), scores.std()))"
      ],
      "id": "3Og1dLBI_ytr"
    },
    {
      "cell_type": "markdown",
      "metadata": {
        "id": "V1v1jQN5_yts"
      },
      "source": [
        "* **5-fold** cross validation: evaluate model performance using the following metrics:\n",
        "\n",
        "    * **Precision**\n",
        "\n",
        "    * **Recall**\n",
        "\n",
        "    * **F0.5 score**"
      ],
      "id": "V1v1jQN5_yts"
    },
    {
      "cell_type": "markdown",
      "metadata": {
        "id": "1cYz9Dmn_ytt"
      },
      "source": [
        "**Precision scorer:** make a scorer from the **precision_score** metric:"
      ],
      "id": "1cYz9Dmn_ytt"
    },
    {
      "cell_type": "code",
      "execution_count": null,
      "metadata": {
        "id": "wkp2SjcZ_ytu",
        "outputId": "08164fc5-43f4-4f9d-a5e3-bccba6c9d2c2"
      },
      "outputs": [
        {
          "data": {
            "text/plain": [
              "make_scorer(precision_score)"
            ]
          },
          "execution_count": 61,
          "metadata": {},
          "output_type": "execute_result"
        }
      ],
      "source": [
        "from sklearn.metrics import precision_score\n",
        "precision_scorer = make_scorer(precision_score)\n",
        "precision_scorer"
      ],
      "id": "wkp2SjcZ_ytu"
    },
    {
      "cell_type": "markdown",
      "metadata": {
        "id": "XI6Zss6I_ytu"
      },
      "source": [
        "**Recall scorer:** make a scorer from the **recall_score** metric:"
      ],
      "id": "XI6Zss6I_ytu"
    },
    {
      "cell_type": "code",
      "execution_count": null,
      "metadata": {
        "id": "cz97Po91_ytu",
        "outputId": "d39ce393-f534-485e-ba1b-28469b1cf2c5"
      },
      "outputs": [
        {
          "data": {
            "text/plain": [
              "make_scorer(recall_score)"
            ]
          },
          "execution_count": 62,
          "metadata": {},
          "output_type": "execute_result"
        }
      ],
      "source": [
        "from sklearn.metrics import recall_score\n",
        "recall_scorer = make_scorer(recall_score)\n",
        "recall_scorer"
      ],
      "id": "cz97Po91_ytu"
    },
    {
      "cell_type": "code",
      "execution_count": null,
      "metadata": {
        "id": "KYrWCYr__ytv"
      },
      "outputs": [],
      "source": [
        "# Use a dictionary with metric names as keys and callables as values\n",
        "triple_scoring = {'precision': precision_scorer, 'recall': recall_scorer, 'f_half': f_half_scorer}"
      ],
      "id": "KYrWCYr__ytv"
    },
    {
      "cell_type": "code",
      "execution_count": null,
      "metadata": {
        "scrolled": true,
        "id": "Y6lLWWf2_ytv",
        "outputId": "0cd9a8da-ca5e-4af0-b703-f451be7103e7"
      },
      "outputs": [
        {
          "data": {
            "text/plain": [
              "{'fit_time': array([0.10499406, 0.10299802, 0.10899949, 0.11799335, 0.09600139]),\n",
              " 'score_time': array([0.01199961, 0.01200008, 0.01501536, 0.01398993, 0.01299834]),\n",
              " 'test_precision': array([0.90566038, 0.78358209, 0.85087719, 0.80451128, 0.88888889]),\n",
              " 'test_recall': array([0.75590551, 0.82677165, 0.76377953, 0.84251969, 0.8125    ]),\n",
              " 'test_f_half': array([0.87114338, 0.7918552 , 0.83190395, 0.81183612, 0.87248322])}"
            ]
          },
          "execution_count": 64,
          "metadata": {},
          "output_type": "execute_result"
        }
      ],
      "source": [
        "from sklearn.model_selection import cross_validate\n",
        "triple_scores = cross_validate(lg, X_train, y_train, cv=5, scoring=triple_scoring)\n",
        "triple_scores"
      ],
      "id": "Y6lLWWf2_ytv"
    },
    {
      "cell_type": "code",
      "execution_count": null,
      "metadata": {
        "scrolled": true,
        "id": "1W1ajW4P_ytv",
        "outputId": "f0af6a04-a811-467b-eff9-77fb02f2b6a1"
      },
      "outputs": [
        {
          "name": "stdout",
          "output_type": "stream",
          "text": [
            "0.85 Precision score with a standard deviation of 0.05\n",
            "0.80 Recall score with a standard deviation of 0.03\n",
            "0.84 F0.5 score with a standard deviation of 0.03\n"
          ]
        }
      ],
      "source": [
        "precision = triple_scores['test_precision']\n",
        "recall = triple_scores['test_recall']\n",
        "f_half = triple_scores['test_f_half']\n",
        "print(\"%0.2f Precision score with a standard deviation of %0.2f\" % (precision.mean(), precision.std()))\n",
        "print(\"%0.2f Recall score with a standard deviation of %0.2f\" % (recall.mean(), recall.std()))\n",
        "print(\"%0.2f F0.5 score with a standard deviation of %0.2f\" % (f_half.mean(), f_half.std()))"
      ],
      "id": "1W1ajW4P_ytv"
    },
    {
      "cell_type": "markdown",
      "metadata": {
        "id": "xF97fzqH_ytw"
      },
      "source": [
        "### 4.8 Logistic regression – regularization: 'lgr\" model ###"
      ],
      "id": "xF97fzqH_ytw"
    },
    {
      "cell_type": "markdown",
      "metadata": {
        "id": "eKY58N1u_ytw"
      },
      "source": [
        "* ### Finding the best C parameter ###"
      ],
      "id": "eKY58N1u_ytw"
    },
    {
      "cell_type": "code",
      "execution_count": null,
      "metadata": {
        "scrolled": true,
        "id": "dNtrAsn5_ytw",
        "outputId": "bf0f7701-7638-41c8-ea89-1eda08590fa0"
      },
      "outputs": [
        {
          "name": "stdout",
          "output_type": "stream",
          "text": [
            "C=0.001 -> F0.5=0.84±0.01\n",
            "C=0.01 -> F0.5=0.85±0.02\n",
            "C=0.1 -> F0.5=0.84±0.03\n",
            "C=1 -> F0.5=0.84±0.03\n",
            "C=10 -> F0.5=0.83±0.03\n"
          ]
        }
      ],
      "source": [
        "for C in [0.001, 0.01, 0.1, 1, 10]:\n",
        "    lgr = LogisticRegression(solver='liblinear', random_state=42, C=C)\n",
        "    f_half_scores = cross_val_score(lgr, X_train, y_train, cv=5, scoring=f_half_scorer)\n",
        "    print('C=%s -> F0.5=%0.2f±%0.2f' % (C, f_half_scores.mean(), f_half_scores.std()))"
      ],
      "id": "dNtrAsn5_ytw"
    },
    {
      "cell_type": "markdown",
      "metadata": {
        "id": "rSP3eoSi_ytw"
      },
      "source": [
        "**C=0.01:** we select the C paramter with the best **F0.5 score**"
      ],
      "id": "rSP3eoSi_ytw"
    },
    {
      "cell_type": "markdown",
      "metadata": {
        "id": "yGdcPDhx_ytx"
      },
      "source": [
        "* ### Fit the model ###"
      ],
      "id": "yGdcPDhx_ytx"
    },
    {
      "cell_type": "code",
      "execution_count": null,
      "metadata": {
        "id": "ECtqGPIM_ytx",
        "outputId": "b6feb920-ecb3-4026-89d0-8209fe9f3182"
      },
      "outputs": [
        {
          "data": {
            "text/plain": [
              "LogisticRegression(C=0.01, random_state=42, solver='liblinear')"
            ]
          },
          "execution_count": 67,
          "metadata": {},
          "output_type": "execute_result"
        }
      ],
      "source": [
        "# Fit the lgr model with C=0.01\n",
        "lgr = LogisticRegression(solver='liblinear', random_state=42, C=0.01)\n",
        "lgr.fit(X_train, y_train)"
      ],
      "id": "ECtqGPIM_ytx"
    },
    {
      "cell_type": "markdown",
      "metadata": {
        "id": "87uUfgMW_ytx"
      },
      "source": [
        "* ### Train data probability predictions ###"
      ],
      "id": "87uUfgMW_ytx"
    },
    {
      "cell_type": "code",
      "execution_count": null,
      "metadata": {
        "id": "554cPg5e_ytx"
      },
      "outputs": [],
      "source": [
        "y_train_predict_proba_lgr = lgr.predict_proba(X_train)[:, -1]"
      ],
      "id": "554cPg5e_ytx"
    },
    {
      "cell_type": "markdown",
      "metadata": {
        "id": "YIJtOUW7_yty"
      },
      "source": [
        "* ### Finding the best threshold ###"
      ],
      "id": "YIJtOUW7_yty"
    },
    {
      "cell_type": "code",
      "execution_count": null,
      "metadata": {
        "id": "CE1H4HHr_yty",
        "outputId": "80b63c25-7a41-4c7b-8797-b7b6f2ab969f"
      },
      "outputs": [
        {
          "name": "stdout",
          "output_type": "stream",
          "text": [
            "0.00 -> 0.18 | 1.00 | 0.21\n",
            "0.01 -> 0.34 | 1.00 | 0.39\n",
            "0.02 -> 0.41 | 0.99 | 0.46\n",
            "0.03 -> 0.45 | 0.99 | 0.51\n",
            "0.04 -> 0.49 | 0.98 | 0.55\n",
            "0.05 -> 0.53 | 0.98 | 0.58\n",
            "0.06 -> 0.55 | 0.98 | 0.61\n",
            "0.07 -> 0.57 | 0.97 | 0.62\n",
            "0.08 -> 0.60 | 0.97 | 0.65\n",
            "0.09 -> 0.61 | 0.97 | 0.66\n",
            "0.10 -> 0.63 | 0.97 | 0.68\n",
            "0.11 -> 0.64 | 0.96 | 0.69\n",
            "0.12 -> 0.66 | 0.96 | 0.70\n",
            "0.13 -> 0.67 | 0.96 | 0.71\n",
            "0.14 -> 0.68 | 0.96 | 0.72\n",
            "0.15 -> 0.69 | 0.95 | 0.73\n",
            "0.16 -> 0.70 | 0.94 | 0.74\n",
            "0.17 -> 0.71 | 0.94 | 0.75\n",
            "0.18 -> 0.72 | 0.94 | 0.75\n",
            "0.19 -> 0.73 | 0.94 | 0.76\n",
            "0.20 -> 0.74 | 0.93 | 0.77\n",
            "0.21 -> 0.75 | 0.93 | 0.78\n",
            "0.22 -> 0.75 | 0.93 | 0.78\n",
            "0.23 -> 0.76 | 0.93 | 0.79\n",
            "0.24 -> 0.76 | 0.93 | 0.79\n",
            "0.25 -> 0.77 | 0.93 | 0.80\n",
            "0.26 -> 0.78 | 0.92 | 0.81\n",
            "0.27 -> 0.78 | 0.92 | 0.80\n",
            "0.28 -> 0.78 | 0.92 | 0.81\n",
            "0.29 -> 0.79 | 0.91 | 0.81\n",
            "0.30 -> 0.79 | 0.91 | 0.81\n",
            "0.31 -> 0.80 | 0.90 | 0.82\n",
            "0.32 -> 0.80 | 0.89 | 0.82\n",
            "0.33 -> 0.81 | 0.89 | 0.83\n",
            "0.34 -> 0.81 | 0.89 | 0.83\n",
            "0.35 -> 0.82 | 0.89 | 0.83\n",
            "0.36 -> 0.83 | 0.88 | 0.84\n",
            "0.37 -> 0.84 | 0.88 | 0.84\n",
            "0.38 -> 0.84 | 0.88 | 0.85\n",
            "0.39 -> 0.85 | 0.88 | 0.85\n",
            "0.40 -> 0.85 | 0.87 | 0.86\n",
            "0.41 -> 0.86 | 0.87 | 0.86\n",
            "0.42 -> 0.86 | 0.86 | 0.86\n",
            "0.43 -> 0.86 | 0.85 | 0.86\n",
            "0.44 -> 0.87 | 0.85 | 0.86\n",
            "0.45 -> 0.87 | 0.84 | 0.87\n",
            "0.46 -> 0.87 | 0.84 | 0.86\n",
            "0.47 -> 0.87 | 0.83 | 0.86\n",
            "0.48 -> 0.87 | 0.82 | 0.86\n",
            "0.49 -> 0.87 | 0.82 | 0.86\n",
            "0.50 -> 0.88 | 0.81 | 0.86\n",
            "0.51 -> 0.88 | 0.81 | 0.87\n",
            "0.52 -> 0.88 | 0.80 | 0.86\n",
            "0.53 -> 0.89 | 0.80 | 0.87\n",
            "0.54 -> 0.89 | 0.79 | 0.87\n",
            "0.55 -> 0.89 | 0.78 | 0.87\n",
            "0.56 -> 0.89 | 0.78 | 0.87\n",
            "0.57 -> 0.90 | 0.78 | 0.87\n",
            "0.58 -> 0.91 | 0.77 | 0.88\n",
            "0.59 -> 0.91 | 0.77 | 0.88\n",
            "0.60 -> 0.91 | 0.76 | 0.87\n",
            "0.61 -> 0.91 | 0.75 | 0.88\n",
            "0.62 -> 0.91 | 0.75 | 0.87\n",
            "0.63 -> 0.92 | 0.74 | 0.88\n",
            "0.64 -> 0.92 | 0.74 | 0.88\n",
            "0.65 -> 0.92 | 0.74 | 0.88\n",
            "0.66 -> 0.92 | 0.73 | 0.87\n",
            "0.67 -> 0.92 | 0.72 | 0.87\n",
            "0.68 -> 0.93 | 0.72 | 0.88\n",
            "0.69 -> 0.94 | 0.71 | 0.88\n",
            "0.70 -> 0.94 | 0.71 | 0.88\n",
            "0.71 -> 0.94 | 0.70 | 0.88\n",
            "0.72 -> 0.94 | 0.68 | 0.88\n",
            "0.73 -> 0.95 | 0.68 | 0.88\n",
            "0.74 -> 0.95 | 0.67 | 0.88\n",
            "0.75 -> 0.95 | 0.67 | 0.87\n",
            "0.76 -> 0.95 | 0.66 | 0.87\n",
            "0.77 -> 0.95 | 0.64 | 0.87\n",
            "0.78 -> 0.96 | 0.64 | 0.87\n",
            "0.79 -> 0.96 | 0.63 | 0.87\n",
            "0.80 -> 0.96 | 0.62 | 0.86\n",
            "0.81 -> 0.96 | 0.61 | 0.86\n",
            "0.82 -> 0.97 | 0.59 | 0.86\n",
            "0.83 -> 0.97 | 0.58 | 0.86\n",
            "0.84 -> 0.97 | 0.57 | 0.85\n",
            "0.85 -> 0.97 | 0.55 | 0.84\n",
            "0.86 -> 0.97 | 0.54 | 0.83\n",
            "0.87 -> 0.97 | 0.53 | 0.83\n",
            "0.88 -> 0.97 | 0.51 | 0.82\n",
            "0.89 -> 0.97 | 0.49 | 0.81\n",
            "0.90 -> 0.97 | 0.46 | 0.79\n",
            "0.91 -> 0.97 | 0.44 | 0.78\n",
            "0.92 -> 0.97 | 0.42 | 0.77\n",
            "0.93 -> 0.98 | 0.39 | 0.75\n",
            "0.94 -> 0.98 | 0.37 | 0.73\n",
            "0.95 -> 0.98 | 0.34 | 0.71\n",
            "0.96 -> 0.98 | 0.31 | 0.68\n",
            "0.97 -> 0.98 | 0.27 | 0.64\n",
            "0.98 -> 0.98 | 0.21 | 0.56\n",
            "0.99 -> 0.97 | 0.12 | 0.39\n",
            "1.00 -> 0.00 | 0.00 | 0.00\n"
          ]
        },
        {
          "name": "stderr",
          "output_type": "stream",
          "text": [
            "C:\\Users\\Nir\\anaconda3\\lib\\site-packages\\sklearn\\metrics\\_classification.py:1308: UndefinedMetricWarning: Precision is ill-defined and being set to 0.0 due to no predicted samples. Use `zero_division` parameter to control this behavior.\n",
            "  _warn_prf(average, modifier, msg_start, len(result))\n"
          ]
        }
      ],
      "source": [
        "from sklearn.metrics import precision_score, recall_score, fbeta_score\n",
        "\n",
        "thresholds = np.linspace(0, 1, 101)\n",
        "\n",
        "for t in thresholds:\n",
        "    extrovert_predict = (y_train_predict_proba_lgr >= t)\n",
        "    \n",
        "    prec = precision_score(y_train, extrovert_predict)\n",
        "    recall = recall_score(y_train, extrovert_predict)\n",
        "    f_half = fbeta_score(y_train, extrovert_predict, beta=0.5)\n",
        "    \n",
        "    print(\"%0.2f -> %0.2f | %0.2f | %0.2f\" % (t, prec, recall, f_half))"
      ],
      "id": "CE1H4HHr_yty"
    },
    {
      "cell_type": "markdown",
      "metadata": {
        "id": "S_-yzEEt_yty"
      },
      "source": [
        "**Threshold=0.59:** we select the threshold with the best **Precision score (=0.91)** for a **Recall score (=0.77)** not lesser than 0.75"
      ],
      "id": "S_-yzEEt_yty"
    },
    {
      "cell_type": "markdown",
      "metadata": {
        "id": "cMJcKCOG_yty"
      },
      "source": [
        "* ### Train data predictions ###"
      ],
      "id": "cMJcKCOG_yty"
    },
    {
      "cell_type": "code",
      "execution_count": null,
      "metadata": {
        "id": "_2aj4PyL_ytz"
      },
      "outputs": [],
      "source": [
        "y_train_predict_lgr = (y_train_predict_proba_lgr >= 0.59)"
      ],
      "id": "_2aj4PyL_ytz"
    },
    {
      "cell_type": "markdown",
      "metadata": {
        "id": "evtpjAaM_yt0"
      },
      "source": [
        "**Confusion matrix:** "
      ],
      "id": "evtpjAaM_yt0"
    },
    {
      "cell_type": "code",
      "execution_count": null,
      "metadata": {
        "id": "CTtzvaSq_yt0",
        "outputId": "a3d44aec-871a-441b-ae01-01e89317baef"
      },
      "outputs": [
        {
          "data": {
            "text/plain": [
              "<sklearn.metrics._plot.confusion_matrix.ConfusionMatrixDisplay at 0x238ec5b6460>"
            ]
          },
          "execution_count": 71,
          "metadata": {},
          "output_type": "execute_result"
        },
        {
          "data": {
            "image/png": "[encoded data removed]",
            "text/plain": [
              "<Figure size 432x288 with 2 Axes>"
            ]
          },
          "metadata": {},
          "output_type": "display_data"
        }
      ],
      "source": [
        "# Display the confusion_matrix\n",
        "cm = confusion_matrix(y_train, y_train_predict_lgr)\n",
        "cmd = ConfusionMatrixDisplay(confusion_matrix=cm, display_labels=lgr.classes_)\n",
        "cmd.plot()"
      ],
      "id": "CTtzvaSq_yt0"
    },
    {
      "cell_type": "markdown",
      "metadata": {
        "id": "LeQH2mxr_yt0"
      },
      "source": [
        "**Classification report:** "
      ],
      "id": "LeQH2mxr_yt0"
    },
    {
      "cell_type": "code",
      "execution_count": null,
      "metadata": {
        "id": "KUUFDFjJ_yt1",
        "outputId": "99668807-ecf8-4bc1-ddef-a961756628f5"
      },
      "outputs": [
        {
          "name": "stdout",
          "output_type": "stream",
          "text": [
            "              precision    recall  f1-score   support\n",
            "\n",
            "           0       0.95      0.98      0.97      2984\n",
            "           1       0.91      0.77      0.83       636\n",
            "\n",
            "    accuracy                           0.95      3620\n",
            "   macro avg       0.93      0.88      0.90      3620\n",
            "weighted avg       0.94      0.95      0.94      3620\n",
            "\n"
          ]
        }
      ],
      "source": [
        "print(classification_report(y_train, y_train_predict_lgr))"
      ],
      "id": "KUUFDFjJ_yt1"
    },
    {
      "cell_type": "markdown",
      "metadata": {
        "id": "0DqYaIxC_yt2"
      },
      "source": [
        "**F0.5 score** for **lgr** model:"
      ],
      "id": "0DqYaIxC_yt2"
    },
    {
      "cell_type": "code",
      "execution_count": null,
      "metadata": {
        "id": "o3zZY7Xs_yt2",
        "outputId": "ee9ca04b-4e53-4e00-a9e2-f0e59fcad5ff"
      },
      "outputs": [
        {
          "data": {
            "text/plain": [
              "0.88"
            ]
          },
          "execution_count": 73,
          "metadata": {},
          "output_type": "execute_result"
        }
      ],
      "source": [
        "f_half_lgr = fbeta_score(y_train, y_train_predict_lgr, beta=0.5, average='binary')  # pos_label=1\n",
        "f_half_lgr.round(2)"
      ],
      "id": "o3zZY7Xs_yt2"
    },
    {
      "cell_type": "markdown",
      "metadata": {
        "id": "R7THONwX_yt2"
      },
      "source": [
        "* ### Test data probability predictions ###"
      ],
      "id": "R7THONwX_yt2"
    },
    {
      "cell_type": "code",
      "execution_count": null,
      "metadata": {
        "id": "wUUbJ0sH_yt2"
      },
      "outputs": [],
      "source": [
        "y_test_predict_proba_lgr = lgr.predict_proba(X_test)[:, -1]"
      ],
      "id": "wUUbJ0sH_yt2"
    },
    {
      "cell_type": "markdown",
      "metadata": {
        "id": "hcrkrSsV_yt3"
      },
      "source": [
        "* ### Test data predictions ###"
      ],
      "id": "hcrkrSsV_yt3"
    },
    {
      "cell_type": "code",
      "execution_count": null,
      "metadata": {
        "id": "sOJLvac8_yt3"
      },
      "outputs": [],
      "source": [
        "y_test_predict_lgr = (y_test_predict_proba_lgr >= 0.59)"
      ],
      "id": "sOJLvac8_yt3"
    },
    {
      "cell_type": "markdown",
      "metadata": {
        "id": "rSKa4Ufx_yt3"
      },
      "source": [
        "**Confusion matrix: test data predictions** "
      ],
      "id": "rSKa4Ufx_yt3"
    },
    {
      "cell_type": "code",
      "execution_count": null,
      "metadata": {
        "scrolled": true,
        "id": "ddEiUcEv_yt4",
        "outputId": "5965818e-dd8d-4b96-94e5-e410d663d012"
      },
      "outputs": [
        {
          "data": {
            "text/plain": [
              "<sklearn.metrics._plot.confusion_matrix.ConfusionMatrixDisplay at 0x238f32f1670>"
            ]
          },
          "execution_count": 76,
          "metadata": {},
          "output_type": "execute_result"
        },
        {
          "data": {
            "image/png": "[encoded data removed]",
            "text/plain": [
              "<Figure size 432x288 with 2 Axes>"
            ]
          },
          "metadata": {},
          "output_type": "display_data"
        }
      ],
      "source": [
        "# Display the confusion_matrix\n",
        "cm = confusion_matrix(y_test, y_test_predict_lgr)\n",
        "cmd = ConfusionMatrixDisplay(confusion_matrix=cm, display_labels=lgr.classes_)\n",
        "cmd.plot()"
      ],
      "id": "ddEiUcEv_yt4"
    },
    {
      "cell_type": "markdown",
      "metadata": {
        "id": "QC95v6R4_yt4"
      },
      "source": [
        "**Classification report: test data predictions** "
      ],
      "id": "QC95v6R4_yt4"
    },
    {
      "cell_type": "code",
      "execution_count": null,
      "metadata": {
        "id": "JzjcIKUc_yt5",
        "outputId": "14f677b4-ad37-4352-b601-162f1421e0b2"
      },
      "outputs": [
        {
          "name": "stdout",
          "output_type": "stream",
          "text": [
            "              precision    recall  f1-score   support\n",
            "\n",
            "           0       0.94      0.98      0.96       729\n",
            "           1       0.90      0.75      0.81       177\n",
            "\n",
            "    accuracy                           0.93       906\n",
            "   macro avg       0.92      0.86      0.89       906\n",
            "weighted avg       0.93      0.93      0.93       906\n",
            "\n"
          ]
        }
      ],
      "source": [
        "print(classification_report(y_test, y_test_predict_lgr))"
      ],
      "id": "JzjcIKUc_yt5"
    },
    {
      "cell_type": "markdown",
      "metadata": {
        "id": "baH-kfei_yt6"
      },
      "source": [
        "**F0.5 score: test data predictions** "
      ],
      "id": "baH-kfei_yt6"
    },
    {
      "cell_type": "code",
      "execution_count": null,
      "metadata": {
        "id": "f9WUCjVf_yt6",
        "outputId": "a4ed5ea7-128a-40fd-8c0b-7c3dabefa1b4"
      },
      "outputs": [
        {
          "data": {
            "text/plain": [
              "0.86"
            ]
          },
          "execution_count": 78,
          "metadata": {},
          "output_type": "execute_result"
        }
      ],
      "source": [
        "f_half_lgr_test = fbeta_score(y_test, y_test_predict_lgr, beta=0.5, average='binary')  # pos_label=1\n",
        "f_half_lgr_test.round(2)"
      ],
      "id": "f9WUCjVf_yt6"
    },
    {
      "cell_type": "markdown",
      "metadata": {
        "id": "utAdwxmB_yt7"
      },
      "source": [
        "### Model selection ###\n",
        "we see that the 'lgr' model (C=0.01, Treshold=0.59) yielded a precision score of 0.90 and a recall score of 0.75 when applied on the test data. Hence we select this model to solve the business problem."
      ],
      "id": "utAdwxmB_yt7"
    }
  ],
  "metadata": {
    "kernelspec": {
      "display_name": "Python 3",
      "language": "python",
      "name": "python3"
    },
    "language_info": {
      "codemirror_mode": {
        "name": "ipython",
        "version": 3
      },
      "file_extension": ".py",
      "mimetype": "text/x-python",
      "name": "python",
      "nbconvert_exporter": "python",
      "pygments_lexer": "ipython3",
      "version": "3.8.5"
    },
    "colab": {
      "name": "211115_classification_project.ipynb",
      "provenance": [],
      "collapsed_sections": [
        "ZxO8sOW2_ytE",
        "9MAolgrD_ytQ",
        "Jr-UFC8f_ytR",
        "snyeUrQ1_ytb",
        "Dv-U8zgd_ytd",
        "2P1D_2l4_yte",
        "ZwwyPQ7x_ytg",
        "I1GZPOk3_ytg",
        "puOFzycA_yth",
        "DmEwhZ4K_yth",
        "hAeQMyWy_ytp",
        "xF97fzqH_ytw",
        "eKY58N1u_ytw",
        "yGdcPDhx_ytx",
        "87uUfgMW_ytx",
        "YIJtOUW7_yty",
        "cMJcKCOG_yty",
        "R7THONwX_yt2",
        "hcrkrSsV_yt3",
        "utAdwxmB_yt7"
      ]
    }
  },
  "nbformat": 4,
  "nbformat_minor": 5
}