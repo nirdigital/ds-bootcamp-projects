{
  "cells": [
    {
      "cell_type": "markdown",
      "id": "f3161950",
      "metadata": {
        "pycharm": {
          "name": "#%% md\n"
        },
        "id": "f3161950"
      },
      "source": [
        "## 2. Regression Project: Linear Regression  ##\n",
        "\n"
      ]
    },
    {
      "cell_type": "markdown",
      "id": "23810c06",
      "metadata": {
        "pycharm": {
          "name": "#%% md\n"
        },
        "id": "23810c06"
      },
      "source": [
        "### 2.1 Airbnb listings in Madrid  ###\n",
        "* **Dataset:** http://data.insideairbnb.com/spain/comunidad-de-madrid/madrid/2021-09-10/data/listings.csv.gz\n",
        "* **Description:** detailed data for Airbnb listings in Madrid, compiled on *10.09.2021* by **Inside Airbnb**"
      ]
    },
    {
      "cell_type": "code",
      "execution_count": null,
      "id": "e0ca488f",
      "metadata": {
        "pycharm": {
          "name": "#%%\n"
        },
        "id": "e0ca488f"
      },
      "outputs": [],
      "source": [
        "import numpy as np\n",
        "import pandas as pd\n",
        "import seaborn as sns\n",
        "from matplotlib import pyplot as plt\n",
        "%matplotlib inline"
      ]
    },
    {
      "cell_type": "code",
      "execution_count": null,
      "id": "817382c1",
      "metadata": {
        "pycharm": {
          "name": "#%%\n"
        },
        "colab": {
          "base_uri": "https://localhost:8080/"
        },
        "id": "817382c1",
        "outputId": "2186f334-113f-4d89-f4a8-f0f484014590"
      },
      "outputs": [
        {
          "output_type": "stream",
          "name": "stdout",
          "text": [
            "<class 'pandas.core.frame.DataFrame'>\n",
            "RangeIndex: 18909 entries, 0 to 18908\n",
            "Data columns (total 74 columns):\n",
            " #   Column                                        Non-Null Count  Dtype  \n",
            "---  ------                                        --------------  -----  \n",
            " 0   id                                            18909 non-null  int64  \n",
            " 1   listing_url                                   18909 non-null  object \n",
            " 2   scrape_id                                     18909 non-null  int64  \n",
            " 3   last_scraped                                  18909 non-null  object \n",
            " 4   name                                          18906 non-null  object \n",
            " 5   description                                   17854 non-null  object \n",
            " 6   neighborhood_overview                         10997 non-null  object \n",
            " 7   picture_url                                   18908 non-null  object \n",
            " 8   host_id                                       18909 non-null  int64  \n",
            " 9   host_url                                      18909 non-null  object \n",
            " 10  host_name                                     18883 non-null  object \n",
            " 11  host_since                                    18883 non-null  object \n",
            " 12  host_location                                 18841 non-null  object \n",
            " 13  host_about                                    9427 non-null   object \n",
            " 14  host_response_time                            11972 non-null  object \n",
            " 15  host_response_rate                            11972 non-null  object \n",
            " 16  host_acceptance_rate                          11531 non-null  object \n",
            " 17  host_is_superhost                             18883 non-null  object \n",
            " 18  host_thumbnail_url                            18883 non-null  object \n",
            " 19  host_picture_url                              18883 non-null  object \n",
            " 20  host_neighbourhood                            12034 non-null  object \n",
            " 21  host_listings_count                           18883 non-null  float64\n",
            " 22  host_total_listings_count                     18883 non-null  float64\n",
            " 23  host_verifications                            18909 non-null  object \n",
            " 24  host_has_profile_pic                          18883 non-null  object \n",
            " 25  host_identity_verified                        18883 non-null  object \n",
            " 26  neighbourhood                                 10997 non-null  object \n",
            " 27  neighbourhood_cleansed                        18909 non-null  object \n",
            " 28  neighbourhood_group_cleansed                  18909 non-null  object \n",
            " 29  latitude                                      18909 non-null  float64\n",
            " 30  longitude                                     18909 non-null  float64\n",
            " 31  property_type                                 18909 non-null  object \n",
            " 32  room_type                                     18909 non-null  object \n",
            " 33  accommodates                                  18909 non-null  int64  \n",
            " 34  bathrooms                                     0 non-null      float64\n",
            " 35  bathrooms_text                                18884 non-null  object \n",
            " 36  bedrooms                                      17475 non-null  float64\n",
            " 37  beds                                          18568 non-null  float64\n",
            " 38  amenities                                     18909 non-null  object \n",
            " 39  price                                         18909 non-null  object \n",
            " 40  minimum_nights                                18909 non-null  int64  \n",
            " 41  maximum_nights                                18909 non-null  int64  \n",
            " 42  minimum_minimum_nights                        18908 non-null  float64\n",
            " 43  maximum_minimum_nights                        18908 non-null  float64\n",
            " 44  minimum_maximum_nights                        18908 non-null  float64\n",
            " 45  maximum_maximum_nights                        18908 non-null  float64\n",
            " 46  minimum_nights_avg_ntm                        18908 non-null  float64\n",
            " 47  maximum_nights_avg_ntm                        18908 non-null  float64\n",
            " 48  calendar_updated                              0 non-null      float64\n",
            " 49  has_availability                              18909 non-null  object \n",
            " 50  availability_30                               18909 non-null  int64  \n",
            " 51  availability_60                               18909 non-null  int64  \n",
            " 52  availability_90                               18909 non-null  int64  \n",
            " 53  availability_365                              18909 non-null  int64  \n",
            " 54  calendar_last_scraped                         18909 non-null  object \n",
            " 55  number_of_reviews                             18909 non-null  int64  \n",
            " 56  number_of_reviews_ltm                         18909 non-null  int64  \n",
            " 57  number_of_reviews_l30d                        18909 non-null  int64  \n",
            " 58  first_review                                  13877 non-null  object \n",
            " 59  last_review                                   13877 non-null  object \n",
            " 60  review_scores_rating                          13877 non-null  float64\n",
            " 61  review_scores_accuracy                        13638 non-null  float64\n",
            " 62  review_scores_cleanliness                     13640 non-null  float64\n",
            " 63  review_scores_checkin                         13640 non-null  float64\n",
            " 64  review_scores_communication                   13640 non-null  float64\n",
            " 65  review_scores_location                        13637 non-null  float64\n",
            " 66  review_scores_value                           13636 non-null  float64\n",
            " 67  license                                       2828 non-null   object \n",
            " 68  instant_bookable                              18909 non-null  object \n",
            " 69  calculated_host_listings_count                18909 non-null  int64  \n",
            " 70  calculated_host_listings_count_entire_homes   18909 non-null  int64  \n",
            " 71  calculated_host_listings_count_private_rooms  18909 non-null  int64  \n",
            " 72  calculated_host_listings_count_shared_rooms   18909 non-null  int64  \n",
            " 73  reviews_per_month                             13877 non-null  float64\n",
            "dtypes: float64(22), int64(17), object(35)\n",
            "memory usage: 10.7+ MB\n"
          ]
        }
      ],
      "source": [
        "# Look at the dataset: 18,909 listings with 74 features\n",
        "listings = pd.read_csv('listings.csv')\n",
        "listings.info()"
      ]
    },
    {
      "cell_type": "markdown",
      "id": "324e15eb",
      "metadata": {
        "pycharm": {
          "name": "#%% md\n"
        },
        "id": "324e15eb"
      },
      "source": [
        "### 2.2 Data subset ###\n",
        "* Get rid of listings without a verified host:"
      ]
    },
    {
      "cell_type": "code",
      "execution_count": null,
      "id": "34093a78",
      "metadata": {
        "scrolled": true,
        "pycharm": {
          "name": "#%%\n"
        },
        "colab": {
          "base_uri": "https://localhost:8080/"
        },
        "id": "34093a78",
        "outputId": "8e905fec-e775-4009-8f79-4e86c41b0faa"
      },
      "outputs": [
        {
          "output_type": "execute_result",
          "data": {
            "text/plain": [
              "t    13818\n",
              "Name: host_identity_verified, dtype: int64"
            ]
          },
          "metadata": {},
          "execution_count": 3
        }
      ],
      "source": [
        "# Keep listings with verified host identity (13,818 out of 18,883)\n",
        "listings_ver = listings.copy()[listings.host_identity_verified=='t']\n",
        "listings_ver.host_identity_verified.value_counts()"
      ]
    },
    {
      "cell_type": "markdown",
      "id": "b260328b",
      "metadata": {
        "pycharm": {
          "name": "#%% md\n"
        },
        "id": "b260328b"
      },
      "source": [
        "* Continue with the following columns:"
      ]
    },
    {
      "cell_type": "code",
      "execution_count": null,
      "id": "e9fb5fbb",
      "metadata": {
        "pycharm": {
          "name": "#%%\n"
        },
        "id": "e9fb5fbb"
      },
      "outputs": [],
      "source": [
        "# 2 date variables\n",
        "date_vars = ['last_scraped', \n",
        "             'host_since']\n",
        "\n",
        "# 13 numerical variables\n",
        "num_vars = ['host_id',\n",
        "            'accommodates',\n",
        "            'bedrooms',\n",
        "            'price',\n",
        "            'minimum_nights', \n",
        "            'availability_30',\n",
        "            'availability_60',\n",
        "            'availability_90',\n",
        "            'availability_365',\n",
        "            'number_of_reviews', \n",
        "            'number_of_reviews_ltm',\n",
        "            'number_of_reviews_l30d',\n",
        "            'calculated_host_listings_count']\n",
        "\n",
        "# 5 categorical variables\n",
        "cat_vars = ['host_is_superhost',\n",
        "            'neighbourhood_group_cleansed', \n",
        "            'room_type',\n",
        "            'instant_bookable']"
      ]
    },
    {
      "cell_type": "code",
      "execution_count": null,
      "id": "9ebd8744",
      "metadata": {
        "pycharm": {
          "name": "#%%\n"
        },
        "id": "9ebd8744"
      },
      "outputs": [],
      "source": [
        "columns = date_vars + num_vars + cat_vars\n",
        "df = listings_ver.copy()[columns]"
      ]
    },
    {
      "cell_type": "markdown",
      "id": "59d8b708",
      "metadata": {
        "scrolled": true,
        "pycharm": {
          "name": "#%% md\n"
        },
        "id": "59d8b708"
      },
      "source": [
        "#### Features ####\n",
        "* **'accommodates':** the maximum capacity of the listing.\n",
        "* **'calculated_host_listings_count':** the total count of host's listings (all four types of places).\n",
        "* **'neighbourhood_group_cleansed':** compiled by comparing the listing's geographic coordinates ('latitude' & 'longitude') with a city's definition of neighbourhoods. \n",
        "* **'room_type':** hosts offer four types of places: 'Entire home/apt', 'Private room', 'Shared room', and Hotel room."
      ]
    },
    {
      "cell_type": "markdown",
      "id": "b22c9b91",
      "metadata": {
        "pycharm": {
          "name": "#%% md\n"
        },
        "id": "b22c9b91"
      },
      "source": [
        "### 2.3 Variable data types ###"
      ]
    },
    {
      "cell_type": "code",
      "execution_count": null,
      "id": "f790d1a5",
      "metadata": {
        "scrolled": true,
        "pycharm": {
          "name": "#%%\n"
        },
        "colab": {
          "base_uri": "https://localhost:8080/"
        },
        "id": "f790d1a5",
        "outputId": "4f237f35-a1b7-4196-ae30-5c3a68dc5da6"
      },
      "outputs": [
        {
          "output_type": "execute_result",
          "data": {
            "text/plain": [
              "last_scraped                       object\n",
              "host_since                         object\n",
              "host_id                             int64\n",
              "accommodates                        int64\n",
              "bedrooms                          float64\n",
              "price                              object\n",
              "minimum_nights                      int64\n",
              "availability_30                     int64\n",
              "availability_60                     int64\n",
              "availability_90                     int64\n",
              "availability_365                    int64\n",
              "number_of_reviews                   int64\n",
              "number_of_reviews_ltm               int64\n",
              "number_of_reviews_l30d              int64\n",
              "calculated_host_listings_count      int64\n",
              "host_is_superhost                  object\n",
              "neighbourhood_group_cleansed       object\n",
              "room_type                          object\n",
              "instant_bookable                   object\n",
              "dtype: object"
            ]
          },
          "metadata": {},
          "execution_count": 6
        }
      ],
      "source": [
        "df.dtypes"
      ]
    },
    {
      "cell_type": "markdown",
      "id": "63693f51",
      "metadata": {
        "pycharm": {
          "name": "#%% md\n"
        },
        "id": "63693f51"
      },
      "source": [
        "### 2.3.1 Date variables ###\n",
        "* **'last_scraped':** the date the listing was scraped.\n",
        "* **'host_since':** the date the host was created."
      ]
    },
    {
      "cell_type": "code",
      "execution_count": null,
      "id": "68181d7a",
      "metadata": {
        "pycharm": {
          "name": "#%%\n"
        },
        "id": "68181d7a"
      },
      "outputs": [],
      "source": [
        "# Change dtype to datetime\n",
        "df[date_vars] = df[date_vars].apply(lambda col: pd.to_datetime(col))"
      ]
    },
    {
      "cell_type": "code",
      "execution_count": null,
      "id": "cf9df37a",
      "metadata": {
        "pycharm": {
          "name": "#%%\n"
        },
        "id": "cf9df37a"
      },
      "outputs": [],
      "source": [
        "# Genereate a deltatime variable: 'host_seniority'\n",
        "df['host_seniority'] = df['last_scraped'] - df['host_since']"
      ]
    },
    {
      "cell_type": "code",
      "execution_count": null,
      "id": "fed6cbf3",
      "metadata": {
        "pycharm": {
          "name": "#%%\n"
        },
        "id": "fed6cbf3"
      },
      "outputs": [],
      "source": [
        "# Genereate an integer variable: 'host_seniority_days'\n",
        "df['host_seniority_days'] = df['host_seniority'].dt.days"
      ]
    },
    {
      "cell_type": "code",
      "execution_count": null,
      "id": "93174b2e",
      "metadata": {
        "pycharm": {
          "name": "#%%\n"
        },
        "id": "93174b2e"
      },
      "outputs": [],
      "source": [
        "# Remove datetime columns \n",
        "dt_columns = date_vars + ['host_seniority']\n",
        "df.drop(columns=dt_columns, inplace=True)"
      ]
    },
    {
      "cell_type": "markdown",
      "id": "36370b85",
      "metadata": {
        "pycharm": {
          "name": "#%% md\n"
        },
        "id": "36370b85"
      },
      "source": [
        "### 2.3.2 Numerical variables ###\n"
      ]
    },
    {
      "cell_type": "markdown",
      "id": "7a60ebc6",
      "metadata": {
        "pycharm": {
          "name": "#%% md\n"
        },
        "id": "7a60ebc6"
      },
      "source": [
        "### Price variable analysis ###\n",
        "* Note: although price values appear with a dollar sign, they reflect the price in local currency (EUR)"
      ]
    },
    {
      "cell_type": "markdown",
      "id": "676eed1a",
      "metadata": {
        "pycharm": {
          "name": "#%% md\n"
        },
        "id": "676eed1a"
      },
      "source": [
        "* Remove listings without a price (only six listings):"
      ]
    },
    {
      "cell_type": "code",
      "execution_count": null,
      "id": "bb1f8a7f",
      "metadata": {
        "pycharm": {
          "name": "#%%\n"
        },
        "id": "bb1f8a7f"
      },
      "outputs": [],
      "source": [
        "df = df[df.price!='$0.00']"
      ]
    },
    {
      "cell_type": "markdown",
      "id": "6834d0b1",
      "metadata": {
        "pycharm": {
          "name": "#%% md\n"
        },
        "id": "6834d0b1"
      },
      "source": [
        "* Change dtype to integer:"
      ]
    },
    {
      "cell_type": "code",
      "execution_count": null,
      "id": "68965731",
      "metadata": {
        "pycharm": {
          "name": "#%%\n"
        },
        "id": "68965731"
      },
      "outputs": [],
      "source": [
        "df['price'] = df['price'].str.lstrip('$').str.replace(',', '').str.rstrip('.00')\n",
        "df['price'] = df['price'].astype('int64')"
      ]
    },
    {
      "cell_type": "code",
      "execution_count": null,
      "id": "b9840ca6",
      "metadata": {
        "pycharm": {
          "name": "#%%\n"
        },
        "colab": {
          "base_uri": "https://localhost:8080/"
        },
        "id": "b9840ca6",
        "outputId": "972e0f47-d1b0-4724-fcab-3b1bfb3a1211"
      },
      "outputs": [
        {
          "output_type": "execute_result",
          "data": {
            "text/plain": [
              "count    13812.0\n",
              "mean        81.0\n",
              "std        333.0\n",
              "min          1.0\n",
              "25%         18.0\n",
              "50%         49.0\n",
              "75%         86.0\n",
              "max       9999.0\n",
              "Name: price, dtype: float64"
            ]
          },
          "metadata": {},
          "execution_count": 13
        }
      ],
      "source": [
        "# Descriptive statistics for 'price' variable\n",
        "df.price.describe().round()"
      ]
    },
    {
      "cell_type": "markdown",
      "id": "470bb8df",
      "metadata": {
        "pycharm": {
          "name": "#%% md\n"
        },
        "id": "470bb8df"
      },
      "source": [
        "**'price' variable distribution':** \n",
        "* We see that following the log transfomraion, the price distribution looks like a normal distribution, for prices between 10 and 400"
      ]
    },
    {
      "cell_type": "code",
      "execution_count": null,
      "id": "6ad055aa",
      "metadata": {
        "pycharm": {
          "name": "#%%\n"
        },
        "colab": {
          "base_uri": "https://localhost:8080/",
          "height": 283
        },
        "id": "6ad055aa",
        "outputId": "00fcb7ce-a2b8-49f3-fb73-998f69307d17"
      },
      "outputs": [
        {
          "output_type": "display_data",
          "data": {
            "text/plain": [
              "<Figure size 432x288 with 1 Axes>"
            ],
            "image/png": "[encoded data removed]"
          },
          "metadata": {
            "needs_background": "light"
          }
        }
      ],
      "source": [
        "# 'price' variable distribution\n",
        "sns.histplot(df.price);"
      ]
    },
    {
      "cell_type": "code",
      "execution_count": null,
      "id": "bb5b8447",
      "metadata": {
        "pycharm": {
          "name": "#%%\n"
        },
        "colab": {
          "base_uri": "https://localhost:8080/",
          "height": 283
        },
        "id": "bb5b8447",
        "outputId": "e2e86bc7-4fae-462a-c5ed-6a4bdd62875e"
      },
      "outputs": [
        {
          "output_type": "display_data",
          "data": {
            "text/plain": [
              "<Figure size 432x288 with 1 Axes>"
            ],
            "image/png": "[encoded data removed]"
          },
          "metadata": {
            "needs_background": "light"
          }
        }
      ],
      "source": [
        "# 'price' variable log10 distribution\n",
        "sns.histplot(df.price, log_scale=True);"
      ]
    },
    {
      "cell_type": "markdown",
      "id": "7b82cef1",
      "metadata": {
        "pycharm": {
          "name": "#%% md\n"
        },
        "id": "7b82cef1"
      },
      "source": [
        "* Keep listings with prices between 10 and 400:"
      ]
    },
    {
      "cell_type": "code",
      "execution_count": null,
      "id": "7e866ce8",
      "metadata": {
        "pycharm": {
          "name": "#%%\n"
        },
        "id": "7e866ce8"
      },
      "outputs": [],
      "source": [
        "df = df[(df.price>=10) & (df.price<=400)]"
      ]
    },
    {
      "cell_type": "code",
      "execution_count": null,
      "id": "f29df6f3",
      "metadata": {
        "scrolled": false,
        "pycharm": {
          "name": "#%%\n"
        },
        "colab": {
          "base_uri": "https://localhost:8080/"
        },
        "id": "f29df6f3",
        "outputId": "bab7dd39-914c-4a3b-e58b-9fcf19f837c4"
      },
      "outputs": [
        {
          "output_type": "execute_result",
          "data": {
            "text/plain": [
              "count    11051.0\n",
              "mean        74.0\n",
              "std         57.0\n",
              "min         11.0\n",
              "25%         35.0\n",
              "50%         61.0\n",
              "75%         95.0\n",
              "max        399.0\n",
              "Name: price, dtype: float64"
            ]
          },
          "metadata": {},
          "execution_count": 17
        }
      ],
      "source": [
        "df.price.describe().round()"
      ]
    },
    {
      "cell_type": "markdown",
      "id": "1e3ae220",
      "metadata": {
        "pycharm": {
          "name": "#%% md\n"
        },
        "id": "1e3ae220"
      },
      "source": [
        "* Log transform prices:"
      ]
    },
    {
      "cell_type": "code",
      "execution_count": null,
      "id": "e413c8c7",
      "metadata": {
        "pycharm": {
          "name": "#%%\n"
        },
        "id": "e413c8c7",
        "colab": {
          "base_uri": "https://localhost:8080/"
        },
        "outputId": "b7abc56f-45b2-4dba-cf53-d54e9ed0bc57"
      },
      "outputs": [
        {
          "output_type": "stream",
          "name": "stderr",
          "text": [
            "/usr/local/lib/python3.7/dist-packages/ipykernel_launcher.py:1: SettingWithCopyWarning: \n",
            "A value is trying to be set on a copy of a slice from a DataFrame.\n",
            "Try using .loc[row_indexer,col_indexer] = value instead\n",
            "\n",
            "See the caveats in the documentation: https://pandas.pydata.org/pandas-docs/stable/user_guide/indexing.html#returning-a-view-versus-a-copy\n",
            "  \"\"\"Entry point for launching an IPython kernel.\n"
          ]
        }
      ],
      "source": [
        "df['price'] = np.log1p(df['price'])"
      ]
    },
    {
      "cell_type": "code",
      "execution_count": null,
      "id": "f416274e",
      "metadata": {
        "pycharm": {
          "name": "#%%\n"
        },
        "colab": {
          "base_uri": "https://localhost:8080/",
          "height": 281
        },
        "id": "f416274e",
        "outputId": "3ac49912-8034-4233-ad13-1c54f44f568a"
      },
      "outputs": [
        {
          "output_type": "display_data",
          "data": {
            "text/plain": [
              "<Figure size 432x288 with 1 Axes>"
            ],
            "image/png": "[encoded data removed]"
          },
          "metadata": {
            "needs_background": "light"
          }
        }
      ],
      "source": [
        "# 'price' variable distribution\n",
        "sns.histplot(df.price);"
      ]
    },
    {
      "cell_type": "code",
      "execution_count": null,
      "id": "363160c1",
      "metadata": {
        "pycharm": {
          "name": "#%%\n"
        },
        "colab": {
          "base_uri": "https://localhost:8080/",
          "height": 293
        },
        "id": "363160c1",
        "outputId": "29e46f2d-5505-4052-e24a-957334dc610a"
      },
      "outputs": [
        {
          "output_type": "display_data",
          "data": {
            "text/plain": [
              "<Figure size 432x288 with 1 Axes>"
            ],
            "image/png": "[encoded data removed]"
          },
          "metadata": {}
        }
      ],
      "source": [
        "# 'price' variable distribution by 'room_type'\n",
        "sns.set_theme(style='whitegrid', rc={'axes.titlesize': 'large'})\n",
        "fig, ax = plt.subplots()\n",
        "ax = sns.histplot(df, x='price', bins=80, binrange=(2.5, 6), hue='room_type', element='poly')\n",
        "plt.xlabel('Log Price')\n",
        "plt.ylabel('No. of Listings')\n",
        "plt.title('Price by Room Type')\n",
        "fig.tight_layout()"
      ]
    },
    {
      "cell_type": "markdown",
      "id": "6829c092",
      "metadata": {
        "pycharm": {
          "name": "#%% md\n"
        },
        "id": "6829c092"
      },
      "source": [
        "### Feature importance: number of reviews ###"
      ]
    },
    {
      "cell_type": "code",
      "execution_count": null,
      "id": "8d75e66d",
      "metadata": {
        "pycharm": {
          "name": "#%%\n"
        },
        "id": "8d75e66d"
      },
      "outputs": [],
      "source": [
        "number_of_reviews_price = ['number_of_reviews',\n",
        "                           'number_of_reviews_ltm',\n",
        "                           'number_of_reviews_l30d',\n",
        "                           'price']"
      ]
    },
    {
      "cell_type": "code",
      "execution_count": null,
      "id": "cc5b0085",
      "metadata": {
        "pycharm": {
          "name": "#%%\n"
        },
        "colab": {
          "base_uri": "https://localhost:8080/",
          "height": 412
        },
        "id": "cc5b0085",
        "outputId": "ff96e4e1-a9f3-4e79-acd9-72070845201d"
      },
      "outputs": [
        {
          "output_type": "display_data",
          "data": {
            "text/plain": [
              "<Figure size 288x288 with 2 Axes>"
            ],
            "image/png": "[encoded data removed]"
          },
          "metadata": {}
        }
      ],
      "source": [
        "# Feature correlation: number of reviews\n",
        "plt.figure(figsize=(4,4))  \n",
        "sns.heatmap(df[number_of_reviews_price].corr(), annot=True, linewidths=.5, cmap=\"Blues\")\n",
        "plt.title(\"Correlations between 'number_of_reviews' features and 'price'\")\n",
        "plt.show()"
      ]
    },
    {
      "cell_type": "markdown",
      "id": "8c5d6f1a",
      "metadata": {
        "pycharm": {
          "name": "#%% md\n"
        },
        "id": "8c5d6f1a"
      },
      "source": [
        "* We see strong positive correlation between 'number_of_reviews_ltm' and '_l30d' features\n",
        "* Also, 'number_of_reviews_ltm' has the highest correlation coefficient with regrad to 'price' (0.069)\n",
        "* Hence we can eliminate 'number_of_reviews' and '_l30d' features"
      ]
    },
    {
      "cell_type": "code",
      "execution_count": null,
      "id": "b5f9c822",
      "metadata": {
        "pycharm": {
          "name": "#%%\n"
        },
        "id": "b5f9c822"
      },
      "outputs": [],
      "source": [
        "# Remove 'number_of_reviews' and '_l30d' columns \n",
        "df.drop(columns=['number_of_reviews', 'number_of_reviews_l30d'], inplace=True)"
      ]
    },
    {
      "cell_type": "markdown",
      "id": "3c3435ab",
      "metadata": {
        "pycharm": {
          "name": "#%% md\n"
        },
        "id": "3c3435ab"
      },
      "source": [
        "### Feature engineering: number of reviews per host ###"
      ]
    },
    {
      "cell_type": "code",
      "execution_count": null,
      "id": "6f620d94",
      "metadata": {
        "pycharm": {
          "name": "#%%\n"
        },
        "colab": {
          "base_uri": "https://localhost:8080/"
        },
        "id": "6f620d94",
        "outputId": "4ef09ef4-34be-4363-d4eb-8ff70c8a903d"
      },
      "outputs": [
        {
          "output_type": "execute_result",
          "data": {
            "text/plain": [
              "host_id\n",
              "107335103    2059\n",
              "107141654    1610\n",
              "143860194     851\n",
              "28786243      766\n",
              "8321213       695\n",
              "             ... \n",
              "48860506        0\n",
              "48927615        0\n",
              "49081983        0\n",
              "49107335        0\n",
              "422253585       0\n",
              "Name: number_of_reviews_ltm, Length: 5531, dtype: int64"
            ]
          },
          "metadata": {},
          "execution_count": 24
        }
      ],
      "source": [
        "# Reviews per host\n",
        "df.groupby('host_id').number_of_reviews_ltm.sum().sort_values(ascending=False)"
      ]
    },
    {
      "cell_type": "code",
      "execution_count": null,
      "id": "7a70e17e",
      "metadata": {
        "pycharm": {
          "name": "#%%\n"
        },
        "id": "7a70e17e"
      },
      "outputs": [],
      "source": [
        "# Generate a new column: 'reviews_per_host'\n",
        "df['reviews_per_host'] = df.groupby('host_id').number_of_reviews_ltm.transform('sum')"
      ]
    },
    {
      "cell_type": "code",
      "execution_count": null,
      "id": "32d5adbb",
      "metadata": {
        "pycharm": {
          "name": "#%%\n"
        },
        "id": "32d5adbb"
      },
      "outputs": [],
      "source": [
        "# Remove 'number_of_reviews_ltm' and 'host_id' columns\n",
        "df.drop(columns=['number_of_reviews_ltm', 'host_id'], inplace=True)"
      ]
    },
    {
      "cell_type": "code",
      "execution_count": null,
      "id": "84f6e4af",
      "metadata": {
        "pycharm": {
          "name": "#%%\n"
        },
        "id": "84f6e4af",
        "colab": {
          "base_uri": "https://localhost:8080/"
        },
        "outputId": "63160de5-0e5d-4071-ad2c-b91688278478"
      },
      "outputs": [
        {
          "output_type": "execute_result",
          "data": {
            "text/plain": [
              "0.105"
            ]
          },
          "metadata": {},
          "execution_count": 27
        }
      ],
      "source": [
        "df.reviews_per_host.corr(df.price).round(3)"
      ]
    },
    {
      "cell_type": "markdown",
      "id": "2401ab5d",
      "metadata": {
        "pycharm": {
          "name": "#%% md\n"
        },
        "id": "2401ab5d"
      },
      "source": [
        "### Feature importance: availability ###"
      ]
    },
    {
      "cell_type": "code",
      "execution_count": null,
      "id": "46bbc93c",
      "metadata": {
        "pycharm": {
          "name": "#%%\n"
        },
        "id": "46bbc93c"
      },
      "outputs": [],
      "source": [
        "availability = ['availability_30',\n",
        "                'availability_60',\n",
        "                'availability_90',\n",
        "                'availability_365',\n",
        "                'price']"
      ]
    },
    {
      "cell_type": "code",
      "execution_count": null,
      "id": "b8400884",
      "metadata": {
        "pycharm": {
          "name": "#%%\n"
        },
        "id": "b8400884",
        "colab": {
          "base_uri": "https://localhost:8080/",
          "height": 416
        },
        "outputId": "b5875edb-3e9e-44e7-a453-792087a7d869"
      },
      "outputs": [
        {
          "output_type": "display_data",
          "data": {
            "text/plain": [
              "<Figure size 360x360 with 2 Axes>"
            ],
            "image/png": "[encoded data removed]"
          },
          "metadata": {}
        }
      ],
      "source": [
        "# Feature correlation: availability\n",
        "plt.figure(figsize=(5,5))  \n",
        "sns.heatmap(df[availability].corr(), annot=True, linewidths=.5, cmap=\"Blues\")\n",
        "plt.title(\"Correlations between 'availability' features and 'price'\")\n",
        "plt.show()"
      ]
    },
    {
      "cell_type": "markdown",
      "id": "db746a59",
      "metadata": {
        "pycharm": {
          "name": "#%% md\n"
        },
        "id": "db746a59"
      },
      "source": [
        "* We see strong positive (pairwise) correlations between 'availability_30', '_60', and '_90' features;\n",
        "* And amongst them, 'availability_90' has the highest correlation coefficient with regrad to 'price' (0.087)\n",
        "* 'availability_365' has the highest correlation coefficient with regrad to 'price' (0.099);\n",
        "* And a moderate positive correlation coefficient with regrad to 'availability_90' (0.63)\n",
        "* Hence we can eliminate all 'availability' features except 'availability_365'"
      ]
    },
    {
      "cell_type": "code",
      "execution_count": null,
      "id": "4079a8d5",
      "metadata": {
        "pycharm": {
          "name": "#%%\n"
        },
        "id": "4079a8d5"
      },
      "outputs": [],
      "source": [
        "# Remove 'availability_30', '_60', and '_90' columns \n",
        "availability_30_60_90 = ['availability_30', 'availability_60', 'availability_90']\n",
        "df.drop(columns=availability_30_60_90, inplace=True)"
      ]
    },
    {
      "cell_type": "markdown",
      "id": "c626a730",
      "metadata": {
        "pycharm": {
          "name": "#%% md\n"
        },
        "id": "c626a730"
      },
      "source": [
        "### Feature importance: other numerical variables ###"
      ]
    },
    {
      "cell_type": "code",
      "execution_count": null,
      "id": "5f646e2c",
      "metadata": {
        "pycharm": {
          "name": "#%%\n"
        },
        "id": "5f646e2c",
        "colab": {
          "base_uri": "https://localhost:8080/"
        },
        "outputId": "49baa38d-e34e-41d7-a56b-e41945e7cb3a"
      },
      "outputs": [
        {
          "output_type": "stream",
          "name": "stdout",
          "text": [
            "<class 'pandas.core.frame.DataFrame'>\n",
            "Int64Index: 11051 entries, 1 to 18908\n",
            "Data columns (total 12 columns):\n",
            " #   Column                          Non-Null Count  Dtype  \n",
            "---  ------                          --------------  -----  \n",
            " 0   accommodates                    11051 non-null  int64  \n",
            " 1   bedrooms                        10263 non-null  float64\n",
            " 2   price                           11051 non-null  float64\n",
            " 3   minimum_nights                  11051 non-null  int64  \n",
            " 4   availability_365                11051 non-null  int64  \n",
            " 5   calculated_host_listings_count  11051 non-null  int64  \n",
            " 6   host_is_superhost               11051 non-null  object \n",
            " 7   neighbourhood_group_cleansed    11051 non-null  object \n",
            " 8   room_type                       11051 non-null  object \n",
            " 9   instant_bookable                11051 non-null  object \n",
            " 10  host_seniority_days             11051 non-null  int64  \n",
            " 11  reviews_per_host                11051 non-null  int64  \n",
            "dtypes: float64(2), int64(6), object(4)\n",
            "memory usage: 1.1+ MB\n"
          ]
        }
      ],
      "source": [
        "# We now have 8 numerical variables\n",
        "df.info()"
      ]
    },
    {
      "cell_type": "code",
      "execution_count": null,
      "id": "a7beddcc",
      "metadata": {
        "pycharm": {
          "name": "#%%\n"
        },
        "id": "a7beddcc",
        "colab": {
          "base_uri": "https://localhost:8080/",
          "height": 660
        },
        "outputId": "ee0ef94f-d84f-4bce-cc14-d5fd71464f25"
      },
      "outputs": [
        {
          "output_type": "display_data",
          "data": {
            "text/plain": [
              "<Figure size 576x576 with 2 Axes>"
            ],
            "image/png": "[encoded data removed]"
          },
          "metadata": {}
        }
      ],
      "source": [
        "plt.figure(figsize=(8, 8))  \n",
        "sns.heatmap(df.corr(), annot=True, linewidths=.5, cmap=\"Blues\")\n",
        "plt.title('Correlations between numerical features')\n",
        "plt.show()"
      ]
    },
    {
      "cell_type": "markdown",
      "id": "f50dc142",
      "metadata": {
        "pycharm": {
          "name": "#%% md\n"
        },
        "id": "f50dc142"
      },
      "source": [
        "#### Correlation between 'accommodates' and 'bedrooms'  features: ####\n",
        "* Strong positive correlation between the features\n",
        "* 'accommodates' has the higher correlation coefficient with regrad to 'price' (0.47)\n",
        "* Hence we can eliminate the 'bedrooms' feature"
      ]
    },
    {
      "cell_type": "code",
      "execution_count": null,
      "id": "5714d30d",
      "metadata": {
        "pycharm": {
          "name": "#%%\n"
        },
        "id": "5714d30d"
      },
      "outputs": [],
      "source": [
        "# Remove 'bedrooms' column\n",
        "df.drop(columns='bedrooms', inplace=True)"
      ]
    },
    {
      "cell_type": "code",
      "execution_count": null,
      "id": "24dd1e72",
      "metadata": {
        "pycharm": {
          "name": "#%%\n"
        },
        "id": "24dd1e72",
        "colab": {
          "base_uri": "https://localhost:8080/"
        },
        "outputId": "b50edc94-989e-487d-a367-0e211408fbdc"
      },
      "outputs": [
        {
          "output_type": "stream",
          "name": "stdout",
          "text": [
            "<class 'pandas.core.frame.DataFrame'>\n",
            "Int64Index: 11051 entries, 1 to 18908\n",
            "Data columns (total 11 columns):\n",
            " #   Column                          Non-Null Count  Dtype  \n",
            "---  ------                          --------------  -----  \n",
            " 0   accommodates                    11051 non-null  int64  \n",
            " 1   price                           11051 non-null  float64\n",
            " 2   minimum_nights                  11051 non-null  int64  \n",
            " 3   availability_365                11051 non-null  int64  \n",
            " 4   calculated_host_listings_count  11051 non-null  int64  \n",
            " 5   host_is_superhost               11051 non-null  object \n",
            " 6   neighbourhood_group_cleansed    11051 non-null  object \n",
            " 7   room_type                       11051 non-null  object \n",
            " 8   instant_bookable                11051 non-null  object \n",
            " 9   host_seniority_days             11051 non-null  int64  \n",
            " 10  reviews_per_host                11051 non-null  int64  \n",
            "dtypes: float64(1), int64(6), object(4)\n",
            "memory usage: 1.0+ MB\n"
          ]
        }
      ],
      "source": [
        "df.info()"
      ]
    },
    {
      "cell_type": "markdown",
      "id": "3c16477f",
      "metadata": {
        "pycharm": {
          "name": "#%% md\n"
        },
        "id": "3c16477f"
      },
      "source": [
        "### 2.4 Split the dataset into train and test subsets   ###"
      ]
    },
    {
      "cell_type": "code",
      "execution_count": null,
      "id": "81dad0b7",
      "metadata": {
        "pycharm": {
          "name": "#%%\n"
        },
        "id": "81dad0b7",
        "colab": {
          "base_uri": "https://localhost:8080/"
        },
        "outputId": "9b3c5a64-9aa6-40c2-a42d-7d1d5a2abc24"
      },
      "outputs": [
        {
          "output_type": "execute_result",
          "data": {
            "text/plain": [
              "(11051, 11)"
            ]
          },
          "metadata": {},
          "execution_count": 35
        }
      ],
      "source": [
        "df.shape"
      ]
    },
    {
      "cell_type": "code",
      "execution_count": null,
      "id": "d587030b",
      "metadata": {
        "pycharm": {
          "name": "#%%\n"
        },
        "id": "d587030b"
      },
      "outputs": [],
      "source": [
        "from sklearn.model_selection import train_test_split"
      ]
    },
    {
      "cell_type": "code",
      "execution_count": null,
      "id": "553f30d6",
      "metadata": {
        "pycharm": {
          "name": "#%%\n"
        },
        "id": "553f30d6"
      },
      "outputs": [],
      "source": [
        "df_train, df_test = train_test_split(df, test_size=0.2, random_state=42)"
      ]
    },
    {
      "cell_type": "code",
      "execution_count": null,
      "id": "8d1bb17b",
      "metadata": {
        "pycharm": {
          "name": "#%%\n"
        },
        "id": "8d1bb17b",
        "colab": {
          "base_uri": "https://localhost:8080/"
        },
        "outputId": "baf42a46-88de-4617-d7c2-acf60ad91a13"
      },
      "outputs": [
        {
          "output_type": "execute_result",
          "data": {
            "text/plain": [
              "((8840, 11), (2211, 11))"
            ]
          },
          "metadata": {},
          "execution_count": 38
        }
      ],
      "source": [
        "# Check size of dataframes\n",
        "df_train.shape, df_test.shape"
      ]
    },
    {
      "cell_type": "code",
      "execution_count": null,
      "id": "feff9c29",
      "metadata": {
        "pycharm": {
          "name": "#%%\n"
        },
        "id": "feff9c29"
      },
      "outputs": [],
      "source": [
        "# Assign 'price' as the target variable\n",
        "y_train = df_train.price.values\n",
        "y_test = df_test.price.values"
      ]
    },
    {
      "cell_type": "code",
      "execution_count": null,
      "id": "92c39fde",
      "metadata": {
        "pycharm": {
          "name": "#%%\n"
        },
        "id": "92c39fde",
        "colab": {
          "base_uri": "https://localhost:8080/"
        },
        "outputId": "bad455d7-d524-46de-e78e-f4b6e9e50a4a"
      },
      "outputs": [
        {
          "output_type": "execute_result",
          "data": {
            "text/plain": [
              "((8840,), (2211,))"
            ]
          },
          "metadata": {},
          "execution_count": 40
        }
      ],
      "source": [
        "# Check size of arrays\n",
        "y_train.shape, y_test.shape"
      ]
    },
    {
      "cell_type": "code",
      "execution_count": null,
      "id": "d50b53b3",
      "metadata": {
        "pycharm": {
          "name": "#%%\n"
        },
        "id": "d50b53b3"
      },
      "outputs": [],
      "source": [
        "# Remove 'price' column from dataframes\n",
        "del df_train['price']\n",
        "del df_test['price']"
      ]
    },
    {
      "cell_type": "code",
      "execution_count": null,
      "id": "5f27ab52",
      "metadata": {
        "pycharm": {
          "name": "#%%\n"
        },
        "id": "5f27ab52",
        "colab": {
          "base_uri": "https://localhost:8080/"
        },
        "outputId": "f8de865c-2df2-4791-a1ac-47f9303c81ec"
      },
      "outputs": [
        {
          "output_type": "execute_result",
          "data": {
            "text/plain": [
              "((8840, 10), (2211, 10))"
            ]
          },
          "metadata": {},
          "execution_count": 42
        }
      ],
      "source": [
        "# Check size of dataframes\n",
        "df_train.shape, df_test.shape"
      ]
    },
    {
      "cell_type": "markdown",
      "id": "ea0bd074",
      "metadata": {
        "pycharm": {
          "name": "#%% md\n"
        },
        "id": "ea0bd074"
      },
      "source": [
        "### 2.5 One-hot encoding of categorical variables  ###\n",
        "* **'neighbourhood_group_cleansed'** "
      ]
    },
    {
      "cell_type": "code",
      "execution_count": null,
      "id": "e375fced",
      "metadata": {
        "pycharm": {
          "name": "#%%\n"
        },
        "id": "e375fced",
        "colab": {
          "base_uri": "https://localhost:8080/"
        },
        "outputId": "5c45d7d1-cd82-4698-db4e-278a2a4d4f74"
      },
      "outputs": [
        {
          "output_type": "execute_result",
          "data": {
            "text/plain": [
              "21"
            ]
          },
          "metadata": {},
          "execution_count": 43
        }
      ],
      "source": [
        "# All 21 groups are represented in the 'train' dataset\n",
        "df_train.neighbourhood_group_cleansed.nunique()"
      ]
    },
    {
      "cell_type": "markdown",
      "id": "e5968b8b",
      "metadata": {
        "pycharm": {
          "name": "#%% md\n"
        },
        "id": "e5968b8b"
      },
      "source": [
        "* **'room_type':** "
      ]
    },
    {
      "cell_type": "code",
      "execution_count": null,
      "id": "73f09ffc",
      "metadata": {
        "pycharm": {
          "name": "#%%\n"
        },
        "id": "73f09ffc",
        "colab": {
          "base_uri": "https://localhost:8080/"
        },
        "outputId": "a8a091b7-b76c-4725-ea75-5ec8af06f651"
      },
      "outputs": [
        {
          "output_type": "execute_result",
          "data": {
            "text/plain": [
              "4"
            ]
          },
          "metadata": {},
          "execution_count": 44
        }
      ],
      "source": [
        "# All four types are represented in the 'train' dataset\n",
        "df_train.room_type.nunique()"
      ]
    },
    {
      "cell_type": "markdown",
      "id": "0b62693e",
      "metadata": {
        "pycharm": {
          "name": "#%% md\n"
        },
        "id": "0b62693e"
      },
      "source": [
        "* **Use *DictVectorizer* to generate the feature matrix:**"
      ]
    },
    {
      "cell_type": "code",
      "execution_count": null,
      "id": "42ef46c2",
      "metadata": {
        "pycharm": {
          "name": "#%%\n"
        },
        "id": "42ef46c2"
      },
      "outputs": [],
      "source": [
        "from sklearn.feature_extraction import DictVectorizer"
      ]
    },
    {
      "cell_type": "code",
      "execution_count": null,
      "id": "3edbcfa9",
      "metadata": {
        "pycharm": {
          "name": "#%%\n"
        },
        "id": "3edbcfa9"
      },
      "outputs": [],
      "source": [
        "# Convert dataframes into lists of dictionaries\n",
        "train_dict = df_train.to_dict(orient='records')\n",
        "test_dict = df_test.to_dict(orient='records')"
      ]
    },
    {
      "cell_type": "code",
      "execution_count": null,
      "id": "96ea8b7f",
      "metadata": {
        "pycharm": {
          "name": "#%%\n"
        },
        "id": "96ea8b7f"
      },
      "outputs": [],
      "source": [
        "dv = DictVectorizer(sparse=False)"
      ]
    },
    {
      "cell_type": "code",
      "execution_count": null,
      "id": "d05a51e0",
      "metadata": {
        "pycharm": {
          "name": "#%%\n"
        },
        "id": "d05a51e0"
      },
      "outputs": [],
      "source": [
        "X_train = dv.fit_transform(train_dict)\n",
        "X_test = dv.transform(test_dict)"
      ]
    },
    {
      "cell_type": "code",
      "execution_count": null,
      "id": "50c39aff",
      "metadata": {
        "scrolled": true,
        "pycharm": {
          "name": "#%%\n"
        },
        "id": "50c39aff",
        "colab": {
          "base_uri": "https://localhost:8080/"
        },
        "outputId": "32df6c2b-a74c-4d4e-a385-6ad5e4b0aee5"
      },
      "outputs": [
        {
          "output_type": "stream",
          "name": "stderr",
          "text": [
            "/usr/local/lib/python3.7/dist-packages/sklearn/utils/deprecation.py:87: FutureWarning: Function get_feature_names is deprecated; get_feature_names is deprecated in 1.0 and will be removed in 1.2. Please use get_feature_names_out instead.\n",
            "  warnings.warn(msg, category=FutureWarning)\n"
          ]
        },
        {
          "output_type": "execute_result",
          "data": {
            "text/plain": [
              "['accommodates',\n",
              " 'availability_365',\n",
              " 'calculated_host_listings_count',\n",
              " 'host_is_superhost=f',\n",
              " 'host_is_superhost=t',\n",
              " 'host_seniority_days',\n",
              " 'instant_bookable=f',\n",
              " 'instant_bookable=t',\n",
              " 'minimum_nights',\n",
              " 'neighbourhood_group_cleansed=Arganzuela',\n",
              " 'neighbourhood_group_cleansed=Barajas',\n",
              " 'neighbourhood_group_cleansed=Carabanchel',\n",
              " 'neighbourhood_group_cleansed=Centro',\n",
              " 'neighbourhood_group_cleansed=Chamartín',\n",
              " 'neighbourhood_group_cleansed=Chamberí',\n",
              " 'neighbourhood_group_cleansed=Ciudad Lineal',\n",
              " 'neighbourhood_group_cleansed=Fuencarral - El Pardo',\n",
              " 'neighbourhood_group_cleansed=Hortaleza',\n",
              " 'neighbourhood_group_cleansed=Latina',\n",
              " 'neighbourhood_group_cleansed=Moncloa - Aravaca',\n",
              " 'neighbourhood_group_cleansed=Moratalaz',\n",
              " 'neighbourhood_group_cleansed=Puente de Vallecas',\n",
              " 'neighbourhood_group_cleansed=Retiro',\n",
              " 'neighbourhood_group_cleansed=Salamanca',\n",
              " 'neighbourhood_group_cleansed=San Blas - Canillejas',\n",
              " 'neighbourhood_group_cleansed=Tetuán',\n",
              " 'neighbourhood_group_cleansed=Usera',\n",
              " 'neighbourhood_group_cleansed=Vicálvaro',\n",
              " 'neighbourhood_group_cleansed=Villa de Vallecas',\n",
              " 'neighbourhood_group_cleansed=Villaverde',\n",
              " 'reviews_per_host',\n",
              " 'room_type=Entire home/apt',\n",
              " 'room_type=Hotel room',\n",
              " 'room_type=Private room',\n",
              " 'room_type=Shared room']"
            ]
          },
          "metadata": {},
          "execution_count": 49
        }
      ],
      "source": [
        "# We now have 35 features:\n",
        "dv.get_feature_names()"
      ]
    },
    {
      "cell_type": "markdown",
      "id": "51f53bd6",
      "metadata": {
        "pycharm": {
          "name": "#%% md\n"
        },
        "id": "51f53bd6"
      },
      "source": [
        "### 2.6 Train  a linear regression model ###"
      ]
    },
    {
      "cell_type": "code",
      "execution_count": null,
      "id": "5cb8a70e",
      "metadata": {
        "pycharm": {
          "name": "#%%\n"
        },
        "id": "5cb8a70e"
      },
      "outputs": [],
      "source": [
        "from sklearn.linear_model import LinearRegression"
      ]
    },
    {
      "cell_type": "code",
      "execution_count": null,
      "id": "dc550bc6",
      "metadata": {
        "pycharm": {
          "name": "#%%\n"
        },
        "id": "dc550bc6",
        "colab": {
          "base_uri": "https://localhost:8080/"
        },
        "outputId": "e4b11cd7-9f91-499e-aa2f-1cdb507fcfb9"
      },
      "outputs": [
        {
          "output_type": "execute_result",
          "data": {
            "text/plain": [
              "LinearRegression()"
            ]
          },
          "metadata": {},
          "execution_count": 51
        }
      ],
      "source": [
        "model = LinearRegression()\n",
        "model.fit(X_train, y_train)"
      ]
    },
    {
      "cell_type": "code",
      "execution_count": null,
      "id": "ff052a16",
      "metadata": {
        "pycharm": {
          "name": "#%%\n"
        },
        "id": "ff052a16",
        "colab": {
          "base_uri": "https://localhost:8080/"
        },
        "outputId": "4320dccb-82a9-4ee0-c0d2-80eff74399b3"
      },
      "outputs": [
        {
          "output_type": "execute_result",
          "data": {
            "text/plain": [
              "array([ 8.96580707e-02,  3.71845755e-04,  9.96227422e-04, -3.24806350e-02,\n",
              "        3.24806350e-02, -1.86347420e-06, -5.20969274e-02,  5.20969274e-02,\n",
              "       -8.57724096e-04,  5.41210570e-02, -5.76729608e-02, -4.14077096e-02,\n",
              "        1.61674022e-01,  6.42952497e-02,  1.82089839e-01, -8.94713754e-02,\n",
              "       -3.24677138e-02, -5.14062404e-03, -1.07434438e-01,  1.13277099e-01,\n",
              "       -2.31895845e-01, -1.25052994e-01,  1.08181652e-01,  2.07911501e-01,\n",
              "        6.98116907e-02,  1.50426856e-01, -1.64391517e-01,  6.19150004e-02,\n",
              "       -4.68745629e-02, -2.71894223e-01, -6.83554097e-05,  3.62386366e-01,\n",
              "        4.87632734e-01, -1.50047595e-01, -6.99971505e-01])"
            ]
          },
          "metadata": {},
          "execution_count": 52
        }
      ],
      "source": [
        "# Weights\n",
        "w = model.coef_\n",
        "w"
      ]
    },
    {
      "cell_type": "code",
      "execution_count": null,
      "id": "797e91fc",
      "metadata": {
        "pycharm": {
          "name": "#%%\n"
        },
        "id": "797e91fc",
        "colab": {
          "base_uri": "https://localhost:8080/"
        },
        "outputId": "bbd1a5f5-255f-4234-c63f-bab7e296fd08"
      },
      "outputs": [
        {
          "output_type": "stream",
          "name": "stderr",
          "text": [
            "/usr/local/lib/python3.7/dist-packages/sklearn/utils/deprecation.py:87: FutureWarning: Function get_feature_names is deprecated; get_feature_names is deprecated in 1.0 and will be removed in 1.2. Please use get_feature_names_out instead.\n",
            "  warnings.warn(msg, category=FutureWarning)\n"
          ]
        },
        {
          "output_type": "execute_result",
          "data": {
            "text/plain": [
              "{'accommodates': 0.08966,\n",
              " 'availability_365': 0.00037,\n",
              " 'calculated_host_listings_count': 0.001,\n",
              " 'host_is_superhost=f': -0.03248,\n",
              " 'host_is_superhost=t': 0.03248,\n",
              " 'host_seniority_days': -0.0,\n",
              " 'instant_bookable=f': -0.0521,\n",
              " 'instant_bookable=t': 0.0521,\n",
              " 'minimum_nights': -0.00086,\n",
              " 'neighbourhood_group_cleansed=Arganzuela': 0.05412,\n",
              " 'neighbourhood_group_cleansed=Barajas': -0.05767,\n",
              " 'neighbourhood_group_cleansed=Carabanchel': -0.04141,\n",
              " 'neighbourhood_group_cleansed=Centro': 0.16167,\n",
              " 'neighbourhood_group_cleansed=Chamartín': 0.0643,\n",
              " 'neighbourhood_group_cleansed=Chamberí': 0.18209,\n",
              " 'neighbourhood_group_cleansed=Ciudad Lineal': -0.08947,\n",
              " 'neighbourhood_group_cleansed=Fuencarral - El Pardo': -0.03247,\n",
              " 'neighbourhood_group_cleansed=Hortaleza': -0.00514,\n",
              " 'neighbourhood_group_cleansed=Latina': -0.10743,\n",
              " 'neighbourhood_group_cleansed=Moncloa - Aravaca': 0.11328,\n",
              " 'neighbourhood_group_cleansed=Moratalaz': -0.2319,\n",
              " 'neighbourhood_group_cleansed=Puente de Vallecas': -0.12505,\n",
              " 'neighbourhood_group_cleansed=Retiro': 0.10818,\n",
              " 'neighbourhood_group_cleansed=Salamanca': 0.20791,\n",
              " 'neighbourhood_group_cleansed=San Blas - Canillejas': 0.06981,\n",
              " 'neighbourhood_group_cleansed=Tetuán': 0.15043,\n",
              " 'neighbourhood_group_cleansed=Usera': -0.16439,\n",
              " 'neighbourhood_group_cleansed=Vicálvaro': 0.06192,\n",
              " 'neighbourhood_group_cleansed=Villa de Vallecas': -0.04687,\n",
              " 'neighbourhood_group_cleansed=Villaverde': -0.27189,\n",
              " 'reviews_per_host': -7e-05,\n",
              " 'room_type=Entire home/apt': 0.36239,\n",
              " 'room_type=Hotel room': 0.48763,\n",
              " 'room_type=Private room': -0.15005,\n",
              " 'room_type=Shared room': -0.69997}"
            ]
          },
          "metadata": {},
          "execution_count": 53
        }
      ],
      "source": [
        "dict(zip(dv.get_feature_names(), w.round(5)))"
      ]
    },
    {
      "cell_type": "code",
      "execution_count": null,
      "id": "88ae9019",
      "metadata": {
        "pycharm": {
          "name": "#%%\n"
        },
        "id": "88ae9019",
        "colab": {
          "base_uri": "https://localhost:8080/"
        },
        "outputId": "16acfb3a-3892-44f4-9d4f-8cf0b85d9fc3"
      },
      "outputs": [
        {
          "output_type": "execute_result",
          "data": {
            "text/plain": [
              "3.4101299949847785"
            ]
          },
          "metadata": {},
          "execution_count": 54
        }
      ],
      "source": [
        "# Bias term\n",
        "w0 = model.intercept_\n",
        "w0"
      ]
    },
    {
      "cell_type": "code",
      "execution_count": null,
      "id": "e23400b0",
      "metadata": {
        "pycharm": {
          "name": "#%%\n"
        },
        "id": "e23400b0",
        "colab": {
          "base_uri": "https://localhost:8080/"
        },
        "outputId": "9cad2002-7c93-4d3d-f52c-985de9d563a7"
      },
      "outputs": [
        {
          "output_type": "execute_result",
          "data": {
            "text/plain": [
              "29.269178845099564"
            ]
          },
          "metadata": {},
          "execution_count": 55
        }
      ],
      "source": [
        "# Base price of a listing in the model\n",
        "np.expm1(w0)"
      ]
    },
    {
      "cell_type": "markdown",
      "id": "051cd1d2",
      "metadata": {
        "pycharm": {
          "name": "#%% md\n"
        },
        "id": "051cd1d2"
      },
      "source": [
        "### 2.7 Use the model ###"
      ]
    },
    {
      "cell_type": "code",
      "execution_count": null,
      "id": "e4ae24ca",
      "metadata": {
        "pycharm": {
          "name": "#%%\n"
        },
        "id": "e4ae24ca"
      },
      "outputs": [],
      "source": [
        "from sklearn.metrics import mean_squared_error as mse"
      ]
    },
    {
      "cell_type": "code",
      "execution_count": null,
      "id": "94124cc0",
      "metadata": {
        "pycharm": {
          "name": "#%%\n"
        },
        "id": "94124cc0"
      },
      "outputs": [],
      "source": [
        "y_train_pred = model.predict(X_train)"
      ]
    },
    {
      "cell_type": "code",
      "execution_count": null,
      "id": "773c3ef2",
      "metadata": {
        "pycharm": {
          "name": "#%%\n"
        },
        "id": "773c3ef2",
        "colab": {
          "base_uri": "https://localhost:8080/"
        },
        "outputId": "b9e6066c-88c0-4a93-e278-cf623f9c9fe2"
      },
      "outputs": [
        {
          "output_type": "execute_result",
          "data": {
            "text/plain": [
              "0.575"
            ]
          },
          "metadata": {},
          "execution_count": 58
        }
      ],
      "source": [
        "train_mse = mse(y_train, y_train_pred)\n",
        "train_rmse = np.sqrt(train_mse)\n",
        "train_rmse.round(3)"
      ]
    },
    {
      "cell_type": "code",
      "execution_count": null,
      "id": "fcae4e5e",
      "metadata": {
        "pycharm": {
          "name": "#%%\n"
        },
        "id": "fcae4e5e",
        "colab": {
          "base_uri": "https://localhost:8080/",
          "height": 268
        },
        "outputId": "68c2c656-4836-4f64-8560-f8751fba268a"
      },
      "outputs": [
        {
          "output_type": "display_data",
          "data": {
            "text/plain": [
              "<Figure size 432x288 with 1 Axes>"
            ],
            "image/png": "[encoded data removed]"
          },
          "metadata": {}
        }
      ],
      "source": [
        "sns.histplot(y_train_pred, label='prediction', color='red')\n",
        "sns.histplot(y_train, label='target', color='gray')\n",
        "plt.legend();"
      ]
    },
    {
      "cell_type": "code",
      "execution_count": null,
      "id": "e208b5e4",
      "metadata": {
        "pycharm": {
          "name": "#%%\n"
        },
        "id": "e208b5e4"
      },
      "outputs": [],
      "source": [
        "y_test_pred = model.predict(X_test)"
      ]
    },
    {
      "cell_type": "code",
      "execution_count": null,
      "id": "5a919154",
      "metadata": {
        "pycharm": {
          "name": "#%%\n"
        },
        "id": "5a919154",
        "colab": {
          "base_uri": "https://localhost:8080/"
        },
        "outputId": "b04bf26b-9b3b-45e0-b8a8-32c1a5d25473"
      },
      "outputs": [
        {
          "output_type": "execute_result",
          "data": {
            "text/plain": [
              "0.578"
            ]
          },
          "metadata": {},
          "execution_count": 61
        }
      ],
      "source": [
        "test_mse = mse(y_test, y_test_pred)\n",
        "test_rmse = np.sqrt(test_mse)\n",
        "test_rmse.round(3)"
      ]
    },
    {
      "cell_type": "code",
      "execution_count": null,
      "id": "e67c0fb7",
      "metadata": {
        "scrolled": true,
        "pycharm": {
          "name": "#%%\n"
        },
        "id": "e67c0fb7",
        "colab": {
          "base_uri": "https://localhost:8080/",
          "height": 268
        },
        "outputId": "7c5ffb6d-605b-4514-9c0a-abc74c957b53"
      },
      "outputs": [
        {
          "output_type": "display_data",
          "data": {
            "text/plain": [
              "<Figure size 432x288 with 1 Axes>"
            ],
            "image/png": "[encoded data removed]"
          },
          "metadata": {}
        }
      ],
      "source": [
        "sns.histplot(y_test_pred, label='prediction', color='red')\n",
        "sns.histplot(y_test, label='target', color='gray')\n",
        "plt.legend();"
      ]
    },
    {
      "cell_type": "markdown",
      "id": "fbda4a9a",
      "metadata": {
        "pycharm": {
          "name": "#%% md\n"
        },
        "id": "fbda4a9a"
      },
      "source": [
        "### 2.11 Try regularization: Ridge regression model ###"
      ]
    },
    {
      "cell_type": "code",
      "execution_count": null,
      "id": "f7d870b3",
      "metadata": {
        "pycharm": {
          "name": "#%%\n"
        },
        "id": "f7d870b3"
      },
      "outputs": [],
      "source": [
        "from sklearn.linear_model import Ridge"
      ]
    },
    {
      "cell_type": "code",
      "execution_count": null,
      "id": "bd93ed5c",
      "metadata": {
        "pycharm": {
          "name": "#%%\n"
        },
        "id": "bd93ed5c",
        "colab": {
          "base_uri": "https://localhost:8080/"
        },
        "outputId": "ac5324c5-88e4-4348-ff89-4cb38534ae07"
      },
      "outputs": [
        {
          "output_type": "stream",
          "name": "stdout",
          "text": [
            "Alpha: 0 Weights: [ 8.96580707e-02  4.33140064e-04  9.67211354e-04 -1.64467343e+11\n",
            " -1.64467343e+11 -3.19307306e-06  5.98520570e+10  5.98520570e+10\n",
            " -8.05889721e-04 -1.08998120e+09 -1.08998120e+09 -1.08998120e+09\n",
            " -1.08998120e+09 -1.08998120e+09 -1.08998120e+09 -1.08998120e+09\n",
            " -1.08998120e+09 -1.08998120e+09 -1.08998120e+09 -1.08998120e+09\n",
            " -1.08998120e+09 -1.08998120e+09 -1.08998120e+09 -1.08998120e+09\n",
            " -1.08998120e+09 -1.08998120e+09 -1.08998120e+09 -1.08998120e+09\n",
            " -1.08998121e+09 -1.08998120e+09 -6.69317137e-05 -6.75801765e+10\n",
            " -6.75801765e+10 -6.75801765e+10 -6.75801765e+10] Bias term: 173285444150.00592\n",
            "RMSE: 0.595\n",
            "--------------------\n",
            "Alpha: 0.01 Weights: [ 8.96583364e-02  3.71846194e-04  9.96239237e-04 -3.24806194e-02\n",
            "  3.24806194e-02 -1.86335567e-06 -5.20969567e-02  5.20969567e-02\n",
            " -8.57720830e-04  5.41123127e-02 -5.76730517e-02 -4.14137882e-02\n",
            "  1.61666079e-01  6.42846862e-02  1.82078025e-01 -8.94743578e-02\n",
            " -3.24721125e-02 -5.14624215e-03 -1.07436175e-01  1.13264536e-01\n",
            " -2.31792534e-01 -1.25055249e-01  1.08170402e-01  2.07900572e-01\n",
            "  6.97989587e-02  1.50414127e-01 -1.64385351e-01  6.18736901e-02\n",
            " -4.68644419e-02 -2.71850086e-01 -6.83550832e-05  3.62384757e-01\n",
            "  4.87572940e-01 -1.50048846e-01 -6.99908850e-01] Bias term: 3.4101374824960122\n",
            "RMSE: 0.578\n",
            "--------------------\n",
            "Alpha: 0.1 Weights: [ 8.96607273e-02  3.71850113e-04  9.96345544e-04 -3.24804807e-02\n",
            "  3.24804807e-02 -1.86228564e-06 -5.20972224e-02  5.20972224e-02\n",
            " -8.57691479e-04  5.40337791e-02 -5.76737215e-02 -4.14683230e-02\n",
            "  1.61594740e-01  6.41898091e-02  1.81971873e-01 -8.95010447e-02\n",
            " -3.25115062e-02 -5.19664431e-03 -1.07451655e-01  1.13151674e-01\n",
            " -2.30866997e-01 -1.25075383e-01  1.08069344e-01  2.07802384e-01\n",
            "  6.96846034e-02  1.50299756e-01 -1.64329751e-01  6.15040934e-02\n",
            " -4.67735434e-02 -2.71453488e-01 -6.83521504e-05  3.62370225e-01\n",
            "  4.87035411e-01 -1.50060133e-01 -6.99345503e-01] Bias term: 3.4102047629073837\n",
            "RMSE: 0.578\n",
            "--------------------\n",
            "Alpha: 1 Weights: [ 8.96846381e-02  3.71886539e-04  9.97405680e-04 -3.24792983e-02\n",
            "  3.24792983e-02 -1.85128009e-06 -5.21000576e-02  5.21000576e-02\n",
            " -8.57401410e-04  5.32643487e-02 -5.76662471e-02 -4.19971057e-02\n",
            "  1.60895764e-01  6.32597771e-02  1.80927301e-01 -8.97529859e-02\n",
            " -3.28867822e-02 -5.68521140e-03 -1.07591631e-01  1.12042176e-01\n",
            " -2.22015405e-01 -1.25261288e-01  1.07076512e-01  2.06836301e-01\n",
            "  6.85634997e-02  1.49174364e-01 -1.63763802e-01  5.80136761e-02\n",
            " -4.58831270e-02 -2.67550135e-01 -6.83233957e-05  3.62220532e-01\n",
            "  4.81720115e-01 -1.50175720e-01 -6.93764927e-01] Bias term: 3.4108671961554062\n",
            "RMSE: 0.578\n",
            "--------------------\n",
            "Alpha: 10 Weights: [ 8.99226263e-02  3.72049166e-04  1.00772431e-03 -3.24787477e-02\n",
            "  3.24787477e-02 -1.72181053e-06 -5.21358885e-02  5.21358885e-02\n",
            " -8.54778615e-04  4.68230794e-02 -5.66137493e-02 -4.59947967e-02\n",
            "  1.55033026e-01  5.54500555e-02  1.71830512e-01 -9.11362008e-02\n",
            " -3.52400383e-02 -9.38942379e-03 -1.07875081e-01  1.02480833e-01\n",
            " -1.61062588e-01 -1.25945260e-01  9.85614484e-02  1.98423360e-01\n",
            "  5.91540521e-02  1.39387890e-01 -1.57481131e-01  3.61335392e-02\n",
            " -3.85605126e-02 -2.33979015e-01 -6.80774902e-05  3.60360062e-01\n",
            "  4.33976620e-01 -1.51566903e-01 -6.42769780e-01] Bias term: 3.4167114062320225\n",
            "RMSE: 0.577\n",
            "--------------------\n"
          ]
        }
      ],
      "source": [
        "for a in [0, 0.01, 0.1, 1, 10]:\n",
        "    model = Ridge(alpha=a, random_state=42)\n",
        "    model.fit(X_train, y_train)\n",
        "    print('Alpha:', a, 'Weights:', model.coef_, 'Bias term:', model.intercept_)\n",
        "    \n",
        "    y_pred = model.predict(X_test)\n",
        "    rmse = np.sqrt(mse(y_test, y_pred))\n",
        "    print('RMSE:', rmse.round(3))\n",
        "    print('-'*20)"
      ]
    }
  ],
  "metadata": {
    "kernelspec": {
      "display_name": "Python 3 (ipykernel)",
      "language": "python",
      "name": "python3"
    },
    "language_info": {
      "codemirror_mode": {
        "name": "ipython",
        "version": 3
      },
      "file_extension": ".py",
      "mimetype": "text/x-python",
      "name": "python",
      "nbconvert_exporter": "python",
      "pygments_lexer": "ipython3",
      "version": "3.8.11"
    },
    "colab": {
      "name": "airbnb-madrid-regression-linear.ipynb",
      "provenance": [],
      "collapsed_sections": [
        "36370b85",
        "7a60ebc6",
        "6829c092",
        "3c3435ab",
        "2401ab5d",
        "c626a730",
        "f50dc142",
        "3c16477f",
        "ea0bd074",
        "51f53bd6",
        "051cd1d2",
        "fbda4a9a"
      ]
    }
  },
  "nbformat": 4,
  "nbformat_minor": 5
}