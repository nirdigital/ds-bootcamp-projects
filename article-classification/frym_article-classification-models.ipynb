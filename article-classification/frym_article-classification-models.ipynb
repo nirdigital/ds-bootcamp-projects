{
  "nbformat": 4,
  "nbformat_minor": 0,
  "metadata": {
    "colab": {
      "name": "211214_frym_article-classification_models_v1.ipynb",
      "provenance": [],
      "collapsed_sections": []
    },
    "kernelspec": {
      "name": "python3",
      "display_name": "Python 3"
    },
    "language_info": {
      "name": "python"
    },
    "accelerator": "GPU"
  },
  "cells": [
    {
      "cell_type": "markdown",
      "source": [
        "# Frontiers for Young Minds  – Article Classification"
      ],
      "metadata": {
        "id": "orPVbRkThJkj"
      }
    },
    {
      "cell_type": "markdown",
      "source": [
        "## Text Dataset Preparation"
      ],
      "metadata": {
        "id": "0v3F6HlU1zv5"
      }
    },
    {
      "cell_type": "markdown",
      "source": [
        "* **Data extraction**"
      ],
      "metadata": {
        "id": "5ezALspBl-Zp"
      }
    },
    {
      "cell_type": "code",
      "source": [
        "!unrar x frym.rar /content/frym/"
      ],
      "metadata": {
        "id": "VvEthyW7hKKN"
      },
      "execution_count": null,
      "outputs": []
    },
    {
      "cell_type": "markdown",
      "source": [
        "* **Data split** into 3 directories: **train**, **val**idation, and **test** – each of which contains **4 classes**: 'biodiversity', 'earth-and-its-resources', 'human-health', and 'neuroscience-and-psychology'"
      ],
      "metadata": {
        "id": "q-YBs1y2mGPc"
      }
    },
    {
      "cell_type": "code",
      "source": [
        "import os, pathlib, random, shutil\n",
        "\n",
        "base_dir = pathlib.Path('frym')\n",
        "data_dir = pathlib.Path('data')\n",
        "train_dir = data_dir / 'train'\n",
        "val_dir = data_dir / 'val'\n",
        "test_dir = data_dir / 'test'\n",
        "\n",
        "os.makedirs(data_dir)\n",
        "\n",
        "sections = ['biodiversity', \n",
        "            'earth-and-its-resources', \n",
        "            'human-health', \n",
        "            'neuroscience-and-psychology'\n",
        "]\n",
        "\n",
        "for sec in sections:\n",
        "    os.makedirs(train_dir / sec)\n",
        "    os.makedirs(val_dir / sec)\n",
        "    os.makedirs(test_dir / sec)\n",
        "    \n",
        "    files = os.listdir(base_dir / sec)\n",
        "    random.Random(18).shuffle(files)\n",
        "    num_train_samples = int(0.7 * len(files)) \n",
        "    num_val_samples = int(0.2 * len(files))  \n",
        "    num_test_samples = int(len(files)-num_train_samples-num_val_samples) \n",
        "    \n",
        "    train_files = files[:num_train_samples]\n",
        "    val_files = files[num_train_samples:num_train_samples+num_val_samples]\n",
        "    test_files = files[-num_test_samples:]\n",
        "    \n",
        "    for fname in train_files:\n",
        "        shutil.move(base_dir / sec / fname,\n",
        "        train_dir / sec / fname)\n",
        "        \n",
        "    for fname in val_files:\n",
        "        shutil.move(base_dir / sec / fname,\n",
        "        val_dir / sec / fname)\n",
        "        \n",
        "    for fname in test_files:\n",
        "        shutil.move(base_dir / sec / fname,\n",
        "        test_dir / sec / fname)"
      ],
      "metadata": {
        "id": "_r4WeBJkhoEY"
      },
      "execution_count": 2,
      "outputs": []
    },
    {
      "cell_type": "markdown",
      "source": [
        "* **TensorFlow text datasets:** the inputs are string tensors and the outputs are float tensors (**multi-hot**) encoding the four classes"
      ],
      "metadata": {
        "id": "DgP2M8DanJIq"
      }
    },
    {
      "cell_type": "code",
      "source": [
        "import tensorflow as tf\n",
        "from tensorflow import keras\n",
        "\n",
        "batch_size = 32\n",
        "\n",
        "train_ds = keras.utils.text_dataset_from_directory('data/train', \n",
        "                                                   labels='inferred',\n",
        "                                                   label_mode='categorical',\n",
        "                                                   batch_size=batch_size,\n",
        "                                                   seed=7)"
      ],
      "metadata": {
        "id": "pWLRi5ZNiZDv",
        "colab": {
          "base_uri": "https://localhost:8080/"
        },
        "outputId": "8a25cfb9-e13f-41ee-cd87-678ef4a895e8"
      },
      "execution_count": 3,
      "outputs": [
        {
          "output_type": "stream",
          "name": "stdout",
          "text": [
            "Found 489 files belonging to 4 classes.\n"
          ]
        }
      ]
    },
    {
      "cell_type": "code",
      "source": [
        "val_ds = keras.utils.text_dataset_from_directory('data/val', \n",
        "                                                   labels='inferred',\n",
        "                                                   label_mode='categorical',\n",
        "                                                   batch_size=batch_size,\n",
        "                                                   seed=7)"
      ],
      "metadata": {
        "colab": {
          "base_uri": "https://localhost:8080/"
        },
        "id": "-tEHPw97-as4",
        "outputId": "03c6bfbf-50f9-4deb-c4e3-ade39be06e86"
      },
      "execution_count": 4,
      "outputs": [
        {
          "output_type": "stream",
          "name": "stdout",
          "text": [
            "Found 139 files belonging to 4 classes.\n"
          ]
        }
      ]
    },
    {
      "cell_type": "code",
      "source": [
        "test_ds = keras.utils.text_dataset_from_directory('data/test', \n",
        "                                                   labels='inferred',\n",
        "                                                   label_mode='categorical',\n",
        "                                                   batch_size=batch_size,\n",
        "                                                   seed=7)"
      ],
      "metadata": {
        "colab": {
          "base_uri": "https://localhost:8080/"
        },
        "id": "Rq1NI1_rjt0S",
        "outputId": "fc680c07-2f9a-4839-a42a-9b93a7f2a349"
      },
      "execution_count": 5,
      "outputs": [
        {
          "output_type": "stream",
          "name": "stdout",
          "text": [
            "Found 74 files belonging to 4 classes.\n"
          ]
        }
      ]
    },
    {
      "cell_type": "markdown",
      "source": [
        "* Displaying the shapes and dtypes of the first batch of the **train** dataset"
      ],
      "metadata": {
        "id": "thQxWvV7lZ4y"
      }
    },
    {
      "cell_type": "code",
      "source": [
        "for inputs, targets in train_ds:\n",
        "    print(\"inputs.shape:\", inputs.shape)\n",
        "    print(\"inputs.dtype:\", inputs.dtype)\n",
        "    print(\"targets.shape:\", targets.shape)\n",
        "    print(\"targets.dtype:\", targets.dtype)\n",
        "    print(\"inputs[0]:\", inputs[0])\n",
        "    print(\"targets[0]:\", targets[0])\n",
        "    break"
      ],
      "metadata": {
        "colab": {
          "base_uri": "https://localhost:8080/"
        },
        "id": "wkKKIiDakAgh",
        "outputId": "ffe0747e-9d43-4023-f9ac-286c7e03107b"
      },
      "execution_count": null,
      "outputs": [
        {
          "output_type": "stream",
          "name": "stdout",
          "text": [
            "inputs.shape: (32,)\n",
            "inputs.dtype: <dtype: 'string'>\n",
            "targets.shape: (32, 4)\n",
            "targets.dtype: <dtype: 'float32'>\n",
            "inputs[0]: tf.Tensor(b'ever deep thought hear someone calling name times like minds full thoughts aware going around us often busy thinking going happen later thinking happened earlier thinking happening certainly seem like minds full thoughts mindfulness means mindfulness means aware happening without getting lost thoughts mindfulness helps us become aware going outside inside without distracted thoughts mindfulness fully aware minds see figure need exercise bodies stay physically healthy exercising minds keep us mentally healthy mindfulness involves training attention stay present moment rather following thoughts past future way certain exercises strengthen body muscles mindfulness train brain muscle\\xe2\\x80\\x94attention attention brain way selecting one thing focus wide range things environment brain constantly receiving information world around us five senses well interpreting information using lots thoughts much going environment often need select one thing focus without getting distracted attention job keep one thing mind focus attention one important brain functions attention work well lots difficulties attention deficit hyperactivity disorder adhd adhd people trouble keeping minds one task makes hard concentrate trying solve math problem school example focus something using networks made brain cells called neurons physical exercise strengthen muscle train muscle repeating exercise mindfulness target brain networks making attention stay one thing without getting distracted get distracted bring attention back like gym workout brain scientists discovered kind exercise benefit mental health let us try mindfulness exercise right start sitting either floor chair back nice straight sit relax aware body sit still sitting still notice rising falling belly breathe try make breath deeper longer let feel feel sensations movement belly goes breath try think movements pay attention sensations rising falling belly breathe without following thoughts arise stay feeling rising falling would long start thinking something breath attention want follow thought since watching breath pretty boring usually like pay attention things exciting stopping attention following thoughts returning rising falling breath training several attentional networks brain practice mindfulness always getting distracted breath activate networks see figure mindfulness seem like hard work really giving brain workout try keep attention breath important part mindfulness paying attention without reacting going easy get frustrated wandering mind trying follow rising falling breath pay attention without reacting experiencing worry whether easy difficult react happening thinking even thoughts let attention rest breath wanders bring back time min try scientists discovered thoughts wander greater chance unhappy keep thinking something bad happened past could become depressed keep worrying something bad might happen future could become anxious depressed anxious occur thoughts take us away happening right past future neuroscientists scientists study brain found depression anxiety associated changes brain scientists measure activity neurons brain using device called electroencephalograph eeg eeg measures brain activity recording electrical signals produced neurons see figure electrical signals measured using electrodes placed scalp electrical activity measured sides brain neuroscientists see activity sides asymmetry lack equality two sides brain neuroscientists see relatively rightsided leftsided brain activity studies shown greater leftsided brain activity associated positive feelings behavior greater rightsided brain activity associated negative feelings behavior people depression anxiety shown higher levels rightsided brain activity people without conditions might wondering pay attention breath practicing mindfulness breath one special feature occurs present moment paying attention breath must paying attention happening right thoughts wander lose present moment always come back present remembering breath scientific studies beginning show mindfulness practice may result increased leftsided brain activity increase leftsided activity may also accompanied positive feelings wellbeing really good news means change brains training way pay attention training attention stay present moment keep minds running past future worrying things may change brains ways help us feel better', shape=(), dtype=string)\n",
            "targets[0]: tf.Tensor([0. 0. 0. 1.], shape=(4,), dtype=float32)\n"
          ]
        }
      ]
    },
    {
      "cell_type": "markdown",
      "source": [
        "## Bag-of-Words Models"
      ],
      "metadata": {
        "id": "Z5UUdpoqE-oU"
      }
    },
    {
      "cell_type": "markdown",
      "source": [
        "### Unigram model"
      ],
      "metadata": {
        "id": "g7jVAdYAuDaz"
      }
    },
    {
      "cell_type": "markdown",
      "source": [
        "* **Text vectorization:** processing single words (**unigrams**) with multi-hot encoding"
      ],
      "metadata": {
        "id": "bLeLlyBMpvwe"
      }
    },
    {
      "cell_type": "code",
      "source": [
        "from tensorflow.keras.layers import TextVectorization\n",
        "\n",
        "text_vectorization = TextVectorization(\n",
        "    ngrams=1,\n",
        "    max_tokens=20000,\n",
        "    output_mode='multi_hot'\n",
        ")"
      ],
      "metadata": {
        "id": "6Db1nhfDkmds"
      },
      "execution_count": null,
      "outputs": []
    },
    {
      "cell_type": "markdown",
      "source": [
        "* **Vocabulary building** using the TextVectorization layer"
      ],
      "metadata": {
        "id": "4fqjf1kobsLs"
      }
    },
    {
      "cell_type": "code",
      "source": [
        "text_only_train_ds = train_ds.map(lambda x, y: x)\n",
        "text_vectorization.adapt(text_only_train_ds)\n",
        "vocabulary = text_vectorization.get_vocabulary()\n",
        "len(vocabulary)"
      ],
      "metadata": {
        "id": "QiHAAGAZbDtl",
        "colab": {
          "base_uri": "https://localhost:8080/"
        },
        "outputId": "41bad36e-c36d-44d1-f398-2c0ee2595a83"
      },
      "execution_count": null,
      "outputs": [
        {
          "output_type": "execute_result",
          "data": {
            "text/plain": [
              "20000"
            ]
          },
          "metadata": {},
          "execution_count": 8
        }
      ]
    },
    {
      "cell_type": "markdown",
      "source": [
        "* **Dataset processing** using the TextVectorization layer"
      ],
      "metadata": {
        "id": "hRDhnfCjh5F-"
      }
    },
    {
      "cell_type": "code",
      "source": [
        "unigram_train_ds = train_ds.map(\n",
        "    lambda x, y: (text_vectorization(x), y),\n",
        "    num_parallel_calls=4)\n",
        "unigram_val_ds = val_ds.map(\n",
        "    lambda x, y: (text_vectorization(x), y),\n",
        "    num_parallel_calls=4)\n",
        "unigram_test_ds = test_ds.map(\n",
        "    lambda x, y: (text_vectorization(x), y),\n",
        "    num_parallel_calls=4)"
      ],
      "metadata": {
        "id": "5D83i_zhh5ZC"
      },
      "execution_count": null,
      "outputs": []
    },
    {
      "cell_type": "markdown",
      "source": [
        "* Displaying the shapes and dtypes of the first batch of the **unigram** train dataset"
      ],
      "metadata": {
        "id": "kkzn6xrUOBBL"
      }
    },
    {
      "cell_type": "code",
      "source": [
        "for inputs, targets in unigram_train_ds:\n",
        "    print(\"inputs.shape:\", inputs.shape)\n",
        "    print(\"inputs.dtype:\", inputs.dtype)\n",
        "    print(\"targets.shape:\", targets.shape)\n",
        "    print(\"targets.dtype:\", targets.dtype)\n",
        "    print(\"inputs[0]:\", inputs[0])\n",
        "    print(\"targets[0]:\", targets[0])\n",
        "    break"
      ],
      "metadata": {
        "colab": {
          "base_uri": "https://localhost:8080/"
        },
        "id": "bsTboPMQOAH0",
        "outputId": "9edbe21c-243b-416a-b7b3-3a4288d2e0eb"
      },
      "execution_count": null,
      "outputs": [
        {
          "output_type": "stream",
          "name": "stdout",
          "text": [
            "inputs.shape: (32, 20000)\n",
            "inputs.dtype: <dtype: 'float32'>\n",
            "targets.shape: (32, 4)\n",
            "targets.dtype: <dtype: 'float32'>\n",
            "inputs[0]: tf.Tensor([0. 1. 1. ... 0. 0. 0.], shape=(20000,), dtype=float32)\n",
            "targets[0]: tf.Tensor([0. 0. 0. 1.], shape=(4,), dtype=float32)\n"
          ]
        }
      ]
    },
    {
      "cell_type": "markdown",
      "source": [
        "* **Model building function** "
      ],
      "metadata": {
        "id": "72Gh7mDYjelo"
      }
    },
    {
      "cell_type": "code",
      "source": [
        "from tensorflow.keras import layers\n",
        "\n",
        "def get_model(max_tokens=20000, hidden_dim=24):\n",
        "    inputs = keras.Input(shape=(max_tokens,))\n",
        "    x = layers.Dense(hidden_dim, activation=\"relu\")(inputs)\n",
        "    outputs = layers.Dense(4, activation=\"softmax\")(x)\n",
        "    model = keras.Model(inputs, outputs)\n",
        "    model.compile(optimizer=\"rmsprop\",\n",
        "                  loss=\"categorical_crossentropy\",\n",
        "                  metrics=[\"accuracy\"])\n",
        "    return model"
      ],
      "metadata": {
        "id": "7VxhiLwOjMbY"
      },
      "execution_count": null,
      "outputs": []
    },
    {
      "cell_type": "markdown",
      "source": [
        "* **Training the unigram model**"
      ],
      "metadata": {
        "id": "blsJuv9Xkc8E"
      }
    },
    {
      "cell_type": "code",
      "source": [
        "model = get_model()\n",
        "model.summary()"
      ],
      "metadata": {
        "colab": {
          "base_uri": "https://localhost:8080/"
        },
        "id": "3SkpDM-Wkkwh",
        "outputId": "54d588d6-5245-4728-8981-1eb9da46b3d9"
      },
      "execution_count": null,
      "outputs": [
        {
          "output_type": "stream",
          "name": "stdout",
          "text": [
            "Model: \"model\"\n",
            "_________________________________________________________________\n",
            " Layer (type)                Output Shape              Param #   \n",
            "=================================================================\n",
            " input_1 (InputLayer)        [(None, 20000)]           0         \n",
            "                                                                 \n",
            " dense (Dense)               (None, 24)                480024    \n",
            "                                                                 \n",
            " dense_1 (Dense)             (None, 4)                 100       \n",
            "                                                                 \n",
            "=================================================================\n",
            "Total params: 480,124\n",
            "Trainable params: 480,124\n",
            "Non-trainable params: 0\n",
            "_________________________________________________________________\n"
          ]
        }
      ]
    },
    {
      "cell_type": "code",
      "source": [
        "callbacks = [keras.callbacks.ModelCheckpoint(\"unigram.keras\", save_best_only=True)]\n",
        "history = model.fit(unigram_train_ds.cache(),\n",
        "          validation_data=unigram_val_ds.cache(),\n",
        "          epochs=4,\n",
        "          callbacks=callbacks)"
      ],
      "metadata": {
        "colab": {
          "base_uri": "https://localhost:8080/"
        },
        "id": "LZ4tny75k20R",
        "outputId": "86cc9671-4c8b-4c67-9d35-dd2c33df4eed"
      },
      "execution_count": null,
      "outputs": [
        {
          "output_type": "stream",
          "name": "stdout",
          "text": [
            "Epoch 1/4\n",
            "16/16 [==============================] - 1s 37ms/step - loss: 0.8118 - accuracy: 0.7035 - val_loss: 0.7060 - val_accuracy: 0.7410\n",
            "Epoch 2/4\n",
            "16/16 [==============================] - 0s 12ms/step - loss: 0.1416 - accuracy: 0.9857 - val_loss: 0.4711 - val_accuracy: 0.8345\n",
            "Epoch 3/4\n",
            "16/16 [==============================] - 0s 12ms/step - loss: 0.0427 - accuracy: 1.0000 - val_loss: 0.4497 - val_accuracy: 0.8417\n",
            "Epoch 4/4\n",
            "16/16 [==============================] - 0s 12ms/step - loss: 0.0153 - accuracy: 1.0000 - val_loss: 0.4315 - val_accuracy: 0.8417\n"
          ]
        }
      ]
    },
    {
      "cell_type": "markdown",
      "source": [
        "* **Testing the unigram model**"
      ],
      "metadata": {
        "id": "ZbVeYUrulFfa"
      }
    },
    {
      "cell_type": "code",
      "source": [
        "model = keras.models.load_model(\"unigram.keras\")\n",
        "print(f\"Test acc: {model.evaluate(unigram_test_ds)[1]:.3f}\")"
      ],
      "metadata": {
        "colab": {
          "base_uri": "https://localhost:8080/"
        },
        "id": "yZSylB_6lF17",
        "outputId": "eccedcd9-96e4-4a76-b5b1-43be2844db88"
      },
      "execution_count": null,
      "outputs": [
        {
          "output_type": "stream",
          "name": "stdout",
          "text": [
            "3/3 [==============================] - 0s 6ms/step - loss: 0.3449 - accuracy: 0.8243\n",
            "Test acc: 0.824\n"
          ]
        }
      ]
    },
    {
      "cell_type": "markdown",
      "source": [
        "* Plotting the training and validation loss"
      ],
      "metadata": {
        "id": "8oEAUq8FlRA3"
      }
    },
    {
      "cell_type": "code",
      "source": [
        "import matplotlib.pyplot as plt\n",
        "\n",
        "history_dict = history.history\n",
        "loss_values = history_dict[\"loss\"]\n",
        "val_loss_values = history_dict[\"val_loss\"]\n",
        "epochs = range(1, len(loss_values) + 1)\n",
        "plt.plot(epochs, loss_values, \"bo\", label=\"Training loss\")\n",
        "plt.plot(epochs, val_loss_values, \"b\", label=\"Validation loss\")\n",
        "plt.title(\"Training and validation loss\")\n",
        "plt.xlabel(\"Epochs\")\n",
        "plt.ylabel(\"Loss\")\n",
        "plt.legend()\n",
        "plt.show()"
      ],
      "metadata": {
        "colab": {
          "base_uri": "https://localhost:8080/",
          "height": 295
        },
        "id": "So9vCSi5iKXW",
        "outputId": "60c79d48-6dc5-47bf-cead-bca01f5bb993"
      },
      "execution_count": null,
      "outputs": [
        {
          "output_type": "display_data",
          "data": {
            "image/png": "[encoded data removed]",
            "text/plain": [
              "<Figure size 432x288 with 1 Axes>"
            ]
          },
          "metadata": {
            "needs_background": "light"
          }
        }
      ]
    },
    {
      "cell_type": "markdown",
      "source": [
        "* Plotting the training and validation accuracy"
      ],
      "metadata": {
        "id": "sMIaPGo3mGSp"
      }
    },
    {
      "cell_type": "code",
      "source": [
        "acc = history_dict[\"accuracy\"]\n",
        "val_acc = history_dict[\"val_accuracy\"]\n",
        "plt.plot(epochs, acc, \"bo\", label=\"Training acc\")\n",
        "plt.plot(epochs, val_acc, \"b\", label=\"Validation acc\")\n",
        "plt.title(\"Training and validation accuracy\")\n",
        "plt.xlabel(\"Epochs\")\n",
        "plt.ylabel(\"Accuracy\")\n",
        "plt.legend()\n",
        "plt.show()"
      ],
      "metadata": {
        "colab": {
          "base_uri": "https://localhost:8080/",
          "height": 295
        },
        "id": "LZNe5o7BjDas",
        "outputId": "19c22d8d-b225-4c68-c00f-a24516227e8d"
      },
      "execution_count": null,
      "outputs": [
        {
          "output_type": "display_data",
          "data": {
            "image/png": "[encoded data removed]",
            "text/plain": [
              "<Figure size 432x288 with 1 Axes>"
            ]
          },
          "metadata": {
            "needs_background": "light"
          }
        }
      ]
    },
    {
      "cell_type": "markdown",
      "source": [
        "### Bigram model"
      ],
      "metadata": {
        "id": "FO7uuT7guKqK"
      }
    },
    {
      "cell_type": "markdown",
      "source": [
        "* **Text vectorization:** processing **bigrams** with **multi-hot** encoding"
      ],
      "metadata": {
        "id": "wAMy-w20uQ8O"
      }
    },
    {
      "cell_type": "code",
      "source": [
        "text_vectorization = TextVectorization(\n",
        "    ngrams=2,\n",
        "    max_tokens=20000,\n",
        "    output_mode=\"multi_hot\"\n",
        ")"
      ],
      "metadata": {
        "id": "ongU0O_BueYq"
      },
      "execution_count": null,
      "outputs": []
    },
    {
      "cell_type": "markdown",
      "source": [
        "* **Vocabulary building**"
      ],
      "metadata": {
        "id": "MZGzqbP7vKqZ"
      }
    },
    {
      "cell_type": "code",
      "source": [
        "text_only_train_ds = train_ds.map(lambda x, y: x)\n",
        "text_vectorization.adapt(text_only_train_ds)\n",
        "vocabulary = text_vectorization.get_vocabulary()\n",
        "len(vocabulary)"
      ],
      "metadata": {
        "colab": {
          "base_uri": "https://localhost:8080/"
        },
        "id": "fMboXitQvLQm",
        "outputId": "24fb87b3-da8f-42ff-c295-d49e269834b8"
      },
      "execution_count": null,
      "outputs": [
        {
          "output_type": "execute_result",
          "data": {
            "text/plain": [
              "20000"
            ]
          },
          "metadata": {},
          "execution_count": 18
        }
      ]
    },
    {
      "cell_type": "markdown",
      "source": [
        "* **Dataset processing** "
      ],
      "metadata": {
        "id": "X_KBY2tFvYq1"
      }
    },
    {
      "cell_type": "code",
      "source": [
        "bigram_train_ds = train_ds.map(\n",
        "    lambda x, y: (text_vectorization(x), y),\n",
        "    num_parallel_calls=4)\n",
        "bigram_val_ds = val_ds.map(\n",
        "    lambda x, y: (text_vectorization(x), y),\n",
        "    num_parallel_calls=4)\n",
        "bigram_test_ds = test_ds.map(\n",
        "    lambda x, y: (text_vectorization(x), y),\n",
        "    num_parallel_calls=4)"
      ],
      "metadata": {
        "id": "80qp54NUvZNL"
      },
      "execution_count": null,
      "outputs": []
    },
    {
      "cell_type": "markdown",
      "source": [
        "* Displaying the shapes and dtypes of the first batch of the **bigram** train dataset"
      ],
      "metadata": {
        "id": "al7T6wz7Ousl"
      }
    },
    {
      "cell_type": "code",
      "source": [
        "for inputs, targets in bigram_train_ds:\n",
        "    print(\"inputs.shape:\", inputs.shape)\n",
        "    print(\"inputs.dtype:\", inputs.dtype)\n",
        "    print(\"targets.shape:\", targets.shape)\n",
        "    print(\"targets.dtype:\", targets.dtype)\n",
        "    print(\"inputs[0]:\", inputs[0])\n",
        "    print(\"targets[0]:\", targets[0])\n",
        "    break"
      ],
      "metadata": {
        "colab": {
          "base_uri": "https://localhost:8080/"
        },
        "id": "Xbk6SgElO-g4",
        "outputId": "1ac61e3a-20af-4d11-c974-24c7d948c3e9"
      },
      "execution_count": null,
      "outputs": [
        {
          "output_type": "stream",
          "name": "stdout",
          "text": [
            "inputs.shape: (32, 20000)\n",
            "inputs.dtype: <dtype: 'float32'>\n",
            "targets.shape: (32, 4)\n",
            "targets.dtype: <dtype: 'float32'>\n",
            "inputs[0]: tf.Tensor([1. 1. 0. ... 0. 0. 0.], shape=(20000,), dtype=float32)\n",
            "targets[0]: tf.Tensor([0. 0. 0. 1.], shape=(4,), dtype=float32)\n"
          ]
        }
      ]
    },
    {
      "cell_type": "markdown",
      "source": [
        "* **Training the bigram model**"
      ],
      "metadata": {
        "id": "VhHvTBmVvqP6"
      }
    },
    {
      "cell_type": "code",
      "source": [
        "model = get_model()\n",
        "model.summary()"
      ],
      "metadata": {
        "colab": {
          "base_uri": "https://localhost:8080/"
        },
        "id": "7GxdTFBDvpp2",
        "outputId": "03158870-da9f-4082-8c5d-f71960f814d6"
      },
      "execution_count": null,
      "outputs": [
        {
          "output_type": "stream",
          "name": "stdout",
          "text": [
            "Model: \"model_1\"\n",
            "_________________________________________________________________\n",
            " Layer (type)                Output Shape              Param #   \n",
            "=================================================================\n",
            " input_2 (InputLayer)        [(None, 20000)]           0         \n",
            "                                                                 \n",
            " dense_2 (Dense)             (None, 24)                480024    \n",
            "                                                                 \n",
            " dense_3 (Dense)             (None, 4)                 100       \n",
            "                                                                 \n",
            "=================================================================\n",
            "Total params: 480,124\n",
            "Trainable params: 480,124\n",
            "Non-trainable params: 0\n",
            "_________________________________________________________________\n"
          ]
        }
      ]
    },
    {
      "cell_type": "code",
      "source": [
        "callbacks = [keras.callbacks.ModelCheckpoint(\"bigram.keras\", save_best_only=True)]\n",
        "history = model.fit(bigram_train_ds.cache(),\n",
        "          validation_data=bigram_val_ds.cache(),\n",
        "          epochs=4,\n",
        "          callbacks=callbacks)"
      ],
      "metadata": {
        "colab": {
          "base_uri": "https://localhost:8080/"
        },
        "id": "zFnYMniev4yd",
        "outputId": "8f2faf44-2bc2-4816-85de-188277e70378"
      },
      "execution_count": null,
      "outputs": [
        {
          "output_type": "stream",
          "name": "stdout",
          "text": [
            "Epoch 1/4\n",
            "16/16 [==============================] - 1s 35ms/step - loss: 0.7561 - accuracy: 0.6892 - val_loss: 0.5455 - val_accuracy: 0.8058\n",
            "Epoch 2/4\n",
            "16/16 [==============================] - 0s 12ms/step - loss: 0.1014 - accuracy: 0.9898 - val_loss: 0.4308 - val_accuracy: 0.8705\n",
            "Epoch 3/4\n",
            "16/16 [==============================] - 0s 13ms/step - loss: 0.0259 - accuracy: 1.0000 - val_loss: 0.4059 - val_accuracy: 0.8561\n",
            "Epoch 4/4\n",
            "16/16 [==============================] - 0s 11ms/step - loss: 0.0093 - accuracy: 1.0000 - val_loss: 0.3859 - val_accuracy: 0.8633\n"
          ]
        }
      ]
    },
    {
      "cell_type": "markdown",
      "source": [
        "* **Testing the bigram model**"
      ],
      "metadata": {
        "id": "ArM97fFbwSlq"
      }
    },
    {
      "cell_type": "code",
      "source": [
        "model = keras.models.load_model(\"bigram.keras\")\n",
        "print(f\"Test acc: {model.evaluate(bigram_test_ds)[1]:.3f}\")"
      ],
      "metadata": {
        "colab": {
          "base_uri": "https://localhost:8080/"
        },
        "id": "q2c0AlFrwNB-",
        "outputId": "bed20df3-f1ae-4343-ca61-28a88ea1e58d"
      },
      "execution_count": null,
      "outputs": [
        {
          "output_type": "stream",
          "name": "stdout",
          "text": [
            "3/3 [==============================] - 0s 6ms/step - loss: 0.3359 - accuracy: 0.8514\n",
            "Test acc: 0.851\n"
          ]
        }
      ]
    },
    {
      "cell_type": "markdown",
      "source": [
        "### TF-IDF model ###"
      ],
      "metadata": {
        "id": "Csa1-Lv-wo_2"
      }
    },
    {
      "cell_type": "markdown",
      "source": [
        "* **Text vectorization:** processing **bigrams** with **TF-IDF** encoding"
      ],
      "metadata": {
        "id": "RyVSsZR-wuQq"
      }
    },
    {
      "cell_type": "code",
      "source": [
        "text_vectorization = TextVectorization(\n",
        "    ngrams=2,\n",
        "    max_tokens=20000,\n",
        "    output_mode=\"tf_idf\"\n",
        ")"
      ],
      "metadata": {
        "id": "xDZAbovewfgw"
      },
      "execution_count": null,
      "outputs": []
    },
    {
      "cell_type": "markdown",
      "source": [
        "* **Vocabulary building**"
      ],
      "metadata": {
        "id": "HSp6W42a4Tit"
      }
    },
    {
      "cell_type": "code",
      "source": [
        "text_only_train_ds = train_ds.map(lambda x, y: x)\n",
        "text_vectorization.adapt(text_only_train_ds)\n",
        "vocabulary = text_vectorization.get_vocabulary()\n",
        "len(vocabulary)"
      ],
      "metadata": {
        "colab": {
          "base_uri": "https://localhost:8080/"
        },
        "id": "ov7SgcIe4X1E",
        "outputId": "e2df4945-987a-4b5b-92be-a89f4811ed0c"
      },
      "execution_count": null,
      "outputs": [
        {
          "output_type": "execute_result",
          "data": {
            "text/plain": [
              "20000"
            ]
          },
          "metadata": {},
          "execution_count": 25
        }
      ]
    },
    {
      "cell_type": "markdown",
      "source": [
        "* **Dataset processing** "
      ],
      "metadata": {
        "id": "P6kOADjnxJUf"
      }
    },
    {
      "cell_type": "code",
      "source": [
        "tfidf_train_ds = train_ds.map(\n",
        "    lambda x, y: (text_vectorization(x), y),\n",
        "    num_parallel_calls=4)\n",
        "tfidf_val_ds = val_ds.map(\n",
        "    lambda x, y: (text_vectorization(x), y),\n",
        "    num_parallel_calls=4)\n",
        "tfidf_test_ds = test_ds.map(\n",
        "    lambda x, y: (text_vectorization(x), y),\n",
        "    num_parallel_calls=4)"
      ],
      "metadata": {
        "id": "M0BxEtHqxJ3y"
      },
      "execution_count": null,
      "outputs": []
    },
    {
      "cell_type": "markdown",
      "source": [
        "* Displaying the shapes and dtypes of the first batch of the **TF-IDF** train dataset"
      ],
      "metadata": {
        "id": "Tlzw1lMsPWpA"
      }
    },
    {
      "cell_type": "code",
      "source": [
        "for inputs, targets in tfidf_train_ds:\n",
        "    print(\"inputs.shape:\", inputs.shape)\n",
        "    print(\"inputs.dtype:\", inputs.dtype)\n",
        "    print(\"targets.shape:\", targets.shape)\n",
        "    print(\"targets.dtype:\", targets.dtype)\n",
        "    print(\"inputs[0]:\", inputs[0])\n",
        "    print(\"targets[0]:\", targets[0])\n",
        "    break"
      ],
      "metadata": {
        "colab": {
          "base_uri": "https://localhost:8080/"
        },
        "id": "S2UEGbtQPibF",
        "outputId": "e4326523-10ff-42bb-c2d0-b4525646e7c7"
      },
      "execution_count": null,
      "outputs": [
        {
          "output_type": "stream",
          "name": "stdout",
          "text": [
            "inputs.shape: (32, 20000)\n",
            "inputs.dtype: <dtype: 'float32'>\n",
            "targets.shape: (32, 4)\n",
            "targets.dtype: <dtype: 'float32'>\n",
            "inputs[0]: tf.Tensor(\n",
            "[3267.6328       0.           6.3128595 ...    0.           0.\n",
            "    0.       ], shape=(20000,), dtype=float32)\n",
            "targets[0]: tf.Tensor([1. 0. 0. 0.], shape=(4,), dtype=float32)\n"
          ]
        }
      ]
    },
    {
      "cell_type": "markdown",
      "source": [
        "* **Training the TF-IDF model**"
      ],
      "metadata": {
        "id": "QSN1J3hcxd09"
      }
    },
    {
      "cell_type": "code",
      "source": [
        "model = get_model()\n",
        "model.summary()"
      ],
      "metadata": {
        "colab": {
          "base_uri": "https://localhost:8080/"
        },
        "id": "Q72lJlNQxYEf",
        "outputId": "f85e6b79-a21a-4953-fecf-b97cef48ffdc"
      },
      "execution_count": null,
      "outputs": [
        {
          "output_type": "stream",
          "name": "stdout",
          "text": [
            "Model: \"model_2\"\n",
            "_________________________________________________________________\n",
            " Layer (type)                Output Shape              Param #   \n",
            "=================================================================\n",
            " input_3 (InputLayer)        [(None, 20000)]           0         \n",
            "                                                                 \n",
            " dense_4 (Dense)             (None, 24)                480024    \n",
            "                                                                 \n",
            " dense_5 (Dense)             (None, 4)                 100       \n",
            "                                                                 \n",
            "=================================================================\n",
            "Total params: 480,124\n",
            "Trainable params: 480,124\n",
            "Non-trainable params: 0\n",
            "_________________________________________________________________\n"
          ]
        }
      ]
    },
    {
      "cell_type": "code",
      "source": [
        "callbacks = [keras.callbacks.ModelCheckpoint(\"tfidf.keras\", save_best_only=True)]\n",
        "history = model.fit(tfidf_train_ds.cache(),\n",
        "          validation_data=tfidf_val_ds.cache(),\n",
        "          epochs=4,\n",
        "          callbacks=callbacks)"
      ],
      "metadata": {
        "colab": {
          "base_uri": "https://localhost:8080/"
        },
        "id": "xwpxk6RnxikZ",
        "outputId": "00a7c9c2-6940-435b-fe12-b22fe699cbe4"
      },
      "execution_count": null,
      "outputs": [
        {
          "output_type": "stream",
          "name": "stdout",
          "text": [
            "Epoch 1/4\n",
            "16/16 [==============================] - 1s 37ms/step - loss: 2.0117 - accuracy: 0.5910 - val_loss: 0.7081 - val_accuracy: 0.7410\n",
            "Epoch 2/4\n",
            "16/16 [==============================] - 0s 10ms/step - loss: 0.2306 - accuracy: 0.9305 - val_loss: 0.5959 - val_accuracy: 0.7914\n",
            "Epoch 3/4\n",
            "16/16 [==============================] - 0s 12ms/step - loss: 0.0423 - accuracy: 1.0000 - val_loss: 0.5599 - val_accuracy: 0.7986\n",
            "Epoch 4/4\n",
            "16/16 [==============================] - 0s 11ms/step - loss: 0.0182 - accuracy: 1.0000 - val_loss: 0.5636 - val_accuracy: 0.7842\n"
          ]
        }
      ]
    },
    {
      "cell_type": "markdown",
      "source": [
        "* **Testing the tf-idf model**"
      ],
      "metadata": {
        "id": "sLtzPAo7yCRq"
      }
    },
    {
      "cell_type": "code",
      "source": [
        "model = keras.models.load_model(\"tfidf.keras\")\n",
        "print(f\"Test acc: {model.evaluate(tfidf_test_ds)[1]:.3f}\")"
      ],
      "metadata": {
        "colab": {
          "base_uri": "https://localhost:8080/"
        },
        "id": "A14D1R0Yx-WX",
        "outputId": "956076aa-b919-4263-a4a6-6f68a5672b0a"
      },
      "execution_count": null,
      "outputs": [
        {
          "output_type": "stream",
          "name": "stdout",
          "text": [
            "3/3 [==============================] - 0s 6ms/step - loss: 0.5021 - accuracy: 0.8514\n",
            "Test acc: 0.851\n"
          ]
        }
      ]
    },
    {
      "cell_type": "markdown",
      "source": [
        "## Sequence Models ##"
      ],
      "metadata": {
        "id": "eji3HIstQ0zT"
      }
    },
    {
      "cell_type": "markdown",
      "source": [
        "* **Text vectorization:** processing **single words** with **integer indexing** – each input (aricle) is represented as a sequece of of integer indices (one index per one word)"
      ],
      "metadata": {
        "id": "YqdsNC4zHHGB"
      }
    },
    {
      "cell_type": "code",
      "source": [
        "from tensorflow.keras.layers import TextVectorization\n",
        "\n",
        "max_length = 1000\n",
        "max_tokens = 20000\n",
        "\n",
        "text_vectorization = TextVectorization(\n",
        "    max_tokens=max_tokens,\n",
        "    output_mode=\"int\",\n",
        "    output_sequence_length=max_length\n",
        ")"
      ],
      "metadata": {
        "id": "C9Z4k5n7yOcF"
      },
      "execution_count": 6,
      "outputs": []
    },
    {
      "cell_type": "markdown",
      "source": [
        "* **Vocabulary building**"
      ],
      "metadata": {
        "id": "kX4pPCpwNHSV"
      }
    },
    {
      "cell_type": "code",
      "source": [
        "text_only_train_ds = train_ds.map(lambda x, y: x)\n",
        "text_vectorization.adapt(text_only_train_ds)\n",
        "vocabulary = text_vectorization.get_vocabulary()\n",
        "len(vocabulary)"
      ],
      "metadata": {
        "colab": {
          "base_uri": "https://localhost:8080/"
        },
        "id": "uInaap4ANH8N",
        "outputId": "7455d268-2d76-4b4e-c256-da77ed22458d"
      },
      "execution_count": 7,
      "outputs": [
        {
          "output_type": "execute_result",
          "data": {
            "text/plain": [
              "20000"
            ]
          },
          "metadata": {},
          "execution_count": 7
        }
      ]
    },
    {
      "cell_type": "markdown",
      "source": [
        "* **Dataset processing** "
      ],
      "metadata": {
        "id": "O771b0lyNicW"
      }
    },
    {
      "cell_type": "code",
      "source": [
        "int_train_ds = train_ds.map(\n",
        "    lambda x, y: (text_vectorization(x), y),\n",
        "    num_parallel_calls=4)\n",
        "int_val_ds = val_ds.map(\n",
        "    lambda x, y: (text_vectorization(x), y),\n",
        "    num_parallel_calls=4)\n",
        "int_test_ds = test_ds.map(\n",
        "    lambda x, y: (text_vectorization(x), y),\n",
        "    num_parallel_calls=4)"
      ],
      "metadata": {
        "id": "JDNOFiN4NeSw"
      },
      "execution_count": 8,
      "outputs": []
    },
    {
      "cell_type": "markdown",
      "source": [
        "* Displaying the shapes and dtypes of the first batch of the **integer** train dataset"
      ],
      "metadata": {
        "id": "YZVpg2q-P9_L"
      }
    },
    {
      "cell_type": "code",
      "source": [
        "for inputs, targets in int_train_ds:\n",
        "    print(\"inputs.shape:\", inputs.shape)\n",
        "    print(\"inputs.dtype:\", inputs.dtype)\n",
        "    print(\"targets.shape:\", targets.shape)\n",
        "    print(\"targets.dtype:\", targets.dtype)\n",
        "    print(\"inputs[0]:\", inputs[0])\n",
        "    print(\"targets[0]:\", targets[0])\n",
        "    break"
      ],
      "metadata": {
        "colab": {
          "base_uri": "https://localhost:8080/"
        },
        "id": "nHGLn69eNmtN",
        "outputId": "35d5094c-d2e6-4aac-e508-c61b59c6f2e1"
      },
      "execution_count": 9,
      "outputs": [
        {
          "output_type": "stream",
          "name": "stdout",
          "text": [
            "inputs.shape: (32, 1000)\n",
            "inputs.dtype: <dtype: 'int64'>\n",
            "targets.shape: (32, 4)\n",
            "targets.dtype: <dtype: 'float32'>\n",
            "inputs[0]: tf.Tensor(\n",
            "[ 1315   251     8  1032  1302   205  1315 12560  6233   706 18902     6\n",
            " 15639  3638  1158   218   269 14392  1259   434  1315   895   280 10848\n",
            "   460  6091  2387     6  5088   315  1384  2387     6    95  6091  2387\n",
            "  3444  2444  5303  2347   373   852    95   343   294   342  2629  2444\n",
            "  3722  2347  1585   300  1243  2629  2939  1585   864 14058  1243    22\n",
            "   180  1215    41   373   300   222   294   116  2347   139   330   116\n",
            "  3676    95  5088  1772   373   720  2837  1554  5705   373   714   127\n",
            "  5088 14031   234   153   600    95  2216     3   852    95   895   300\n",
            "   280    44  2331  1890  4214  6414 16450  1860   182   895   280     6\n",
            "  4214  6414  8611     9    63  1315   820  1032  1834  1259  1384   128\n",
            "    45  4489  6091   116  4925  2347   720   130    16   759    42   895\n",
            "   280  5420   820   140   356  1315  6983   294  5303  2347   193  1074\n",
            "  5088   294    10  1002  2347   486  7741   223  5321    95  1335   330\n",
            "    39  1617   933  1063   105    73   182  3107  2299  1315  3534  2165\n",
            "    45   369  2772  5088   687    63  1377  2146  2950  2165   844   396\n",
            "   349   121   609   139   568 12748  4482  8081   184  1296     9  1315\n",
            "   100  1298  1384  6091   706   495    45  7310  3133  3776  2950     9\n",
            "   531  1315 11315    52    22   746  1824  1696  1870   435  1950   913\n",
            "    71     1  1212  2743  2086    80 19977  2950  2165 15954  4725  4214\n",
            "  6414  8611  5644   547  2821     9    63  2950  2165  1116  3025   495\n",
            "   315  5644   983   313   706   116     8  5113   373  5257   315    22\n",
            "   294   746  4123    22   392    77   720   234  2481   300   281  4227\n",
            "   429   510  8394   234   234  1512   300  5113  5644   547  6802  1425\n",
            "  1885   905  2585  5701   186   129  1605   234   413    66  5113     9\n",
            "   673  5113  5644   547  2512  2117   234    53   300    95 14242  4110\n",
            "   263   666   679    16    73  1342  1197   153   600   182  2950  2165\n",
            "    95   164   508   129    67  5321    45   960  1063   394    73  1610\n",
            "  5422   202  4219  5113   392  1063   706   116  5303  2347  1748  1002\n",
            "   486  4805  2347  1824   497   898   317   300  1063  5088   294  5303\n",
            "  2347    10    45   164  1468  5088    95   140  2950  2165   164   294\n",
            "  2265  3144   774     8   116  3425  1315 18483   850   706   495    16\n",
            "    73  4700    45   486 15451  1407     9  8459    10   706  1996  2950\n",
            "  2743   300  1848   275   838  1224  1315  2505   706   495   315   760\n",
            "   729  2950 19003   933  2962  9663    25   486   317  6983  9663  3901\n",
            "   516    14  1315   294  3144   791   531  1063  1407  4393  2629     9\n",
            "   187   494  2173  5104   898  2950  9663    25   294   129   116   186\n",
            "   987   447   486  4805  2347  6383    16   182  1260  6091    16   281\n",
            "  3425  5088  3444   497  2347    10    16     9  1848   597   897  6075\n",
            "  6983   294   564  2347   236  2950  1772     9  2837  3386   294   486\n",
            "  4805  2347  6383     3   254    43    10   218    95   491  1128   498\n",
            "     8  1302     8  1167   315    25     9   187   714    57   846    95\n",
            "   315    25 18453   714   218  1617    95  1158  6718  2422  3981  1315\n",
            "  1292   357  2950  5644   567  2950  2165  2037     8  4214  6414   300\n",
            "   257   498     8  1302    25   197   111  1583  2299    57   498   218\n",
            "   960   498    72    79     1    27  6983   685  2950  2037   591   116\n",
            "  8459   720   252   130    16   706   495   315   164    72  2689    95\n",
            "   105    73    16    72  6781   371   720  2950  2743  4123  1940   720\n",
            "   602     8    35    80     2  1279  2299    80     2  1063    91    10\n",
            "  5360    73   497  5088   294  2629  1063  1495   447  2950  6983   100\n",
            "   211    94     2   466  5644   983  1315   109     2    35  4289     2\n",
            "  6280   315  1384   933    45  3789   422   240   328    74  2689     2\n",
            "     7     6    48  1773    45   172  2546  2265   642    48    48  1229\n",
            "   577     6  1612  4032  2774   114  2026    66  1495  1340   434    48\n",
            "  1612 19858  6280  4393    66  1384  1495  1340   741  2950  1886    61\n",
            "     1   375  2950   164   466  1315   280  5175     2  1315  6280  1384\n",
            "  6091   254    18  2962  2314  5662  3727   794  2546   422  3386  5175\n",
            "     2     6  6412  3386   443 17524   598  8016  6412  3386  2837   814\n",
            "    25   294  4393   916   234  6460   280   300   602     8  4214  6414\n",
            "  1013   763     5  1662   996     2   779   149  1315    43  6412  3386\n",
            "   516    72     9  1193    27  1315  1535  2258   650  6412  1315  1116\n",
            "    27   644  1079  1671  4393    95   140  1079  3425  1315    25   497\n",
            "  1694  1610  6412  1315    38    27  1696  2314  1204   159  1250   212\n",
            "   280  4214  6414   300   491  3623  1421  6412  1315  2950  2165   112\n",
            "  1149  1315   709 10172   428    80  7460     0     0     0     0     0\n",
            "     0     0     0     0     0     0     0     0     0     0     0     0\n",
            "     0     0     0     0     0     0     0     0     0     0     0     0\n",
            "     0     0     0     0     0     0     0     0     0     0     0     0\n",
            "     0     0     0     0     0     0     0     0     0     0     0     0\n",
            "     0     0     0     0     0     0     0     0     0     0     0     0\n",
            "     0     0     0     0     0     0     0     0     0     0     0     0\n",
            "     0     0     0     0     0     0     0     0     0     0     0     0\n",
            "     0     0     0     0     0     0     0     0     0     0     0     0\n",
            "     0     0     0     0     0     0     0     0     0     0     0     0\n",
            "     0     0     0     0     0     0     0     0     0     0     0     0\n",
            "     0     0     0     0     0     0     0     0     0     0     0     0\n",
            "     0     0     0     0     0     0     0     0     0     0     0     0\n",
            "     0     0     0     0     0     0     0     0     0     0     0     0\n",
            "     0     0     0     0     0     0     0     0     0     0     0     0\n",
            "     0     0     0     0     0     0     0     0     0     0     0     0\n",
            "     0     0     0     0     0     0     0     0     0     0     0     0\n",
            "     0     0     0     0     0     0     0     0     0     0     0     0\n",
            "     0     0     0     0     0     0     0     0     0     0     0     0\n",
            "     0     0     0     0     0     0     0     0     0     0     0     0\n",
            "     0     0     0     0], shape=(1000,), dtype=int64)\n",
            "targets[0]: tf.Tensor([0. 0. 0. 1.], shape=(4,), dtype=float32)\n"
          ]
        }
      ]
    },
    {
      "cell_type": "markdown",
      "source": [
        "## Biderectional LSTM model"
      ],
      "metadata": {
        "id": "IOUEaCCYU63S"
      }
    },
    {
      "cell_type": "markdown",
      "source": [
        "### Building biLSTM model: **trained** word embeddings\n"
      ],
      "metadata": {
        "id": "6l2QJn8rSm8f"
      }
    },
    {
      "cell_type": "code",
      "source": [
        "from tensorflow.keras import layers\n",
        "\n",
        "inputs = keras.Input(shape=(None,), dtype=\"int64\")\n",
        "embedded = layers.Embedding(input_dim=max_tokens, output_dim=256)(inputs)\n",
        "x = layers.Bidirectional(layers.LSTM(32))(embedded)\n",
        "x = layers.Dropout(0.5)(x)\n",
        "outputs = layers.Dense(4, activation=\"softmax\")(x)\n",
        "model = keras.Model(inputs, outputs)\n",
        "\n",
        "model.compile(optimizer=\"rmsprop\",\n",
        "              loss=\"categorical_crossentropy\",\n",
        "              metrics=[\"accuracy\"])\n",
        "\n",
        "model.summary()"
      ],
      "metadata": {
        "colab": {
          "base_uri": "https://localhost:8080/"
        },
        "id": "gCuaadsqSrUz",
        "outputId": "f9ebf616-1cbc-4ae1-9a80-248855e5ac17"
      },
      "execution_count": 13,
      "outputs": [
        {
          "output_type": "stream",
          "name": "stdout",
          "text": [
            "Model: \"model_1\"\n",
            "_________________________________________________________________\n",
            " Layer (type)                Output Shape              Param #   \n",
            "=================================================================\n",
            " input_2 (InputLayer)        [(None, None)]            0         \n",
            "                                                                 \n",
            " embedding_1 (Embedding)     (None, None, 256)         5120000   \n",
            "                                                                 \n",
            " bidirectional_1 (Bidirectio  (None, 64)               73984     \n",
            " nal)                                                            \n",
            "                                                                 \n",
            " dropout_1 (Dropout)         (None, 64)                0         \n",
            "                                                                 \n",
            " dense_1 (Dense)             (None, 4)                 260       \n",
            "                                                                 \n",
            "=================================================================\n",
            "Total params: 5,194,244\n",
            "Trainable params: 5,194,244\n",
            "Non-trainable params: 0\n",
            "_________________________________________________________________\n"
          ]
        }
      ]
    },
    {
      "cell_type": "markdown",
      "source": [
        "* **Training the model**"
      ],
      "metadata": {
        "id": "cCFc_6GHXCDx"
      }
    },
    {
      "cell_type": "code",
      "source": [
        "callbacks = [keras.callbacks.ModelCheckpoint(\"bilstm.keras\", save_best_only=True)]\n",
        "history = model.fit(int_train_ds,\n",
        "                    validation_data=int_val_ds,\n",
        "                    epochs=8,\n",
        "                    callbacks=callbacks)"
      ],
      "metadata": {
        "colab": {
          "base_uri": "https://localhost:8080/"
        },
        "id": "5Er_8kfCZ7IH",
        "outputId": "0f870c30-46e0-4ea3-8c7d-43132a7553f8"
      },
      "execution_count": 14,
      "outputs": [
        {
          "output_type": "stream",
          "name": "stdout",
          "text": [
            "Epoch 1/8\n",
            "16/16 [==============================] - 11s 397ms/step - loss: 1.3621 - accuracy: 0.3313 - val_loss: 1.3337 - val_accuracy: 0.3381\n",
            "Epoch 2/8\n",
            "16/16 [==============================] - 5s 336ms/step - loss: 1.2196 - accuracy: 0.5215 - val_loss: 1.1468 - val_accuracy: 0.5252\n",
            "Epoch 3/8\n",
            "16/16 [==============================] - 5s 325ms/step - loss: 0.8620 - accuracy: 0.6810 - val_loss: 1.2718 - val_accuracy: 0.5540\n",
            "Epoch 4/8\n",
            "16/16 [==============================] - 5s 333ms/step - loss: 0.7593 - accuracy: 0.7628 - val_loss: 0.9654 - val_accuracy: 0.6547\n",
            "Epoch 5/8\n",
            "16/16 [==============================] - 5s 321ms/step - loss: 0.6288 - accuracy: 0.8446 - val_loss: 0.9708 - val_accuracy: 0.6763\n",
            "Epoch 6/8\n",
            "16/16 [==============================] - 5s 331ms/step - loss: 0.4962 - accuracy: 0.9100 - val_loss: 0.9206 - val_accuracy: 0.6619\n",
            "Epoch 7/8\n",
            "16/16 [==============================] - 5s 329ms/step - loss: 0.3876 - accuracy: 0.9530 - val_loss: 0.9109 - val_accuracy: 0.6835\n",
            "Epoch 8/8\n",
            "16/16 [==============================] - 5s 322ms/step - loss: 0.2453 - accuracy: 0.9836 - val_loss: 1.1476 - val_accuracy: 0.6475\n"
          ]
        }
      ]
    },
    {
      "cell_type": "markdown",
      "source": [
        "* **Testing the model**"
      ],
      "metadata": {
        "id": "p8t5LMufbm7b"
      }
    },
    {
      "cell_type": "code",
      "source": [
        "model = keras.models.load_model(\"bilstm.keras\")\n",
        "print(f\"Test acc: {model.evaluate(int_test_ds)[1]:.3f}\")"
      ],
      "metadata": {
        "colab": {
          "base_uri": "https://localhost:8080/"
        },
        "id": "MCwnkTDCbouU",
        "outputId": "ddbb7993-9d4c-4e63-f76d-a95ddc5c1f11"
      },
      "execution_count": 15,
      "outputs": [
        {
          "output_type": "stream",
          "name": "stdout",
          "text": [
            "3/3 [==============================] - 1s 112ms/step - loss: 0.8738 - accuracy: 0.6892\n",
            "Test acc: 0.689\n"
          ]
        }
      ]
    },
    {
      "cell_type": "markdown",
      "source": [
        "### Building biLSTM model: **trained** word embeddings & **masked zeros**"
      ],
      "metadata": {
        "id": "qqgDUN_Ks3xf"
      }
    },
    {
      "cell_type": "code",
      "source": [
        "inputs = keras.Input(shape=(None,), dtype=\"int64\")\n",
        "embedded = layers.Embedding(input_dim=max_tokens, output_dim=256, mask_zero=True)(inputs)\n",
        "x = layers.Bidirectional(layers.LSTM(32))(embedded)\n",
        "x = layers.Dropout(0.5)(x)\n",
        "outputs = layers.Dense(4, activation=\"softmax\")(x)\n",
        "model = keras.Model(inputs, outputs)\n",
        "\n",
        "model.compile(optimizer=\"rmsprop\",\n",
        "              loss=\"categorical_crossentropy\",\n",
        "              metrics=[\"accuracy\"])\n",
        "\n",
        "model.summary()"
      ],
      "metadata": {
        "colab": {
          "base_uri": "https://localhost:8080/"
        },
        "id": "h2H9HgQXtXoo",
        "outputId": "82a12f7e-9b07-4aec-daa6-bfc68b6b898d"
      },
      "execution_count": 16,
      "outputs": [
        {
          "output_type": "stream",
          "name": "stdout",
          "text": [
            "Model: \"model_2\"\n",
            "_________________________________________________________________\n",
            " Layer (type)                Output Shape              Param #   \n",
            "=================================================================\n",
            " input_3 (InputLayer)        [(None, None)]            0         \n",
            "                                                                 \n",
            " embedding_2 (Embedding)     (None, None, 256)         5120000   \n",
            "                                                                 \n",
            " bidirectional_2 (Bidirectio  (None, 64)               73984     \n",
            " nal)                                                            \n",
            "                                                                 \n",
            " dropout_2 (Dropout)         (None, 64)                0         \n",
            "                                                                 \n",
            " dense_2 (Dense)             (None, 4)                 260       \n",
            "                                                                 \n",
            "=================================================================\n",
            "Total params: 5,194,244\n",
            "Trainable params: 5,194,244\n",
            "Non-trainable params: 0\n",
            "_________________________________________________________________\n"
          ]
        }
      ]
    },
    {
      "cell_type": "markdown",
      "source": [
        "* **Training the model**"
      ],
      "metadata": {
        "id": "_avr8nnvtvPc"
      }
    },
    {
      "cell_type": "code",
      "source": [
        "callbacks = [keras.callbacks.ModelCheckpoint(\"bilstm_mask.keras\", save_best_only=True)]\n",
        "history = model.fit(int_train_ds,\n",
        "                    validation_data=int_val_ds,\n",
        "                    epochs=8,\n",
        "                    callbacks=callbacks)"
      ],
      "metadata": {
        "colab": {
          "base_uri": "https://localhost:8080/"
        },
        "id": "iyTRh4_mtprq",
        "outputId": "4c88c5c3-630e-44b8-8b23-550f88c1cef5"
      },
      "execution_count": 17,
      "outputs": [
        {
          "output_type": "stream",
          "name": "stdout",
          "text": [
            "Epoch 1/8\n",
            "16/16 [==============================] - 19s 562ms/step - loss: 1.3341 - accuracy: 0.3845 - val_loss: 1.2363 - val_accuracy: 0.5827\n",
            "Epoch 2/8\n",
            "16/16 [==============================] - 6s 347ms/step - loss: 0.9025 - accuracy: 0.7280 - val_loss: 0.8590 - val_accuracy: 0.6547\n",
            "Epoch 3/8\n",
            "16/16 [==============================] - 6s 344ms/step - loss: 0.5740 - accuracy: 0.8078 - val_loss: 0.8048 - val_accuracy: 0.6691\n",
            "Epoch 4/8\n",
            "16/16 [==============================] - 6s 344ms/step - loss: 0.4326 - accuracy: 0.8446 - val_loss: 0.8024 - val_accuracy: 0.6978\n",
            "Epoch 5/8\n",
            "16/16 [==============================] - 5s 339ms/step - loss: 0.2797 - accuracy: 0.9407 - val_loss: 0.7992 - val_accuracy: 0.7338\n",
            "Epoch 6/8\n",
            "16/16 [==============================] - 5s 337ms/step - loss: 0.1972 - accuracy: 0.9775 - val_loss: 0.7821 - val_accuracy: 0.7770\n",
            "Epoch 7/8\n",
            "16/16 [==============================] - 5s 333ms/step - loss: 0.1214 - accuracy: 0.9939 - val_loss: 0.8975 - val_accuracy: 0.7698\n",
            "Epoch 8/8\n",
            "16/16 [==============================] - 5s 325ms/step - loss: 0.1153 - accuracy: 0.9877 - val_loss: 0.8815 - val_accuracy: 0.7122\n"
          ]
        }
      ]
    },
    {
      "cell_type": "markdown",
      "source": [
        "* **Testing the model**"
      ],
      "metadata": {
        "id": "2fflnnT4uAKV"
      }
    },
    {
      "cell_type": "code",
      "source": [
        "model = keras.models.load_model(\"bilstm_mask.keras\")\n",
        "print(f\"Test acc: {model.evaluate(int_test_ds)[1]:.3f}\")"
      ],
      "metadata": {
        "colab": {
          "base_uri": "https://localhost:8080/"
        },
        "id": "iAtPkXA0t9gj",
        "outputId": "010b3a2f-015c-4e02-d5ce-8bdd463ffc50"
      },
      "execution_count": 19,
      "outputs": [
        {
          "output_type": "stream",
          "name": "stdout",
          "text": [
            "3/3 [==============================] - 3s 114ms/step - loss: 0.6210 - accuracy: 0.7838\n",
            "Test acc: 0.784\n"
          ]
        }
      ]
    },
    {
      "cell_type": "markdown",
      "source": [
        "### Building biLSTM model: **pre-trained** word embeddings"
      ],
      "metadata": {
        "id": "gBfnFs-CuyFB"
      }
    },
    {
      "cell_type": "markdown",
      "source": [
        "#### **GloVe** word embeddings"
      ],
      "metadata": {
        "id": "MFHo-rnEwT23"
      }
    },
    {
      "cell_type": "markdown",
      "source": [
        "* **GloVe file download & extraction**"
      ],
      "metadata": {
        "id": "xDE3Ta0Gw3mf"
      }
    },
    {
      "cell_type": "code",
      "source": [
        "!wget http://nlp.stanford.edu/data/glove.6B.zip\n",
        "!unzip -q glove.6B.zip"
      ],
      "metadata": {
        "id": "m-nchAcXw2aW"
      },
      "execution_count": null,
      "outputs": []
    },
    {
      "cell_type": "markdown",
      "source": [
        "* **Parsing the GloVe 100d file:** 100-dimensional embedding vectors for 400,000 words "
      ],
      "metadata": {
        "id": "OZd_8gQsxLBd"
      }
    },
    {
      "cell_type": "code",
      "source": [
        "import numpy as np\n",
        "\n",
        "path_to_glove_file = \"glove.6B.100d.txt\"\n",
        "embeddings_index = {}\n",
        "\n",
        "with open(path_to_glove_file) as f:\n",
        "    for line in f:\n",
        "        word, coefs = line.split(maxsplit=1)\n",
        "        coefs = np.fromstring(coefs, \"f\", sep=\" \")\n",
        "        embeddings_index[word] = coefs\n",
        "        \n",
        "print(f\"Found {len(embeddings_index)} word vectors.\")"
      ],
      "metadata": {
        "colab": {
          "base_uri": "https://localhost:8080/"
        },
        "id": "VW2HbReixfEO",
        "outputId": "e93c614f-4996-4b39-8821-7eb60df6140d"
      },
      "execution_count": 24,
      "outputs": [
        {
          "output_type": "stream",
          "name": "stdout",
          "text": [
            "Found 400000 word vectors.\n"
          ]
        }
      ]
    },
    {
      "cell_type": "markdown",
      "source": [
        "\n",
        "* **Preparing the GloVe word-embeddings matrix**"
      ],
      "metadata": {
        "id": "4YwyhB9vxno4"
      }
    },
    {
      "cell_type": "code",
      "source": [
        "embeddings_index.get('bacteria')"
      ],
      "metadata": {
        "colab": {
          "base_uri": "https://localhost:8080/"
        },
        "id": "fYx3zDy5zHCm",
        "outputId": "fe145696-0e93-4503-b31a-222801ea2308"
      },
      "execution_count": 32,
      "outputs": [
        {
          "output_type": "execute_result",
          "data": {
            "text/plain": [
              "array([-0.70408  ,  0.1314   ,  0.05967  , -0.53633  , -0.60984  ,\n",
              "       -0.039942 ,  0.32678  , -1.0457   ,  0.35869  , -0.074033 ,\n",
              "       -0.067529 , -0.21356  ,  0.42285  ,  0.70801  ,  0.60047  ,\n",
              "        0.052051 , -0.40979  , -0.0026012, -0.15161  , -0.17906  ,\n",
              "        0.27603  , -0.50553  ,  0.30125  , -0.15001  , -0.076313 ,\n",
              "        0.45314  ,  0.79745  , -0.23991  , -0.019936 ,  0.18393  ,\n",
              "        0.46779  ,  0.77197  ,  0.30393  , -0.43825  ,  0.98218  ,\n",
              "        0.037555 , -0.16977  , -1.1405   , -0.09597  ,  0.3565   ,\n",
              "       -0.35233  , -0.27088  , -1.5643   , -0.62088  ,  1.2465   ,\n",
              "        0.95036  , -0.14111  , -0.24287  , -0.91673  ,  0.035896 ,\n",
              "        0.90314  , -0.22453  , -0.25608  , -0.059836 , -0.647    ,\n",
              "       -0.2498   , -0.093719 , -0.31185  ,  0.49059  ,  0.71524  ,\n",
              "       -0.26315  ,  1.1332   ,  0.86974  ,  0.13102  ,  1.0317   ,\n",
              "        1.6044   ,  0.52005  , -0.87881  ,  0.70383  , -1.4546   ,\n",
              "       -0.024927 , -0.11402  , -0.13185  ,  0.42752  , -0.046564 ,\n",
              "        0.98765  , -0.75158  , -1.4048   , -0.63169  ,  0.99609  ,\n",
              "        0.1341   ,  0.40628  , -1.4685   ,  0.5911   , -0.33322  ,\n",
              "        0.51564  ,  1.1291   ,  0.10244  , -1.2404   ,  0.12939  ,\n",
              "       -0.055607 , -1.2507   ,  0.38201  ,  0.17936  ,  0.18303  ,\n",
              "       -0.022114 , -0.2968   , -1.8381   , -0.18909  , -0.30052  ],\n",
              "      dtype=float32)"
            ]
          },
          "metadata": {},
          "execution_count": 32
        }
      ]
    },
    {
      "cell_type": "code",
      "source": [
        ""
      ],
      "metadata": {
        "id": "Pa9dEaLzz9Ta"
      },
      "execution_count": null,
      "outputs": []
    }
  ]
}